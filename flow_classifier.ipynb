{
 "cells": [
  {
   "cell_type": "code",
   "execution_count": 1,
   "metadata": {},
   "outputs": [],
   "source": [
    "#Some code has been modeled based on CISCO's Joy. "
   ]
  },
  {
   "cell_type": "code",
   "execution_count": 2,
   "metadata": {},
   "outputs": [],
   "source": [
    "import numpy as np\n",
    "import pymongo\n",
    "#from sklearn import neural_network\n",
    "from sklearn.neural_network import MLPClassifier\n",
    "from sklearn.model_selection import GridSearchCV, learning_curve\n",
    "from sklearn.linear_model import LogisticRegression\n",
    "from sklearn.metrics import accuracy_score, make_scorer, log_loss, precision_score, f1_score, auc, confusion_matrix\n",
    "from sklearn.tree import DecisionTreeClassifier\n",
    "import sys\n",
    "import math\n",
    "from imblearn.over_sampling import SMOTE\n",
    "from imblearn.over_sampling import SMOTENC\n",
    "from sklearn import preprocessing\n",
    "import matplotlib.pyplot as plt\n",
    "from operator import add\n",
    "from sklearn.svm import SVC\n",
    "from sklearn.ensemble import RandomForestClassifier, AdaBoostClassifier\n",
    "import pandas as pd\n",
    "from scipy import stats\n",
    "import seaborn as sns\n",
    "from matplotlib.ticker import PercentFormatter\n",
    "import matplotlib.mlab as mlab\n",
    "import socket"
   ]
  },
  {
   "cell_type": "code",
   "execution_count": 3,
   "metadata": {},
   "outputs": [],
   "source": [
    "client = pymongo.MongoClient(\"mongodb://localhost:27017/\")\n",
    "mydb = client[\"flowdb\"]\n",
    "p_train_coll = mydb[\"p2\"]\n",
    "p_test_coll = mydb[\"testP\"]\n",
    "b_train_coll = mydb[\"b2\"]\n",
    "b_test_coll = mydb[\"testB\"]\n",
    "net_train_coll = mydb[\"Netflow\"]"
   ]
  },
  {
   "cell_type": "code",
   "execution_count": 4,
   "metadata": {},
   "outputs": [],
   "source": [
    "p_train = []\n",
    "p_test = []\n",
    "b_train = []\n",
    "b_test = []\n",
    "p_train_l = []\n",
    "p_test_l = []\n",
    "b_train_l = []\n",
    "b_test_l = []\n"
   ]
  },
  {
   "cell_type": "code",
   "execution_count": 5,
   "metadata": {},
   "outputs": [],
   "source": [
    "#these are for the individualPL \n",
    "numRows = 10\n",
    "binSize = 150.0\n",
    "\n",
    "b_byte_dist_h = [0] * 256\n",
    "b_ipt_h = np.zeros((numRows, numRows))\n",
    "p_byte_dist_h = [0] * 256\n",
    "p_ipt_h = np.zeros((numRows, numRows))\n",
    "b_pl = np.zeros((numRows,numRows))\n",
    "p_pl = np.zeros((numRows,numRows))\n",
    "b_ipts = []\n",
    "p_ipts = []\n",
    "b_pkt_size = []\n",
    "p_pkt_size = []\n",
    "b_flow_size = []\n",
    "p_flow_size = []\n",
    "b_num_pkts = []\n",
    "p_num_pkts = []\n",
    "b_flow_time = []\n",
    "p_flow_time = []"
   ]
  },
  {
   "cell_type": "code",
   "execution_count": 6,
   "metadata": {},
   "outputs": [],
   "source": [
    "#def adjust_threshold()"
   ]
  },
  {
   "cell_type": "markdown",
   "metadata": {},
   "source": [
    "## methods to gather data from flow"
   ]
  },
  {
   "cell_type": "code",
   "execution_count": 7,
   "metadata": {},
   "outputs": [],
   "source": [
    "def getBD(doc, flag):\n",
    "    data = []\n",
    "    if len(doc['packets']) == 0:\n",
    "        return\n",
    "    if doc['byte_dist'] != None and sum(doc['byte_dist']) > 0:\n",
    "        tmp = map(lambda x: x / float(sum(doc['byte_dist'])), doc['byte_dist'])\n",
    "        data.extend(tmp)\n",
    "        if flag == 0:\n",
    "            for i in range(len(tmp)):\n",
    "                b_byte_dist_h[i] += tmp[i]\n",
    "        elif flag == 1:\n",
    "            for i in range(len(tmp)):\n",
    "                p_byte_dist_h[i] += tmp[i]\n",
    "    else:\n",
    "        data.extend(np.zeros(256))\n",
    "    return data"
   ]
  },
  {
   "cell_type": "code",
   "execution_count": 8,
   "metadata": {},
   "outputs": [],
   "source": [
    "def getIndividualPL(flow, flag):\n",
    "    transMat = np.zeros((numRows, numRows))\n",
    "    if len(flow['packets']) == 0:\n",
    "        return (list(transMat.flatten()))\n",
    "    elif len(flow['packets']) == 1:\n",
    "        curPacketSize = min(int(flow['packets'][0]['b'] / binSize), numRows - 1)\n",
    "        transMat[curPacketSize, curPacketSize] = 1\n",
    "        if (flag == 0):\n",
    "            b_pl[curPacketSize, curPacketSize] += 1\n",
    "        elif (flag == 1):\n",
    "            p_pl[curPacketSize, curPacketSize] += 1\n",
    "        \n",
    "        return (list(transMat.flatten()))\n",
    "        \n",
    "\n",
    "    # get raw transition counts\n",
    "    for i in range(1, len(flow['packets'])):\n",
    "        prevPacketSize = min(int(flow['packets'][i - 1]['b'] / binSize), numRows - 1)\n",
    "        if 'b' not in flow['packets'][i]:\n",
    "            break\n",
    "        curPacketSize = min(int(flow['packets'][i]['b'] / binSize), numRows - 1)\n",
    "        transMat[prevPacketSize, curPacketSize] += 1\n",
    "        \n",
    "        if (flag == 0):\n",
    "            b_pl[prevPacketSize, curPacketSize] += 1\n",
    "        elif (flag == 1):\n",
    "            p_pl[prevPacketSize, curPacketSize] += 1\n",
    "        \n",
    "    # get empirical transition probabilities\n",
    "    for i in range(numRows):\n",
    "        if float(np.sum(transMat[i:i + 1])) != 0:\n",
    "            transMat[i:i + 1] = transMat[i:i + 1] / float(np.sum(transMat[i:i + 1]))\n",
    "\n",
    "    return (list(transMat.flatten()))"
   ]
  },
  {
   "cell_type": "code",
   "execution_count": 9,
   "metadata": {},
   "outputs": [],
   "source": [
    "def getIPT(flow, flag):\n",
    "    #numRows = 10\n",
    "    binSize = 50.0\n",
    "    transMat = np.zeros((numRows, numRows))\n",
    "    if len(flow['packets']) == 0:\n",
    "        return (list(transMat.flatten()))\n",
    "    elif len(flow['packets']) == 1:\n",
    "        curIPT = min(int(flow['packets'][0]['ipt'] / float(binSize)), numRows - 1)\n",
    "        transMat[curIPT, curIPT] = 1\n",
    "        \n",
    "        #for updating histograms/box charts\n",
    "        if (flag == 0):\n",
    "            b_ipt_h[curIPT, curIPT] += 1\n",
    "        elif (flag == 1):\n",
    "            p_ipt_h[curIPT, curIPT] += 1\n",
    "        return (list(transMat.flatten()))\n",
    "        \n",
    "\n",
    "    # get raw transition counts\n",
    "    for i in range(1, len(flow['packets'])):\n",
    "        prevIPT = min(int(flow['packets'][i - 1]['ipt'] / float(binSize)), numRows - 1)\n",
    "        curIPT = min(int(flow['packets'][i]['ipt'] / float(binSize)), numRows - 1)\n",
    "        transMat[prevIPT, curIPT] += 1\n",
    "        \n",
    "        if (flag == 0):\n",
    "            b_ipt_h[prevIPT, curIPT] += 1\n",
    "        elif (flag == 1):\n",
    "            p_ipt_h[prevIPT, curIPT] += 1\n",
    "\n",
    "    # get empirical transition probabilities\n",
    "    for i in range(numRows):\n",
    "        if float(np.sum(transMat[i:i + 1])) != 0:\n",
    "            transMat[i:i + 1] = transMat[i:i + 1] / float(np.sum(transMat[i:i + 1]))\n",
    "\n",
    "    return (list(transMat.flatten()))"
   ]
  },
  {
   "cell_type": "code",
   "execution_count": 10,
   "metadata": {},
   "outputs": [],
   "source": [
    "def getMD(flow, flag):\n",
    "    tmp = []\n",
    "\n",
    "    if flow['dp'] != None:\n",
    "        tmp.append(float(flow['dp']))  # destination port\n",
    "    else:\n",
    "        tmp.append(0)  # ICMP/etc.\n",
    "    if flow['sp'] != None:\n",
    "        tmp.append(float(flow['sp']))  # source port\n",
    "    else:\n",
    "        tmp.append(0)  # ICMP/etc.\n",
    "    if 'num_pkts_in' in flow:\n",
    "        tmp.append(flow['num_pkts_in'])  # inbound packets\n",
    "    else:\n",
    "        tmp.append(0)\n",
    "    if 'num_pkts_out' in flow:\n",
    "        tmp.append(flow['num_pkts_out'])  # outbound packets\n",
    "    else:\n",
    "        tmp.append(0)\n",
    "    if 'bytes_in' in flow:\n",
    "        tmp.append(flow['bytes_in'])  # inbound bytes\n",
    "    else:\n",
    "        tmp.append(0)\n",
    "    if 'bytes_out' in flow:\n",
    "        tmp.append(flow['bytes_out'])  # outbound bytes\n",
    "    else:\n",
    "        tmp.append(0)\n",
    "    # elapsed time of flow\n",
    "    if flow['packets'] == []:\n",
    "        tmp.append(0)\n",
    "    else:\n",
    "        time = 0\n",
    "        for packet in flow['packets']:\n",
    "            time += packet['ipt']\n",
    "        tmp.append(time)\n",
    "    return tmp"
   ]
  },
  {
   "cell_type": "code",
   "execution_count": 79,
   "metadata": {},
   "outputs": [],
   "source": [
    "'''\n",
    "use this to create the arrays. \n",
    "Collection- the collection to loop through,\n",
    "data_set- the variable that the collection doc's are appended to\n",
    "label_set- is the set that is used to train/test with the data set (pass in None if \n",
    "            its not all benign or all pirated), \n",
    "label- 1 for pirate, 0 for benign.\n",
    "Chart- 1 to include in pirated graphs, 0 to include in benign graphs, anything else to\n",
    "not include in either graphs\n",
    "cond: used to specifiy any conditions to search for in the collection\n",
    "'''\n",
    "def set_up_array(collection, data_set, label_set=None, label=None, chart=-1, cond=None,\n",
    "                bd=None, ipt=None, pl=None, ips=None, bytes=None, sp=None, dp=None):\n",
    "    for doc in collection.find(cond):\n",
    "        tmpd = []\n",
    "        tmp = getMD(doc, chart)\n",
    "        tmpb = getBD(doc, chart)\n",
    "        if (bd == 1 and (tmpb is None or len(tmpb) != 256)):\n",
    "            tmpb = np.zeros(256)\n",
    "        elif (bd == 1):\n",
    "            tmpb = preprocessing.scale(tmpb)\n",
    "        tmpift = getIPT(doc, chart)\n",
    "\n",
    "        #note: these 100's need to be changed if numRows is changed\n",
    "        #if (tmpift is None or len(tmpift) != 100):\n",
    "        #    continue\n",
    "\n",
    "        tmpind_pl = getIndividualPL(doc, chart)\n",
    "        #if (tmpind_pl is None or len(tmpind_pl) != 100):\n",
    "        #    continue\n",
    "        \n",
    "        #get ipt's for graphs\n",
    "        if(chart == 0):\n",
    "            for pkt in doc['packets']:\n",
    "                try:\n",
    "                    b_ipts.append(pkt['ipt'])\n",
    "                except Exception as e:\n",
    "                    print e\n",
    "                    pass\n",
    "                try:\n",
    "                    b_pkt_size.append(pkt['b'])\n",
    "                except Exception as e:\n",
    "                    print e\n",
    "            #num bytes\n",
    "            try:\n",
    "                b_flow_size.append(doc['bytes_in'] + doc['bytes_out'])\n",
    "            except:\n",
    "                try:\n",
    "                    b_flow_size.append(doc['bytes_in'])\n",
    "                except:\n",
    "                    try:\n",
    "                        b_flow_size.append(doc['bytes_out'])\n",
    "                    except Exception as e:\n",
    "                        print e\n",
    "                        pass\n",
    "            \n",
    "            \n",
    "            #num pkts\n",
    "            try:\n",
    "                b_num_pkts.append(doc['num_pkts_in'] + doc['num_pkts_out'])\n",
    "            except:\n",
    "                try:\n",
    "                    b_num_pkts.append(doc['num_pkts_in'])\n",
    "                except:\n",
    "                    try:\n",
    "                        b_num_pkts.append(doc['num_pkts_out'])\n",
    "                    except Exception as e:\n",
    "                        print e\n",
    "                        pass\n",
    "            \n",
    "                    \n",
    "            #flow duration\n",
    "            b_flow_time.append(tmp[6])\n",
    "            \n",
    "            \n",
    "        elif(chart == 1):\n",
    "            for pkt in doc['packets']:\n",
    "                try:\n",
    "                    p_ipts.append(pkt['ipt'])\n",
    "                except Exception as e:\n",
    "                    print e\n",
    "                    pass\n",
    "                try:\n",
    "                    p_pkt_size.append(pkt['b'])\n",
    "                except Exception as e:\n",
    "                    print e\n",
    "                    pass\n",
    "            \n",
    "            #num bytes\n",
    "            try:\n",
    "                p_flow_size.append(doc['bytes_in'] + doc['bytes_out'])\n",
    "            except:\n",
    "                try:\n",
    "                    p_flow_size.append(doc['bytes_in'])\n",
    "                except:\n",
    "                    try:\n",
    "                        p_flow_size.append(doc['bytes_out'])\n",
    "                    except Exception as e:\n",
    "                        print e\n",
    "                        pass\n",
    "            \n",
    "            #num pkts\n",
    "            try:\n",
    "                p_num_pkts.append(doc['num_pkts_in'] + doc['num_pkts_out'])\n",
    "            except:\n",
    "                try:\n",
    "                    p_num_pkts.append(doc['num_pkts_in'])\n",
    "                except:\n",
    "                    try:\n",
    "                        p_num_pkts.append(doc['num_pkts_out'])\n",
    "                    except Exception as e:\n",
    "                        print e\n",
    "                        pass\n",
    "            #flow duration\n",
    "            p_flow_time.append(tmp[6])\n",
    "            \n",
    "        if ips != None:\n",
    "            ips.append((doc['sa'], doc['da']))\n",
    "        if bytes != None:\n",
    "            try:\n",
    "                bytes.append(doc['bytes_in'] + doc['bytes_out'])\n",
    "            except:\n",
    "                try:\n",
    "                    bytes.append(doc['bytes_in'])\n",
    "                except:\n",
    "                    try:\n",
    "                        bytes.append(doc['bytes_out'])\n",
    "                    except Exception as e:\n",
    "                        print e\n",
    "                        pass\n",
    "        \n",
    "        if sp != None:\n",
    "            sp.append(doc['sp'])\n",
    "        if dp != None:\n",
    "            dp.append(doc['dp'])\n",
    "        tmpd.extend(tmp)\n",
    "        if bd == 1:\n",
    "            tmpd.extend(tmpb)\n",
    "        if ipt == 1:\n",
    "            tmpd.extend(tmpift)\n",
    "        if pl == 1:\n",
    "            tmpd.extend(tmpind_pl)\n",
    "        data_set.append(tmpd)\n",
    "        try:\n",
    "            label_set.append(label)\n",
    "        except Exception as e:\n",
    "            pass\n",
    "            #print('No label set given')"
   ]
  },
  {
   "cell_type": "markdown",
   "metadata": {},
   "source": [
    "## set up arrays using methods from above to be trained on"
   ]
  },
  {
   "cell_type": "code",
   "execution_count": 12,
   "metadata": {},
   "outputs": [],
   "source": [
    "#collection, data_set, label_set=None, label=None, chart=-1, cond=None, bd=None, ipt=None, pl=None\n",
    "set_up_array(p_train_coll, p_train, p_train_l, 1, 1)\n",
    "set_up_array(p_test_coll, p_test, p_test_l, 1)\n"
   ]
  },
  {
   "cell_type": "code",
   "execution_count": 13,
   "metadata": {},
   "outputs": [
    {
     "data": {
      "image/png": "[encoded data removed]",
      "text/plain": [
       "<Figure size 432x288 with 1 Axes>"
      ]
     },
     "metadata": {
      "needs_background": "light"
     },
     "output_type": "display_data"
    }
   ],
   "source": [
    "y_pos = np.arange(len(p_byte_dist_h))\n",
    "x = preprocessing.scale(p_byte_dist_h)\n",
    "plt.bar(y_pos, x)\n",
    "plt.title(\"Standardized Pirate Byte Distribution\")\n",
    "plt.show()"
   ]
  },
  {
   "cell_type": "code",
   "execution_count": 14,
   "metadata": {},
   "outputs": [
    {
     "data": {
      "image/png": "[encoded data removed]",
      "text/plain": [
       "<Figure size 432x288 with 1 Axes>"
      ]
     },
     "metadata": {
      "needs_background": "light"
     },
     "output_type": "display_data"
    }
   ],
   "source": [
    "p_ipt_h = p_ipt_h.flatten()\n",
    "y_pos = np.arange(len(p_ipt_h))\n",
    "x = preprocessing.scale(p_ipt_h)\n",
    "plt.bar(y_pos, x)\n",
    "plt.title(\"Pirate IPT buckets\")\n",
    "plt.show()"
   ]
  },
  {
   "cell_type": "code",
   "execution_count": 15,
   "metadata": {},
   "outputs": [
    {
     "data": {
      "image/png": "[encoded data removed]",
      "text/plain": [
       "<Figure size 432x288 with 1 Axes>"
      ]
     },
     "metadata": {
      "needs_background": "light"
     },
     "output_type": "display_data"
    }
   ],
   "source": [
    "p_pl = p_pl.flatten()\n",
    "y_pos = np.arange(len(p_pl))\n",
    "x = preprocessing.scale(p_pl)\n",
    "plt.bar(y_pos, x)\n",
    "plt.title('Pirate PL Matrix')\n",
    "plt.show()"
   ]
  },
  {
   "cell_type": "code",
   "execution_count": 16,
   "metadata": {},
   "outputs": [],
   "source": [
    "set_up_array(b_train_coll, b_train, b_train_l, 0, 0)\n",
    "set_up_array(b_test_coll, b_test, b_test_l, 0)\n"
   ]
  },
  {
   "cell_type": "code",
   "execution_count": null,
   "metadata": {},
   "outputs": [],
   "source": []
  },
  {
   "cell_type": "code",
   "execution_count": 17,
   "metadata": {},
   "outputs": [
    {
     "data": {
      "image/png": "[encoded data removed]",
      "text/plain": [
       "<Figure size 432x288 with 1 Axes>"
      ]
     },
     "metadata": {
      "needs_background": "light"
     },
     "output_type": "display_data"
    }
   ],
   "source": [
    "y_pos = np.arange(len(b_byte_dist_h))\n",
    "x = preprocessing.scale(b_byte_dist_h)\n",
    "plt.bar(y_pos, x)\n",
    "plt.title(\"Standardized Benign Byte Distribution\")\n",
    "plt.show()"
   ]
  },
  {
   "cell_type": "code",
   "execution_count": 18,
   "metadata": {},
   "outputs": [
    {
     "data": {
      "image/png": "[encoded data removed]",
      "text/plain": [
       "<Figure size 432x288 with 1 Axes>"
      ]
     },
     "metadata": {
      "needs_background": "light"
     },
     "output_type": "display_data"
    }
   ],
   "source": [
    "b_ipt_h = b_ipt_h.flatten()\n",
    "y_pos = np.arange(len(b_ipt_h))\n",
    "x = preprocessing.scale(b_ipt_h)\n",
    "plt.bar(y_pos, x)\n",
    "plt.title(\"Benign IPT buckets\")\n",
    "plt.show()"
   ]
  },
  {
   "cell_type": "code",
   "execution_count": 19,
   "metadata": {},
   "outputs": [
    {
     "data": {
      "image/png": "[encoded data removed]",
      "text/plain": [
       "<Figure size 432x288 with 1 Axes>"
      ]
     },
     "metadata": {
      "needs_background": "light"
     },
     "output_type": "display_data"
    }
   ],
   "source": [
    "b_pl = b_pl.flatten()\n",
    "y_pos = np.arange(len(b_pl))\n",
    "x = preprocessing.scale(b_pl)\n",
    "plt.bar(y_pos, x)\n",
    "plt.title('Benign PL Matrix')\n",
    "plt.show()"
   ]
  },
  {
   "cell_type": "code",
   "execution_count": 20,
   "metadata": {},
   "outputs": [
    {
     "data": {
      "image/png": "[encoded data removed]",
      "text/plain": [
       "<Figure size 432x288 with 1 Axes>"
      ]
     },
     "metadata": {
      "needs_background": "light"
     },
     "output_type": "display_data"
    }
   ],
   "source": [
    "by_pos = np.arange(len(b_byte_dist_h))\n",
    "b = preprocessing.normalize([b_byte_dist_h])\n",
    "py_pos = np.arange(len(p_byte_dist_h))\n",
    "p = preprocessing.normalize([p_byte_dist_h])\n",
    "\n",
    "com = plt.subplot(111)\n",
    "benign_box = com.bar(by_pos, b[0], color='b')\n",
    "pirate_box = com.bar(py_pos+0.2, p[0], color='r')\n",
    "com.legend((benign_box[0], pirate_box[0]), ('Benign', \"Pirated\"))\n",
    "com.set_ylabel('Standardized Values')\n",
    "com.set_xlabel('Byte Number')\n",
    "#com.title('Benign vs. Pirated Byte Distributions')\n",
    "plt.title('Benign vs. Pirated Byte Distributions')\n",
    "plt.show()\n"
   ]
  },
  {
   "cell_type": "code",
   "execution_count": 21,
   "metadata": {},
   "outputs": [
    {
     "data": {
      "image/png": "[encoded data removed]",
      "text/plain": [
       "<Figure size 432x288 with 1 Axes>"
      ]
     },
     "metadata": {
      "needs_background": "light"
     },
     "output_type": "display_data"
    }
   ],
   "source": [
    "by_pos = np.arange(len(b_pl))\n",
    "b = preprocessing.scale(b_pl)\n",
    "py_pos = np.arange(len(p_pl))\n",
    "p = preprocessing.scale(p_pl)\n",
    "\n",
    "com = plt.subplot(111)\n",
    "benign_box = com.bar(by_pos, b, color='b')\n",
    "pirate_box = com.bar(py_pos+0.4, p, color='r')\n",
    "com.legend((benign_box[0], pirate_box[0]), ('Benign', \"Pirated\"))\n",
    "com.set_ylabel('Standardized Values')\n",
    "com.set_xlabel('Flattened Packet Length Transition Matrix')\n",
    "#com.title('Benign vs. Pirated Byte Distributions')\n",
    "plt.title('Benign vs. Pirated Packet Length Transition Matrix')\n",
    "plt.show()\n"
   ]
  },
  {
   "cell_type": "code",
   "execution_count": 22,
   "metadata": {},
   "outputs": [
    {
     "data": {
      "image/png": "[encoded data removed]",
      "text/plain": [
       "<Figure size 432x288 with 1 Axes>"
      ]
     },
     "metadata": {
      "needs_background": "light"
     },
     "output_type": "display_data"
    }
   ],
   "source": [
    "by_pos = np.arange(len(b_ipt_h))\n",
    "b = preprocessing.scale(b_ipt_h)\n",
    "py_pos = np.arange(len(p_ipt_h))\n",
    "p = preprocessing.scale(p_ipt_h)\n",
    "\n",
    "com = plt.subplot(111)\n",
    "benign_box = com.bar(by_pos, b, color='b')\n",
    "pirate_box = com.bar(py_pos+0.4, p, color='r')\n",
    "com.legend((benign_box[0], pirate_box[0]), ('Benign', \"Pirated\"))\n",
    "com.set_ylabel('Standardized Values')\n",
    "com.set_xlabel('Flattened IPT Matrix')\n",
    "#com.title('Benign vs. Pirated Byte Distributions')\n",
    "plt.title('Benign vs. Pirated IPT Transition Matrix')\n",
    "plt.show()"
   ]
  },
  {
   "cell_type": "code",
   "execution_count": null,
   "metadata": {},
   "outputs": [],
   "source": []
  },
  {
   "cell_type": "code",
   "execution_count": 23,
   "metadata": {},
   "outputs": [],
   "source": [
    "training_set = []\n",
    "training_set.extend(b_train)\n",
    "training_set.extend(p_train)\n",
    "training_labels = []\n",
    "training_labels.extend(b_train_l)\n",
    "training_labels.extend(p_train_l)\n",
    "training_set = np.array(training_set)\n",
    "training_labels = np.array(training_labels)\n",
    "b_train = np.array(b_train)\n",
    "p_train = np.array(p_train)\n",
    "b_train_l = np.array(b_train_l)\n",
    "p_train_l = np.array(p_train_l)"
   ]
  },
  {
   "cell_type": "code",
   "execution_count": 24,
   "metadata": {},
   "outputs": [],
   "source": [
    "test_set = []\n",
    "test_labels = []\n",
    "test_set.extend(b_test)\n",
    "test_set.extend(p_test)\n",
    "test_labels.extend(b_test_l)\n",
    "test_labels.extend(p_test_l)\n",
    "test_set = np.array(test_set)\n",
    "test_labels = np.array(test_labels)\n",
    "b_test = np.array(b_test)\n",
    "p_test = np.array(p_test)\n",
    "b_test_l = np.array(b_test_l)\n",
    "p_test_l = np.array(p_test_l)"
   ]
  },
  {
   "cell_type": "code",
   "execution_count": 25,
   "metadata": {},
   "outputs": [
    {
     "name": "stderr",
     "output_type": "stream",
     "text": [
      "/home/thomasbelford/.local/lib/python2.7/site-packages/sklearn/linear_model/logistic.py:433: FutureWarning: Default solver will be changed to 'lbfgs' in 0.22. Specify a solver to silence this warning.\n",
      "  FutureWarning)\n"
     ]
    },
    {
     "name": "stdout",
     "output_type": "stream",
     "text": [
      "0.06016147429159305\n",
      "0.9911196911196911\n",
      "0.002920019941599601\n"
     ]
    }
   ],
   "source": [
    "logreg = LogisticRegression()\n",
    "logreg.fit(training_set, training_labels)\n",
    "print(logreg.score(test_set, test_labels))\n",
    "print(logreg.score(b_test, b_test_l))\n",
    "print(logreg.score(p_test, p_test_l))"
   ]
  },
  {
   "cell_type": "code",
   "execution_count": 26,
   "metadata": {},
   "outputs": [
    {
     "name": "stdout",
     "output_type": "stream",
     "text": [
      "0.5720922053371239\n"
     ]
    }
   ],
   "source": [
    "print(logreg.score(training_set, training_labels))"
   ]
  },
  {
   "cell_type": "code",
   "execution_count": 27,
   "metadata": {},
   "outputs": [
    {
     "name": "stdout",
     "output_type": "stream",
     "text": [
      "0.7356697157426252\n",
      "0.9482625482625483\n",
      "0.7225981055480379\n"
     ]
    }
   ],
   "source": [
    "dt = DecisionTreeClassifier(criterion='gini')\n",
    "dt.fit(training_set, training_labels)\n",
    "print(dt.score(test_set, test_labels))\n",
    "print(dt.score(b_test, b_test_l))\n",
    "print(dt.score(p_test, p_test_l))"
   ]
  },
  {
   "cell_type": "code",
   "execution_count": 28,
   "metadata": {},
   "outputs": [
    {
     "data": {
      "text/plain": [
       "'n_test_coll = mydb[\"netflow_test\"]\\nn_test = []\\nn_l = []\\nset_up_array(n_test_coll, n_test, n_l, 1, -1, {\\'$or\\':[{\\'da\\': \\'192.168.5.113\\'}, {\\'sa\\': \\'192.168.5.113\\'}]})'"
      ]
     },
     "execution_count": 28,
     "metadata": {},
     "output_type": "execute_result"
    }
   ],
   "source": [
    "'''n_test_coll = mydb[\"netflow_test\"]\n",
    "n_test = []\n",
    "n_l = []\n",
    "set_up_array(n_test_coll, n_test, n_l, 1, -1, {'$or':[{'da': '192.168.5.113'}, {'sa': '192.168.5.113'}]})'''\n"
   ]
  },
  {
   "cell_type": "code",
   "execution_count": 29,
   "metadata": {},
   "outputs": [],
   "source": [
    "#print(dt.score(n_test, n_l))"
   ]
  },
  {
   "cell_type": "code",
   "execution_count": 30,
   "metadata": {},
   "outputs": [
    {
     "data": {
      "text/plain": [
       "\"\\nfor doc in ab_test_coll.find():\\n    tmpd = []\\n    tmp = getMD(doc, -1)\\n    tmpb = getBD(doc, -1)\\n    #if (tmpb is None or len(tmpb) != 256):\\n    #    continue\\n    #tmpbd = preprocessing.scale(tmpb)\\n    #tmpift = getIPT(doc, -1)\\n    \\n    #note: these 100's need to be changed if numRows is changed\\n    #if (tmpift is None or len(tmpift) != 100):\\n    #    continue\\n        \\n    #tmpind_pl = getIndividualPL(doc, -1)\\n    #if (tmpind_pl is None or len(tmpind_pl) != 100):\\n    #    continue\\n    ab_s_ip.append((doc['sa'], doc['da']))\\n    \\n    tmpd.extend(tmp)\\n    #tmpd.extend(tmpb)\\n    #tmpd.extend(tmpift)\\n    #tmpd.extend(tmpind_pl)\\n    ab_test.append(tmpd)\\n    ab_l.append(0)\\n\""
      ]
     },
     "execution_count": 30,
     "metadata": {},
     "output_type": "execute_result"
    }
   ],
   "source": [
    "#all benign test\n",
    "ab_test_coll = mydb[\"bWeb\"]\n",
    "ab_test = []\n",
    "ab_l = []\n",
    "ab_s_ip = []\n",
    "#ab_d_ip = []\n",
    "\n",
    "set_up_array(ab_test_coll, ab_test, ab_l, 0, -1, ips=ab_s_ip)\n",
    "'''\n",
    "for doc in ab_test_coll.find():\n",
    "    tmpd = []\n",
    "    tmp = getMD(doc, -1)\n",
    "    tmpb = getBD(doc, -1)\n",
    "    #if (tmpb is None or len(tmpb) != 256):\n",
    "    #    continue\n",
    "    #tmpbd = preprocessing.scale(tmpb)\n",
    "    #tmpift = getIPT(doc, -1)\n",
    "    \n",
    "    #note: these 100's need to be changed if numRows is changed\n",
    "    #if (tmpift is None or len(tmpift) != 100):\n",
    "    #    continue\n",
    "        \n",
    "    #tmpind_pl = getIndividualPL(doc, -1)\n",
    "    #if (tmpind_pl is None or len(tmpind_pl) != 100):\n",
    "    #    continue\n",
    "    ab_s_ip.append((doc['sa'], doc['da']))\n",
    "    \n",
    "    tmpd.extend(tmp)\n",
    "    #tmpd.extend(tmpb)\n",
    "    #tmpd.extend(tmpift)\n",
    "    #tmpd.extend(tmpind_pl)\n",
    "    ab_test.append(tmpd)\n",
    "    ab_l.append(0)\n",
    "'''"
   ]
  },
  {
   "cell_type": "code",
   "execution_count": 31,
   "metadata": {},
   "outputs": [
    {
     "name": "stdout",
     "output_type": "stream",
     "text": [
      "0.7703703703703704\n"
     ]
    }
   ],
   "source": [
    "print(dt.score(ab_test, ab_l))"
   ]
  },
  {
   "cell_type": "code",
   "execution_count": 32,
   "metadata": {},
   "outputs": [
    {
     "name": "stderr",
     "output_type": "stream",
     "text": [
      "/home/thomasbelford/.local/lib/python2.7/site-packages/sklearn/ensemble/forest.py:246: FutureWarning: The default value of n_estimators will change from 10 in version 0.20 to 100 in 0.22.\n",
      "  \"10 in version 0.20 to 100 in 0.22.\", FutureWarning)\n"
     ]
    },
    {
     "data": {
      "text/plain": [
       "RandomForestClassifier(bootstrap=False, class_weight=None, criterion='gini',\n",
       "            max_depth=None, max_features='auto', max_leaf_nodes=None,\n",
       "            min_impurity_decrease=0.0, min_impurity_split=None,\n",
       "            min_samples_leaf=1, min_samples_split=2,\n",
       "            min_weight_fraction_leaf=0.0, n_estimators=10, n_jobs=None,\n",
       "            oob_score=False, random_state=None, verbose=0,\n",
       "            warm_start=False)"
      ]
     },
     "execution_count": 32,
     "metadata": {},
     "output_type": "execute_result"
    }
   ],
   "source": [
    "rf = RandomForestClassifier(bootstrap=False)\n",
    "rf.fit(training_set, training_labels)"
   ]
  },
  {
   "cell_type": "code",
   "execution_count": 33,
   "metadata": {},
   "outputs": [
    {
     "name": "stdout",
     "output_type": "stream",
     "text": [
      "0.8707758370048979\n",
      "0.9555984555984556\n",
      "0.8655603826887923\n",
      "0.762962962962963\n"
     ]
    }
   ],
   "source": [
    "print(rf.score(test_set, test_labels))\n",
    "print(rf.score(b_test, b_test_l))\n",
    "print(rf.score(p_test, p_test_l))\n",
    "#print(rf.score(n_test, n_l))\n",
    "print(rf.score(ab_test, ab_l))"
   ]
  },
  {
   "cell_type": "code",
   "execution_count": 34,
   "metadata": {},
   "outputs": [],
   "source": [
    "probs = rf.predict_proba(ab_test)"
   ]
  },
  {
   "cell_type": "code",
   "execution_count": 35,
   "metadata": {},
   "outputs": [
    {
     "name": "stdout",
     "output_type": "stream",
     "text": [
      "PB: 0.9              PP: 0.1              DA: 23.55.15.226     SA: 192.168.5.104   \n",
      "PB: 1.0              PP: 0.0              DA: 10.0.2.15        SA: 172.26.1.12     \n",
      "PB: 1.0              PP: 0.0              DA: 10.0.2.15        SA: 172.26.1.12     \n",
      "PB: 1.0              PP: 0.0              DA: 10.0.2.15        SA: 172.26.1.12     \n",
      "PB: 1.0              PP: 0.0              DA: 10.0.2.15        SA: 172.26.1.12     \n",
      "PB: 0.4              PP: 0.6              DA: 10.0.2.15        SA: 172.26.1.12     \n",
      "PB: 1.0              PP: 0.0              DA: 10.0.2.15        SA: 172.26.1.12     \n",
      "PB: 1.0              PP: 0.0              DA: 10.0.2.15        SA: 172.26.1.12     \n",
      "PB: 0.4              PP: 0.6              DA: 10.0.2.15        SA: 172.26.1.12     \n",
      "PB: 0.5              PP: 0.5              DA: 52.84.128.7      SA: 10.0.2.15       \n",
      "PB: 1.0              PP: 0.0              DA: 10.0.2.15        SA: 172.26.1.12     \n",
      "PB: 1.0              PP: 0.0              DA: 10.0.2.15        SA: 172.26.1.12     \n",
      "PB: 0.5              PP: 0.5              DA: 52.84.128.7      SA: 10.0.2.15       \n",
      "PB: 1.0              PP: 0.0              DA: 10.0.2.15        SA: 172.26.1.12     \n",
      "PB: 0.5              PP: 0.5              DA: 10.0.2.15        SA: 172.26.1.12     \n",
      "PB: 0.4              PP: 0.6              DA: 52.84.128.7      SA: 10.0.2.15       \n",
      "PB: 0.9              PP: 0.1              DA: 10.0.2.15        SA: 172.26.1.12     \n",
      "PB: 0.7              PP: 0.3              DA: 10.0.2.15        SA: 172.26.1.12     \n",
      "PB: 1.0              PP: 0.0              DA: 10.0.2.15        SA: 172.26.1.12     \n",
      "PB: 1.0              PP: 0.0              DA: 10.0.2.15        SA: 172.26.1.12     \n",
      "PB: 1.0              PP: 0.0              DA: 10.0.2.15        SA: 172.26.1.12     \n",
      "PB: 1.0              PP: 0.0              DA: 10.0.2.15        SA: 172.26.1.12     \n",
      "PB: 0.6              PP: 0.4              DA: 10.0.2.15        SA: 172.26.1.12     \n",
      "PB: 0.6              PP: 0.4              DA: 10.0.2.15        SA: 172.26.1.12     \n",
      "PB: 1.0              PP: 0.0              DA: 10.0.2.15        SA: 172.26.1.12     \n",
      "PB: 0.5              PP: 0.5              DA: 10.0.2.15        SA: 172.26.1.12     \n",
      "PB: 0.3              PP: 0.7              DA: 10.0.2.15        SA: 172.26.1.12     \n",
      "PB: 0.8              PP: 0.2              DA: 10.0.2.15        SA: 172.26.1.12     \n",
      "PB: 1.0              PP: 0.0              DA: 10.0.2.15        SA: 172.26.1.12     \n",
      "PB: 0.7              PP: 0.3              DA: 10.0.2.15        SA: 172.26.1.12     \n",
      "PB: 1.0              PP: 0.0              DA: 10.0.2.15        SA: 172.26.1.12     \n",
      "PB: 1.0              PP: 0.0              DA: 10.0.2.15        SA: 172.26.1.12     \n",
      "PB: 0.3              PP: 0.7              DA: 172.217.7.234    SA: 10.0.2.15       \n",
      "PB: 1.0              PP: 0.0              DA: 10.0.2.15        SA: 172.26.1.12     \n",
      "PB: 0.9              PP: 0.1              DA: 10.0.2.15        SA: 172.26.1.12     \n",
      "PB: 0.2              PP: 0.8              DA: 10.0.2.15        SA: 172.26.1.12     \n",
      "PB: 0.9              PP: 0.1              DA: 10.0.2.15        SA: 172.26.1.12     \n",
      "PB: 0.7              PP: 0.3              DA: 10.0.2.15        SA: 172.26.1.12     \n",
      "PB: 0.7              PP: 0.3              DA: 10.0.2.15        SA: 172.26.1.12     \n",
      "PB: 0.7              PP: 0.3              DA: 10.0.2.15        SA: 172.26.1.12     \n",
      "PB: 0.7              PP: 0.3              DA: 10.0.2.15        SA: 172.26.1.12     \n",
      "PB: 0.0              PP: 1.0              DA: 10.0.2.15        SA: 172.26.1.12     \n",
      "PB: 0.7              PP: 0.3              DA: 10.0.2.15        SA: 172.26.1.12     \n",
      "PB: 0.7              PP: 0.3              DA: 10.0.2.15        SA: 172.26.1.12     \n",
      "PB: 0.0              PP: 1.0              DA: 10.0.2.15        SA: 172.26.1.12     \n",
      "PB: 0.5              PP: 0.5              DA: 10.0.2.15        SA: 172.26.1.12     \n",
      "PB: 0.5              PP: 0.5              DA: 10.0.2.15        SA: 172.26.1.12     \n",
      "PB: 1.0              PP: 0.0              DA: 10.0.2.15        SA: 172.26.1.12     \n",
      "PB: 0.7              PP: 0.3              DA: 10.0.2.15        SA: 172.26.1.12     \n",
      "PB: 0.7              PP: 0.3              DA: 10.0.2.15        SA: 172.26.1.12     \n",
      "PB: 0.0              PP: 1.0              DA: 10.0.2.15        SA: 172.26.1.12     \n",
      "PB: 1.0              PP: 0.0              DA: 10.0.2.15        SA: 172.26.1.12     \n",
      "PB: 1.0              PP: 0.0              DA: 10.0.2.15        SA: 172.26.1.12     \n",
      "PB: 0.7              PP: 0.3              DA: 10.0.2.15        SA: 172.26.1.12     \n",
      "PB: 0.1              PP: 0.9              DA: 10.0.2.15        SA: 172.26.1.12     \n",
      "PB: 0.8              PP: 0.2              DA: 162.213.33.108   SA: 10.0.2.15       \n",
      "PB: 0.5              PP: 0.5              DA: 10.0.2.15        SA: 172.26.1.12     \n",
      "PB: 0.5              PP: 0.5              DA: 10.0.2.15        SA: 172.26.1.13     \n",
      "PB: 0.7              PP: 0.3              DA: 10.0.2.15        SA: 172.26.1.12     \n",
      "PB: 1.0              PP: 0.0              DA: 172.26.1.13      SA: 10.0.2.15       \n",
      "PB: 0.7              PP: 0.3              DA: 10.0.2.15        SA: 172.26.1.12     \n",
      "PB: 0.6              PP: 0.4              DA: 10.0.2.15        SA: 172.26.1.12     \n",
      "PB: 0.9              PP: 0.1              DA: 172.217.7.228    SA: 10.0.2.15       \n",
      "PB: 0.7              PP: 0.3              DA: 10.0.2.15        SA: 172.26.1.12     \n",
      "PB: 0.8              PP: 0.2              DA: 10.0.2.15        SA: 172.26.1.12     \n",
      "PB: 1.0              PP: 0.0              DA: 10.0.2.15        SA: 172.26.1.12     \n",
      "PB: 0.8              PP: 0.2              DA: 10.0.2.15        SA: 172.26.1.12     \n",
      "PB: 0.5              PP: 0.5              DA: 10.0.2.15        SA: 172.26.1.12     \n",
      "PB: 1.0              PP: 0.0              DA: 10.0.2.15        SA: 172.26.1.12     \n",
      "PB: 0.7              PP: 0.3              DA: 10.0.2.15        SA: 172.26.1.12     \n",
      "PB: 0.7              PP: 0.3              DA: 10.0.2.15        SA: 172.26.1.12     \n",
      "PB: 0.3              PP: 0.7              DA: 10.0.2.15        SA: 172.26.1.12     \n",
      "PB: 1.0              PP: 0.0              DA: 10.0.2.15        SA: 172.26.1.12     \n",
      "PB: 0.7              PP: 0.3              DA: 10.0.2.15        SA: 172.26.1.12     \n",
      "PB: 0.7              PP: 0.3              DA: 10.0.2.15        SA: 172.26.1.12     \n",
      "PB: 0.4              PP: 0.6              DA: 172.217.7.227    SA: 10.0.2.15       \n",
      "PB: 0.7              PP: 0.3              DA: 10.0.2.15        SA: 172.26.1.12     \n",
      "PB: 0.0              PP: 1.0              DA: 10.0.2.15        SA: 172.26.1.12     \n",
      "PB: 0.9              PP: 0.1              DA: 72.167.239.239   SA: 10.0.2.15       \n",
      "PB: 0.1              PP: 0.9              DA: 52.84.124.99     SA: 10.0.2.15       \n",
      "PB: 1.0              PP: 0.0              DA: 10.0.2.15        SA: 172.26.1.12     \n",
      "PB: 1.0              PP: 0.0              DA: 10.0.2.15        SA: 172.26.1.12     \n",
      "PB: 0.9              PP: 0.1              DA: 72.167.239.239   SA: 10.0.2.15       \n",
      "PB: 1.0              PP: 0.0              DA: 172.217.7.238    SA: 10.0.2.15       \n",
      "PB: 0.3              PP: 0.7              DA: 185.230.60.161   SA: 10.0.2.15       \n",
      "PB: 1.0              PP: 0.0              DA: 10.0.2.15        SA: 172.26.1.12     \n",
      "PB: 0.8              PP: 0.2              DA: 10.0.2.15        SA: 172.26.1.12     \n",
      "PB: 0.9              PP: 0.1              DA: 151.101.34.217   SA: 10.0.2.15       \n",
      "PB: 0.4              PP: 0.6              DA: 72.21.91.29      SA: 10.0.2.15       \n",
      "PB: 1.0              PP: 0.0              DA: 52.39.206.30     SA: 10.0.2.15       \n",
      "PB: 0.9              PP: 0.1              DA: 10.0.2.15        SA: 172.26.1.12     \n",
      "PB: 1.0              PP: 0.0              DA: 10.0.2.15        SA: 172.26.1.12     \n",
      "PB: 0.7              PP: 0.3              DA: 10.0.2.15        SA: 172.26.1.12     \n",
      "PB: 0.7              PP: 0.3              DA: 10.0.2.15        SA: 172.26.1.12     \n",
      "PB: 0.4              PP: 0.6              DA: 151.101.1.132    SA: 10.0.2.15       \n",
      "PB: 1.0              PP: 0.0              DA: 10.0.2.15        SA: 172.26.1.12     \n",
      "PB: 1.0              PP: 0.0              DA: 10.0.2.15        SA: 172.26.1.12     \n",
      "PB: 0.5              PP: 0.5              DA: 172.217.7.232    SA: 10.0.2.15       \n",
      "PB: 0.9              PP: 0.1              DA: 204.237.142.155  SA: 10.0.2.15       \n",
      "PB: 1.0              PP: 0.0              DA: 10.0.2.15        SA: 172.26.1.12     \n",
      "PB: 0.0              PP: 1.0              DA: 10.0.2.15        SA: 172.26.1.12     \n",
      "PB: 1.0              PP: 0.0              DA: 10.0.2.15        SA: 172.26.1.12     \n",
      "PB: 0.7              PP: 0.3              DA: 10.0.2.15        SA: 172.26.1.12     \n",
      "PB: 0.7              PP: 0.3              DA: 34.215.13.51     SA: 10.0.2.15       \n",
      "PB: 0.2              PP: 0.8              DA: 72.21.91.29      SA: 10.0.2.15       \n",
      "PB: 1.0              PP: 0.0              DA: 172.217.7.238    SA: 10.0.2.15       \n",
      "PB: 0.7              PP: 0.3              DA: 23.236.62.147    SA: 10.0.2.15       \n",
      "PB: 0.9              PP: 0.1              DA: 184.25.157.51    SA: 10.0.2.15       \n",
      "PB: 0.4              PP: 0.6              DA: 35.227.249.241   SA: 10.0.2.15       \n",
      "PB: 0.9              PP: 0.1              DA: 34.236.30.234    SA: 10.0.2.15       \n",
      "PB: 0.4              PP: 0.6              DA: 130.211.46.196   SA: 10.0.2.15       \n",
      "PB: 0.3              PP: 0.7              DA: 172.217.15.74    SA: 10.0.2.15       \n",
      "PB: 0.3              PP: 0.7              DA: 172.217.7.227    SA: 10.0.2.15       \n",
      "PB: 0.4              PP: 0.6              DA: 108.59.86.242    SA: 10.0.2.15       \n",
      "PB: 0.3              PP: 0.7              DA: 204.237.142.177  SA: 10.0.2.15       \n",
      "PB: 1.0              PP: 0.0              DA: 10.0.2.15        SA: 172.26.1.12     \n",
      "PB: 0.3              PP: 0.7              DA: 10.0.2.15        SA: 172.26.1.12     \n",
      "PB: 0.4              PP: 0.6              DA: 130.211.46.196   SA: 10.0.2.15       \n",
      "PB: 1.0              PP: 0.0              DA: 10.0.2.15        SA: 172.26.1.12     \n",
      "PB: 0.4              PP: 0.6              DA: 10.0.2.15        SA: 172.26.1.12     \n",
      "PB: 0.3              PP: 0.7              DA: 172.217.7.234    SA: 10.0.2.15       \n",
      "PB: 1.0              PP: 0.0              DA: 162.213.33.108   SA: 10.0.2.15       \n",
      "PB: 0.8              PP: 0.2              DA: 52.84.124.99     SA: 10.0.2.15       \n",
      "PB: 1.0              PP: 0.0              DA: 10.0.2.15        SA: 172.26.1.12     \n",
      "PB: 1.0              PP: 0.0              DA: 10.0.2.15        SA: 172.26.1.12     \n",
      "PB: 0.4              PP: 0.6              DA: 172.217.7.238    SA: 10.0.2.15       \n",
      "PB: 1.0              PP: 0.0              DA: 172.217.7.238    SA: 10.0.2.15       \n",
      "PB: 1.0              PP: 0.0              DA: 185.230.60.161   SA: 10.0.2.15       \n",
      "PB: 0.5              PP: 0.5              DA: 72.21.91.29      SA: 10.0.2.15       \n",
      "PB: 1.0              PP: 0.0              DA: 52.39.206.30     SA: 10.0.2.15       \n",
      "PB: 1.0              PP: 0.0              DA: 10.0.2.15        SA: 172.26.1.12     \n",
      "PB: 1.0              PP: 0.0              DA: 10.0.2.15        SA: 172.26.1.12     \n",
      "PB: 1.0              PP: 0.0              DA: 173.194.205.157  SA: 10.0.2.15       \n",
      "PB: 0.4              PP: 0.6              DA: 10.0.2.15        SA: 204.237.142.155 \n",
      "PB: 0.4              PP: 0.6              DA: 151.101.1.224    SA: 10.0.2.15       \n"
     ]
    }
   ],
   "source": [
    "for i in range(len(ab_test)):\n",
    "    print('PB: {pb: <16} PP: {pp: <16} DA: {da: <16} SA: {sa: <16}'.format(\n",
    "        pb=probs[i][0], pp=probs[i][1], da=ab_s_ip[i][1], sa=ab_s_ip[i][0]))"
   ]
  },
  {
   "cell_type": "markdown",
   "metadata": {},
   "source": [
    "# Graphs"
   ]
  },
  {
   "cell_type": "code",
   "execution_count": 36,
   "metadata": {},
   "outputs": [],
   "source": [
    "\n",
    "#df = pd.DataFrame(b_train)\n",
    "#df_b_dist = pd.DataFrame(np.array(preprocessing.normalize([b_byte_dist_h])))\n",
    "#df_p_dist = pd.DataFrame(np.array(preprocessing.scale(p_byte_dist_h)))\n",
    "#df_b_ipt = pd.DataFrame(preprocessing.normalize([b_ipts])).T\n",
    "df_b_ipt = pd.DataFrame(b_ipts)\n",
    "\n",
    "#df_p_ipt = pd.DataFrame(preprocessing.normalize([p_ipts])).T\n",
    "df_p_ipt = pd.DataFrame(p_ipts)\n",
    "#df_b_pkt_size = pd.DataFrame(preprocessing.normalize([b_pkt_size])).T\n",
    "df_p_pkt_size = pd.DataFrame(preprocessing.normalize([p_pkt_size])).T\n",
    "df_b_pkt_size = pd.DataFrame(b_pkt_size)\n",
    "#df_b_pkt_size = df_b_pkt_size[(np.abs(stats.zscore(df_b_pkt_size))<3).all(axis=1)]\n",
    "#df_p_pkt_size = pd.DataFrame(p_pkt_size)\n",
    "df_b_flow_size = pd.DataFrame(preprocessing.normalize([b_flow_size])).T\n",
    "df_p_flow_size = pd.DataFrame(preprocessing.normalize([p_flow_size])).T\n",
    "df_b_num_pkts = pd.DataFrame(preprocessing.normalize([b_num_pkts])).T\n",
    "df_p_num_pkts = pd.DataFrame(preprocessing.normalize([p_num_pkts])).T\n",
    "df_b_flow_time = pd.DataFrame(preprocessing.normalize([b_flow_time])).T\n",
    "df_p_flow_time = pd.DataFrame(preprocessing.normalize([p_flow_time])).T"
   ]
  },
  {
   "cell_type": "code",
   "execution_count": 37,
   "metadata": {},
   "outputs": [
    {
     "data": {
      "image/png": "[encoded data removed]",
      "text/plain": [
       "<Figure size 432x288 with 1 Axes>"
      ]
     },
     "metadata": {
      "needs_background": "light"
     },
     "output_type": "display_data"
    }
   ],
   "source": [
    "#df_b_ipt.plot(kind='hist')\n",
    "#df_p_ipt.plot(kind='hist', color='r')\n",
    "b_ipt2 = np.array([b_ipts])\n",
    "\n",
    "b_ipt2 = b_ipt2[abs(b_ipt2 - np.mean(b_ipt2)) < 3 * np.std(b_ipt2)]\n",
    "plt.hist(b_ipt2, weights=np.ones(len(b_ipt2))/len(b_ipt2), bins=10, range=(0,10))\n",
    "plt.gca().yaxis.set_major_formatter(PercentFormatter(1))\n",
    "\n",
    "plt.xlabel('IPT Buckets')\n",
    "plt.ylabel('Percentage in Bucket')\n",
    "plt.title('Inter Packet Times: benign')\n",
    "\n",
    "plt.show()"
   ]
  },
  {
   "cell_type": "code",
   "execution_count": 38,
   "metadata": {},
   "outputs": [
    {
     "data": {
      "image/png": "[encoded data removed]",
      "text/plain": [
       "<Figure size 432x288 with 1 Axes>"
      ]
     },
     "metadata": {
      "needs_background": "light"
     },
     "output_type": "display_data"
    }
   ],
   "source": [
    "#df_b_pkt_size[(np.abs(stats.zscore(df_b_pkt_size)) < 3).all(axis=1)]\n",
    "#df_p_pkt_size[(np.abs(stats.zscore(df_p_pkt_size)) < 3).all(axis=1)]\n",
    "#df_p_pkt_size\n",
    "#df_b_pkt_size.plot(kind='hist', bins=50, density=True)\n",
    "#df_p_pkt_size.plot(kind='hist', color='r', bins=50, density=True)\n",
    "#b_pkt_size_percent = df_p_pkt_size[0] / df_b_pkt_size[0].sum()\n",
    "#df_b_pkt_size.plot(kind='hist', bins=100, xlim=(0,5000))\n",
    "#sns.distplot(df_b_pkt_size, xlim=(0,5000))\n",
    "p_ipt2 = np.array([p_ipts])\n",
    "\n",
    "p_ipt2 = p_ipt2[abs(p_ipt2 - np.mean(p_ipt2)) < 3 * np.std(p_ipt2)]\n",
    "plt.hist(p_ipt2, weights=np.ones(len(p_ipt2))/len(p_ipt2), bins=10, range=(0,10), color='r')\n",
    "plt.gca().yaxis.set_major_formatter(PercentFormatter(1))\n",
    "\n",
    "plt.xlabel('IPT Buckets')\n",
    "plt.ylabel('Percentage in Bucket')\n",
    "plt.title('Inter Packet Times: Pirated')\n",
    "\n",
    "plt.show()"
   ]
  },
  {
   "cell_type": "code",
   "execution_count": 39,
   "metadata": {},
   "outputs": [
    {
     "name": "stderr",
     "output_type": "stream",
     "text": [
      "/home/thomasbelford/.local/lib/python2.7/site-packages/matplotlib/legend.py:937: UserWarning: Legend does not support array([ 0.,  1.,  2.,  3.,  4.,  5.,  6.,  7.,  8.,  9., 10.]) instances.\n",
      "A proxy artist may be used instead.\n",
      "See: http://matplotlib.org/users/legend_guide.html#creating-artists-specifically-for-adding-to-the-legend-aka-proxy-artists\n",
      "  \"aka-proxy-artists\".format(orig_handle)\n"
     ]
    },
    {
     "data": {
      "image/png": "[encoded data removed]",
      "text/plain": [
       "<Figure size 432x288 with 1 Axes>"
      ]
     },
     "metadata": {
      "needs_background": "light"
     },
     "output_type": "display_data"
    }
   ],
   "source": [
    "com = plt.subplot(111)\n",
    "b_ipt_ = com.hist(b_ipt2, weights=np.ones(len(b_ipt2))/len(b_ipt2),\n",
    "                    color='b', range=(0, 10), bins=10)\n",
    "p_ipt_ = com.hist(p_ipt2, weights=np.ones(len(p_ipt2))/len(p_ipt2),\n",
    "                    color='r', range=(0,10), bins=10, fc=(1, 0, 0, 0.5))\n",
    "com.legend((b_ipt_[1], p_ipt_[1]), ('Benign', \"Pirated\"))\n",
    "com.set_ylabel('Percentage in Buckets')\n",
    "com.set_xlabel('IPT Buckets')\n",
    "#com.title('Benign vs. Pirated Byte Distributions')\n",
    "plt.title('Benign vs. Pirated Inter Packet Times')\n",
    "plt.gca().yaxis.set_major_formatter(PercentFormatter(1))\n",
    "plt.show()"
   ]
  },
  {
   "cell_type": "code",
   "execution_count": 40,
   "metadata": {},
   "outputs": [
    {
     "data": {
      "image/png": "[encoded data removed]",
      "text/plain": [
       "<Figure size 432x288 with 1 Axes>"
      ]
     },
     "metadata": {
      "needs_background": "light"
     },
     "output_type": "display_data"
    }
   ],
   "source": [
    "b2 = np.array(b_pkt_size)\n",
    "#b2 = b2[abs(b2 - np.mean(b2)) < 3 * np.std(b2)]\n",
    "plt.hist(b2, weights=np.ones(len(b2))/len(b2), range=(0,2000), bins=40)\n",
    "plt.gca().yaxis.set_major_formatter(PercentFormatter(1))\n",
    "\n",
    "plt.xlabel('Packet Size (bytes)')\n",
    "plt.ylabel('Percentage in Bucket')\n",
    "plt.title('Packet Sizes: Benign')\n",
    "\n",
    "plt.show()"
   ]
  },
  {
   "cell_type": "code",
   "execution_count": 41,
   "metadata": {},
   "outputs": [
    {
     "data": {
      "image/png": "[encoded data removed]",
      "text/plain": [
       "<Figure size 432x288 with 1 Axes>"
      ]
     },
     "metadata": {
      "needs_background": "light"
     },
     "output_type": "display_data"
    }
   ],
   "source": [
    "p2 = np.array(p_pkt_size)\n",
    "#p2 = p2[abs(p2 - np.mean(p2)) < 3 * np.std(p2)]\n",
    "plt.hist(p2, weights=np.ones(len(p2))/len(p2), color='r', range=(0,2000), bins=40)\n",
    "plt.gca().yaxis.set_major_formatter(PercentFormatter(1))\n",
    "\n",
    "plt.xlabel('Packet Size (bytes)')\n",
    "plt.ylabel('Percentage in Bucket')\n",
    "plt.title('Packet Sizes: Pirated')\n",
    "\n",
    "plt.show()"
   ]
  },
  {
   "cell_type": "code",
   "execution_count": 42,
   "metadata": {},
   "outputs": [
    {
     "name": "stderr",
     "output_type": "stream",
     "text": [
      "/home/thomasbelford/.local/lib/python2.7/site-packages/matplotlib/legend.py:937: UserWarning: Legend does not support array([   0.,   50.,  100.,  150.,  200.,  250.,  300.,  350.,  400.,\n",
      "        450.,  500.,  550.,  600.,  650.,  700.,  750.,  800.,  850.,\n",
      "        900.,  950., 1000., 1050., 1100., 1150., 1200., 1250., 1300.,\n",
      "       1350., 1400., 1450., 1500., 1550., 1600., 1650., 1700., 1750.,\n",
      "       1800., 1850., 1900., 1950., 2000.]) instances.\n",
      "A proxy artist may be used instead.\n",
      "See: http://matplotlib.org/users/legend_guide.html#creating-artists-specifically-for-adding-to-the-legend-aka-proxy-artists\n",
      "  \"aka-proxy-artists\".format(orig_handle)\n"
     ]
    },
    {
     "data": {
      "image/png": "[encoded data removed]",
      "text/plain": [
       "<Figure size 432x288 with 1 Axes>"
      ]
     },
     "metadata": {
      "needs_background": "light"
     },
     "output_type": "display_data"
    }
   ],
   "source": [
    "com = plt.subplot(111)\n",
    "b_pkt_S = com.hist(b2, weights=np.ones(len(b2))/len(b2),\n",
    "                    color='b', range=(0, 2000), bins=40)\n",
    "p_pkt_S = com.hist(p2, weights=np.ones(len(p2))/len(p2),\n",
    "                    color='r', range=(0,2000), bins=40, fc=(1, 0, 0, 0.5))\n",
    "com.legend((b_pkt_S[1], p_pkt_S[1]), ('Benign', \"Pirated\"))\n",
    "com.set_ylabel('Percentage in Buckets')\n",
    "com.set_xlabel('Packet Size (bytes)')\n",
    "#com.title('Benign vs. Pirated Byte Distributions')\n",
    "plt.title('Benign vs. Pirated Packet Size')\n",
    "plt.gca().yaxis.set_major_formatter(PercentFormatter(1))\n",
    "plt.show()\n"
   ]
  },
  {
   "cell_type": "code",
   "execution_count": 43,
   "metadata": {},
   "outputs": [
    {
     "data": {
      "image/png": "[encoded data removed]",
      "text/plain": [
       "<Figure size 432x288 with 1 Axes>"
      ]
     },
     "metadata": {
      "needs_background": "light"
     },
     "output_type": "display_data"
    }
   ],
   "source": [
    "#df_b_flow_size.plot(kind='hist')\n",
    "#df_p_flow_size.plot(kind='hist', color='r')\n",
    "b_flows = np.array(b_flow_size)\n",
    "b_flows = b_flows[abs(b_flows - np.mean(b_flows)) < 3 * np.std(b_flows)]\n",
    "plt.hist(b_flows, weights=np.ones(len(b_flows))/len(b_flows), range=(0,20000), bins=40)\n",
    "plt.gca().yaxis.set_major_formatter(PercentFormatter(1))\n",
    "\n",
    "plt.xlabel('Flow Size (bytes)')\n",
    "plt.ylabel('Percentage in Bucket')\n",
    "plt.title('Flow Sizes: Benign')\n",
    "\n",
    "plt.show()"
   ]
  },
  {
   "cell_type": "code",
   "execution_count": 44,
   "metadata": {},
   "outputs": [
    {
     "data": {
      "image/png": "[encoded data removed]",
      "text/plain": [
       "<Figure size 432x288 with 1 Axes>"
      ]
     },
     "metadata": {
      "needs_background": "light"
     },
     "output_type": "display_data"
    }
   ],
   "source": [
    "p_flows = np.array(p_flow_size)\n",
    "p_flows = p_flows[abs(p_flows - np.mean(p_flows)) < 3 * np.std(p_flows)]\n",
    "plt.hist(p_flows, weights=np.ones(len(p_flows))/len(p_flows), bins=40, range=(0,20000), color='r')\n",
    "plt.gca().yaxis.set_major_formatter(PercentFormatter(1))\n",
    "\n",
    "plt.xlabel('Flow Size (bytes)')\n",
    "plt.ylabel('Percentage in Bucket')\n",
    "plt.title('Flow Sizes: Pirated')\n",
    "\n",
    "plt.show()"
   ]
  },
  {
   "cell_type": "code",
   "execution_count": 45,
   "metadata": {},
   "outputs": [
    {
     "name": "stderr",
     "output_type": "stream",
     "text": [
      "/home/thomasbelford/.local/lib/python2.7/site-packages/matplotlib/legend.py:937: UserWarning: Legend does not support array([    0.,   500.,  1000.,  1500.,  2000.,  2500.,  3000.,  3500.,\n",
      "        4000.,  4500.,  5000.,  5500.,  6000.,  6500.,  7000.,  7500.,\n",
      "        8000.,  8500.,  9000.,  9500., 10000., 10500., 11000., 11500.,\n",
      "       12000., 12500., 13000., 13500., 14000., 14500., 15000., 15500.,\n",
      "       16000., 16500., 17000., 17500., 18000., 18500., 19000., 19500.,\n",
      "       20000.]) instances.\n",
      "A proxy artist may be used instead.\n",
      "See: http://matplotlib.org/users/legend_guide.html#creating-artists-specifically-for-adding-to-the-legend-aka-proxy-artists\n",
      "  \"aka-proxy-artists\".format(orig_handle)\n"
     ]
    },
    {
     "data": {
      "image/png": "[encoded data removed]",
      "text/plain": [
       "<Figure size 432x288 with 1 Axes>"
      ]
     },
     "metadata": {
      "needs_background": "light"
     },
     "output_type": "display_data"
    }
   ],
   "source": [
    "com = plt.subplot(111)\n",
    "b_flow_s = com.hist(b_flows, weights=np.ones(len(b_flows))/len(b_flows),\n",
    "                    color='b', range=(0, 20000), bins=40)\n",
    "p_flow_s = com.hist(p_flows, weights=np.ones(len(p_flows))/len(p_flows),\n",
    "                    color='r', range=(0,20000), bins=40, fc=(1, 0, 0, 0.5))\n",
    "com.legend((b_flow_s[1], p_flow_s[1]), ('Benign', \"Pirated\"))\n",
    "com.set_ylabel('Percentage in Buckets')\n",
    "com.set_xlabel('Flow Size (bytes)')\n",
    "#com.title('Benign vs. Pirated Byte Distributions')\n",
    "plt.title('Benign vs. Pirated Flow Size')\n",
    "plt.gca().yaxis.set_major_formatter(PercentFormatter(1))\n",
    "plt.show()\n"
   ]
  },
  {
   "cell_type": "code",
   "execution_count": 46,
   "metadata": {},
   "outputs": [
    {
     "data": {
      "image/png": "[encoded data removed]",
      "text/plain": [
       "<Figure size 432x288 with 1 Axes>"
      ]
     },
     "metadata": {
      "needs_background": "light"
     },
     "output_type": "display_data"
    }
   ],
   "source": [
    "#df_b_num_pkts.plot(kind='hist')\n",
    "#df_p_num_pkts.plot(kind='hist', color='r')\n",
    "b_np = np.array(b_num_pkts)\n",
    "b_np = b_np[abs(b_np - np.mean(b_np)) < 3 * np.std(b_np)]\n",
    "plt.hist(b_np, weights=np.ones(len(b_np))/len(b_np), range=(0,12), bins=12)\n",
    "plt.gca().yaxis.set_major_formatter(PercentFormatter(1))\n",
    "\n",
    "plt.xlabel('# Packets')\n",
    "plt.ylabel('Percentage in Bucket')\n",
    "plt.title('Number of Packets: Benign')\n",
    "\n",
    "plt.show()"
   ]
  },
  {
   "cell_type": "code",
   "execution_count": 47,
   "metadata": {},
   "outputs": [
    {
     "data": {
      "image/png": "[encoded data removed]",
      "text/plain": [
       "<Figure size 432x288 with 1 Axes>"
      ]
     },
     "metadata": {
      "needs_background": "light"
     },
     "output_type": "display_data"
    }
   ],
   "source": [
    "p_np = np.array(p_num_pkts)\n",
    "p_np = p_np[abs(p_np - np.mean(p_np)) < 3 * np.std(p_np)]\n",
    "plt.hist(p_np, weights=np.ones(len(p_np))/len(p_np), color='r', bins=12, range=(0,12))\n",
    "plt.gca().yaxis.set_major_formatter(PercentFormatter(1))\n",
    "\n",
    "plt.xlabel('# Packets')\n",
    "plt.ylabel('Percentage in Bucket')\n",
    "plt.title('Number of Packets: Pirated')\n",
    "\n",
    "plt.show()"
   ]
  },
  {
   "cell_type": "code",
   "execution_count": 48,
   "metadata": {},
   "outputs": [
    {
     "name": "stderr",
     "output_type": "stream",
     "text": [
      "/home/thomasbelford/.local/lib/python2.7/site-packages/matplotlib/legend.py:937: UserWarning: Legend does not support array([ 0.,  1.,  2.,  3.,  4.,  5.,  6.,  7.,  8.,  9., 10., 11., 12.]) instances.\n",
      "A proxy artist may be used instead.\n",
      "See: http://matplotlib.org/users/legend_guide.html#creating-artists-specifically-for-adding-to-the-legend-aka-proxy-artists\n",
      "  \"aka-proxy-artists\".format(orig_handle)\n"
     ]
    },
    {
     "data": {
      "image/png": "[encoded data removed]",
      "text/plain": [
       "<Figure size 432x288 with 1 Axes>"
      ]
     },
     "metadata": {
      "needs_background": "light"
     },
     "output_type": "display_data"
    }
   ],
   "source": [
    "com = plt.subplot(111)\n",
    "b_np_ = com.hist(b_np, weights=np.ones(len(b_np))/len(b_np),\n",
    "                    color='b', range=(0, 12), bins=12)\n",
    "p_np_ = com.hist(p_np, weights=np.ones(len(p_np))/len(p_np),\n",
    "                    color='r', range=(0,12), bins=12, fc=(1, 0, 0, 0.5))\n",
    "com.legend((b_np_[1], p_np_[1]), ('Benign', \"Pirated\"))\n",
    "com.set_ylabel('Percentage')\n",
    "com.set_xlabel('# Packets')\n",
    "#com.title('Benign vs. Pirated Byte Distributions')\n",
    "plt.title('Benign vs. Pirated Number of Packets')\n",
    "plt.gca().yaxis.set_major_formatter(PercentFormatter(1))\n",
    "plt.show()"
   ]
  },
  {
   "cell_type": "code",
   "execution_count": 49,
   "metadata": {},
   "outputs": [
    {
     "data": {
      "image/png": "[encoded data removed]",
      "text/plain": [
       "<Figure size 432x288 with 1 Axes>"
      ]
     },
     "metadata": {
      "needs_background": "light"
     },
     "output_type": "display_data"
    }
   ],
   "source": [
    "b_ft = np.array(b_flow_time)\n",
    "b_ft = b_ft[abs(b_ft - np.mean(b_ft)) < 3 * np.std(b_ft)]\n",
    "\n",
    "plt.hist(b_ft, weights=np.ones(len(b_ft))/len(b_ft), bins=10, range=(0, 10))\n",
    "\n",
    "\n",
    "plt.xlabel('Time Buckets (s)')\n",
    "plt.ylabel('Percentage in Bucket')\n",
    "plt.title('Flow Time: Benign')\n",
    "plt.gca().yaxis.set_major_formatter(PercentFormatter(1))\n",
    "\n",
    "plt.show()"
   ]
  },
  {
   "cell_type": "code",
   "execution_count": 50,
   "metadata": {},
   "outputs": [
    {
     "data": {
      "image/png": "[encoded data removed]",
      "text/plain": [
       "<Figure size 432x288 with 1 Axes>"
      ]
     },
     "metadata": {
      "needs_background": "light"
     },
     "output_type": "display_data"
    }
   ],
   "source": [
    "#df_b_flow_time.plot(kind='hist')\n",
    "#df_p_flow_time.plot(kind='hist', color='r')\n",
    "p_ft = np.array(p_flow_time)\n",
    "p_ft = p_ft[abs(p_ft - np.mean(p_ft)) < 3 * np.std(p_ft)]\n",
    "plt.hist(p_ft, weights=np.ones(len(p_ft))/len(p_ft), color='r', bins=10, range=(0, 10))\n",
    "plt.gca().yaxis.set_major_formatter(PercentFormatter(1))\n",
    "\n",
    "plt.xlabel('Time Buckets (s)')\n",
    "plt.ylabel('Percentage in Bucket')\n",
    "plt.title('Flow Time: Pirated')\n",
    "\n",
    "plt.show()"
   ]
  },
  {
   "cell_type": "code",
   "execution_count": 51,
   "metadata": {},
   "outputs": [
    {
     "name": "stdout",
     "output_type": "stream",
     "text": [
      "<scipy.stats.kde.gaussian_kde object at 0x7fccdf264b50>\n"
     ]
    },
    {
     "data": {
      "image/png": "[encoded data removed]",
      "text/plain": [
       "<Figure size 432x288 with 1 Axes>"
      ]
     },
     "metadata": {
      "needs_background": "light"
     },
     "output_type": "display_data"
    }
   ],
   "source": [
    "com = plt.subplot(111)\n",
    "b_ft_ = com.hist(b_ft, weights=np.ones(len(b_ft))/len(b_ft),\n",
    "                    color='b', range=(0, 10), bins=10)\n",
    "b_kde_ft = stats.gaussian_kde(b_ft.T)\n",
    "\n",
    "p_ft_ = com.hist(p_ft, weights=np.ones(len(p_ft))/len(p_ft),\n",
    "                    color='r', range=(0,10), bins=10, fc=(1, 0, 0, 0.5))\n",
    "p_kde_ft = stats.gaussian_kde(p_ft)\n",
    "com.legend((b_ft_[1], p_ft_[1]), ('Benign', \"Pirated\"))\n",
    "com.set_ylabel('Percentage in Buckets')\n",
    "com.set_xlabel('Time Buckets (s)')\n",
    "print (b_kde_ft)\n",
    "#com.title('Benign vs. Pirated Byte Distributions')\n",
    "plt.title('Benign vs. Flow Times')\n",
    "plt.gca().yaxis.set_major_formatter(PercentFormatter(1))\n",
    "#plt.plot(com, b_kde_ft, p_kde_ft)\n",
    "plt.show()"
   ]
  },
  {
   "cell_type": "code",
   "execution_count": 52,
   "metadata": {},
   "outputs": [
    {
     "name": "stdout",
     "output_type": "stream",
     "text": [
      "[1.06400e+03 1.06500e+03 2.30000e+01 ... 8.36000e+02 1.70089e+05\n",
      " 0.00000e+00]\n"
     ]
    },
    {
     "name": "stderr",
     "output_type": "stream",
     "text": [
      "/home/thomasbelford/.local/lib/python2.7/site-packages/ipykernel_launcher.py:10: MatplotlibDeprecationWarning: scipy.stats.norm.pdf\n",
      "  # Remove the CWD from sys.path while we load stuff.\n"
     ]
    },
    {
     "data": {
      "image/png": "[encoded data removed]",
      "text/plain": [
       "<Figure size 432x288 with 2 Axes>"
      ]
     },
     "metadata": {
      "needs_background": "light"
     },
     "output_type": "display_data"
    }
   ],
   "source": [
    "b_ft = np.array(b_flow_time)\n",
    "b_ft = b_ft.astype(float)\n",
    "b_ft = b_ft[abs(b_ft - np.mean(b_ft)) < 3 * np.std(b_ft)]\n",
    "plt2, ax = plt.subplots()\n",
    "print b_ft\n",
    "n, bins, patches = ax.hist(b_ft, weights=np.ones(len(b_ft))/len(b_ft), )#bins=10, range=(0, 10), density=1)\n",
    "ax.set_xlabel('Time Buckets (s)')\n",
    "ax.set_ylabel('Pecentage in Buckets')\n",
    "(mu, sigma) = stats.norm.fit(b_ft)\n",
    "y = mlab.normpdf(bins, mu, sigma)\n",
    "\n",
    "ax2 = ax.twinx()\n",
    "l = ax2.plot(bins, y , 'r--', linewidth=2)\n",
    "#b_ft_kde = stats.gaussian_kde(b_ft)\n",
    "#b_ft_kde.covariance_factor = lambda : .25\n",
    "#b_ft_kde._compute_covariance()\n",
    "#ax2.set_ylabel('KDE')\n",
    "#m = b_ft.mean()\n",
    "#stdb = b_ft.std()\n",
    "#y = ((1/(np.sqrt(2 * np.pi) * stdb))*np.exp(-0.5 * (1 / stdb * (bins - m))**2))\n",
    "#x = np.linspace(0,10,1000)\n",
    "#ax2.plot(x, b_ft_kde(x))\n",
    "#print bins\n",
    "#print y\n",
    "#ax2.plot(bins, y, '--')\n",
    "\n",
    "#plt.xlabel('Time Buckets (s)')\n",
    "#plt.ylabel('Percentage in Bucket')\n",
    "plt.title('Flow Time: Benign')\n",
    "plt2.gca().yaxis.set_major_formatter(PercentFormatter(1))\n",
    "\n",
    "plt.show()"
   ]
  },
  {
   "cell_type": "code",
   "execution_count": 53,
   "metadata": {},
   "outputs": [
    {
     "data": {
      "text/plain": [
       "<matplotlib.axes._subplots.AxesSubplot at 0x7fccdefd3ed0>"
      ]
     },
     "execution_count": 53,
     "metadata": {},
     "output_type": "execute_result"
    },
    {
     "data": {
      "image/png": "[encoded data removed]",
      "text/plain": [
       "<Figure size 432x288 with 2 Axes>"
      ]
     },
     "metadata": {
      "needs_background": "light"
     },
     "output_type": "display_data"
    }
   ],
   "source": [
    "ax = df_b_ipt.plot(kind='hist')\n",
    "df_b_ipt.plot(kind='kde', ax=ax, secondary_y=True)"
   ]
  },
  {
   "cell_type": "code",
   "execution_count": null,
   "metadata": {},
   "outputs": [],
   "source": []
  },
  {
   "cell_type": "code",
   "execution_count": 54,
   "metadata": {},
   "outputs": [],
   "source": [
    "metrics = [accuracy_score, precision_score, f1_score, log_loss]"
   ]
  },
  {
   "cell_type": "code",
   "execution_count": 55,
   "metadata": {},
   "outputs": [],
   "source": [
    "def score_clf(clf, y_true, t_set):\n",
    "    results = []\n",
    "    #results.append(accuracy_score(y_true, y_pred))\n",
    "    #results.append(precision_score(y_true, y_pred))\n",
    "    y_pred = clf.predict(t_set)\n",
    "    for metric in metrics:\n",
    "        results.append(metric(y_true, y_pred))\n",
    "    cm = confusion_matrix(y_true, y_pred)\n",
    "    #True Pos Rate = TP/FN+TP\n",
    "    results.append(float(cm[0][0])/(cm[1][0] + cm[0][0]))\n",
    "    #False Pos Rate = FP/FP+TN\n",
    "    results.append(float(cm[0][1])/(cm[0][1]+cm[1][1]))\n",
    " \n",
    "    return results"
   ]
  },
  {
   "cell_type": "markdown",
   "metadata": {},
   "source": [
    "# Scoring"
   ]
  },
  {
   "cell_type": "code",
   "execution_count": 56,
   "metadata": {},
   "outputs": [],
   "source": [
    "#boosterRF = AdaBoostClassifier(RandomForestClassifier())\n",
    "#boosterRF.fit(training_set, training_labels)\n",
    "\n",
    "#res.append(score_clf(log_reg, test_labels, test_set))\n",
    "#res.append(score_clf(d_tree, test_labels, test_set))\n",
    "#res.append(score_clf(rand_forest, test_labels, test_set))\n",
    "#res.append(score_clf(dt_boost, test_labels, test_set))\n",
    "#res.append(score_clf(boosterRF, test_labels, test_set))"
   ]
  },
  {
   "cell_type": "code",
   "execution_count": 57,
   "metadata": {},
   "outputs": [
    {
     "data": {
      "text/plain": [
       "LogisticRegression(C=1.0, class_weight=None, dual=False, fit_intercept=True,\n",
       "          intercept_scaling=1, max_iter=100, multi_class='warn',\n",
       "          n_jobs=None, penalty='l2', random_state=None, solver='warn',\n",
       "          tol=0.0001, verbose=0, warm_start=False)"
      ]
     },
     "execution_count": 57,
     "metadata": {},
     "output_type": "execute_result"
    }
   ],
   "source": [
    "log_reg = LogisticRegression()\n",
    "log_reg.fit(training_set, training_labels)"
   ]
  },
  {
   "cell_type": "code",
   "execution_count": 58,
   "metadata": {},
   "outputs": [
    {
     "data": {
      "text/plain": [
       "DecisionTreeClassifier(class_weight=None, criterion='gini', max_depth=None,\n",
       "            max_features=None, max_leaf_nodes=None,\n",
       "            min_impurity_decrease=0.0, min_impurity_split=None,\n",
       "            min_samples_leaf=1, min_samples_split=2,\n",
       "            min_weight_fraction_leaf=0.0, presort=False, random_state=None,\n",
       "            splitter='best')"
      ]
     },
     "execution_count": 58,
     "metadata": {},
     "output_type": "execute_result"
    }
   ],
   "source": [
    "d_tree = DecisionTreeClassifier()\n",
    "d_tree.fit(training_set, training_labels)"
   ]
  },
  {
   "cell_type": "code",
   "execution_count": 59,
   "metadata": {},
   "outputs": [],
   "source": [
    "rand_forest = rf #RandomForestClassifier()\n",
    "#rand_forest.fit(training_set, training_labels)"
   ]
  },
  {
   "cell_type": "code",
   "execution_count": 60,
   "metadata": {},
   "outputs": [],
   "source": [
    "#dt_boost = AdaBoostClassifier(DecisionTreeClassifier())\n",
    "#dt_boost.fit(training_set, training_labels)"
   ]
  },
  {
   "cell_type": "code",
   "execution_count": 61,
   "metadata": {},
   "outputs": [],
   "source": [
    "res=[]\n",
    "clfs = [log_reg, d_tree, rand_forest] #dt_boost]#, boosterRF]\n",
    "for clf in clfs:\n",
    "    res.append(score_clf(clf, test_labels, test_set))\n",
    "clf_names = ['LR:','DT:', 'RF:']#, 'BoostDT:']#, 'BoostRF:']"
   ]
  },
  {
   "cell_type": "code",
   "execution_count": 62,
   "metadata": {},
   "outputs": [
    {
     "data": {
      "text/plain": [
       "\"for i in range(len(res)):\\n    print ('%s Accuracy: %f Precision: %f F1: %f log_loss: %f' %  \\n          (clf_names[i], res[i][0], res[i][1], res[i][2], res[i][3]))\\n    print (' TruePos Rate: %f FalsePos Rate: %f' % (res[i][4], res[i][5]))\""
      ]
     },
     "execution_count": 62,
     "metadata": {},
     "output_type": "execute_result"
    }
   ],
   "source": [
    "\n",
    "'''for i in range(len(res)):\n",
    "    print ('%s Accuracy: %f Precision: %f F1: %f log_loss: %f' %  \n",
    "          (clf_names[i], res[i][0], res[i][1], res[i][2], res[i][3]))\n",
    "    print (' TruePos Rate: %f FalsePos Rate: %f' % (res[i][4], res[i][5]))'''"
   ]
  },
  {
   "cell_type": "code",
   "execution_count": 63,
   "metadata": {},
   "outputs": [],
   "source": [
    "score_df = pd.DataFrame(res)\n",
    "score_df.columns = ['Accuracy', 'Precision', 'F1', 'Log_Loss', 'TruePosRate', 'FalsePosRate']\n",
    "score_df.index = clf_names"
   ]
  },
  {
   "cell_type": "code",
   "execution_count": 64,
   "metadata": {},
   "outputs": [
    {
     "data": {
      "text/html": [
       "<div>\n",
       "<style scoped>\n",
       "    .dataframe tbody tr th:only-of-type {\n",
       "        vertical-align: middle;\n",
       "    }\n",
       "\n",
       "    .dataframe tbody tr th {\n",
       "        vertical-align: top;\n",
       "    }\n",
       "\n",
       "    .dataframe thead th {\n",
       "        text-align: right;\n",
       "    }\n",
       "</style>\n",
       "<table border=\"1\" class=\"dataframe\">\n",
       "  <thead>\n",
       "    <tr style=\"text-align: right;\">\n",
       "      <th></th>\n",
       "      <th>Accuracy</th>\n",
       "      <th>Precision</th>\n",
       "      <th>F1</th>\n",
       "      <th>Log_Loss</th>\n",
       "      <th>TruePosRate</th>\n",
       "      <th>FalsePosRate</th>\n",
       "    </tr>\n",
       "  </thead>\n",
       "  <tbody>\n",
       "    <tr>\n",
       "      <th>LR:</th>\n",
       "      <td>0.060161</td>\n",
       "      <td>0.842466</td>\n",
       "      <td>0.00582</td>\n",
       "      <td>32.460873</td>\n",
       "      <td>0.057599</td>\n",
       "      <td>0.157534</td>\n",
       "    </tr>\n",
       "    <tr>\n",
       "      <th>DT:</th>\n",
       "      <td>0.892022</td>\n",
       "      <td>0.996116</td>\n",
       "      <td>0.93943</td>\n",
       "      <td>3.729415</td>\n",
       "      <td>0.342969</td>\n",
       "      <td>0.003884</td>\n",
       "    </tr>\n",
       "    <tr>\n",
       "      <th>RF:</th>\n",
       "      <td>0.870776</td>\n",
       "      <td>0.996856</td>\n",
       "      <td>0.92658</td>\n",
       "      <td>4.463247</td>\n",
       "      <td>0.304129</td>\n",
       "      <td>0.003144</td>\n",
       "    </tr>\n",
       "  </tbody>\n",
       "</table>\n",
       "</div>"
      ],
      "text/plain": [
       "     Accuracy  Precision       F1   Log_Loss  TruePosRate  FalsePosRate\n",
       "LR:  0.060161   0.842466  0.00582  32.460873     0.057599      0.157534\n",
       "DT:  0.892022   0.996116  0.93943   3.729415     0.342969      0.003884\n",
       "RF:  0.870776   0.996856  0.92658   4.463247     0.304129      0.003144"
      ]
     },
     "execution_count": 64,
     "metadata": {},
     "output_type": "execute_result"
    }
   ],
   "source": [
    "score_df"
   ]
  },
  {
   "cell_type": "code",
   "execution_count": 65,
   "metadata": {},
   "outputs": [],
   "source": [
    "#med_coll = mydb['mediacom2']\n",
    "#mediacom = []\n",
    "#set_up_array(med_coll, mediacom, None, -1, -1, None, bd=1)"
   ]
  },
  {
   "cell_type": "code",
   "execution_count": 80,
   "metadata": {},
   "outputs": [],
   "source": [
    "FullNet_c = mydb['mediacom2']\n",
    "fnc = []\n",
    "fn_ips = []\n",
    "fnb = []\n",
    "spm = []\n",
    "dpm = []\n",
    "set_up_array(FullNet_c, fnc, ips=fn_ips, bytes=fnb, sp=spm, dp=dpm)"
   ]
  },
  {
   "cell_type": "code",
   "execution_count": 81,
   "metadata": {},
   "outputs": [],
   "source": [
    "prob_fnc = rand_forest.predict_proba(fnc)"
   ]
  },
  {
   "cell_type": "code",
   "execution_count": 82,
   "metadata": {},
   "outputs": [],
   "source": [
    "def bad_ip(fn_ip):\n",
    "    if (fn_ip[0] == '192.168.5.113' or fn_ip[1] == '192.168.5.113' or \n",
    "        #fn_ip[0] == '192.168.5.157' or fn_ip[1] == '192.168.5.157' or\n",
    "        fn_ip[0] == '192.168.5.151' or fn_ip[1] == '192.168.5.151'):\n",
    "        return True"
   ]
  },
  {
   "cell_type": "code",
   "execution_count": 83,
   "metadata": {},
   "outputs": [],
   "source": [
    "def ignore_ip(fn_ip):\n",
    "    if (fn_ip[0] == '192.168.5.157' or fn_ip[1] == '192.168.5.157'):\n",
    "        return True"
   ]
  },
  {
   "cell_type": "code",
   "execution_count": 85,
   "metadata": {},
   "outputs": [],
   "source": [
    "def ignore_ports(sp, dp):\n",
    "    if (sp == 443 or sp == 22 or sp == 53 or\n",
    "        dp == 443 or dp == 22 or dp == 53):\n",
    "        return True"
   ]
  },
  {
   "cell_type": "code",
   "execution_count": 86,
   "metadata": {},
   "outputs": [],
   "source": [
    "count_of_badip = 0\n",
    "detect_badip = 0\n",
    "count_p = 0\n",
    "addr_dict = {}\n",
    "#array to send to pandas after this\n",
    "stp = []\n",
    "for i in range(len(fnc)):\n",
    "    #if bad_ip(fn_ips[i]):\n",
    "    #    count_of_badip += 1\n",
    "    #if ignore_ip(fn_ips[i]):\n",
    "    #    continue\n",
    "    if ignore_ports(spm[i], dpm[i]):\n",
    "        continue\n",
    "    if fnb[i] <= 1:\n",
    "        continue\n",
    "    if prob_fnc[i][1] >= 0.8:\n",
    "        #if bad_ip(fn_ips[i]):\n",
    "        #    detect_badip += 1\n",
    "        count_p+=1\n",
    "        if (fn_ips[i][0] not in addr_dict):\n",
    "            try:\n",
    "                sasn, g, h = socket.gethostbyaddr(fn_ips[i][0])\n",
    "            except:\n",
    "                sasn = 'Unknown'\n",
    "            addr_dict[fn_ips[i][0]] = sasn\n",
    "        else:\n",
    "            sasn = addr_dict[fn_ips[i][0]]\n",
    "            \n",
    "        if (fn_ips[i][1] not in addr_dict):\n",
    "            try:\n",
    "                dasn, g, h = socket.gethostbyaddr(fn_ips[i][1])\n",
    "            except:\n",
    "                dasn = 'Unknown'\n",
    "            addr_dict[fn_ips[i][1]] = dasn\n",
    "        else:\n",
    "            dasn = addr_dict[fn_ips[i][1]]\n",
    "        stp.append([fn_ips[i][0], sasn, fn_ips[i][1], dasn, prob_fnc[i][1], fnb[i]])\n",
    "            \n",
    "        #print('PB: {pb: <5} PP: {pp: <5} DA: {da: <16} SA: {sa: <16} DASN: {dasn1} SASN: {sasn1}\\n'.format(\n",
    "        #pb=prob_fnc[i][0], pp=prob_fnc[i][1], da=fn_ips[i][1], sa=fn_ips[i][0], dasn1=dasn, sasn1=sasn))"
   ]
  },
  {
   "cell_type": "code",
   "execution_count": 87,
   "metadata": {},
   "outputs": [],
   "source": [
    "pirate_pd = pd.DataFrame(stp)\n",
    "pirate_pd.columns = ['Source IP', 'Source ASN','Dest IP', 'Dest ASN', 'Probability Pirated', 'Number of Bytes']"
   ]
  },
  {
   "cell_type": "code",
   "execution_count": 107,
   "metadata": {
    "scrolled": false
   },
   "outputs": [],
   "source": [
    "pirate_pd = pirate_pd.sort_values(by=['Number of Bytes', 'Source IP'])\n",
    "agg_pd = pirate_pd.groupby(['Dest IP', 'Dest ASN', 'Source IP', 'Source ASN', 'Probability Pirated'])['Number of Bytes'].sum().to_frame()\n",
    "agg_pd.to_csv(path_or_buf='~/mediacom2.csv')"
   ]
  },
  {
   "cell_type": "code",
   "execution_count": 108,
   "metadata": {},
   "outputs": [
    {
     "name": "stdout",
     "output_type": "stream",
     "text": [
      "269274\n",
      "0\n"
     ]
    }
   ],
   "source": [
    "print len(fnc)\n",
    "print count_of_badip\n"
   ]
  },
  {
   "cell_type": "code",
   "execution_count": 109,
   "metadata": {},
   "outputs": [
    {
     "name": "stdout",
     "output_type": "stream",
     "text": [
      "0\n",
      "8400\n"
     ]
    }
   ],
   "source": [
    "print detect_badip\n",
    "print count_p"
   ]
  },
  {
   "cell_type": "code",
   "execution_count": 110,
   "metadata": {},
   "outputs": [
    {
     "name": "stdout",
     "output_type": "stream",
     "text": [
      "0.0311949909757\n"
     ]
    }
   ],
   "source": [
    "#fprint float(detect_badip)/count_of_badip\n",
    "print float(count_p)/len(fnc)\n",
    "#print float(detect_badip)/count_p"
   ]
  },
  {
   "cell_type": "code",
   "execution_count": 97,
   "metadata": {},
   "outputs": [],
   "source": [
    "#print (float(count_p-detect_badip)/len(fnc))"
   ]
  },
  {
   "cell_type": "code",
   "execution_count": null,
   "metadata": {},
   "outputs": [],
   "source": []
  }
 ],
 "metadata": {
  "kernelspec": {
   "display_name": "Python 2",
   "language": "python",
   "name": "python2"
  },
  "language_info": {
   "codemirror_mode": {
    "name": "ipython",
    "version": 2
   },
   "file_extension": ".py",
   "mimetype": "text/x-python",
   "name": "python",
   "nbconvert_exporter": "python",
   "pygments_lexer": "ipython2",
   "version": "2.7.15rc1"
  }
 },
 "nbformat": 4,
 "nbformat_minor": 2
}
