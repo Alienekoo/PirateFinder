{
 "cells": [
  {
   "cell_type": "code",
   "execution_count": 1,
   "metadata": {
    "scrolled": true,
    "slideshow": {
     "slide_type": "skip"
    }
   },
   "outputs": [],
   "source": [
    "#Some code has been modeled based on CISCO's Joy. "
   ]
  },
  {
   "cell_type": "code",
   "execution_count": 2,
   "metadata": {
    "scrolled": true,
    "slideshow": {
     "slide_type": "skip"
    }
   },
   "outputs": [],
   "source": [
    "import numpy as np\n",
    "import pymongo\n",
    "#from sklearn import neural_network\n",
    "from sklearn.neural_network import MLPClassifier\n",
    "from sklearn.model_selection import GridSearchCV, learning_curve, train_test_split, cross_validate, StratifiedKFold\n",
    "from sklearn.linear_model import LogisticRegression\n",
    "from sklearn.metrics import accuracy_score, make_scorer, log_loss, precision_score, f1_score, auc, confusion_matrix\n",
    "from sklearn.tree import DecisionTreeClassifier\n",
    "import sys\n",
    "import math\n",
    "from imblearn.over_sampling import SMOTE\n",
    "from imblearn.over_sampling import SMOTENC\n",
    "from sklearn import preprocessing\n",
    "import matplotlib.pyplot as plt\n",
    "from operator import add\n",
    "from sklearn.svm import SVC\n",
    "from sklearn.ensemble import RandomForestClassifier, AdaBoostClassifier\n",
    "import pandas as pd\n",
    "from scipy import stats\n",
    "import seaborn as sns\n",
    "from matplotlib.ticker import PercentFormatter\n",
    "import matplotlib.mlab as mlab\n",
    "import socket\n",
    "import pyasn\n",
    "import csv\n",
    "import subprocess"
   ]
  },
  {
   "cell_type": "markdown",
   "metadata": {
    "slideshow": {
     "slide_type": "skip"
    }
   },
   "source": [
    "Function to send a folder to mongodb"
   ]
  },
  {
   "cell_type": "code",
   "execution_count": 3,
   "metadata": {
    "scrolled": true,
    "slideshow": {
     "slide_type": "skip"
    }
   },
   "outputs": [],
   "source": [
    "def joy_to_mongo(ls, names, folder=True):\n",
    "    \n",
    "    res = []\n",
    "    for n in names:\n",
    "        try:\n",
    "            mydb[n].drop()\n",
    "        except Exception as e:\n",
    "            pass\n",
    "    for i in range(len(names)):\n",
    "        if folder:\n",
    "            btra = './bin/joy bidir=1 dist=1 '+ls[i]+'*.pcap | ./move2Cmongo/mongocpath '+names[i]\n",
    "        else:\n",
    "            btra = './bin/joy bidir=1 dist=1 '+ls[i]+'.pcap | ./move2Cmongo/mongocpath '+names[i]\n",
    "        #btes = './bin/joy bidir=1 dist=1 '+ls[1]+'*.pcap | ./move2Cmongo/mongocpath '+names[1]\n",
    "        #ptra = './bin/joy bidir=1 dist=1 '+ls[2]+'*.pcap | ./move2Cmongo/mongocpath '+names[2]\n",
    "        #ptes = './bin/joy bidir=1 dist=1 '+ls[3]+'*.pcap | ./move2Cmongo/mongocpath '+names[3]\n",
    "    \n",
    "        print(btra)\n",
    "        \n",
    "        subprocess.call(btra, shell=True)\n",
    "        #subprocess.call(btes, shell=True)\n",
    "        #subprocess.call(ptra, shell=True)\n",
    "        #subprocess.call(ptes, shell=True)\n",
    "        res.append(mydb[names[i]])\n",
    "    #return mydb[names[0]], mydb[names[1]], mydb[names[2]], mydb[names[3]]\n",
    "    return res"
   ]
  },
  {
   "cell_type": "markdown",
   "metadata": {
    "slideshow": {
     "slide_type": "skip"
    }
   },
   "source": [
    "## methods to gather data from flow"
   ]
  },
  {
   "cell_type": "code",
   "execution_count": 4,
   "metadata": {
    "scrolled": true,
    "slideshow": {
     "slide_type": "skip"
    }
   },
   "outputs": [],
   "source": [
    "def getBD(doc, bd_s=None):\n",
    "    data = []\n",
    "    if len(doc['packets']) == 0:\n",
    "        return\n",
    "    if doc['byte_dist'] != None and sum(doc['byte_dist']) > 0:\n",
    "        tmp = map(lambda x: x / float(sum(doc['byte_dist'])), doc['byte_dist'])\n",
    "        data.extend(tmp)\n",
    "        if (bd_s is not None):\n",
    "            for i in range(len(tmp)):\n",
    "                bd_s[i] += tmp[i]\n",
    "        '''elif flag == 1:\n",
    "            for i in range(len(tmp)):\n",
    "                p_byte_dist_h[i] += tmp[i]'''\n",
    "    else:\n",
    "        data.extend(np.zeros(256))\n",
    "    return data"
   ]
  },
  {
   "cell_type": "code",
   "execution_count": 5,
   "metadata": {
    "scrolled": true,
    "slideshow": {
     "slide_type": "skip"
    }
   },
   "outputs": [],
   "source": [
    "def getIndividualPL(flow, pl_arr):\n",
    "    transMat = np.zeros((numRows, numRows))\n",
    "    if len(flow['packets']) == 0:\n",
    "        return (list(transMat.flatten()))\n",
    "    elif len(flow['packets']) == 1:\n",
    "        curPacketSize = min(int(flow['packets'][0]['b'] / binSize), numRows - 1)\n",
    "        transMat[curPacketSize, curPacketSize] = 1\n",
    "        if (pl_arr is not None):\n",
    "            pl_arr[curPacketSize, curPacketSize] += 1\n",
    "        '''\n",
    "        elif (flag == 1):\n",
    "            p_pl[curPacketSize, curPacketSize] += 1\n",
    "        '''\n",
    "        return (list(transMat.flatten()))\n",
    "        \n",
    "\n",
    "    # get raw transition counts\n",
    "    for i in range(1, len(flow['packets'])):\n",
    "        prevPacketSize = min(int(flow['packets'][i - 1]['b'] / binSize), numRows - 1)\n",
    "        if 'b' not in flow['packets'][i]:\n",
    "            break\n",
    "        curPacketSize = min(int(flow['packets'][i]['b'] / binSize), numRows - 1)\n",
    "        transMat[prevPacketSize, curPacketSize] += 1\n",
    "        \n",
    "        if (pl_arr is not None):\n",
    "            pl_arr[prevPacketSize, curPacketSize] += 1\n",
    "        '''elif (flag == 1):\n",
    "            p_pl[prevPacketSize, curPacketSize] += 1\n",
    "        '''\n",
    "    # get empirical transition probabilities\n",
    "    for i in range(numRows):\n",
    "        if float(np.sum(transMat[i:i + 1])) != 0:\n",
    "            transMat[i:i + 1] = transMat[i:i + 1] / float(np.sum(transMat[i:i + 1]))\n",
    "\n",
    "    return (list(transMat.flatten()))"
   ]
  },
  {
   "cell_type": "code",
   "execution_count": 6,
   "metadata": {
    "scrolled": true,
    "slideshow": {
     "slide_type": "skip"
    }
   },
   "outputs": [],
   "source": [
    "def getIPT(flow, ipt_arr):\n",
    "    #numRows = 10\n",
    "    binSize = 50.0\n",
    "    transMat = np.zeros((numRows, numRows))\n",
    "    if len(flow['packets']) == 0:\n",
    "        return (list(transMat.flatten()))\n",
    "    elif len(flow['packets']) == 1:\n",
    "        curIPT = min(int(flow['packets'][0]['ipt'] / float(binSize)), numRows - 1)\n",
    "        transMat[curIPT, curIPT] = 1\n",
    "        \n",
    "        #for updating histograms/box charts\n",
    "        if (ipt_arr is not None):\n",
    "            ipt_arr[curIPT, curIPT] += 1\n",
    "        '''elif (flag == 1):\n",
    "            p_ipt_h[curIPT, curIPT] += 1'''\n",
    "        return (list(transMat.flatten()))\n",
    "        \n",
    "\n",
    "    # get raw transition counts\n",
    "    for i in range(1, len(flow['packets'])):\n",
    "        prevIPT = min(int(flow['packets'][i - 1]['ipt'] / float(binSize)), numRows - 1)\n",
    "        curIPT = min(int(flow['packets'][i]['ipt'] / float(binSize)), numRows - 1)\n",
    "        transMat[prevIPT, curIPT] += 1\n",
    "        \n",
    "        if (ipt_arr is not None):\n",
    "            ipt_arr[prevIPT, curIPT] += 1\n",
    "        '''elif (flag == 1):\n",
    "            p_ipt_h[prevIPT, curIPT] += 1\n",
    "        '''\n",
    "    # get empirical transition probabilities\n",
    "    for i in range(numRows):\n",
    "        if float(np.sum(transMat[i:i + 1])) != 0:\n",
    "            transMat[i:i + 1] = transMat[i:i + 1] / float(np.sum(transMat[i:i + 1]))\n",
    "\n",
    "    return (list(transMat.flatten()))"
   ]
  },
  {
   "cell_type": "code",
   "execution_count": 7,
   "metadata": {
    "scrolled": true,
    "slideshow": {
     "slide_type": "skip"
    }
   },
   "outputs": [],
   "source": [
    "def getMD(flow):\n",
    "    tmp = []\n",
    "\n",
    "    if flow['dp'] != None:\n",
    "        tmp.append(float(flow['dp']))  # destination port\n",
    "    else:\n",
    "        tmp.append(0)  # ICMP/etc.\n",
    "    if flow['sp'] != None:\n",
    "        tmp.append(float(flow['sp']))  # source port\n",
    "    else:\n",
    "        tmp.append(0)  # ICMP/etc.\n",
    "    if 'num_pkts_in' in flow:\n",
    "        tmp.append(flow['num_pkts_in'])  # inbound packets\n",
    "    else:\n",
    "        tmp.append(0)\n",
    "    if 'num_pkts_out' in flow:\n",
    "        tmp.append(flow['num_pkts_out'])  # outbound packets\n",
    "    else:\n",
    "        tmp.append(0)\n",
    "    if 'bytes_in' in flow:\n",
    "        tmp.append(flow['bytes_in'])  # inbound bytes\n",
    "    else:\n",
    "        tmp.append(0)\n",
    "    if 'bytes_out' in flow:\n",
    "        tmp.append(flow['bytes_out'])  # outbound bytes\n",
    "    else:\n",
    "        tmp.append(0)\n",
    "    # elapsed time of flow\n",
    "    if flow['packets'] == []:\n",
    "        tmp.append(0)\n",
    "    else:\n",
    "        time = abs(flow['time_end'] - flow['time_start'])\n",
    "        #for packet in flow['packets']:\n",
    "        #    time += packet['ipt']\n",
    "        tmp.append(time)\n",
    "    return tmp"
   ]
  },
  {
   "cell_type": "code",
   "execution_count": 8,
   "metadata": {
    "scrolled": true,
    "slideshow": {
     "slide_type": "skip"
    }
   },
   "outputs": [],
   "source": [
    "'''\n",
    "use this to create the arrays to be used both to train/test on and to create graphs\n",
    "Params:\n",
    "Collection: the collection to loop through,\n",
    "data_set: the variable that the collection doc's are appended to\n",
    "label_set: is the set that is used to train/test with the data set (pass in None if \n",
    "            its not all benign or all pirated), \n",
    "label: 1 for pirate, 0 for benign.\n",
    "cond: used to specifiy any conditions to search for in the collection\n",
    "bd: set as 1 to include byte dist in data_set\n",
    "ipt: set as 1 to include ipt in data set. \n",
    "pl: set as 1 to include packet lengths in data set\n",
    "ips: pass in blank array to fill with ip tuples of flows\n",
    "\n",
    "sp: pass in blank array to fill with source port #'s of flows\n",
    "dp: pass in blank array to fill with dest port #'s of flows\n",
    "\n",
    "byte_dist_h: blank array to fill out with byte distributions. Used to create graphs\n",
    "ipt_tm: blank array to be filled with ipt tranisition matrix. Used to create graphs\n",
    "pl_tm: blank array to be filled with pl transition matrix. Used to create graphs\n",
    "NOTE: ipt_tm and pl_tm need to be passed in as an array with np.zeros((numRows, numRows)),\n",
    "      while byte_dist_h needs to be an array of 0's with length 256\n",
    "      \n",
    "ipts_h: blank array to be filled with ipt's. Used to create graphs\n",
    "pkt_size: blank array to be filled with packet sizes. Used to create graphs\n",
    "flow_size: same as pkt_size except with flows\n",
    "num_pkts: blank rray to be filled with number of packets. Used to create graphs\n",
    "flow_time: blank array to be filled with flow times. Used to create graphs\n",
    "'''\n",
    "def set_up_array(collection, data_set, label_set=None, label=None, cond=None,\n",
    "                bd=None, ipt=None, pl=None, ips=None, sp=None, dp=None,\n",
    "                byte_dist_h=None, ipt_tm=None, pl_tm=None, ipts_h=None, pkt_size=None,\n",
    "                flow_size=None, num_pkts=None, flow_time=None):\n",
    "    for doc in collection.find(cond):\n",
    "        tmpd = []\n",
    "        tmp = getMD(doc)\n",
    "        tmpb = getBD(doc, byte_dist_h)\n",
    "        if (bd == 1 and (tmpb is None or len(tmpb) != 256)):\n",
    "            tmpb = np.zeros(256)\n",
    "        elif (bd == 1):\n",
    "            tmpb = preprocessing.normalize([tmpb])\n",
    "        tmpift = getIPT(doc, ipt_tm)\n",
    "\n",
    "        #note: these 100's need to be changed if numRows is changed\n",
    "        #if (tmpift is None or len(tmpift) != 100):\n",
    "        #    continue\n",
    "\n",
    "        tmpind_pl = getIndividualPL(doc, pl_tm)\n",
    "        #if (tmpind_pl is None or len(tmpind_pl) != 100):\n",
    "        #    continue\n",
    "        \n",
    "        #get ipt's and pkt_sizes for graph\n",
    "        if(ipts_h != None):\n",
    "            for pkt in doc['packets']:\n",
    "                try:\n",
    "                    ipts_h.append(pkt['ipt'])\n",
    "                except Exception as e:\n",
    "                    print e\n",
    "                    pass\n",
    "                if (pkt_size != None):\n",
    "                    try:\n",
    "                        pkt_size.append(pkt['b'])\n",
    "                    except Exception as e:\n",
    "                        print e\n",
    "        elif(pkt_size != None):\n",
    "            for pkt in doc['packets']:\n",
    "                try:\n",
    "                    pkt_size.append(pkt['b'])\n",
    "                except Exception as e:\n",
    "                    print e\n",
    "        \n",
    "        #get flow_size (number of bytes)\n",
    "        #num bytes\n",
    "        if (flow_size != None):\n",
    "            try:\n",
    "                flow_size.append(doc['bytes_in'] + doc['bytes_out'])\n",
    "            except:\n",
    "                try:\n",
    "                    flow_size.append(doc['bytes_in'])\n",
    "                except:\n",
    "                    try:\n",
    "                        flow_size.append(doc['bytes_out'])\n",
    "                    except Exception as e:\n",
    "                        print e\n",
    "                        pass\n",
    "            \n",
    "        if (num_pkts != None):\n",
    "            #num pkts\n",
    "            try:\n",
    "                num_pkts.append(doc['num_pkts_in'] + doc['num_pkts_out'])\n",
    "            except:\n",
    "                try:\n",
    "                    num_pkts.append(doc['num_pkts_in'])\n",
    "                except:\n",
    "                    try:\n",
    "                        num_pkts.append(doc['num_pkts_out'])\n",
    "                    except Exception as e:\n",
    "                        print e\n",
    "                        pass\n",
    "            \n",
    "                    \n",
    "            #flow duration\n",
    "        if (flow_time != None):\n",
    "            flow_time.append(tmp[6])\n",
    "            \n",
    "        \n",
    "        if ips != None:\n",
    "            ips.append((doc['sa'], doc['da']))\n",
    "        \n",
    "        \n",
    "        if sp != None:\n",
    "            sp.append(doc['sp'])\n",
    "        if dp != None:\n",
    "            dp.append(doc['dp'])\n",
    "        tmpd.extend(tmp)\n",
    "        if bd == 1:\n",
    "            tmpd.extend(tmpb)\n",
    "        if ipt == 1:\n",
    "            tmpd.extend(tmpift)\n",
    "        if pl == 1:\n",
    "            tmpd.extend(tmpind_pl)\n",
    "        data_set.append(tmpd)\n",
    "        try:\n",
    "            label_set.append(label)\n",
    "        except Exception as e:\n",
    "            pass\n",
    "            #print('No label set given')"
   ]
  },
  {
   "cell_type": "code",
   "execution_count": 9,
   "metadata": {
    "scrolled": true,
    "slideshow": {
     "slide_type": "skip"
    }
   },
   "outputs": [],
   "source": [
    "'''\n",
    "This creates graphs based on the arrays pased in. To use the combine_graphs function,\n",
    "use the output of this function. Note that the types of params used must match for both\n",
    "data sets to use the combine_graphs function\n",
    "Params:\n",
    "    byte_dist_h: array of the byte distribution \n",
    "    ipt_tm: array of the ipt tranisiton matrix \n",
    "    pl_tm: array of the packet length transition matrix\n",
    "    ipts_h: array of every flows ipt's \n",
    "    pkt_size: array of every flows' packet sizes )\n",
    "    flow_size: array of every flow's size \n",
    "    num_pkts: array of every flow's number of packets\n",
    "    flow_time: array of every flow's duration of time\n",
    "    NOTE: all above values are obtained through the use of the function: set_up_array\n",
    "    g_color: color used to 'paint' the graphs. Defaults to blue\n",
    "    name_data: name of the type of data being graphed. Defaults to Benign\n",
    "    \n",
    "Outputs:\n",
    "    tmp: an array that consists of the data used for all graphs. use this array to\n",
    "        perform the combine_graphs function (note, you need one for both the \n",
    "        pirated and benign set to run combine_graphs)\n",
    "    graph_nums: an array used to keep track of which graphs and data were inputted\n",
    "'''\n",
    "def graph_arrays(byte_dist_h=None, ipt_tm=None, pl_tm=None, ipts_h=None, pkt_size=None,\n",
    "                 flow_size=None, num_pkts=None, flow_time=None, g_color='b', \n",
    "                 name_data='Benign'):\n",
    "    tmp = []\n",
    "    graph_nums = []\n",
    "    if byte_dist_h is not None:\n",
    "        y_pos = np.arange(len(byte_dist_h))\n",
    "        x = preprocessing.normalize([byte_dist_h])\n",
    "        plt.bar(y_pos, x[0], color=g_color)\n",
    "        plt.title(\"Normalized \" + name_data + \" Byte Distribution\")\n",
    "        plt.show()\n",
    "        tmp.append((x, y_pos))\n",
    "        graph_nums.append(0)\n",
    "        \n",
    "    if ipt_tm is not None:\n",
    "        ipt_h1 = ipt_tm.flatten().tolist()\n",
    "        y_pos1 = np.arange(len(ipt_h1))\n",
    "        x1 = preprocessing.normalize([ipt_h1])\n",
    "\n",
    "        plt.bar(y_pos1, x1[0], color=g_color)\n",
    "        plt.title(name_data + \" IPT buckets\")\n",
    "        plt.show()\n",
    "        tmp.append((x1, y_pos1))\n",
    "        graph_nums.append(1)\n",
    "        \n",
    "    if pl_tm is not None:\n",
    "        pl1 = pl_tm.flatten().tolist()\n",
    "        y_pos2 = np.arange(len(pl1))\n",
    "        x2 = preprocessing.normalize([pl1])\n",
    "        plt.bar(y_pos2, x2[0], color=g_color)\n",
    "        plt.title(name_data + ' PL Matrix')\n",
    "        plt.show()\n",
    "        tmp.append((x2, y_pos2))\n",
    "        graph_nums.append(2)\n",
    "        \n",
    "    if ipts_h is not None:\n",
    "        ipt2 = np.array([ipts_h])\n",
    "        ipt2 = ipt2[abs(ipt2 - np.mean(ipt2)) < 3 * np.std(ipt2)]\n",
    "        plt.hist(ipt2, weights=np.ones(len(ipt2))/len(ipt2), bins=10, range=(0,10), color=g_color)\n",
    "        plt.gca().yaxis.set_major_formatter(PercentFormatter(1))\n",
    "        plt.xlabel('IPT Buckets')\n",
    "        plt.ylabel('Percentage in Bucket')\n",
    "        plt.title('Inter Packet Times: ' + name_data)\n",
    "        plt.show()\n",
    "        tmp.append(ipt2)\n",
    "        graph_nums.append(3)\n",
    "        \n",
    "    if pkt_size is not None:\n",
    "        b2 = np.array(pkt_size)\n",
    "        #b2 = b2[abs(b2 - np.mean(b2)) < 3 * np.std(b2)]\n",
    "        plt.hist(b2, weights=np.ones(len(b2))/len(b2), range=(0,2000), bins=40, color=g_color)\n",
    "        plt.gca().yaxis.set_major_formatter(PercentFormatter(1))\n",
    "        plt.xlabel('Packet Size (bytes)')\n",
    "        plt.ylabel('Percentage in Bucket')\n",
    "        plt.title('Packet Sizes: ' + name_data)\n",
    "    \n",
    "        plt.show()\n",
    "        tmp.append(b2)\n",
    "        graph_nums.append(4)\n",
    "        \n",
    "    if flow_size is not None:\n",
    "        flows2 = np.array(flow_size)\n",
    "        flows2 = flows2[abs(flows2 - np.mean(flows2)) < 3 * np.std(flows2)]\n",
    "        plt.hist(flows2, weights=np.ones(len(flows2))/len(flows2), range=(0,20000), bins=40, color=g_color)\n",
    "        plt.gca().yaxis.set_major_formatter(PercentFormatter(1))\n",
    "\n",
    "        plt.xlabel('Flow Size (bytes)')\n",
    "        plt.ylabel('Percentage in Bucket')\n",
    "        plt.title('Flow Sizes: ' + name_data)\n",
    "        plt.show()\n",
    "        tmp.append(flows2)\n",
    "        graph_nums.append(5)\n",
    "        \n",
    "    if num_pkts is not None:\n",
    "        b_np = np.array(num_pkts)\n",
    "        b_np = b_np[abs(b_np - np.mean(b_np)) < 3 * np.std(b_np)]\n",
    "        plt.hist(b_np, weights=np.ones(len(b_np))/len(b_np), range=(0,12), bins=12, color=g_color)\n",
    "        plt.gca().yaxis.set_major_formatter(PercentFormatter(1))\n",
    "\n",
    "        plt.xlabel('# Packets')\n",
    "        plt.ylabel('Percentage in Bucket')\n",
    "        plt.title('Number of Packets: ' + name_data)\n",
    "\n",
    "        plt.show()\n",
    "        tmp.append(b_np)\n",
    "        graph_nums.append(6)\n",
    "        \n",
    "    if flow_time is not None:\n",
    "        b_ft = np.array(flow_time)\n",
    "        b_ft = b_ft[abs(b_ft - np.mean(b_ft)) < 3 * np.std(b_ft)]\n",
    "\n",
    "        plt.hist(b_ft, weights=np.ones(len(b_ft))/len(b_ft), bins=10, range=(0, 10), color=g_color)\n",
    "\n",
    "\n",
    "        plt.xlabel('Time Buckets (s)')\n",
    "        plt.ylabel('Percentage in Bucket')\n",
    "        plt.title('Flow Time: ' + name_data)\n",
    "        plt.gca().yaxis.set_major_formatter(PercentFormatter(1))\n",
    "\n",
    "        plt.show()\n",
    "        tmp.append(b_ft)\n",
    "        graph_nums.append(7)\n",
    "        \n",
    "        \n",
    "    return tmp, graph_nums"
   ]
  },
  {
   "cell_type": "code",
   "execution_count": 10,
   "metadata": {
    "scrolled": true,
    "slideshow": {
     "slide_type": "skip"
    }
   },
   "outputs": [],
   "source": [
    "'''\n",
    "Combines graph results created by graph_arrays. Takes in the output of \n",
    "graph_arrays for the benign dataset first, and then the results of the pirated\n",
    "(Four params total, two for each set)\n",
    "'''\n",
    "def combine_graphs(benign_set, benign_nums, pirated_set, pirated_nums):\n",
    "    if (len(benign_set) != len(pirated_set)):\n",
    "        print('Different graphs were created in graph_arrays')\n",
    "        return\n",
    "    if benign_nums != pirated_nums:\n",
    "        print('Different graphs were created in graph_arrays')\n",
    "        return\n",
    "    titles = ['Byte Distribution', 'Inter Packet Time Buckets', 'Packet Length Buckets',\n",
    "             'Inter Packet Times', 'Packet Sizes', 'Flow Sizes', 'Number of Packets',\n",
    "             'Flow Times']\n",
    "    xlabels = ['Byte Value', 'Bucket', 'Bucket', 'Time (s)', 'Size (bytes)', \n",
    "              'Size (bytes)', 'Packets', 'Durations (s)']\n",
    "    ranges = [None, None, None, (0, 10), (0, 2000), (0, 20000), (0,12), (0,10)]\n",
    "    bins_x = [None, None, None, 10, 40, 40, 12, 10]\n",
    "    for i in range(3):\n",
    "        if (i in benign_nums):\n",
    "            com = plt.subplot(111)\n",
    "            benign_box = com.bar(benign_set[i][1], benign_set[i][0][0], color='b')\n",
    "            pirate_box = com.bar(pirated_set[i][1], pirated_set[i][0][0], fc=(1, 0, 0, 0.5))\n",
    "            com.legend((benign_box[0], pirate_box[0]), ('Benign', \"Pirated\"))\n",
    "            plt.gca().yaxis.set_major_formatter(PercentFormatter(1))\n",
    "            com.set_ylabel('Percentage of All Flows')\n",
    "            com.set_xlabel(xlabels[i])\n",
    "            #com.title('Benign vs. Pirated Byte Distributions')\n",
    "            plt.title(titles[0])\n",
    "            plt.show()\n",
    "    \n",
    "    for i in range(3,8):\n",
    "        if (i in benign_nums):\n",
    "            com = plt.subplot(111)\n",
    "            b_ = com.hist(benign_set[i], weights=np.ones(len(benign_set[i]))/len(benign_set[i]),\n",
    "                                color='b', range=ranges[i], bins=bins_x[i])\n",
    "            p_ = com.hist(pirated_set[i], weights=np.ones(len(pirated_set[i]))/len(pirated_set[i]),\n",
    "                                color='r', range=ranges[i], bins=bins_x[i], fc=(1, 0, 0, 0.5))\n",
    "            com.legend((b_[1], p_[1]), ('Benign', \"Pirated\"))\n",
    "            com.set_ylabel('Percentage in Buckets')\n",
    "            com.set_xlabel(xlabels[i])\n",
    "            #com.title('Benign vs. Pirated Byte Distributions')\n",
    "            plt.title(titles[i])\n",
    "            plt.gca().yaxis.set_major_formatter(PercentFormatter(1))\n",
    "            plt.show()"
   ]
  },
  {
   "cell_type": "code",
   "execution_count": 11,
   "metadata": {
    "scrolled": true,
    "slideshow": {
     "slide_type": "skip"
    }
   },
   "outputs": [],
   "source": [
    "'''\n",
    "Scores a classifier with 6 metrics. \n",
    "Takes in a classifier, a true labelling of a test set, and the test set\n",
    "Returns a list of scores in the order of:\n",
    "    Accuracy\n",
    "    Precision\n",
    "    F1\n",
    "    Logarithmic Loss\n",
    "    True Positive Rate\n",
    "    False Positive Rate\n",
    "'''\n",
    "metrics = [accuracy_score, precision_score, f1_score, log_loss]\n",
    "def score_clf(clf, y_true, t_set):\n",
    "    results = []\n",
    "    #results.append(accuracy_score(y_true, y_pred))\n",
    "    #results.append(precision_score(y_true, y_pred))\n",
    "    y_pred = clf.predict(t_set)\n",
    "    for metric in metrics:\n",
    "        results.append(metric(y_true, y_pred))\n",
    "    cm = confusion_matrix(y_true, y_pred)\n",
    "    #True Pos Rate = TP/FN+TP\n",
    "    results.append(float(cm[0][0])/(cm[1][0] + cm[0][0]))\n",
    "    #False Pos Rate = FP/FP+TN\n",
    "    results.append(float(cm[0][1])/(cm[0][1]+cm[1][1]))\n",
    " \n",
    "    return results"
   ]
  },
  {
   "cell_type": "code",
   "execution_count": 12,
   "metadata": {
    "scrolled": true,
    "slideshow": {
     "slide_type": "skip"
    }
   },
   "outputs": [],
   "source": [
    "def bad_ip(fn_ip):\n",
    "    if (fn_ip[0] == '192.168.5.113' or fn_ip[1] == '192.168.5.113' or \n",
    "        #fn_ip[0] == '192.168.5.157' or fn_ip[1] == '192.168.5.157' or\n",
    "        fn_ip[0] == '192.168.5.151' or fn_ip[1] == '192.168.5.151'):\n",
    "        return True"
   ]
  },
  {
   "cell_type": "code",
   "execution_count": 13,
   "metadata": {
    "scrolled": true,
    "slideshow": {
     "slide_type": "skip"
    }
   },
   "outputs": [],
   "source": [
    "def ignore_ip(fn_ip):\n",
    "    if (fn_ip[0] == '192.168.5.157' or fn_ip[1] == '192.168.5.157'):\n",
    "        return True"
   ]
  },
  {
   "cell_type": "code",
   "execution_count": 14,
   "metadata": {
    "scrolled": true,
    "slideshow": {
     "slide_type": "skip"
    }
   },
   "outputs": [],
   "source": [
    "def ignore_ports(sp, dp):\n",
    "    if (sp == 443 or sp == 22 or sp == 53 or\n",
    "        dp == 443 or dp == 22 or dp == 53):\n",
    "        return True"
   ]
  },
  {
   "cell_type": "code",
   "execution_count": 15,
   "metadata": {
    "scrolled": true,
    "slideshow": {
     "slide_type": "skip"
    }
   },
   "outputs": [],
   "source": [
    "'''\n",
    "Function to get the name and cidr values of an IP address. \n",
    "Params:\n",
    "    IP addr to find cidr and host of\n",
    "    host_dict: dictionary mapping cidrs to host names\n",
    "    new_hosts: dictionary to keep track of new mappings to add to a csv file\n",
    "                that caches previously looked up host and host names\n",
    "'''\n",
    "def get_name_and_cidr(ip, host_dict, new_hosts):\n",
    "    name = ''\n",
    "    asn, cidr = asn_db.lookup(ip)\n",
    "    if cidr in host_dict:\n",
    "        return host_dict[cidr], cidr\n",
    "    try:\n",
    "        result = socket.gethostbyaddr(ip)\n",
    "        name = result[0]\n",
    "        asn = name.split('.')\n",
    "        domain = asn[len(asn)-1]\n",
    "        hoster = asn[len(asn)-2]\n",
    "        name = hoster + '.' + domain\n",
    "    except:\n",
    "        name = cidr\n",
    "    host_dict[cidr] = name\n",
    "    new_hosts[cidr] = name\n",
    "    return name, cidr"
   ]
  },
  {
   "cell_type": "code",
   "execution_count": 16,
   "metadata": {
    "scrolled": true,
    "slideshow": {
     "slide_type": "skip"
    }
   },
   "outputs": [],
   "source": [
    "def get_pd(data, data_ips, data_b, data_sp, data_dp, clf_predict_proba, threshold=0.5):\n",
    "    hosts = {}\n",
    "    input_file = csv.reader(open('cidrs.csv'))\n",
    "    for row in input_file:\n",
    "        key = row[0]\n",
    "        if key in hosts:\n",
    "            pass\n",
    "        hosts[key] = row[1]\n",
    "    newhosts = {}\n",
    "    \n",
    "    pos_dat = []\n",
    "    neg_dat = []\n",
    "    count_pos = 0\n",
    "    count_neg = 0\n",
    "    \n",
    "    for i in range(len(data)):\n",
    "        #if bad_ip(fn_ips[i]):\n",
    "        #    count_of_badip += 1\n",
    "        #if ignore_ip(fn_ips[i]):\n",
    "        #    continue\n",
    "        if ignore_ports(data_sp[i], data_dp[i]):\n",
    "            continue\n",
    "        if data_b[i] <= 1:\n",
    "            continue\n",
    "        if clf_predict_proba[i][1] >= threshold:\n",
    "\n",
    "            count_pos+=1\n",
    "\n",
    "            s_name, s_cidr = get_name_and_cidr(data_ips[i][0], hosts, newhosts)\n",
    "            d_name, d_cidr = get_name_and_cidr(data_ips[i][1], hosts, newhosts)\n",
    "\n",
    "            pos_dat.append([data_ips[i][0], s_name, data_ips[i][1], d_name, \n",
    "                               clf_predict_proba[i][1], data_b[i]])\n",
    "        else:\n",
    "            count_neg+=1\n",
    "            s_name, s_cidr = get_name_and_cidr(data_ips[i][0], hosts, newhosts)\n",
    "            d_name, d_cidr = get_name_and_cidr(data_ips[i][1], hosts, newhosts)\n",
    "            neg_dat.append([fn_ips[i][0], s_name, data_ips[i][1], d_name,\n",
    "                               clf_predict_proba[i][1], data_b[i]])\n",
    "\n",
    "    w = csv.writer(open('cidrs.csv', 'a'))\n",
    "    for key, val in newhosts.items():\n",
    "        w.writerow([key, val])\n",
    "    \n",
    "    pos_df = pd.DataFrame(pos_dat)\n",
    "    neg_df = pd.DataFrame(neg_dat)\n",
    "    pos_df.columns = ['Source IP', 'Source ASN','Dest IP', 'Dest ASN', 'Probability Pirated', 'Number of Bytes']\n",
    "    neg_df.columns = ['Source IP', 'Source ASN','Dest IP', 'Dest ASN', 'Probability Pirated', 'Number of Bytes']\n",
    "    return pos_df, neg_df, count_pos, count_neg"
   ]
  },
  {
   "cell_type": "code",
   "execution_count": 17,
   "metadata": {
    "scrolled": true,
    "slideshow": {
     "slide_type": "skip"
    }
   },
   "outputs": [],
   "source": [
    "'''\n",
    "Aggregates the dataframe passed in accross Host Names. Dataframe passed in \n",
    "should be created through the get_pd() method to avoid any errors\n",
    "Returns aggregated dataframe object\n",
    "'''\n",
    "def agg_flow_df(flow_data_frame, file_name=None):\n",
    "    f= {'Probability Pirated':'mean', 'Number of Bytes':'sum'}\n",
    "    agg_ = flow_data_frame.groupby(['Dest ASN', 'Source ASN']).agg(f)\n",
    "    if file_name is not None:\n",
    "        agg_.to_csv(path_or_buf='~/'+file_name+'.csv')\n",
    "    return agg_"
   ]
  },
  {
   "cell_type": "code",
   "execution_count": 18,
   "metadata": {
    "scrolled": true,
    "slideshow": {
     "slide_type": "skip"
    }
   },
   "outputs": [],
   "source": [
    "''' Calculates and returns the bit rate given the bytes and duration of time\n",
    "'''\n",
    "def bit_rate(bts, ti):\n",
    "    try:\n",
    "        return float(bts * 8) / ti\n",
    "    except Exception as e:\n",
    "        return float(bts) * 8"
   ]
  },
  {
   "cell_type": "code",
   "execution_count": 19,
   "metadata": {
    "scrolled": true,
    "slideshow": {
     "slide_type": "skip"
    }
   },
   "outputs": [],
   "source": [
    "'''\n",
    "Gets the stats of a collection. \n",
    "\n",
    "Returns 6 Dataframe objects:\n",
    "    1. full dataframe\n",
    "    2. description of full dataframe (count of flows, means, standard deviations, etc)\n",
    "    3. session dataframe\n",
    "    4. description of session dataframe\n",
    "    5. conversation dataframe\n",
    "    6. description of conversation dataframe\n",
    "Each dataframe is consisted of number of bytes, number of packets, duration of time and\n",
    "bit rates. For session and conversation, the variables are summed across the\n",
    "each session/conversation (num bytes, num pkts, and time are summed. Bit rate is recalculated)\n",
    "'''\n",
    "#TODO: make an option to pass in results of previously ran set_up_array\n",
    "def get_stats(collection):\n",
    "    hosts = {}\n",
    "    input_file = csv.reader(open('cidrs.csv'))\n",
    "    for row in input_file:\n",
    "        key = row[0]\n",
    "        if key in hosts:\n",
    "            pass\n",
    "        hosts[key] = row[1]\n",
    "    newhosts = {}\n",
    "    \n",
    "    #array to turn into pd\n",
    "    df_data = []\n",
    "    #arrays to get info from collection\n",
    "    data_a = []\n",
    "    ip_a = []\n",
    "    byte_a = []\n",
    "    sp_a = []\n",
    "    dp_a = []\n",
    "    pkts_a = []\n",
    "    time_a = []\n",
    "    set_up_array(collection, data_a, ips=ip_a, flow_size=byte_a, sp=sp_a, dp=dp_a,\n",
    "                num_pkts=pkts_a, flow_time=time_a)\n",
    "    \n",
    "    \n",
    "    for i in range(len(data_a)):\n",
    "        #if ignore_ports(sp_a[i], dp_a[i]):\n",
    "        #    continue\n",
    "        #if byte_a[i] <= 1:\n",
    "        #    continue\n",
    "        s_name, s_cidr = get_name_and_cidr(ip_a[i][0], hosts, newhosts)\n",
    "        d_name, d_cidr = get_name_and_cidr(ip_a[i][1], hosts, newhosts)\n",
    "        df_data.append([ip_a[i][0], s_name, ip_a[i][1], d_name, byte_a[i],\n",
    "                       pkts_a[i], time_a[i]])\n",
    "    df = pd.DataFrame(df_data)\n",
    "    df.columns=['Source IP', 'Source ASN','Dest IP', 'Dest ASN', 'Number of Bytes', 'Number of Packets', 'Flow Duration']\n",
    "    df['Bit Rate'] = df.apply(lambda x: bit_rate(x['Number of Bytes'], x['Flow Duration']), axis=1)\n",
    "    sess_f= {'Number of Bytes':'sum', 'Flow Duration':'sum', 'Number of Packets':'sum',}\n",
    "    session_df = df.groupby(['Source IP']).agg(sess_f)\n",
    "    session_df['Bit Rate'] = session_df.apply(lambda x: bit_rate(x['Number of Bytes'], \n",
    "                                                                 x['Flow Duration']), axis=1)\n",
    "    conv_df = df.groupby(['Source IP', 'Dest IP']).agg(sess_f)\n",
    "    conv_df['Bit Rate'] = conv_df.apply(lambda x: bit_rate(x['Number of Bytes'], \n",
    "                                                           x['Flow Duration']), axis=1)    \n",
    "    \n",
    "    \n",
    "    w = csv.writer(open('cidrs.csv', 'a'))\n",
    "    for key, val in newhosts.items():\n",
    "        w.writerow([key, val])\n",
    "    \n",
    "    return df, df.describe(), session_df, session_df.describe(), conv_df, conv_df.describe()\n",
    "    "
   ]
  },
  {
   "cell_type": "code",
   "execution_count": 20,
   "metadata": {
    "slideshow": {
     "slide_type": "skip"
    }
   },
   "outputs": [],
   "source": [
    "def analyze_files(file_names):\n",
    "    for file_name in file_names:\n",
    "        #send to mongodb, get stats and charts, and then replace mongodb with new set\n",
    "        res = joy_to_mongo([file_name], ['Individual_File'], False)\n",
    "        my_coll = res[0]\n",
    "        my_d = []\n",
    "        my_coll_bd = [0] * 256\n",
    "        my_coll_ipttm = np.zeros((10,10))\n",
    "        my_coll_pltm = np.zeros((10,10))\n",
    "        my_coll_ipts = []\n",
    "        my_coll_pktsize = []\n",
    "        my_coll_fsize = []\n",
    "        my_coll_numpkts = []\n",
    "        my_coll_ft = []\n",
    "        #get arrays to graph\n",
    "        set_up_array(my_coll, my_d, byte_dist_h=my_coll_bd, ipts_h=my_coll_ipts,\n",
    "             ipt_tm=my_coll_ipttm, pl_tm=my_coll_pltm,  pkt_size=my_coll_pktsize, \n",
    "             flow_size=my_coll_fsize, num_pkts=my_coll_numpkts, flow_time=my_coll_ft)\n",
    "        #get graphs\n",
    "        mycoll_d, mycoll_n = graph_arrays(byte_dist_h=my_coll_bd, \n",
    "                                            ipt_tm=my_coll_ipttm, pl_tm=my_coll_pltm, ipts_h=my_coll_ipts, \n",
    "                                            pkt_size=my_coll_pktsize, flow_size=my_coll_fsize, num_pkts=my_coll_numpkts, \n",
    "                                            flow_time=my_coll_ft, g_color='b', name_data=file_name)\n",
    "        #get stats\n",
    "        flow, flow_s, session, session_s, conv, conv_s = get_stats(my_coll)\n",
    "        \n",
    "        print ('Flow Stats: ' + file_name)\n",
    "        print flow_s\n",
    "        print ('Session Stats: ' +file_name)\n",
    "        print session_s\n",
    "        print ('Conversation Stats: ' + file_name)\n",
    "        print conv_s\n",
    "        "
   ]
  },
  {
   "cell_type": "code",
   "execution_count": 21,
   "metadata": {
    "scrolled": true,
    "slideshow": {
     "slide_type": "skip"
    }
   },
   "outputs": [],
   "source": [
    "client = pymongo.MongoClient(\"mongodb://localhost:27017/\")\n",
    "mydb = client[\"flowdb\"]\n",
    "\n",
    "#get an IPASN data file from Routeview to use and use pyasn to read it\n",
    "asn_db = pyasn.pyasn('ipasn_db2.dat')\n"
   ]
  },
  {
   "cell_type": "markdown",
   "metadata": {
    "slideshow": {
     "slide_type": "skip"
    }
   },
   "source": [
    "# Flag to determine what to use as Benign and Pirate Sets"
   ]
  },
  {
   "cell_type": "code",
   "execution_count": 22,
   "metadata": {
    "scrolled": true,
    "slideshow": {
     "slide_type": "skip"
    }
   },
   "outputs": [],
   "source": [
    "#Set to false if want to use already existing collections, true to run joy\n",
    "question = False"
   ]
  },
  {
   "cell_type": "code",
   "execution_count": 23,
   "metadata": {
    "scrolled": true,
    "slideshow": {
     "slide_type": "skip"
    }
   },
   "outputs": [],
   "source": [
    "if question:\n",
    "    #'Note that this will clear all collections that are named in 'name_colls'\n",
    "    #list\n",
    "    b_tr = '~/btr/'\n",
    "    b_te = '~/bte/'\n",
    "    p_tr = '~/ptr/'\n",
    "    p_te = '~/pte/'\n",
    "    l = [b_tr, b_te, p_tr, p_te]\n",
    "    name_colls = ['Benign_Train', 'Benign_Test', 'Pirate_Train', 'Pirate_Test']\n",
    "    #b_train_coll, b_test_coll, p_train_coll, p_test_coll = joy_to_mongo(l, name_colls)\n",
    "    coll_vars = joy_to_mongo(l, name_colls)\n",
    "    b_train_coll = coll_vars[0]\n",
    "    b_test_coll = coll_vars[1]\n",
    "    p_train_coll = coll_vars[2]\n",
    "    p_test_coll = coll_vars[3]\n",
    "    \n",
    "else:\n",
    "    #use already existing collections\n",
    "    p_train_coll = mydb[\"p2\"]\n",
    "    p_test_coll = mydb[\"testP\"]\n",
    "    b_train_coll = mydb[\"b2\"]\n",
    "    b_test_coll = mydb[\"testB\"]\n",
    "    #net_train_coll = mydb[\"Netflow\"]"
   ]
  },
  {
   "cell_type": "markdown",
   "metadata": {
    "slideshow": {
     "slide_type": "skip"
    }
   },
   "source": [
    "## set up arrays using methods from above to be trained on"
   ]
  },
  {
   "cell_type": "code",
   "execution_count": 24,
   "metadata": {
    "scrolled": true,
    "slideshow": {
     "slide_type": "skip"
    }
   },
   "outputs": [],
   "source": [
    "p_train = []\n",
    "p_test = []\n",
    "b_train = []\n",
    "b_test = []\n",
    "p_train_l = []\n",
    "p_test_l = []\n",
    "b_train_l = []\n",
    "b_test_l = []\n"
   ]
  },
  {
   "cell_type": "code",
   "execution_count": 25,
   "metadata": {
    "scrolled": true
   },
   "outputs": [],
   "source": [
    "#these are for the individualPL \n",
    "numRows = 10\n",
    "binSize = 150.0\n",
    "\n",
    "b_byte_dist_h = [0] * 256\n",
    "b_ipt_h = np.zeros((numRows, numRows))\n",
    "p_byte_dist_h = [0] * 256\n",
    "p_ipt_h = np.zeros((numRows, numRows))\n",
    "b_pl = np.zeros((numRows,numRows))\n",
    "p_pl = np.zeros((numRows,numRows))\n",
    "b_ipts = []\n",
    "p_ipts = []\n",
    "b_pkt_size = []\n",
    "p_pkt_size = []\n",
    "b_flow_size = []\n",
    "p_flow_size = []\n",
    "b_num_pkts = []\n",
    "p_num_pkts = []\n",
    "b_flow_time = []\n",
    "p_flow_time = []"
   ]
  },
  {
   "cell_type": "code",
   "execution_count": 26,
   "metadata": {
    "scrolled": true,
    "slideshow": {
     "slide_type": "skip"
    }
   },
   "outputs": [],
   "source": [
    "#collection, data_set, label_set=None, label=None, chart=-1, cond=None, bd=None, ipt=None, pl=None\n",
    "set_up_array(p_train_coll, p_train, p_train_l, 1, byte_dist_h=p_byte_dist_h, \n",
    "             ipt_tm=p_ipt_h, pl_tm=p_pl, ipts_h=p_ipts, pkt_size=p_pkt_size, \n",
    "             flow_size=p_flow_size, num_pkts=p_num_pkts, flow_time=p_flow_time)\n",
    "\n",
    "\n",
    "set_up_array(p_test_coll, p_test, p_test_l, 1)"
   ]
  },
  {
   "cell_type": "code",
   "execution_count": 27,
   "metadata": {
    "scrolled": true,
    "slideshow": {
     "slide_type": "skip"
    }
   },
   "outputs": [],
   "source": [
    "set_up_array(b_train_coll, b_train, b_train_l, 0, byte_dist_h=b_byte_dist_h, \n",
    "             ipt_tm=b_ipt_h, pl_tm=b_pl, ipts_h=b_ipts, pkt_size=b_pkt_size, \n",
    "             flow_size=b_flow_size, num_pkts=b_num_pkts, flow_time=b_flow_time)\n",
    "\n",
    "\n",
    "set_up_array(b_test_coll, b_test, b_test_l, 0)"
   ]
  },
  {
   "cell_type": "markdown",
   "metadata": {
    "slideshow": {
     "slide_type": "slide"
    }
   },
   "source": [
    "# Create Graphs"
   ]
  },
  {
   "cell_type": "code",
   "execution_count": 28,
   "metadata": {
    "scrolled": true,
    "slideshow": {
     "slide_type": "slide"
    }
   },
   "outputs": [
    {
     "data": {
      "image/png": "[encoded data removed]",
      "text/plain": [
       "<Figure size 432x288 with 1 Axes>"
      ]
     },
     "metadata": {
      "needs_background": "light"
     },
     "output_type": "display_data"
    },
    {
     "data": {
      "image/png": "[encoded data removed]",
      "text/plain": [
       "<Figure size 432x288 with 1 Axes>"
      ]
     },
     "metadata": {
      "needs_background": "light"
     },
     "output_type": "display_data"
    },
    {
     "data": {
      "image/png": "[encoded data removed]",
      "text/plain": [
       "<Figure size 432x288 with 1 Axes>"
      ]
     },
     "metadata": {
      "needs_background": "light"
     },
     "output_type": "display_data"
    },
    {
     "data": {
      "image/png": "[encoded data removed]",
      "text/plain": [
       "<Figure size 432x288 with 1 Axes>"
      ]
     },
     "metadata": {
      "needs_background": "light"
     },
     "output_type": "display_data"
    },
    {
     "data": {
      "image/png": "[encoded data removed]",
      "text/plain": [
       "<Figure size 432x288 with 1 Axes>"
      ]
     },
     "metadata": {
      "needs_background": "light"
     },
     "output_type": "display_data"
    },
    {
     "data": {
      "image/png": "[encoded data removed]",
      "text/plain": [
       "<Figure size 432x288 with 1 Axes>"
      ]
     },
     "metadata": {
      "needs_background": "light"
     },
     "output_type": "display_data"
    },
    {
     "data": {
      "image/png": "[encoded data removed]",
      "text/plain": [
       "<Figure size 432x288 with 1 Axes>"
      ]
     },
     "metadata": {
      "needs_background": "light"
     },
     "output_type": "display_data"
    },
    {
     "data": {
      "image/png": "[encoded data removed]",
      "text/plain": [
       "<Figure size 432x288 with 1 Axes>"
      ]
     },
     "metadata": {
      "needs_background": "light"
     },
     "output_type": "display_data"
    }
   ],
   "source": [
    "pirated_d, pirated_n = graph_arrays(byte_dist_h=p_byte_dist_h, ipt_tm=p_ipt_h, pl_tm=p_pl, ipts_h=p_ipts, \n",
    "             pkt_size=p_pkt_size, flow_size=p_flow_size, num_pkts=p_num_pkts, \n",
    "             flow_time=p_flow_time, g_color='r', name_data='Pirated')"
   ]
  },
  {
   "cell_type": "code",
   "execution_count": 29,
   "metadata": {
    "scrolled": true,
    "slideshow": {
     "slide_type": "slide"
    }
   },
   "outputs": [
    {
     "data": {
      "image/png": "[encoded data removed]",
      "text/plain": [
       "<Figure size 432x288 with 1 Axes>"
      ]
     },
     "metadata": {
      "needs_background": "light"
     },
     "output_type": "display_data"
    },
    {
     "data": {
      "image/png": "[encoded data removed]",
      "text/plain": [
       "<Figure size 432x288 with 1 Axes>"
      ]
     },
     "metadata": {
      "needs_background": "light"
     },
     "output_type": "display_data"
    },
    {
     "data": {
      "image/png": "[encoded data removed]",
      "text/plain": [
       "<Figure size 432x288 with 1 Axes>"
      ]
     },
     "metadata": {
      "needs_background": "light"
     },
     "output_type": "display_data"
    },
    {
     "data": {
      "image/png": "[encoded data removed]",
      "text/plain": [
       "<Figure size 432x288 with 1 Axes>"
      ]
     },
     "metadata": {
      "needs_background": "light"
     },
     "output_type": "display_data"
    },
    {
     "data": {
      "image/png": "[encoded data removed]",
      "text/plain": [
       "<Figure size 432x288 with 1 Axes>"
      ]
     },
     "metadata": {
      "needs_background": "light"
     },
     "output_type": "display_data"
    },
    {
     "data": {
      "image/png": "[encoded data removed]",
      "text/plain": [
       "<Figure size 432x288 with 1 Axes>"
      ]
     },
     "metadata": {
      "needs_background": "light"
     },
     "output_type": "display_data"
    },
    {
     "data": {
      "image/png": "[encoded data removed]",
      "text/plain": [
       "<Figure size 432x288 with 1 Axes>"
      ]
     },
     "metadata": {
      "needs_background": "light"
     },
     "output_type": "display_data"
    },
    {
     "data": {
      "image/png": "[encoded data removed]",
      "text/plain": [
       "<Figure size 432x288 with 1 Axes>"
      ]
     },
     "metadata": {
      "needs_background": "light"
     },
     "output_type": "display_data"
    }
   ],
   "source": [
    "benign_d, benign_n = graph_arrays(byte_dist_h=b_byte_dist_h, ipt_tm=b_ipt_h, pl_tm=b_pl, ipts_h=b_ipts, \n",
    "             pkt_size=b_pkt_size, flow_size=b_flow_size, num_pkts=b_num_pkts, \n",
    "             flow_time=b_flow_time, g_color='b', name_data='Benign')"
   ]
  },
  {
   "cell_type": "code",
   "execution_count": 30,
   "metadata": {
    "scrolled": true,
    "slideshow": {
     "slide_type": "slide"
    }
   },
   "outputs": [
    {
     "data": {
      "image/png": "[encoded data removed]",
      "text/plain": [
       "<Figure size 432x288 with 1 Axes>"
      ]
     },
     "metadata": {
      "needs_background": "light"
     },
     "output_type": "display_data"
    },
    {
     "data": {
      "image/png": "[encoded data removed]",
      "text/plain": [
       "<Figure size 432x288 with 1 Axes>"
      ]
     },
     "metadata": {
      "needs_background": "light"
     },
     "output_type": "display_data"
    },
    {
     "data": {
      "image/png": "[encoded data removed]",
      "text/plain": [
       "<Figure size 432x288 with 1 Axes>"
      ]
     },
     "metadata": {
      "needs_background": "light"
     },
     "output_type": "display_data"
    },
    {
     "name": "stderr",
     "output_type": "stream",
     "text": [
      "/home/thomasbelford/.local/lib/python2.7/site-packages/matplotlib/legend.py:937: UserWarning: Legend does not support array([ 0.,  1.,  2.,  3.,  4.,  5.,  6.,  7.,  8.,  9., 10.]) instances.\n",
      "A proxy artist may be used instead.\n",
      "See: http://matplotlib.org/users/legend_guide.html#creating-artists-specifically-for-adding-to-the-legend-aka-proxy-artists\n",
      "  \"aka-proxy-artists\".format(orig_handle)\n"
     ]
    },
    {
     "data": {
      "image/png": "[encoded data removed]",
      "text/plain": [
       "<Figure size 432x288 with 1 Axes>"
      ]
     },
     "metadata": {
      "needs_background": "light"
     },
     "output_type": "display_data"
    },
    {
     "name": "stderr",
     "output_type": "stream",
     "text": [
      "/home/thomasbelford/.local/lib/python2.7/site-packages/matplotlib/legend.py:937: UserWarning: Legend does not support array([   0.,   50.,  100.,  150.,  200.,  250.,  300.,  350.,  400.,\n",
      "        450.,  500.,  550.,  600.,  650.,  700.,  750.,  800.,  850.,\n",
      "        900.,  950., 1000., 1050., 1100., 1150., 1200., 1250., 1300.,\n",
      "       1350., 1400., 1450., 1500., 1550., 1600., 1650., 1700., 1750.,\n",
      "       1800., 1850., 1900., 1950., 2000.]) instances.\n",
      "A proxy artist may be used instead.\n",
      "See: http://matplotlib.org/users/legend_guide.html#creating-artists-specifically-for-adding-to-the-legend-aka-proxy-artists\n",
      "  \"aka-proxy-artists\".format(orig_handle)\n"
     ]
    },
    {
     "data": {
      "image/png": "[encoded data removed]",
      "text/plain": [
       "<Figure size 432x288 with 1 Axes>"
      ]
     },
     "metadata": {
      "needs_background": "light"
     },
     "output_type": "display_data"
    },
    {
     "name": "stderr",
     "output_type": "stream",
     "text": [
      "/home/thomasbelford/.local/lib/python2.7/site-packages/matplotlib/legend.py:937: UserWarning: Legend does not support array([    0.,   500.,  1000.,  1500.,  2000.,  2500.,  3000.,  3500.,\n",
      "        4000.,  4500.,  5000.,  5500.,  6000.,  6500.,  7000.,  7500.,\n",
      "        8000.,  8500.,  9000.,  9500., 10000., 10500., 11000., 11500.,\n",
      "       12000., 12500., 13000., 13500., 14000., 14500., 15000., 15500.,\n",
      "       16000., 16500., 17000., 17500., 18000., 18500., 19000., 19500.,\n",
      "       20000.]) instances.\n",
      "A proxy artist may be used instead.\n",
      "See: http://matplotlib.org/users/legend_guide.html#creating-artists-specifically-for-adding-to-the-legend-aka-proxy-artists\n",
      "  \"aka-proxy-artists\".format(orig_handle)\n"
     ]
    },
    {
     "data": {
      "image/png": "[encoded data removed]",
      "text/plain": [
       "<Figure size 432x288 with 1 Axes>"
      ]
     },
     "metadata": {
      "needs_background": "light"
     },
     "output_type": "display_data"
    },
    {
     "name": "stderr",
     "output_type": "stream",
     "text": [
      "/home/thomasbelford/.local/lib/python2.7/site-packages/matplotlib/legend.py:937: UserWarning: Legend does not support array([ 0.,  1.,  2.,  3.,  4.,  5.,  6.,  7.,  8.,  9., 10., 11., 12.]) instances.\n",
      "A proxy artist may be used instead.\n",
      "See: http://matplotlib.org/users/legend_guide.html#creating-artists-specifically-for-adding-to-the-legend-aka-proxy-artists\n",
      "  \"aka-proxy-artists\".format(orig_handle)\n"
     ]
    },
    {
     "data": {
      "image/png": "[encoded data removed]",
      "text/plain": [
       "<Figure size 432x288 with 1 Axes>"
      ]
     },
     "metadata": {
      "needs_background": "light"
     },
     "output_type": "display_data"
    },
    {
     "data": {
      "image/png": "[encoded data removed]",
      "text/plain": [
       "<Figure size 432x288 with 1 Axes>"
      ]
     },
     "metadata": {
      "needs_background": "light"
     },
     "output_type": "display_data"
    }
   ],
   "source": [
    "combine_graphs(benign_d, benign_n, pirated_d, pirated_n)"
   ]
  },
  {
   "cell_type": "markdown",
   "metadata": {
    "slideshow": {
     "slide_type": "slide"
    }
   },
   "source": [
    "# Begin Machine Learning"
   ]
  },
  {
   "cell_type": "markdown",
   "metadata": {
    "slideshow": {
     "slide_type": "skip"
    }
   },
   "source": [
    "Note: there are a few simple tests between here and the main tests below \"Scoring\""
   ]
  },
  {
   "cell_type": "code",
   "execution_count": 31,
   "metadata": {
    "scrolled": true,
    "slideshow": {
     "slide_type": "skip"
    }
   },
   "outputs": [],
   "source": [
    "training_set = []\n",
    "training_set.extend(b_train)\n",
    "training_set.extend(p_train)\n",
    "training_labels = []\n",
    "training_labels.extend(b_train_l)\n",
    "training_labels.extend(p_train_l)\n",
    "training_set = np.array(training_set)\n",
    "training_labels = np.array(training_labels)\n",
    "b_train = np.array(b_train)\n",
    "p_train = np.array(p_train)\n",
    "b_train_l = np.array(b_train_l)\n",
    "p_train_l = np.array(p_train_l)"
   ]
  },
  {
   "cell_type": "code",
   "execution_count": 32,
   "metadata": {
    "scrolled": true,
    "slideshow": {
     "slide_type": "skip"
    }
   },
   "outputs": [],
   "source": [
    "test_set = []\n",
    "test_labels = []\n",
    "test_set.extend(b_test)\n",
    "test_set.extend(p_test)\n",
    "test_labels.extend(b_test_l)\n",
    "test_labels.extend(p_test_l)\n",
    "test_set = np.array(test_set)\n",
    "test_labels = np.array(test_labels)\n",
    "b_test = np.array(b_test)\n",
    "p_test = np.array(p_test)\n",
    "b_test_l = np.array(b_test_l)\n",
    "p_test_l = np.array(p_test_l)"
   ]
  },
  {
   "cell_type": "code",
   "execution_count": 33,
   "metadata": {
    "scrolled": true,
    "slideshow": {
     "slide_type": "skip"
    }
   },
   "outputs": [
    {
     "name": "stderr",
     "output_type": "stream",
     "text": [
      "/home/thomasbelford/.local/lib/python2.7/site-packages/sklearn/linear_model/logistic.py:433: FutureWarning: Default solver will be changed to 'lbfgs' in 0.22. Specify a solver to silence this warning.\n",
      "  FutureWarning)\n"
     ]
    },
    {
     "name": "stdout",
     "output_type": "stream",
     "text": [
      "0.7640059937825688\n",
      "0.8166023166023166\n",
      "0.7607720247845595\n"
     ]
    }
   ],
   "source": [
    "logreg = LogisticRegression()\n",
    "logreg.fit(training_set, training_labels)\n",
    "print(logreg.score(test_set, test_labels))\n",
    "print(logreg.score(b_test, b_test_l))\n",
    "print(logreg.score(p_test, p_test_l))"
   ]
  },
  {
   "cell_type": "code",
   "execution_count": 34,
   "metadata": {
    "scrolled": true,
    "slideshow": {
     "slide_type": "skip"
    }
   },
   "outputs": [
    {
     "name": "stdout",
     "output_type": "stream",
     "text": [
      "0.7630680402702267\n"
     ]
    }
   ],
   "source": [
    "print(logreg.score(training_set, training_labels))"
   ]
  },
  {
   "cell_type": "code",
   "execution_count": 35,
   "metadata": {
    "scrolled": true,
    "slideshow": {
     "slide_type": "skip"
    }
   },
   "outputs": [
    {
     "name": "stdout",
     "output_type": "stream",
     "text": [
      "0.8892715764990048\n",
      "0.944015444015444\n",
      "0.8859055622818888\n"
     ]
    }
   ],
   "source": [
    "dt = DecisionTreeClassifier(criterion='gini')\n",
    "dt.fit(training_set, training_labels)\n",
    "print(dt.score(test_set, test_labels))\n",
    "print(dt.score(b_test, b_test_l))\n",
    "print(dt.score(p_test, p_test_l))"
   ]
  },
  {
   "cell_type": "code",
   "execution_count": 36,
   "metadata": {
    "scrolled": true,
    "slideshow": {
     "slide_type": "skip"
    }
   },
   "outputs": [],
   "source": [
    "#all benign test\n",
    "ab_test_coll = mydb[\"bWeb\"]\n",
    "ab_test = []\n",
    "ab_l = []\n",
    "ab_s_ip = []\n",
    "#ab_d_ip = []\n",
    "\n",
    "set_up_array(ab_test_coll, ab_test, ab_l, 0, ips=ab_s_ip)\n"
   ]
  },
  {
   "cell_type": "code",
   "execution_count": 37,
   "metadata": {
    "scrolled": true,
    "slideshow": {
     "slide_type": "skip"
    }
   },
   "outputs": [
    {
     "name": "stdout",
     "output_type": "stream",
     "text": [
      "0.7851851851851852\n"
     ]
    }
   ],
   "source": [
    "print(dt.score(ab_test, ab_l))"
   ]
  },
  {
   "cell_type": "code",
   "execution_count": 38,
   "metadata": {
    "scrolled": true,
    "slideshow": {
     "slide_type": "skip"
    }
   },
   "outputs": [
    {
     "name": "stderr",
     "output_type": "stream",
     "text": [
      "/home/thomasbelford/.local/lib/python2.7/site-packages/sklearn/ensemble/forest.py:246: FutureWarning: The default value of n_estimators will change from 10 in version 0.20 to 100 in 0.22.\n",
      "  \"10 in version 0.20 to 100 in 0.22.\", FutureWarning)\n"
     ]
    },
    {
     "data": {
      "text/plain": [
       "RandomForestClassifier(bootstrap=False, class_weight=None, criterion='gini',\n",
       "            max_depth=None, max_features='auto', max_leaf_nodes=None,\n",
       "            min_impurity_decrease=0.0, min_impurity_split=None,\n",
       "            min_samples_leaf=1, min_samples_split=2,\n",
       "            min_weight_fraction_leaf=0.0, n_estimators=10, n_jobs=None,\n",
       "            oob_score=False, random_state=None, verbose=0,\n",
       "            warm_start=False)"
      ]
     },
     "execution_count": 38,
     "metadata": {},
     "output_type": "execute_result"
    }
   ],
   "source": [
    "rf = RandomForestClassifier(bootstrap=False)\n",
    "rf.fit(training_set, training_labels)"
   ]
  },
  {
   "cell_type": "code",
   "execution_count": 39,
   "metadata": {
    "scrolled": true
   },
   "outputs": [
    {
     "name": "stdout",
     "output_type": "stream",
     "text": [
      "0.7674501822736117\n",
      "0.9571428571428572\n",
      "0.7557866248842675\n",
      "0.7925925925925926\n"
     ]
    }
   ],
   "source": [
    "print(rf.score(test_set, test_labels))\n",
    "print(rf.score(b_test, b_test_l))\n",
    "print(rf.score(p_test, p_test_l))\n",
    "#print(rf.score(n_test, n_l))\n",
    "print(rf.score(ab_test, ab_l))"
   ]
  },
  {
   "cell_type": "code",
   "execution_count": 40,
   "metadata": {
    "scrolled": true
   },
   "outputs": [],
   "source": [
    "probs = rf.predict_proba(ab_test)"
   ]
  },
  {
   "cell_type": "markdown",
   "metadata": {
    "slideshow": {
     "slide_type": "skip"
    }
   },
   "source": [
    "# Scoring"
   ]
  },
  {
   "cell_type": "code",
   "execution_count": 41,
   "metadata": {
    "scrolled": true,
    "slideshow": {
     "slide_type": "skip"
    }
   },
   "outputs": [
    {
     "data": {
      "text/plain": [
       "LogisticRegression(C=1.0, class_weight=None, dual=False, fit_intercept=True,\n",
       "          intercept_scaling=1, max_iter=100, multi_class='warn',\n",
       "          n_jobs=None, penalty='l2', random_state=None, solver='warn',\n",
       "          tol=0.0001, verbose=0, warm_start=False)"
      ]
     },
     "execution_count": 41,
     "metadata": {},
     "output_type": "execute_result"
    }
   ],
   "source": [
    "log_reg = LogisticRegression()\n",
    "log_reg.fit(training_set, training_labels)"
   ]
  },
  {
   "cell_type": "code",
   "execution_count": 42,
   "metadata": {
    "scrolled": true,
    "slideshow": {
     "slide_type": "skip"
    }
   },
   "outputs": [
    {
     "data": {
      "text/plain": [
       "DecisionTreeClassifier(class_weight=None, criterion='gini', max_depth=None,\n",
       "            max_features=None, max_leaf_nodes=None,\n",
       "            min_impurity_decrease=0.0, min_impurity_split=None,\n",
       "            min_samples_leaf=1, min_samples_split=2,\n",
       "            min_weight_fraction_leaf=0.0, presort=False, random_state=None,\n",
       "            splitter='best')"
      ]
     },
     "execution_count": 42,
     "metadata": {},
     "output_type": "execute_result"
    }
   ],
   "source": [
    "d_tree = DecisionTreeClassifier()\n",
    "d_tree.fit(training_set, training_labels)"
   ]
  },
  {
   "cell_type": "code",
   "execution_count": 43,
   "metadata": {
    "scrolled": true,
    "slideshow": {
     "slide_type": "skip"
    }
   },
   "outputs": [],
   "source": [
    "rand_forest = rf #RandomForestClassifier()\n",
    "#rand_forest.fit(training_set, training_labels)"
   ]
  },
  {
   "cell_type": "code",
   "execution_count": 44,
   "metadata": {
    "scrolled": true,
    "slideshow": {
     "slide_type": "skip"
    }
   },
   "outputs": [],
   "source": [
    "res=[]\n",
    "clfs = [log_reg, d_tree, rand_forest] #dt_boost]#, boosterRF]\n",
    "for clf in clfs:\n",
    "    res.append(score_clf(clf, test_labels, test_set))\n",
    "clf_names = ['LR:','DT:', 'RF:']#, 'BoostDT:']#, 'BoostRF:']"
   ]
  },
  {
   "cell_type": "code",
   "execution_count": 45,
   "metadata": {
    "scrolled": true,
    "slideshow": {
     "slide_type": "skip"
    }
   },
   "outputs": [],
   "source": [
    "score_df = pd.DataFrame(res)\n",
    "score_df.columns = ['Accuracy', 'Precision', 'F1', 'Log_Loss', 'TruePosRate', 'FalsePosRate']\n",
    "score_df.index = clf_names"
   ]
  },
  {
   "cell_type": "code",
   "execution_count": 46,
   "metadata": {
    "scrolled": true,
    "slideshow": {
     "slide_type": "slide"
    }
   },
   "outputs": [
    {
     "data": {
      "text/html": [
       "<div>\n",
       "<style scoped>\n",
       "    .dataframe tbody tr th:only-of-type {\n",
       "        vertical-align: middle;\n",
       "    }\n",
       "\n",
       "    .dataframe tbody tr th {\n",
       "        vertical-align: top;\n",
       "    }\n",
       "\n",
       "    .dataframe thead th {\n",
       "        text-align: right;\n",
       "    }\n",
       "</style>\n",
       "<table border=\"1\" class=\"dataframe\">\n",
       "  <thead>\n",
       "    <tr style=\"text-align: right;\">\n",
       "      <th></th>\n",
       "      <th>Accuracy</th>\n",
       "      <th>Precision</th>\n",
       "      <th>F1</th>\n",
       "      <th>Log_Loss</th>\n",
       "      <th>TruePosRate</th>\n",
       "      <th>FalsePosRate</th>\n",
       "    </tr>\n",
       "  </thead>\n",
       "  <tbody>\n",
       "    <tr>\n",
       "      <th>LR:</th>\n",
       "      <td>0.764006</td>\n",
       "      <td>0.985394</td>\n",
       "      <td>0.858636</td>\n",
       "      <td>8.150953</td>\n",
       "      <td>0.173474</td>\n",
       "      <td>0.014606</td>\n",
       "    </tr>\n",
       "    <tr>\n",
       "      <th>DT:</th>\n",
       "      <td>0.881265</td>\n",
       "      <td>0.995638</td>\n",
       "      <td>0.933019</td>\n",
       "      <td>4.100966</td>\n",
       "      <td>0.320528</td>\n",
       "      <td>0.004362</td>\n",
       "    </tr>\n",
       "    <tr>\n",
       "      <th>RF:</th>\n",
       "      <td>0.767450</td>\n",
       "      <td>0.996525</td>\n",
       "      <td>0.859619</td>\n",
       "      <td>8.031988</td>\n",
       "      <td>0.194188</td>\n",
       "      <td>0.003475</td>\n",
       "    </tr>\n",
       "  </tbody>\n",
       "</table>\n",
       "</div>"
      ],
      "text/plain": [
       "     Accuracy  Precision        F1  Log_Loss  TruePosRate  FalsePosRate\n",
       "LR:  0.764006   0.985394  0.858636  8.150953     0.173474      0.014606\n",
       "DT:  0.881265   0.995638  0.933019  4.100966     0.320528      0.004362\n",
       "RF:  0.767450   0.996525  0.859619  8.031988     0.194188      0.003475"
      ]
     },
     "execution_count": 46,
     "metadata": {},
     "output_type": "execute_result"
    }
   ],
   "source": [
    "score_df"
   ]
  },
  {
   "cell_type": "markdown",
   "metadata": {
    "slideshow": {
     "slide_type": "skip"
    }
   },
   "source": [
    "### Run on Mediacom data:"
   ]
  },
  {
   "cell_type": "code",
   "execution_count": 47,
   "metadata": {
    "scrolled": true,
    "slideshow": {
     "slide_type": "skip"
    }
   },
   "outputs": [],
   "source": [
    "FullNet_c = mydb['mediacom2']\n",
    "fnc = []\n",
    "fn_ips = []\n",
    "fnb = []\n",
    "spm = []\n",
    "dpm = []\n",
    "set_up_array(FullNet_c, fnc, ips=fn_ips, flow_size=fnb, sp=spm, dp=dpm)"
   ]
  },
  {
   "cell_type": "code",
   "execution_count": 48,
   "metadata": {
    "scrolled": true,
    "slideshow": {
     "slide_type": "skip"
    }
   },
   "outputs": [],
   "source": [
    "prob_fnc = rand_forest.predict_proba(fnc)"
   ]
  },
  {
   "cell_type": "code",
   "execution_count": 49,
   "metadata": {
    "scrolled": true,
    "slideshow": {
     "slide_type": "skip"
    }
   },
   "outputs": [],
   "source": [
    "pirate_pd, benign_pd, count_p, count_b = get_pd(fnc, fn_ips, fnb, spm, dpm, prob_fnc, 0.8)"
   ]
  },
  {
   "cell_type": "code",
   "execution_count": 50,
   "metadata": {
    "scrolled": true,
    "slideshow": {
     "slide_type": "skip"
    }
   },
   "outputs": [],
   "source": [
    "agg_pd = agg_flow_df(pirate_pd, 'mediacom2')\n",
    "agg_bd = agg_flow_df(benign_pd, 'mediacom2benign')"
   ]
  },
  {
   "cell_type": "code",
   "execution_count": 51,
   "metadata": {
    "scrolled": true,
    "slideshow": {
     "slide_type": "slide"
    }
   },
   "outputs": [
    {
     "data": {
      "text/html": [
       "<div>\n",
       "<style scoped>\n",
       "    .dataframe tbody tr th:only-of-type {\n",
       "        vertical-align: middle;\n",
       "    }\n",
       "\n",
       "    .dataframe tbody tr th {\n",
       "        vertical-align: top;\n",
       "    }\n",
       "\n",
       "    .dataframe thead th {\n",
       "        text-align: right;\n",
       "    }\n",
       "</style>\n",
       "<table border=\"1\" class=\"dataframe\">\n",
       "  <thead>\n",
       "    <tr style=\"text-align: right;\">\n",
       "      <th></th>\n",
       "      <th></th>\n",
       "      <th>Number of Bytes</th>\n",
       "      <th>Probability Pirated</th>\n",
       "    </tr>\n",
       "    <tr>\n",
       "      <th>Dest ASN</th>\n",
       "      <th>Source ASN</th>\n",
       "      <th></th>\n",
       "      <th></th>\n",
       "    </tr>\n",
       "  </thead>\n",
       "  <tbody>\n",
       "    <tr>\n",
       "      <th>104.156.240.0/21</th>\n",
       "      <th>mchsi.com</th>\n",
       "      <td>63306</td>\n",
       "      <td>1.000000</td>\n",
       "    </tr>\n",
       "    <tr>\n",
       "      <th>104.240.0.0/16</th>\n",
       "      <th>mchsi.com</th>\n",
       "      <td>34329</td>\n",
       "      <td>0.900000</td>\n",
       "    </tr>\n",
       "    <tr>\n",
       "      <th>104.244.227.0/24</th>\n",
       "      <th>mchsi.com</th>\n",
       "      <td>65079</td>\n",
       "      <td>0.900000</td>\n",
       "    </tr>\n",
       "    <tr>\n",
       "      <th>104.255.232.0/23</th>\n",
       "      <th>mchsi.com</th>\n",
       "      <td>78326</td>\n",
       "      <td>0.800000</td>\n",
       "    </tr>\n",
       "    <tr>\n",
       "      <th>104.27.96.0/20</th>\n",
       "      <th>mchsi.com</th>\n",
       "      <td>77335</td>\n",
       "      <td>0.866667</td>\n",
       "    </tr>\n",
       "    <tr>\n",
       "      <th>104.36.115.0/24</th>\n",
       "      <th>mchsi.com</th>\n",
       "      <td>9378</td>\n",
       "      <td>0.800000</td>\n",
       "    </tr>\n",
       "    <tr>\n",
       "      <th>104.40.0.0/13</th>\n",
       "      <th>mchsi.com</th>\n",
       "      <td>85394</td>\n",
       "      <td>0.833333</td>\n",
       "    </tr>\n",
       "    <tr>\n",
       "      <th>105.157.64.0/21</th>\n",
       "      <th>mchsi.com</th>\n",
       "      <td>54824</td>\n",
       "      <td>0.800000</td>\n",
       "    </tr>\n",
       "    <tr>\n",
       "      <th>107.151.0.0/18</th>\n",
       "      <th>mchsi.com</th>\n",
       "      <td>10746</td>\n",
       "      <td>1.000000</td>\n",
       "    </tr>\n",
       "    <tr>\n",
       "      <th>107.6.96.0/21</th>\n",
       "      <th>mchsi.com</th>\n",
       "      <td>54476</td>\n",
       "      <td>0.900000</td>\n",
       "    </tr>\n",
       "    <tr>\n",
       "      <th>108.177.111.0/24</th>\n",
       "      <th>mchsi.com</th>\n",
       "      <td>63916</td>\n",
       "      <td>0.800000</td>\n",
       "    </tr>\n",
       "    <tr>\n",
       "      <th>108.177.112.0/24</th>\n",
       "      <th>mchsi.com</th>\n",
       "      <td>57340</td>\n",
       "      <td>0.800000</td>\n",
       "    </tr>\n",
       "    <tr>\n",
       "      <th>108.61.108.0/22</th>\n",
       "      <th>mchsi.com</th>\n",
       "      <td>6914</td>\n",
       "      <td>0.900000</td>\n",
       "    </tr>\n",
       "    <tr>\n",
       "      <th>111.125.106.0/24</th>\n",
       "      <th>mchsi.com</th>\n",
       "      <td>8066</td>\n",
       "      <td>0.800000</td>\n",
       "    </tr>\n",
       "    <tr>\n",
       "      <th>113.250.0.0/15</th>\n",
       "      <th>mchsi.com</th>\n",
       "      <td>18703</td>\n",
       "      <td>0.800000</td>\n",
       "    </tr>\n",
       "    <tr>\n",
       "      <th>114.230.0.0/16</th>\n",
       "      <th>mchsi.com</th>\n",
       "      <td>29976</td>\n",
       "      <td>0.800000</td>\n",
       "    </tr>\n",
       "    <tr>\n",
       "      <th>115.135.128.0/18</th>\n",
       "      <th>mchsi.com</th>\n",
       "      <td>41233</td>\n",
       "      <td>0.900000</td>\n",
       "    </tr>\n",
       "    <tr>\n",
       "      <th>12.128.0.0/9</th>\n",
       "      <th>mchsi.com</th>\n",
       "      <td>123257</td>\n",
       "      <td>0.850000</td>\n",
       "    </tr>\n",
       "    <tr>\n",
       "      <th>121.168.0.0/13</th>\n",
       "      <th>mchsi.com</th>\n",
       "      <td>47511</td>\n",
       "      <td>0.900000</td>\n",
       "    </tr>\n",
       "    <tr>\n",
       "      <th>128.1.89.0/24</th>\n",
       "      <th>mchsi.com</th>\n",
       "      <td>6393</td>\n",
       "      <td>0.800000</td>\n",
       "    </tr>\n",
       "    <tr>\n",
       "      <th>128.116.24.0/24</th>\n",
       "      <th>mchsi.com</th>\n",
       "      <td>51849</td>\n",
       "      <td>0.800000</td>\n",
       "    </tr>\n",
       "    <tr>\n",
       "      <th>128.116.28.0/24</th>\n",
       "      <th>mchsi.com</th>\n",
       "      <td>35902</td>\n",
       "      <td>0.800000</td>\n",
       "    </tr>\n",
       "    <tr>\n",
       "      <th>129.192.165.0/24</th>\n",
       "      <th>mchsi.com</th>\n",
       "      <td>52970</td>\n",
       "      <td>0.800000</td>\n",
       "    </tr>\n",
       "    <tr>\n",
       "      <th>13.64.0.0/11</th>\n",
       "      <th>mchsi.com</th>\n",
       "      <td>61802</td>\n",
       "      <td>0.800000</td>\n",
       "    </tr>\n",
       "    <tr>\n",
       "      <th>136.32.0.0/11</th>\n",
       "      <th>mchsi.com</th>\n",
       "      <td>21369</td>\n",
       "      <td>0.800000</td>\n",
       "    </tr>\n",
       "    <tr>\n",
       "      <th>140.205.128.0/18</th>\n",
       "      <th>mchsi.com</th>\n",
       "      <td>38134</td>\n",
       "      <td>0.800000</td>\n",
       "    </tr>\n",
       "    <tr>\n",
       "      <th>142.54.224.0/20</th>\n",
       "      <th>mchsi.com</th>\n",
       "      <td>52661</td>\n",
       "      <td>0.900000</td>\n",
       "    </tr>\n",
       "    <tr>\n",
       "      <th>142.93.176.0/20</th>\n",
       "      <th>mchsi.com</th>\n",
       "      <td>31902</td>\n",
       "      <td>1.000000</td>\n",
       "    </tr>\n",
       "    <tr>\n",
       "      <th>148.72.168.0/24</th>\n",
       "      <th>mchsi.com</th>\n",
       "      <td>180299</td>\n",
       "      <td>0.875000</td>\n",
       "    </tr>\n",
       "    <tr>\n",
       "      <th>148.72.169.0/24</th>\n",
       "      <th>mchsi.com</th>\n",
       "      <td>61824</td>\n",
       "      <td>0.833333</td>\n",
       "    </tr>\n",
       "    <tr>\n",
       "      <th>...</th>\n",
       "      <th>...</th>\n",
       "      <td>...</td>\n",
       "      <td>...</td>\n",
       "    </tr>\n",
       "    <tr>\n",
       "      <th>sl-reverse.com</th>\n",
       "      <th>mchsi.com</th>\n",
       "      <td>146928</td>\n",
       "      <td>0.875000</td>\n",
       "    </tr>\n",
       "    <tr>\n",
       "      <th>spcsdns.net</th>\n",
       "      <th>mchsi.com</th>\n",
       "      <td>49875</td>\n",
       "      <td>0.900000</td>\n",
       "    </tr>\n",
       "    <tr>\n",
       "      <th>spectrum.com</th>\n",
       "      <th>mchsi.com</th>\n",
       "      <td>204001</td>\n",
       "      <td>0.885714</td>\n",
       "    </tr>\n",
       "    <tr>\n",
       "      <th>static-64-203-115-211.static</th>\n",
       "      <th>mchsi.com</th>\n",
       "      <td>36162</td>\n",
       "      <td>0.900000</td>\n",
       "    </tr>\n",
       "    <tr>\n",
       "      <th>stretchoid.com</th>\n",
       "      <th>mchsi.com</th>\n",
       "      <td>39369</td>\n",
       "      <td>0.900000</td>\n",
       "    </tr>\n",
       "    <tr>\n",
       "      <th>suddenlink.net</th>\n",
       "      <th>mchsi.com</th>\n",
       "      <td>54961</td>\n",
       "      <td>0.800000</td>\n",
       "    </tr>\n",
       "    <tr>\n",
       "      <th>sunbloommarketing.com</th>\n",
       "      <th>mchsi.com</th>\n",
       "      <td>346991</td>\n",
       "      <td>0.880000</td>\n",
       "    </tr>\n",
       "    <tr>\n",
       "      <th>swatco.com</th>\n",
       "      <th>mchsi.com</th>\n",
       "      <td>62880</td>\n",
       "      <td>0.900000</td>\n",
       "    </tr>\n",
       "    <tr>\n",
       "      <th>sx.cn</th>\n",
       "      <th>mchsi.com</th>\n",
       "      <td>27019</td>\n",
       "      <td>0.900000</td>\n",
       "    </tr>\n",
       "    <tr>\n",
       "      <th>syn-alias.com</th>\n",
       "      <th>mchsi.com</th>\n",
       "      <td>61525</td>\n",
       "      <td>0.800000</td>\n",
       "    </tr>\n",
       "    <tr>\n",
       "      <th>telepac.pt</th>\n",
       "      <th>mchsi.com</th>\n",
       "      <td>44198</td>\n",
       "      <td>1.000000</td>\n",
       "    </tr>\n",
       "    <tr>\n",
       "      <th>tellas.gr</th>\n",
       "      <th>mchsi.com</th>\n",
       "      <td>3506</td>\n",
       "      <td>0.800000</td>\n",
       "    </tr>\n",
       "    <tr>\n",
       "      <th>tivo.com</th>\n",
       "      <th>mchsi.com</th>\n",
       "      <td>170213</td>\n",
       "      <td>0.925000</td>\n",
       "    </tr>\n",
       "    <tr>\n",
       "      <th>tmodns.net</th>\n",
       "      <th>mchsi.com</th>\n",
       "      <td>81113</td>\n",
       "      <td>0.900000</td>\n",
       "    </tr>\n",
       "    <tr>\n",
       "      <th>totalplay.net</th>\n",
       "      <th>mchsi.com</th>\n",
       "      <td>69241</td>\n",
       "      <td>0.900000</td>\n",
       "    </tr>\n",
       "    <tr>\n",
       "      <th>unitasglobal.net</th>\n",
       "      <th>mchsi.com</th>\n",
       "      <td>8340</td>\n",
       "      <td>0.900000</td>\n",
       "    </tr>\n",
       "    <tr>\n",
       "      <th>unmetered.zone</th>\n",
       "      <th>mchsi.com</th>\n",
       "      <td>30321</td>\n",
       "      <td>0.800000</td>\n",
       "    </tr>\n",
       "    <tr>\n",
       "      <th>upcloud.host</th>\n",
       "      <th>mchsi.com</th>\n",
       "      <td>55821</td>\n",
       "      <td>0.900000</td>\n",
       "    </tr>\n",
       "    <tr>\n",
       "      <th>verizon.net</th>\n",
       "      <th>mchsi.com</th>\n",
       "      <td>203788</td>\n",
       "      <td>0.820000</td>\n",
       "    </tr>\n",
       "    <tr>\n",
       "      <th>vibrantcreditunion.org</th>\n",
       "      <th>mchsi.com</th>\n",
       "      <td>51705</td>\n",
       "      <td>0.900000</td>\n",
       "    </tr>\n",
       "    <tr>\n",
       "      <th>videotron.ca</th>\n",
       "      <th>mchsi.com</th>\n",
       "      <td>7722</td>\n",
       "      <td>0.900000</td>\n",
       "    </tr>\n",
       "    <tr>\n",
       "      <th>virginm.net</th>\n",
       "      <th>mchsi.com</th>\n",
       "      <td>51218</td>\n",
       "      <td>0.900000</td>\n",
       "    </tr>\n",
       "    <tr>\n",
       "      <th>vistabeam.com</th>\n",
       "      <th>mchsi.com</th>\n",
       "      <td>51657</td>\n",
       "      <td>0.900000</td>\n",
       "    </tr>\n",
       "    <tr>\n",
       "      <th>vshosting.cz</th>\n",
       "      <th>mchsi.com</th>\n",
       "      <td>49692</td>\n",
       "      <td>0.900000</td>\n",
       "    </tr>\n",
       "    <tr>\n",
       "      <th>vultr.com</th>\n",
       "      <th>mchsi.com</th>\n",
       "      <td>423475</td>\n",
       "      <td>0.875000</td>\n",
       "    </tr>\n",
       "    <tr>\n",
       "      <th>wideopenwest.com</th>\n",
       "      <th>mchsi.com</th>\n",
       "      <td>54512</td>\n",
       "      <td>0.900000</td>\n",
       "    </tr>\n",
       "    <tr>\n",
       "      <th>windstream.net</th>\n",
       "      <th>mchsi.com</th>\n",
       "      <td>53990</td>\n",
       "      <td>0.975000</td>\n",
       "    </tr>\n",
       "    <tr>\n",
       "      <th>worldstream.nl</th>\n",
       "      <th>mchsi.com</th>\n",
       "      <td>18104</td>\n",
       "      <td>0.800000</td>\n",
       "    </tr>\n",
       "    <tr>\n",
       "      <th>yahoo.com</th>\n",
       "      <th>mchsi.com</th>\n",
       "      <td>52253</td>\n",
       "      <td>0.900000</td>\n",
       "    </tr>\n",
       "    <tr>\n",
       "      <th>yum.com</th>\n",
       "      <th>mchsi.com</th>\n",
       "      <td>63018</td>\n",
       "      <td>0.800000</td>\n",
       "    </tr>\n",
       "  </tbody>\n",
       "</table>\n",
       "<p>769 rows × 2 columns</p>\n",
       "</div>"
      ],
      "text/plain": [
       "                                         Number of Bytes  Probability Pirated\n",
       "Dest ASN                     Source ASN                                      \n",
       "104.156.240.0/21             mchsi.com             63306             1.000000\n",
       "104.240.0.0/16               mchsi.com             34329             0.900000\n",
       "104.244.227.0/24             mchsi.com             65079             0.900000\n",
       "104.255.232.0/23             mchsi.com             78326             0.800000\n",
       "104.27.96.0/20               mchsi.com             77335             0.866667\n",
       "104.36.115.0/24              mchsi.com              9378             0.800000\n",
       "104.40.0.0/13                mchsi.com             85394             0.833333\n",
       "105.157.64.0/21              mchsi.com             54824             0.800000\n",
       "107.151.0.0/18               mchsi.com             10746             1.000000\n",
       "107.6.96.0/21                mchsi.com             54476             0.900000\n",
       "108.177.111.0/24             mchsi.com             63916             0.800000\n",
       "108.177.112.0/24             mchsi.com             57340             0.800000\n",
       "108.61.108.0/22              mchsi.com              6914             0.900000\n",
       "111.125.106.0/24             mchsi.com              8066             0.800000\n",
       "113.250.0.0/15               mchsi.com             18703             0.800000\n",
       "114.230.0.0/16               mchsi.com             29976             0.800000\n",
       "115.135.128.0/18             mchsi.com             41233             0.900000\n",
       "12.128.0.0/9                 mchsi.com            123257             0.850000\n",
       "121.168.0.0/13               mchsi.com             47511             0.900000\n",
       "128.1.89.0/24                mchsi.com              6393             0.800000\n",
       "128.116.24.0/24              mchsi.com             51849             0.800000\n",
       "128.116.28.0/24              mchsi.com             35902             0.800000\n",
       "129.192.165.0/24             mchsi.com             52970             0.800000\n",
       "13.64.0.0/11                 mchsi.com             61802             0.800000\n",
       "136.32.0.0/11                mchsi.com             21369             0.800000\n",
       "140.205.128.0/18             mchsi.com             38134             0.800000\n",
       "142.54.224.0/20              mchsi.com             52661             0.900000\n",
       "142.93.176.0/20              mchsi.com             31902             1.000000\n",
       "148.72.168.0/24              mchsi.com            180299             0.875000\n",
       "148.72.169.0/24              mchsi.com             61824             0.833333\n",
       "...                                                  ...                  ...\n",
       "sl-reverse.com               mchsi.com            146928             0.875000\n",
       "spcsdns.net                  mchsi.com             49875             0.900000\n",
       "spectrum.com                 mchsi.com            204001             0.885714\n",
       "static-64-203-115-211.static mchsi.com             36162             0.900000\n",
       "stretchoid.com               mchsi.com             39369             0.900000\n",
       "suddenlink.net               mchsi.com             54961             0.800000\n",
       "sunbloommarketing.com        mchsi.com            346991             0.880000\n",
       "swatco.com                   mchsi.com             62880             0.900000\n",
       "sx.cn                        mchsi.com             27019             0.900000\n",
       "syn-alias.com                mchsi.com             61525             0.800000\n",
       "telepac.pt                   mchsi.com             44198             1.000000\n",
       "tellas.gr                    mchsi.com              3506             0.800000\n",
       "tivo.com                     mchsi.com            170213             0.925000\n",
       "tmodns.net                   mchsi.com             81113             0.900000\n",
       "totalplay.net                mchsi.com             69241             0.900000\n",
       "unitasglobal.net             mchsi.com              8340             0.900000\n",
       "unmetered.zone               mchsi.com             30321             0.800000\n",
       "upcloud.host                 mchsi.com             55821             0.900000\n",
       "verizon.net                  mchsi.com            203788             0.820000\n",
       "vibrantcreditunion.org       mchsi.com             51705             0.900000\n",
       "videotron.ca                 mchsi.com              7722             0.900000\n",
       "virginm.net                  mchsi.com             51218             0.900000\n",
       "vistabeam.com                mchsi.com             51657             0.900000\n",
       "vshosting.cz                 mchsi.com             49692             0.900000\n",
       "vultr.com                    mchsi.com            423475             0.875000\n",
       "wideopenwest.com             mchsi.com             54512             0.900000\n",
       "windstream.net               mchsi.com             53990             0.975000\n",
       "worldstream.nl               mchsi.com             18104             0.800000\n",
       "yahoo.com                    mchsi.com             52253             0.900000\n",
       "yum.com                      mchsi.com             63018             0.800000\n",
       "\n",
       "[769 rows x 2 columns]"
      ]
     },
     "execution_count": 51,
     "metadata": {},
     "output_type": "execute_result"
    }
   ],
   "source": [
    "agg_pd"
   ]
  },
  {
   "cell_type": "code",
   "execution_count": 52,
   "metadata": {
    "scrolled": true,
    "slideshow": {
     "slide_type": "slide"
    }
   },
   "outputs": [
    {
     "data": {
      "text/html": [
       "<div>\n",
       "<style scoped>\n",
       "    .dataframe tbody tr th:only-of-type {\n",
       "        vertical-align: middle;\n",
       "    }\n",
       "\n",
       "    .dataframe tbody tr th {\n",
       "        vertical-align: top;\n",
       "    }\n",
       "\n",
       "    .dataframe thead th {\n",
       "        text-align: right;\n",
       "    }\n",
       "</style>\n",
       "<table border=\"1\" class=\"dataframe\">\n",
       "  <thead>\n",
       "    <tr style=\"text-align: right;\">\n",
       "      <th></th>\n",
       "      <th></th>\n",
       "      <th>Number of Bytes</th>\n",
       "      <th>Probability Pirated</th>\n",
       "    </tr>\n",
       "    <tr>\n",
       "      <th>Dest ASN</th>\n",
       "      <th>Source ASN</th>\n",
       "      <th></th>\n",
       "      <th></th>\n",
       "    </tr>\n",
       "  </thead>\n",
       "  <tbody>\n",
       "    <tr>\n",
       "      <th>0.0</th>\n",
       "      <th>mchsi.com</th>\n",
       "      <td>2076352</td>\n",
       "      <td>0.250000</td>\n",
       "    </tr>\n",
       "    <tr>\n",
       "      <th>1.56.0.0/13</th>\n",
       "      <th>mchsi.com</th>\n",
       "      <td>27409</td>\n",
       "      <td>0.600000</td>\n",
       "    </tr>\n",
       "    <tr>\n",
       "      <th>100.42.105.0/24</th>\n",
       "      <th>mchsi.com</th>\n",
       "      <td>57555</td>\n",
       "      <td>0.200000</td>\n",
       "    </tr>\n",
       "    <tr>\n",
       "      <th>100.42.17.0/24</th>\n",
       "      <th>mchsi.com</th>\n",
       "      <td>37870</td>\n",
       "      <td>0.350000</td>\n",
       "    </tr>\n",
       "    <tr>\n",
       "      <th>103.104.16.0/23</th>\n",
       "      <th>mchsi.com</th>\n",
       "      <td>46980</td>\n",
       "      <td>0.500000</td>\n",
       "    </tr>\n",
       "    <tr>\n",
       "      <th>103.193.80.0/22</th>\n",
       "      <th>mchsi.com</th>\n",
       "      <td>20235</td>\n",
       "      <td>0.100000</td>\n",
       "    </tr>\n",
       "    <tr>\n",
       "      <th>103.224.251.0/24</th>\n",
       "      <th>mchsi.com</th>\n",
       "      <td>119942</td>\n",
       "      <td>0.400000</td>\n",
       "    </tr>\n",
       "    <tr>\n",
       "      <th>103.24.15.0/24</th>\n",
       "      <th>mchsi.com</th>\n",
       "      <td>9443</td>\n",
       "      <td>0.500000</td>\n",
       "    </tr>\n",
       "    <tr>\n",
       "      <th>103.251.109.0/24</th>\n",
       "      <th>mchsi.com</th>\n",
       "      <td>63673</td>\n",
       "      <td>0.100000</td>\n",
       "    </tr>\n",
       "    <tr>\n",
       "      <th>103.48.6.0/24</th>\n",
       "      <th>mchsi.com</th>\n",
       "      <td>172041</td>\n",
       "      <td>0.333333</td>\n",
       "    </tr>\n",
       "    <tr>\n",
       "      <th>103.71.17.0/24</th>\n",
       "      <th>mchsi.com</th>\n",
       "      <td>15611</td>\n",
       "      <td>0.500000</td>\n",
       "    </tr>\n",
       "    <tr>\n",
       "      <th>103.9.88.0/22</th>\n",
       "      <th>mchsi.com</th>\n",
       "      <td>53482</td>\n",
       "      <td>0.200000</td>\n",
       "    </tr>\n",
       "    <tr>\n",
       "      <th>104.129.196.0/23</th>\n",
       "      <th>mchsi.com</th>\n",
       "      <td>206726</td>\n",
       "      <td>0.260000</td>\n",
       "    </tr>\n",
       "    <tr>\n",
       "      <th>104.142.152.0/24</th>\n",
       "      <th>mchsi.com</th>\n",
       "      <td>9818</td>\n",
       "      <td>0.300000</td>\n",
       "    </tr>\n",
       "    <tr>\n",
       "      <th>104.145.95.0/24</th>\n",
       "      <th>mchsi.com</th>\n",
       "      <td>15873</td>\n",
       "      <td>0.400000</td>\n",
       "    </tr>\n",
       "    <tr>\n",
       "      <th>104.149.0.0/16</th>\n",
       "      <th>mchsi.com</th>\n",
       "      <td>206254</td>\n",
       "      <td>0.360000</td>\n",
       "    </tr>\n",
       "    <tr>\n",
       "      <th>104.153.216.0/21</th>\n",
       "      <th>mchsi.com</th>\n",
       "      <td>57138</td>\n",
       "      <td>0.600000</td>\n",
       "    </tr>\n",
       "    <tr>\n",
       "      <th>104.153.60.0/24</th>\n",
       "      <th>akamaitechnologies.com</th>\n",
       "      <td>45227</td>\n",
       "      <td>0.200000</td>\n",
       "    </tr>\n",
       "    <tr>\n",
       "      <th>104.156.206.0/24</th>\n",
       "      <th>mchsi.com</th>\n",
       "      <td>24125</td>\n",
       "      <td>0.100000</td>\n",
       "    </tr>\n",
       "    <tr>\n",
       "      <th>104.16.112.0/20</th>\n",
       "      <th>mchsi.com</th>\n",
       "      <td>63492</td>\n",
       "      <td>0.100000</td>\n",
       "    </tr>\n",
       "    <tr>\n",
       "      <th>104.17.96.0/20</th>\n",
       "      <th>mchsi.com</th>\n",
       "      <td>292451</td>\n",
       "      <td>0.344444</td>\n",
       "    </tr>\n",
       "    <tr>\n",
       "      <th>104.18.16.0/20</th>\n",
       "      <th>mchsi.com</th>\n",
       "      <td>31290</td>\n",
       "      <td>0.600000</td>\n",
       "    </tr>\n",
       "    <tr>\n",
       "      <th>104.18.160.0/20</th>\n",
       "      <th>mchsi.com</th>\n",
       "      <td>101060</td>\n",
       "      <td>0.250000</td>\n",
       "    </tr>\n",
       "    <tr>\n",
       "      <th>104.18.48.0/20</th>\n",
       "      <th>mchsi.com</th>\n",
       "      <td>60775</td>\n",
       "      <td>0.100000</td>\n",
       "    </tr>\n",
       "    <tr>\n",
       "      <th>104.19.144.0/20</th>\n",
       "      <th>mchsi.com</th>\n",
       "      <td>50269</td>\n",
       "      <td>0.300000</td>\n",
       "    </tr>\n",
       "    <tr>\n",
       "      <th>104.19.176.0/20</th>\n",
       "      <th>mchsi.com</th>\n",
       "      <td>18204</td>\n",
       "      <td>0.300000</td>\n",
       "    </tr>\n",
       "    <tr>\n",
       "      <th>104.192.108.0/24</th>\n",
       "      <th>mchsi.com</th>\n",
       "      <td>7363</td>\n",
       "      <td>0.100000</td>\n",
       "    </tr>\n",
       "    <tr>\n",
       "      <th>104.192.236.0/22</th>\n",
       "      <th>mchsi.com</th>\n",
       "      <td>2121</td>\n",
       "      <td>0.200000</td>\n",
       "    </tr>\n",
       "    <tr>\n",
       "      <th>104.192.88.0/22</th>\n",
       "      <th>mchsi.com</th>\n",
       "      <td>28033</td>\n",
       "      <td>0.400000</td>\n",
       "    </tr>\n",
       "    <tr>\n",
       "      <th>104.193.183.0/24</th>\n",
       "      <th>mchsi.com</th>\n",
       "      <td>42252</td>\n",
       "      <td>0.300000</td>\n",
       "    </tr>\n",
       "    <tr>\n",
       "      <th>...</th>\n",
       "      <th>...</th>\n",
       "      <td>...</td>\n",
       "      <td>...</td>\n",
       "    </tr>\n",
       "    <tr>\n",
       "      <th>whidbey.net</th>\n",
       "      <th>mchsi.com</th>\n",
       "      <td>10783</td>\n",
       "      <td>0.100000</td>\n",
       "    </tr>\n",
       "    <tr>\n",
       "      <th>wiband.net</th>\n",
       "      <th>mchsi.com</th>\n",
       "      <td>6904</td>\n",
       "      <td>0.400000</td>\n",
       "    </tr>\n",
       "    <tr>\n",
       "      <th>wideopenwest.com</th>\n",
       "      <th>mchsi.com</th>\n",
       "      <td>283730</td>\n",
       "      <td>0.316667</td>\n",
       "    </tr>\n",
       "    <tr>\n",
       "      <th>wiline.com</th>\n",
       "      <th>mchsi.com</th>\n",
       "      <td>112548</td>\n",
       "      <td>0.200000</td>\n",
       "    </tr>\n",
       "    <tr>\n",
       "      <th>willisautocampus.com</th>\n",
       "      <th>rr.com</th>\n",
       "      <td>44274</td>\n",
       "      <td>0.500000</td>\n",
       "    </tr>\n",
       "    <tr>\n",
       "      <th rowspan=\"2\" valign=\"top\">windstream.net</th>\n",
       "      <th>208.84.191.0/24</th>\n",
       "      <td>49117</td>\n",
       "      <td>0.600000</td>\n",
       "    </tr>\n",
       "    <tr>\n",
       "      <th>mchsi.com</th>\n",
       "      <td>415295</td>\n",
       "      <td>0.357143</td>\n",
       "    </tr>\n",
       "    <tr>\n",
       "      <th>wirc.co</th>\n",
       "      <th>amazonaws.com</th>\n",
       "      <td>60675</td>\n",
       "      <td>0.700000</td>\n",
       "    </tr>\n",
       "    <tr>\n",
       "      <th>wisperisp.com</th>\n",
       "      <th>mchsi.com</th>\n",
       "      <td>169703</td>\n",
       "      <td>0.333333</td>\n",
       "    </tr>\n",
       "    <tr>\n",
       "      <th>wk.net</th>\n",
       "      <th>mchsi.com</th>\n",
       "      <td>117079</td>\n",
       "      <td>0.500000</td>\n",
       "    </tr>\n",
       "    <tr>\n",
       "      <th>wku.edu</th>\n",
       "      <th>mchsi.com</th>\n",
       "      <td>46471</td>\n",
       "      <td>0.400000</td>\n",
       "    </tr>\n",
       "    <tr>\n",
       "      <th>wlvpn.com</th>\n",
       "      <th>mchsi.com</th>\n",
       "      <td>85598</td>\n",
       "      <td>0.433333</td>\n",
       "    </tr>\n",
       "    <tr>\n",
       "      <th>worldstream.nl</th>\n",
       "      <th>mchsi.com</th>\n",
       "      <td>165851</td>\n",
       "      <td>0.375000</td>\n",
       "    </tr>\n",
       "    <tr>\n",
       "      <th>xlbroadband.com</th>\n",
       "      <th>mchsi.com</th>\n",
       "      <td>27541</td>\n",
       "      <td>0.300000</td>\n",
       "    </tr>\n",
       "    <tr>\n",
       "      <th>xo.net</th>\n",
       "      <th>mchsi.com</th>\n",
       "      <td>102244</td>\n",
       "      <td>0.150000</td>\n",
       "    </tr>\n",
       "    <tr>\n",
       "      <th>xplornet.com</th>\n",
       "      <th>mchsi.com</th>\n",
       "      <td>32130</td>\n",
       "      <td>0.400000</td>\n",
       "    </tr>\n",
       "    <tr>\n",
       "      <th rowspan=\"2\" valign=\"top\">yahoo.com</th>\n",
       "      <th>170.52.8.0/21</th>\n",
       "      <td>3869</td>\n",
       "      <td>0.100000</td>\n",
       "    </tr>\n",
       "    <tr>\n",
       "      <th>mchsi.com</th>\n",
       "      <td>4885296</td>\n",
       "      <td>0.164539</td>\n",
       "    </tr>\n",
       "    <tr>\n",
       "      <th>yota.ru</th>\n",
       "      <th>mchsi.com</th>\n",
       "      <td>31902</td>\n",
       "      <td>0.500000</td>\n",
       "    </tr>\n",
       "    <tr>\n",
       "      <th>your-server.de</th>\n",
       "      <th>mchsi.com</th>\n",
       "      <td>431228</td>\n",
       "      <td>0.290000</td>\n",
       "    </tr>\n",
       "    <tr>\n",
       "      <th>yuneec.com</th>\n",
       "      <th>mchsi.com</th>\n",
       "      <td>33692</td>\n",
       "      <td>0.100000</td>\n",
       "    </tr>\n",
       "    <tr>\n",
       "      <th>ywave.com</th>\n",
       "      <th>mchsi.com</th>\n",
       "      <td>17383</td>\n",
       "      <td>0.500000</td>\n",
       "    </tr>\n",
       "    <tr>\n",
       "      <th>zare.com</th>\n",
       "      <th>mchsi.com</th>\n",
       "      <td>49924</td>\n",
       "      <td>0.500000</td>\n",
       "    </tr>\n",
       "    <tr>\n",
       "      <th>zayo.com</th>\n",
       "      <th>mchsi.com</th>\n",
       "      <td>100026</td>\n",
       "      <td>0.200000</td>\n",
       "    </tr>\n",
       "    <tr>\n",
       "      <th>zebadrabbit.com</th>\n",
       "      <th>mchsi.com</th>\n",
       "      <td>21994</td>\n",
       "      <td>0.100000</td>\n",
       "    </tr>\n",
       "    <tr>\n",
       "      <th>zerotier.com</th>\n",
       "      <th>mchsi.com</th>\n",
       "      <td>40077</td>\n",
       "      <td>0.100000</td>\n",
       "    </tr>\n",
       "    <tr>\n",
       "      <th>ziggo.nl</th>\n",
       "      <th>mchsi.com</th>\n",
       "      <td>59971</td>\n",
       "      <td>0.500000</td>\n",
       "    </tr>\n",
       "    <tr>\n",
       "      <th>ziggozakelijk.nl</th>\n",
       "      <th>mchsi.com</th>\n",
       "      <td>24778</td>\n",
       "      <td>0.500000</td>\n",
       "    </tr>\n",
       "    <tr>\n",
       "      <th>zoom.us</th>\n",
       "      <th>mchsi.com</th>\n",
       "      <td>143328</td>\n",
       "      <td>0.140000</td>\n",
       "    </tr>\n",
       "    <tr>\n",
       "      <th>zoominternet.net</th>\n",
       "      <th>mchsi.com</th>\n",
       "      <td>149578</td>\n",
       "      <td>0.420000</td>\n",
       "    </tr>\n",
       "  </tbody>\n",
       "</table>\n",
       "<p>4298 rows × 2 columns</p>\n",
       "</div>"
      ],
      "text/plain": [
       "                                             Number of Bytes  \\\n",
       "Dest ASN             Source ASN                                \n",
       "0.0                  mchsi.com                       2076352   \n",
       "1.56.0.0/13          mchsi.com                         27409   \n",
       "100.42.105.0/24      mchsi.com                         57555   \n",
       "100.42.17.0/24       mchsi.com                         37870   \n",
       "103.104.16.0/23      mchsi.com                         46980   \n",
       "103.193.80.0/22      mchsi.com                         20235   \n",
       "103.224.251.0/24     mchsi.com                        119942   \n",
       "103.24.15.0/24       mchsi.com                          9443   \n",
       "103.251.109.0/24     mchsi.com                         63673   \n",
       "103.48.6.0/24        mchsi.com                        172041   \n",
       "103.71.17.0/24       mchsi.com                         15611   \n",
       "103.9.88.0/22        mchsi.com                         53482   \n",
       "104.129.196.0/23     mchsi.com                        206726   \n",
       "104.142.152.0/24     mchsi.com                          9818   \n",
       "104.145.95.0/24      mchsi.com                         15873   \n",
       "104.149.0.0/16       mchsi.com                        206254   \n",
       "104.153.216.0/21     mchsi.com                         57138   \n",
       "104.153.60.0/24      akamaitechnologies.com            45227   \n",
       "104.156.206.0/24     mchsi.com                         24125   \n",
       "104.16.112.0/20      mchsi.com                         63492   \n",
       "104.17.96.0/20       mchsi.com                        292451   \n",
       "104.18.16.0/20       mchsi.com                         31290   \n",
       "104.18.160.0/20      mchsi.com                        101060   \n",
       "104.18.48.0/20       mchsi.com                         60775   \n",
       "104.19.144.0/20      mchsi.com                         50269   \n",
       "104.19.176.0/20      mchsi.com                         18204   \n",
       "104.192.108.0/24     mchsi.com                          7363   \n",
       "104.192.236.0/22     mchsi.com                          2121   \n",
       "104.192.88.0/22      mchsi.com                         28033   \n",
       "104.193.183.0/24     mchsi.com                         42252   \n",
       "...                                                      ...   \n",
       "whidbey.net          mchsi.com                         10783   \n",
       "wiband.net           mchsi.com                          6904   \n",
       "wideopenwest.com     mchsi.com                        283730   \n",
       "wiline.com           mchsi.com                        112548   \n",
       "willisautocampus.com rr.com                            44274   \n",
       "windstream.net       208.84.191.0/24                   49117   \n",
       "                     mchsi.com                        415295   \n",
       "wirc.co              amazonaws.com                     60675   \n",
       "wisperisp.com        mchsi.com                        169703   \n",
       "wk.net               mchsi.com                        117079   \n",
       "wku.edu              mchsi.com                         46471   \n",
       "wlvpn.com            mchsi.com                         85598   \n",
       "worldstream.nl       mchsi.com                        165851   \n",
       "xlbroadband.com      mchsi.com                         27541   \n",
       "xo.net               mchsi.com                        102244   \n",
       "xplornet.com         mchsi.com                         32130   \n",
       "yahoo.com            170.52.8.0/21                      3869   \n",
       "                     mchsi.com                       4885296   \n",
       "yota.ru              mchsi.com                         31902   \n",
       "your-server.de       mchsi.com                        431228   \n",
       "yuneec.com           mchsi.com                         33692   \n",
       "ywave.com            mchsi.com                         17383   \n",
       "zare.com             mchsi.com                         49924   \n",
       "zayo.com             mchsi.com                        100026   \n",
       "zebadrabbit.com      mchsi.com                         21994   \n",
       "zerotier.com         mchsi.com                         40077   \n",
       "ziggo.nl             mchsi.com                         59971   \n",
       "ziggozakelijk.nl     mchsi.com                         24778   \n",
       "zoom.us              mchsi.com                        143328   \n",
       "zoominternet.net     mchsi.com                        149578   \n",
       "\n",
       "                                             Probability Pirated  \n",
       "Dest ASN             Source ASN                                   \n",
       "0.0                  mchsi.com                          0.250000  \n",
       "1.56.0.0/13          mchsi.com                          0.600000  \n",
       "100.42.105.0/24      mchsi.com                          0.200000  \n",
       "100.42.17.0/24       mchsi.com                          0.350000  \n",
       "103.104.16.0/23      mchsi.com                          0.500000  \n",
       "103.193.80.0/22      mchsi.com                          0.100000  \n",
       "103.224.251.0/24     mchsi.com                          0.400000  \n",
       "103.24.15.0/24       mchsi.com                          0.500000  \n",
       "103.251.109.0/24     mchsi.com                          0.100000  \n",
       "103.48.6.0/24        mchsi.com                          0.333333  \n",
       "103.71.17.0/24       mchsi.com                          0.500000  \n",
       "103.9.88.0/22        mchsi.com                          0.200000  \n",
       "104.129.196.0/23     mchsi.com                          0.260000  \n",
       "104.142.152.0/24     mchsi.com                          0.300000  \n",
       "104.145.95.0/24      mchsi.com                          0.400000  \n",
       "104.149.0.0/16       mchsi.com                          0.360000  \n",
       "104.153.216.0/21     mchsi.com                          0.600000  \n",
       "104.153.60.0/24      akamaitechnologies.com             0.200000  \n",
       "104.156.206.0/24     mchsi.com                          0.100000  \n",
       "104.16.112.0/20      mchsi.com                          0.100000  \n",
       "104.17.96.0/20       mchsi.com                          0.344444  \n",
       "104.18.16.0/20       mchsi.com                          0.600000  \n",
       "104.18.160.0/20      mchsi.com                          0.250000  \n",
       "104.18.48.0/20       mchsi.com                          0.100000  \n",
       "104.19.144.0/20      mchsi.com                          0.300000  \n",
       "104.19.176.0/20      mchsi.com                          0.300000  \n",
       "104.192.108.0/24     mchsi.com                          0.100000  \n",
       "104.192.236.0/22     mchsi.com                          0.200000  \n",
       "104.192.88.0/22      mchsi.com                          0.400000  \n",
       "104.193.183.0/24     mchsi.com                          0.300000  \n",
       "...                                                          ...  \n",
       "whidbey.net          mchsi.com                          0.100000  \n",
       "wiband.net           mchsi.com                          0.400000  \n",
       "wideopenwest.com     mchsi.com                          0.316667  \n",
       "wiline.com           mchsi.com                          0.200000  \n",
       "willisautocampus.com rr.com                             0.500000  \n",
       "windstream.net       208.84.191.0/24                    0.600000  \n",
       "                     mchsi.com                          0.357143  \n",
       "wirc.co              amazonaws.com                      0.700000  \n",
       "wisperisp.com        mchsi.com                          0.333333  \n",
       "wk.net               mchsi.com                          0.500000  \n",
       "wku.edu              mchsi.com                          0.400000  \n",
       "wlvpn.com            mchsi.com                          0.433333  \n",
       "worldstream.nl       mchsi.com                          0.375000  \n",
       "xlbroadband.com      mchsi.com                          0.300000  \n",
       "xo.net               mchsi.com                          0.150000  \n",
       "xplornet.com         mchsi.com                          0.400000  \n",
       "yahoo.com            170.52.8.0/21                      0.100000  \n",
       "                     mchsi.com                          0.164539  \n",
       "yota.ru              mchsi.com                          0.500000  \n",
       "your-server.de       mchsi.com                          0.290000  \n",
       "yuneec.com           mchsi.com                          0.100000  \n",
       "ywave.com            mchsi.com                          0.500000  \n",
       "zare.com             mchsi.com                          0.500000  \n",
       "zayo.com             mchsi.com                          0.200000  \n",
       "zebadrabbit.com      mchsi.com                          0.100000  \n",
       "zerotier.com         mchsi.com                          0.100000  \n",
       "ziggo.nl             mchsi.com                          0.500000  \n",
       "ziggozakelijk.nl     mchsi.com                          0.500000  \n",
       "zoom.us              mchsi.com                          0.140000  \n",
       "zoominternet.net     mchsi.com                          0.420000  \n",
       "\n",
       "[4298 rows x 2 columns]"
      ]
     },
     "execution_count": 52,
     "metadata": {},
     "output_type": "execute_result"
    }
   ],
   "source": [
    "agg_bd"
   ]
  },
  {
   "cell_type": "code",
   "execution_count": 53,
   "metadata": {
    "scrolled": true,
    "slideshow": {
     "slide_type": "skip"
    }
   },
   "outputs": [],
   "source": [
    "b_byte_total = agg_bd['Number of Bytes'].sum()\n",
    "p_byte_total = agg_pd['Number of Bytes'].sum()"
   ]
  },
  {
   "cell_type": "code",
   "execution_count": 54,
   "metadata": {
    "scrolled": true,
    "slideshow": {
     "slide_type": "slide"
    }
   },
   "outputs": [
    {
     "name": "stdout",
     "output_type": "stream",
     "text": [
      "Total number of bytes classified as benign: 2342655793\n",
      "Total number of bytes classified as piracy: 183484241\n"
     ]
    }
   ],
   "source": [
    "print ('Total number of bytes classified as benign: %d' %b_byte_total)\n",
    "print ('Total number of bytes classified as piracy: %d' %p_byte_total)"
   ]
  },
  {
   "cell_type": "code",
   "execution_count": 55,
   "metadata": {
    "scrolled": true,
    "slideshow": {
     "slide_type": "slide"
    }
   },
   "outputs": [
    {
     "name": "stdout",
     "output_type": "stream",
     "text": [
      "Percentage of total bytes classified as benign: 92.736577\n",
      "Percentage of total bytes classified as piracy: 7.263423\n"
     ]
    }
   ],
   "source": [
    "comb = b_byte_total + p_byte_total\n",
    "b_percent = 100 * float(b_byte_total) / comb\n",
    "p_percent = 100 * float(p_byte_total) / comb\n",
    "print ('Percentage of total bytes classified as benign: %f' %b_percent)\n",
    "print ('Percentage of total bytes classified as piracy: %f' %p_percent)"
   ]
  },
  {
   "cell_type": "code",
   "execution_count": 56,
   "metadata": {
    "scrolled": true,
    "slideshow": {
     "slide_type": "slide"
    }
   },
   "outputs": [
    {
     "data": {
      "image/png": "[encoded data removed]",
      "text/plain": [
       "<Figure size 432x288 with 1 Axes>"
      ]
     },
     "metadata": {},
     "output_type": "display_data"
    }
   ],
   "source": [
    "values = [b_byte_total, p_byte_total]\n",
    "plt.pie(values, colors=['b', 'r'], labels=['Benign: ' + str(b_byte_total), 'Pirated: ' + str(p_byte_total)], autopct='%.3f')\n",
    "plt.title('Bytes Classified')\n",
    "plt.show()"
   ]
  },
  {
   "cell_type": "markdown",
   "metadata": {
    "slideshow": {
     "slide_type": "slide"
    }
   },
   "source": [
    "# Get Stats of a Collection"
   ]
  },
  {
   "cell_type": "code",
   "execution_count": 57,
   "metadata": {
    "scrolled": true
   },
   "outputs": [
    {
     "name": "stderr",
     "output_type": "stream",
     "text": [
      "/home/thomasbelford/.local/lib/python2.7/site-packages/ipykernel_launcher.py:5: RuntimeWarning: invalid value encountered in double_scalars\n",
      "  \"\"\"\n",
      "/home/thomasbelford/.local/lib/python2.7/site-packages/ipykernel_launcher.py:5: RuntimeWarning: divide by zero encountered in double_scalars\n",
      "  \"\"\"\n"
     ]
    }
   ],
   "source": [
    "tdf, tdfd, tsdf, tsdfd, tcdf, tcdfd = get_stats(b_test_coll)\n"
   ]
  },
  {
   "cell_type": "code",
   "execution_count": 58,
   "metadata": {
    "scrolled": false,
    "slideshow": {
     "slide_type": "slide"
    }
   },
   "outputs": [
    {
     "data": {
      "text/html": [
       "<div>\n",
       "<style scoped>\n",
       "    .dataframe tbody tr th:only-of-type {\n",
       "        vertical-align: middle;\n",
       "    }\n",
       "\n",
       "    .dataframe tbody tr th {\n",
       "        vertical-align: top;\n",
       "    }\n",
       "\n",
       "    .dataframe thead th {\n",
       "        text-align: right;\n",
       "    }\n",
       "</style>\n",
       "<table border=\"1\" class=\"dataframe\">\n",
       "  <thead>\n",
       "    <tr style=\"text-align: right;\">\n",
       "      <th></th>\n",
       "      <th>Number of Bytes</th>\n",
       "      <th>Number of Packets</th>\n",
       "      <th>Flow Duration</th>\n",
       "      <th>Bit Rate</th>\n",
       "    </tr>\n",
       "  </thead>\n",
       "  <tbody>\n",
       "    <tr>\n",
       "      <th>count</th>\n",
       "      <td>2590.000000</td>\n",
       "      <td>2590.000000</td>\n",
       "      <td>2590.000000</td>\n",
       "      <td>2.590000e+03</td>\n",
       "    </tr>\n",
       "    <tr>\n",
       "      <th>mean</th>\n",
       "      <td>5410.860618</td>\n",
       "      <td>14.288417</td>\n",
       "      <td>0.625980</td>\n",
       "      <td>1.776584e+08</td>\n",
       "    </tr>\n",
       "    <tr>\n",
       "      <th>std</th>\n",
       "      <td>7245.057891</td>\n",
       "      <td>33.431675</td>\n",
       "      <td>3.076489</td>\n",
       "      <td>1.201749e+09</td>\n",
       "    </tr>\n",
       "    <tr>\n",
       "      <th>min</th>\n",
       "      <td>0.000000</td>\n",
       "      <td>1.000000</td>\n",
       "      <td>0.000000</td>\n",
       "      <td>0.000000e+00</td>\n",
       "    </tr>\n",
       "    <tr>\n",
       "      <th>25%</th>\n",
       "      <td>140.250000</td>\n",
       "      <td>5.000000</td>\n",
       "      <td>0.000313</td>\n",
       "      <td>1.455835e+04</td>\n",
       "    </tr>\n",
       "    <tr>\n",
       "      <th>50%</th>\n",
       "      <td>4819.500000</td>\n",
       "      <td>10.000000</td>\n",
       "      <td>0.000570</td>\n",
       "      <td>3.447433e+07</td>\n",
       "    </tr>\n",
       "    <tr>\n",
       "      <th>75%</th>\n",
       "      <td>7718.750000</td>\n",
       "      <td>10.000000</td>\n",
       "      <td>0.002549</td>\n",
       "      <td>1.054532e+08</td>\n",
       "    </tr>\n",
       "    <tr>\n",
       "      <th>max</th>\n",
       "      <td>115711.000000</td>\n",
       "      <td>462.000000</td>\n",
       "      <td>36.776162</td>\n",
       "      <td>2.295123e+10</td>\n",
       "    </tr>\n",
       "  </tbody>\n",
       "</table>\n",
       "</div>"
      ],
      "text/plain": [
       "       Number of Bytes  Number of Packets  Flow Duration      Bit Rate\n",
       "count      2590.000000        2590.000000    2590.000000  2.590000e+03\n",
       "mean       5410.860618          14.288417       0.625980  1.776584e+08\n",
       "std        7245.057891          33.431675       3.076489  1.201749e+09\n",
       "min           0.000000           1.000000       0.000000  0.000000e+00\n",
       "25%         140.250000           5.000000       0.000313  1.455835e+04\n",
       "50%        4819.500000          10.000000       0.000570  3.447433e+07\n",
       "75%        7718.750000          10.000000       0.002549  1.054532e+08\n",
       "max      115711.000000         462.000000      36.776162  2.295123e+10"
      ]
     },
     "execution_count": 58,
     "metadata": {},
     "output_type": "execute_result"
    }
   ],
   "source": [
    "tdfd #all flows"
   ]
  },
  {
   "cell_type": "code",
   "execution_count": 59,
   "metadata": {
    "scrolled": false,
    "slideshow": {
     "slide_type": "slide"
    }
   },
   "outputs": [
    {
     "data": {
      "text/html": [
       "<div>\n",
       "<style scoped>\n",
       "    .dataframe tbody tr th:only-of-type {\n",
       "        vertical-align: middle;\n",
       "    }\n",
       "\n",
       "    .dataframe tbody tr th {\n",
       "        vertical-align: top;\n",
       "    }\n",
       "\n",
       "    .dataframe thead th {\n",
       "        text-align: right;\n",
       "    }\n",
       "</style>\n",
       "<table border=\"1\" class=\"dataframe\">\n",
       "  <thead>\n",
       "    <tr style=\"text-align: right;\">\n",
       "      <th></th>\n",
       "      <th>Number of Packets</th>\n",
       "      <th>Number of Bytes</th>\n",
       "      <th>Flow Duration</th>\n",
       "      <th>Bit Rate</th>\n",
       "    </tr>\n",
       "  </thead>\n",
       "  <tbody>\n",
       "    <tr>\n",
       "      <th>count</th>\n",
       "      <td>20.000000</td>\n",
       "      <td>2.000000e+01</td>\n",
       "      <td>20.000000</td>\n",
       "      <td>1.800000e+01</td>\n",
       "    </tr>\n",
       "    <tr>\n",
       "      <th>mean</th>\n",
       "      <td>1850.350000</td>\n",
       "      <td>7.007064e+05</td>\n",
       "      <td>81.064468</td>\n",
       "      <td>2.649609e+05</td>\n",
       "    </tr>\n",
       "    <tr>\n",
       "      <th>std</th>\n",
       "      <td>4747.727204</td>\n",
       "      <td>1.687235e+06</td>\n",
       "      <td>258.788768</td>\n",
       "      <td>8.916215e+05</td>\n",
       "    </tr>\n",
       "    <tr>\n",
       "      <th>min</th>\n",
       "      <td>1.000000</td>\n",
       "      <td>0.000000e+00</td>\n",
       "      <td>0.000000</td>\n",
       "      <td>3.784425e+01</td>\n",
       "    </tr>\n",
       "    <tr>\n",
       "      <th>25%</th>\n",
       "      <td>10.250000</td>\n",
       "      <td>1.310000e+02</td>\n",
       "      <td>0.199611</td>\n",
       "      <td>1.203145e+03</td>\n",
       "    </tr>\n",
       "    <tr>\n",
       "      <th>50%</th>\n",
       "      <td>20.000000</td>\n",
       "      <td>1.998000e+03</td>\n",
       "      <td>4.268054</td>\n",
       "      <td>6.187486e+03</td>\n",
       "    </tr>\n",
       "    <tr>\n",
       "      <th>75%</th>\n",
       "      <td>261.000000</td>\n",
       "      <td>3.825450e+04</td>\n",
       "      <td>57.892324</td>\n",
       "      <td>7.164418e+04</td>\n",
       "    </tr>\n",
       "    <tr>\n",
       "      <th>max</th>\n",
       "      <td>18840.000000</td>\n",
       "      <td>4.943247e+06</td>\n",
       "      <td>1169.991178</td>\n",
       "      <td>3.814234e+06</td>\n",
       "    </tr>\n",
       "  </tbody>\n",
       "</table>\n",
       "</div>"
      ],
      "text/plain": [
       "       Number of Packets  Number of Bytes  Flow Duration      Bit Rate\n",
       "count          20.000000     2.000000e+01      20.000000  1.800000e+01\n",
       "mean         1850.350000     7.007064e+05      81.064468  2.649609e+05\n",
       "std          4747.727204     1.687235e+06     258.788768  8.916215e+05\n",
       "min             1.000000     0.000000e+00       0.000000  3.784425e+01\n",
       "25%            10.250000     1.310000e+02       0.199611  1.203145e+03\n",
       "50%            20.000000     1.998000e+03       4.268054  6.187486e+03\n",
       "75%           261.000000     3.825450e+04      57.892324  7.164418e+04\n",
       "max         18840.000000     4.943247e+06    1169.991178  3.814234e+06"
      ]
     },
     "execution_count": 59,
     "metadata": {},
     "output_type": "execute_result"
    }
   ],
   "source": [
    "tsdfd #sessions, aggregate over source ip"
   ]
  },
  {
   "cell_type": "code",
   "execution_count": 60,
   "metadata": {
    "scrolled": false,
    "slideshow": {
     "slide_type": "slide"
    }
   },
   "outputs": [
    {
     "data": {
      "text/html": [
       "<div>\n",
       "<style scoped>\n",
       "    .dataframe tbody tr th:only-of-type {\n",
       "        vertical-align: middle;\n",
       "    }\n",
       "\n",
       "    .dataframe tbody tr th {\n",
       "        vertical-align: top;\n",
       "    }\n",
       "\n",
       "    .dataframe thead th {\n",
       "        text-align: right;\n",
       "    }\n",
       "</style>\n",
       "<table border=\"1\" class=\"dataframe\">\n",
       "  <thead>\n",
       "    <tr style=\"text-align: right;\">\n",
       "      <th></th>\n",
       "      <th>Number of Packets</th>\n",
       "      <th>Number of Bytes</th>\n",
       "      <th>Flow Duration</th>\n",
       "      <th>Bit Rate</th>\n",
       "    </tr>\n",
       "  </thead>\n",
       "  <tbody>\n",
       "    <tr>\n",
       "      <th>count</th>\n",
       "      <td>181.000000</td>\n",
       "      <td>1.810000e+02</td>\n",
       "      <td>181.000000</td>\n",
       "      <td>1.690000e+02</td>\n",
       "    </tr>\n",
       "    <tr>\n",
       "      <th>mean</th>\n",
       "      <td>204.458564</td>\n",
       "      <td>7.742613e+04</td>\n",
       "      <td>8.957400</td>\n",
       "      <td>inf</td>\n",
       "    </tr>\n",
       "    <tr>\n",
       "      <th>std</th>\n",
       "      <td>811.242473</td>\n",
       "      <td>4.968992e+05</td>\n",
       "      <td>17.933515</td>\n",
       "      <td>NaN</td>\n",
       "    </tr>\n",
       "    <tr>\n",
       "      <th>min</th>\n",
       "      <td>1.000000</td>\n",
       "      <td>0.000000e+00</td>\n",
       "      <td>0.000000</td>\n",
       "      <td>3.784425e+01</td>\n",
       "    </tr>\n",
       "    <tr>\n",
       "      <th>25%</th>\n",
       "      <td>24.000000</td>\n",
       "      <td>4.725000e+03</td>\n",
       "      <td>0.128622</td>\n",
       "      <td>1.880810e+04</td>\n",
       "    </tr>\n",
       "    <tr>\n",
       "      <th>50%</th>\n",
       "      <td>50.000000</td>\n",
       "      <td>1.099600e+04</td>\n",
       "      <td>0.930688</td>\n",
       "      <td>9.781671e+04</td>\n",
       "    </tr>\n",
       "    <tr>\n",
       "      <th>75%</th>\n",
       "      <td>156.000000</td>\n",
       "      <td>3.009200e+04</td>\n",
       "      <td>10.059792</td>\n",
       "      <td>4.366929e+05</td>\n",
       "    </tr>\n",
       "    <tr>\n",
       "      <th>max</th>\n",
       "      <td>8163.000000</td>\n",
       "      <td>4.943247e+06</td>\n",
       "      <td>104.997799</td>\n",
       "      <td>inf</td>\n",
       "    </tr>\n",
       "  </tbody>\n",
       "</table>\n",
       "</div>"
      ],
      "text/plain": [
       "       Number of Packets  Number of Bytes  Flow Duration      Bit Rate\n",
       "count         181.000000     1.810000e+02     181.000000  1.690000e+02\n",
       "mean          204.458564     7.742613e+04       8.957400           inf\n",
       "std           811.242473     4.968992e+05      17.933515           NaN\n",
       "min             1.000000     0.000000e+00       0.000000  3.784425e+01\n",
       "25%            24.000000     4.725000e+03       0.128622  1.880810e+04\n",
       "50%            50.000000     1.099600e+04       0.930688  9.781671e+04\n",
       "75%           156.000000     3.009200e+04      10.059792  4.366929e+05\n",
       "max          8163.000000     4.943247e+06     104.997799           inf"
      ]
     },
     "execution_count": 60,
     "metadata": {},
     "output_type": "execute_result"
    }
   ],
   "source": [
    "tcdfd #conversations, aggregate over combination of source and dest ip"
   ]
  },
  {
   "cell_type": "markdown",
   "metadata": {
    "slideshow": {
     "slide_type": "skip"
    }
   },
   "source": [
    "Note: we can calculate the sums/other statistics of the flow,session and conv charts"
   ]
  },
  {
   "cell_type": "code",
   "execution_count": 61,
   "metadata": {
    "scrolled": true,
    "slideshow": {
     "slide_type": "skip"
    }
   },
   "outputs": [
    {
     "name": "stdout",
     "output_type": "stream",
     "text": [
      "1621.2893602848053\n"
     ]
    }
   ],
   "source": [
    "print tdf['Flow Duration'].sum()\n"
   ]
  },
  {
   "cell_type": "markdown",
   "metadata": {
    "slideshow": {
     "slide_type": "slide"
    }
   },
   "source": [
    "# VPN Testing\n",
    "We will perform two tests, one to check if we can classify flows between VPN and non-VPN,\n",
    "and the other to see if our random forest classifier misclassifies one more often than\n",
    "the other"
   ]
  },
  {
   "cell_type": "code",
   "execution_count": 62,
   "metadata": {
    "scrolled": true,
    "slideshow": {
     "slide_type": "skip"
    }
   },
   "outputs": [],
   "source": [
    "vpn_c = mydb['WithVPN']\n",
    "n_vpn_c = mydb['NoVPN']"
   ]
  },
  {
   "cell_type": "code",
   "execution_count": 63,
   "metadata": {
    "scrolled": true,
    "slideshow": {
     "slide_type": "skip"
    }
   },
   "outputs": [],
   "source": [
    "vpn_set = []\n",
    "vpn_labels = []\n",
    "n_vpn_set = []\n",
    "n_vpn_labels = []\n",
    "bv = [0] * 256\n",
    "bnv = [0] * 256"
   ]
  },
  {
   "cell_type": "code",
   "execution_count": 64,
   "metadata": {
    "scrolled": true,
    "slideshow": {
     "slide_type": "skip"
    }
   },
   "outputs": [],
   "source": [
    "set_up_array(vpn_c, vpn_set, vpn_labels, 1)\n",
    "set_up_array(n_vpn_c, n_vpn_set, n_vpn_labels, 0)"
   ]
  },
  {
   "cell_type": "code",
   "execution_count": 65,
   "metadata": {
    "scrolled": true,
    "slideshow": {
     "slide_type": "skip"
    }
   },
   "outputs": [],
   "source": [
    "set_of_both = []\n",
    "labels_of_both = []"
   ]
  },
  {
   "cell_type": "code",
   "execution_count": 66,
   "metadata": {
    "scrolled": true,
    "slideshow": {
     "slide_type": "skip"
    }
   },
   "outputs": [],
   "source": [
    "set_of_both.extend(vpn_set)\n",
    "set_of_both.extend(n_vpn_set)\n",
    "labels_of_both.extend(vpn_labels)\n",
    "labels_of_both.extend(n_vpn_labels)"
   ]
  },
  {
   "cell_type": "code",
   "execution_count": 67,
   "metadata": {
    "scrolled": true,
    "slideshow": {
     "slide_type": "skip"
    }
   },
   "outputs": [],
   "source": [
    "train_arr, test_arr, train_l, test_l = train_test_split(set_of_both, labels_of_both, test_size=0.2)"
   ]
  },
  {
   "cell_type": "code",
   "execution_count": 68,
   "metadata": {
    "scrolled": true,
    "slideshow": {
     "slide_type": "skip"
    }
   },
   "outputs": [],
   "source": [
    "cross_val = cross_validate(RandomForestClassifier(), set_of_both, labels_of_both, cv=StratifiedKFold(5, True), )"
   ]
  },
  {
   "cell_type": "code",
   "execution_count": null,
   "metadata": {
    "slideshow": {
     "slide_type": "skip"
    }
   },
   "outputs": [],
   "source": []
  },
  {
   "cell_type": "code",
   "execution_count": 69,
   "metadata": {
    "scrolled": false,
    "slideshow": {
     "slide_type": "slide"
    }
   },
   "outputs": [
    {
     "name": "stderr",
     "output_type": "stream",
     "text": [
      "/home/thomasbelford/.local/lib/python2.7/site-packages/sklearn/utils/deprecation.py:125: FutureWarning: You are accessing a training score ('train_score'), which will not be available by default any more in 0.21. If you need training scores, please set return_train_score=True\n",
      "  warnings.warn(*warn_args, **warn_kwargs)\n"
     ]
    },
    {
     "data": {
      "text/html": [
       "<div>\n",
       "<style scoped>\n",
       "    .dataframe tbody tr th:only-of-type {\n",
       "        vertical-align: middle;\n",
       "    }\n",
       "\n",
       "    .dataframe tbody tr th {\n",
       "        vertical-align: top;\n",
       "    }\n",
       "\n",
       "    .dataframe thead th {\n",
       "        text-align: right;\n",
       "    }\n",
       "</style>\n",
       "<table border=\"1\" class=\"dataframe\">\n",
       "  <thead>\n",
       "    <tr style=\"text-align: right;\">\n",
       "      <th></th>\n",
       "      <th>fit_time</th>\n",
       "      <th>score_time</th>\n",
       "      <th>test_score</th>\n",
       "      <th>train_score</th>\n",
       "    </tr>\n",
       "  </thead>\n",
       "  <tbody>\n",
       "    <tr>\n",
       "      <th>0</th>\n",
       "      <td>0.054874</td>\n",
       "      <td>0.003221</td>\n",
       "      <td>0.781609</td>\n",
       "      <td>0.976945</td>\n",
       "    </tr>\n",
       "    <tr>\n",
       "      <th>1</th>\n",
       "      <td>0.049553</td>\n",
       "      <td>0.003037</td>\n",
       "      <td>0.827586</td>\n",
       "      <td>0.979827</td>\n",
       "    </tr>\n",
       "    <tr>\n",
       "      <th>2</th>\n",
       "      <td>0.054148</td>\n",
       "      <td>0.003730</td>\n",
       "      <td>0.810345</td>\n",
       "      <td>0.975504</td>\n",
       "    </tr>\n",
       "    <tr>\n",
       "      <th>3</th>\n",
       "      <td>0.050283</td>\n",
       "      <td>0.003080</td>\n",
       "      <td>0.804598</td>\n",
       "      <td>0.976945</td>\n",
       "    </tr>\n",
       "    <tr>\n",
       "      <th>4</th>\n",
       "      <td>0.050490</td>\n",
       "      <td>0.003068</td>\n",
       "      <td>0.784884</td>\n",
       "      <td>0.975575</td>\n",
       "    </tr>\n",
       "  </tbody>\n",
       "</table>\n",
       "</div>"
      ],
      "text/plain": [
       "   fit_time  score_time  test_score  train_score\n",
       "0  0.054874    0.003221    0.781609     0.976945\n",
       "1  0.049553    0.003037    0.827586     0.979827\n",
       "2  0.054148    0.003730    0.810345     0.975504\n",
       "3  0.050283    0.003080    0.804598     0.976945\n",
       "4  0.050490    0.003068    0.784884     0.975575"
      ]
     },
     "execution_count": 69,
     "metadata": {},
     "output_type": "execute_result"
    }
   ],
   "source": [
    "# After testing and performing a 5 fold cross validation, we see that \n",
    "# a random forest classifier can classify between VPN and no VPN with an accuracy\n",
    "# of around 80%\n",
    "cs = pd.DataFrame(cross_val)\n",
    "cs"
   ]
  },
  {
   "cell_type": "code",
   "execution_count": 70,
   "metadata": {
    "scrolled": true,
    "slideshow": {
     "slide_type": "skip"
    }
   },
   "outputs": [
    {
     "name": "stdout",
     "output_type": "stream",
     "text": [
      "0.7528735632183908\n"
     ]
    },
    {
     "data": {
      "text/plain": [
       "array([[112,  13],\n",
       "       [ 30,  19]])"
      ]
     },
     "execution_count": 70,
     "metadata": {},
     "output_type": "execute_result"
    }
   ],
   "source": [
    "rf3 = RandomForestClassifier()\n",
    "rf3.fit(train_arr, train_l)\n",
    "print rf3.score(test_arr, test_l)\n",
    "cf = rf3.predict(test_arr)\n",
    "cm = confusion_matrix(test_l, cf)\n",
    "cm"
   ]
  },
  {
   "cell_type": "code",
   "execution_count": 71,
   "metadata": {
    "slideshow": {
     "slide_type": "skip"
    }
   },
   "outputs": [],
   "source": [
    "#test to see how well RF can classify youtube streams despite some being sent through VPN\n",
    "test_p_level = []\n",
    "#all are benign\n",
    "for i in range(len(labels_of_both)):\n",
    "    if i == 1:\n",
    "        test_p_level.append(1)\n",
    "    else:\n",
    "        test_p_level.append(0)"
   ]
  },
  {
   "cell_type": "code",
   "execution_count": 72,
   "metadata": {
    "scrolled": true,
    "slideshow": {
     "slide_type": "skip"
    }
   },
   "outputs": [
    {
     "data": {
      "text/plain": [
       "array([[679, 188],\n",
       "       [  1,   0]])"
      ]
     },
     "execution_count": 72,
     "metadata": {},
     "output_type": "execute_result"
    }
   ],
   "source": [
    "x = score_clf(rand_forest, test_p_level, set_of_both)\n",
    "dfx = pd.DataFrame(x).T\n",
    "dfx.columns = ['Accuracy', 'Precision', 'F1', 'Log_Loss', 'TruePosRate', 'FalsePosRate']\n",
    "cf = rand_forest.predict(set_of_both)\n",
    "cm = confusion_matrix(test_p_level, cf)\n",
    "cm"
   ]
  },
  {
   "cell_type": "code",
   "execution_count": 73,
   "metadata": {
    "scrolled": true,
    "slideshow": {
     "slide_type": "slide"
    }
   },
   "outputs": [
    {
     "data": {
      "text/html": [
       "<div>\n",
       "<style scoped>\n",
       "    .dataframe tbody tr th:only-of-type {\n",
       "        vertical-align: middle;\n",
       "    }\n",
       "\n",
       "    .dataframe tbody tr th {\n",
       "        vertical-align: top;\n",
       "    }\n",
       "\n",
       "    .dataframe thead th {\n",
       "        text-align: right;\n",
       "    }\n",
       "</style>\n",
       "<table border=\"1\" class=\"dataframe\">\n",
       "  <thead>\n",
       "    <tr style=\"text-align: right;\">\n",
       "      <th></th>\n",
       "      <th>Accuracy</th>\n",
       "      <th>Precision</th>\n",
       "      <th>F1</th>\n",
       "      <th>Log_Loss</th>\n",
       "      <th>TruePosRate</th>\n",
       "      <th>FalsePosRate</th>\n",
       "    </tr>\n",
       "  </thead>\n",
       "  <tbody>\n",
       "    <tr>\n",
       "      <th>0</th>\n",
       "      <td>0.782258</td>\n",
       "      <td>0.0</td>\n",
       "      <td>0.0</td>\n",
       "      <td>7.520713</td>\n",
       "      <td>0.998529</td>\n",
       "      <td>1.0</td>\n",
       "    </tr>\n",
       "  </tbody>\n",
       "</table>\n",
       "</div>"
      ],
      "text/plain": [
       "   Accuracy  Precision   F1  Log_Loss  TruePosRate  FalsePosRate\n",
       "0  0.782258        0.0  0.0  7.520713     0.998529           1.0"
      ]
     },
     "execution_count": 73,
     "metadata": {},
     "output_type": "execute_result"
    }
   ],
   "source": [
    "# After running our Piracy Detecting Random Forest, we get this... \n",
    "dfx"
   ]
  },
  {
   "cell_type": "markdown",
   "metadata": {
    "slideshow": {
     "slide_type": "slide"
    }
   },
   "source": [
    "# Analyze Specific Capture Files\n",
    "pass in paths to a file to get graphs and statistics"
   ]
  },
  {
   "cell_type": "code",
   "execution_count": 74,
   "metadata": {
    "scrolled": true,
    "slideshow": {
     "slide_type": "slide"
    }
   },
   "outputs": [
    {
     "name": "stdout",
     "output_type": "stream",
     "text": [
      "./bin/joy bidir=1 dist=1 ~/btr/amazon1.pcap | ./move2Cmongo/mongocpath Individual_File\n"
     ]
    },
    {
     "data": {
      "image/png": "[encoded data removed]",
      "text/plain": [
       "<Figure size 432x288 with 1 Axes>"
      ]
     },
     "metadata": {
      "needs_background": "light"
     },
     "output_type": "display_data"
    },
    {
     "data": {
      "image/png": "[encoded data removed]",
      "text/plain": [
       "<Figure size 432x288 with 1 Axes>"
      ]
     },
     "metadata": {
      "needs_background": "light"
     },
     "output_type": "display_data"
    },
    {
     "data": {
      "image/png": "[encoded data removed]",
      "text/plain": [
       "<Figure size 432x288 with 1 Axes>"
      ]
     },
     "metadata": {
      "needs_background": "light"
     },
     "output_type": "display_data"
    },
    {
     "data": {
      "image/png": "[encoded data removed]",
      "text/plain": [
       "<Figure size 432x288 with 1 Axes>"
      ]
     },
     "metadata": {
      "needs_background": "light"
     },
     "output_type": "display_data"
    },
    {
     "data": {
      "image/png": "[encoded data removed]",
      "text/plain": [
       "<Figure size 432x288 with 1 Axes>"
      ]
     },
     "metadata": {
      "needs_background": "light"
     },
     "output_type": "display_data"
    },
    {
     "data": {
      "image/png": "[encoded data removed]",
      "text/plain": [
       "<Figure size 432x288 with 1 Axes>"
      ]
     },
     "metadata": {
      "needs_background": "light"
     },
     "output_type": "display_data"
    },
    {
     "data": {
      "image/png": "[encoded data removed]",
      "text/plain": [
       "<Figure size 432x288 with 1 Axes>"
      ]
     },
     "metadata": {
      "needs_background": "light"
     },
     "output_type": "display_data"
    },
    {
     "data": {
      "image/png": "[encoded data removed]",
      "text/plain": [
       "<Figure size 432x288 with 1 Axes>"
      ]
     },
     "metadata": {
      "needs_background": "light"
     },
     "output_type": "display_data"
    },
    {
     "name": "stdout",
     "output_type": "stream",
     "text": [
      "Flow Stats: ~/btr/amazon1\n",
      "       Number of Bytes  Number of Packets  Flow Duration       Bit Rate\n",
      "count        45.000000          45.000000      45.000000      45.000000\n",
      "mean        960.955556          13.844444       2.552132   59508.373340\n",
      "std        2190.719080          26.962057       7.212552   91360.901862\n",
      "min           0.000000           3.000000       0.000000       0.000000\n",
      "25%         169.000000           3.000000       0.005850    4150.603965\n",
      "50%         195.000000           3.000000       0.046845   30138.869686\n",
      "75%         536.000000           9.000000       1.084093   50217.191156\n",
      "max        8321.000000         102.000000      33.182626  348067.379144\n",
      "Session Stats: ~/btr/amazon1\n",
      "       Number of Packets  Number of Bytes  Flow Duration     Bit Rate\n",
      "count                1.0              1.0       1.000000     1.000000\n",
      "mean               623.0          43243.0     114.845936  3012.244165\n",
      "std                  NaN              NaN            NaN          NaN\n",
      "min                623.0          43243.0     114.845936  3012.244165\n",
      "25%                623.0          43243.0     114.845936  3012.244165\n",
      "50%                623.0          43243.0     114.845936  3012.244165\n",
      "75%                623.0          43243.0     114.845936  3012.244165\n",
      "max                623.0          43243.0     114.845936  3012.244165\n",
      "Conversation Stats: ~/btr/amazon1\n",
      "       Number of Packets  Number of Bytes  Flow Duration     Bit Rate\n",
      "count                1.0              1.0       1.000000     1.000000\n",
      "mean               623.0          43243.0     114.845936  3012.244165\n",
      "std                  NaN              NaN            NaN          NaN\n",
      "min                623.0          43243.0     114.845936  3012.244165\n",
      "25%                623.0          43243.0     114.845936  3012.244165\n",
      "50%                623.0          43243.0     114.845936  3012.244165\n",
      "75%                623.0          43243.0     114.845936  3012.244165\n",
      "max                623.0          43243.0     114.845936  3012.244165\n",
      "./bin/joy bidir=1 dist=1 ~/btr/comcast1.pcap | ./move2Cmongo/mongocpath Individual_File\n"
     ]
    },
    {
     "data": {
      "image/png": "[encoded data removed]",
      "text/plain": [
       "<Figure size 432x288 with 1 Axes>"
      ]
     },
     "metadata": {
      "needs_background": "light"
     },
     "output_type": "display_data"
    },
    {
     "data": {
      "image/png": "[encoded data removed]",
      "text/plain": [
       "<Figure size 432x288 with 1 Axes>"
      ]
     },
     "metadata": {
      "needs_background": "light"
     },
     "output_type": "display_data"
    },
    {
     "data": {
      "image/png": "[encoded data removed]",
      "text/plain": [
       "<Figure size 432x288 with 1 Axes>"
      ]
     },
     "metadata": {
      "needs_background": "light"
     },
     "output_type": "display_data"
    },
    {
     "data": {
      "image/png": "[encoded data removed]",
      "text/plain": [
       "<Figure size 432x288 with 1 Axes>"
      ]
     },
     "metadata": {
      "needs_background": "light"
     },
     "output_type": "display_data"
    },
    {
     "data": {
      "image/png": "[encoded data removed]",
      "text/plain": [
       "<Figure size 432x288 with 1 Axes>"
      ]
     },
     "metadata": {
      "needs_background": "light"
     },
     "output_type": "display_data"
    },
    {
     "data": {
      "image/png": "[encoded data removed]",
      "text/plain": [
       "<Figure size 432x288 with 1 Axes>"
      ]
     },
     "metadata": {
      "needs_background": "light"
     },
     "output_type": "display_data"
    },
    {
     "data": {
      "image/png": "[encoded data removed]",
      "text/plain": [
       "<Figure size 432x288 with 1 Axes>"
      ]
     },
     "metadata": {
      "needs_background": "light"
     },
     "output_type": "display_data"
    },
    {
     "data": {
      "image/png": "[encoded data removed]",
      "text/plain": [
       "<Figure size 432x288 with 1 Axes>"
      ]
     },
     "metadata": {
      "needs_background": "light"
     },
     "output_type": "display_data"
    },
    {
     "name": "stdout",
     "output_type": "stream",
     "text": [
      "Flow Stats: ~/btr/comcast1\n",
      "       Number of Bytes  Number of Packets  Flow Duration      Bit Rate\n",
      "count        37.000000          37.000000      37.000000  3.700000e+01\n",
      "mean      13787.675676          32.567568       1.487703  6.592174e+05\n",
      "std       17930.114050          48.645852       4.981579  1.597553e+06\n",
      "min          31.000000           3.000000       0.002538  5.557489e+03\n",
      "25%          62.000000           7.000000       0.038065  2.130047e+04\n",
      "50%        7666.000000          12.000000       0.072807  9.151745e+04\n",
      "75%       20622.000000          35.000000       0.911569  4.146132e+05\n",
      "max       60307.000000         211.000000      22.055084  8.653781e+06\n",
      "Session Stats: ~/btr/comcast1\n",
      "       Number of Packets  Number of Bytes  Flow Duration       Bit Rate\n",
      "count           2.000000         2.000000       2.000000       2.000000\n",
      "mean          602.500000    255072.000000      27.522501  415774.272859\n",
      "std           731.855519    275395.463855      38.030833  494470.989790\n",
      "min            85.000000     60338.000000       0.630641   66130.482879\n",
      "25%           343.750000    157705.000000      14.076571  240952.377869\n",
      "50%           602.500000    255072.000000      27.522501  415774.272859\n",
      "75%           861.250000    352439.000000      40.968431  590596.167849\n",
      "max          1120.000000    449806.000000      54.414361  765418.062839\n",
      "Conversation Stats: ~/btr/comcast1\n",
      "       Number of Packets  Number of Bytes  Flow Duration       Bit Rate\n",
      "count           2.000000         2.000000       2.000000       2.000000\n",
      "mean          602.500000    255072.000000      27.522501  415774.272859\n",
      "std           731.855519    275395.463855      38.030833  494470.989790\n",
      "min            85.000000     60338.000000       0.630641   66130.482879\n",
      "25%           343.750000    157705.000000      14.076571  240952.377869\n",
      "50%           602.500000    255072.000000      27.522501  415774.272859\n",
      "75%           861.250000    352439.000000      40.968431  590596.167849\n",
      "max          1120.000000    449806.000000      54.414361  765418.062839\n"
     ]
    }
   ],
   "source": [
    "file_names = ['~/btr/amazon1', '~/btr/comcast1']\n",
    "analyze_files(file_names)"
   ]
  },
  {
   "cell_type": "code",
   "execution_count": null,
   "metadata": {
    "slideshow": {
     "slide_type": "skip"
    }
   },
   "outputs": [],
   "source": []
  }
 ],
 "metadata": {
  "celltoolbar": "Slideshow",
  "kernelspec": {
   "display_name": "Python 2",
   "language": "python",
   "name": "python2"
  },
  "language_info": {
   "codemirror_mode": {
    "name": "ipython",
    "version": 2
   },
   "file_extension": ".py",
   "mimetype": "text/x-python",
   "name": "python",
   "nbconvert_exporter": "python",
   "pygments_lexer": "ipython2",
   "version": "2.7.15rc1"
  }
 },
 "nbformat": 4,
 "nbformat_minor": 2
}
