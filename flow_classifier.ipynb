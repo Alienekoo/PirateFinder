{
 "cells": [
  {
   "cell_type": "code",
   "execution_count": 1,
   "metadata": {},
   "outputs": [],
   "source": [
    "#Some code has been modeled based on CISCO's Joy. "
   ]
  },
  {
   "cell_type": "code",
   "execution_count": 2,
   "metadata": {},
   "outputs": [],
   "source": [
    "import numpy as np\n",
    "import pymongo\n",
    "#from sklearn import neural_network\n",
    "from sklearn.neural_network import MLPClassifier\n",
    "from sklearn.model_selection import GridSearchCV, learning_curve\n",
    "from sklearn.linear_model import LogisticRegression\n",
    "from sklearn.metrics import accuracy_score, make_scorer\n",
    "from sklearn.tree import DecisionTreeClassifier\n",
    "import sys\n",
    "import math\n",
    "from imblearn.over_sampling import SMOTE\n",
    "from imblearn.over_sampling import SMOTENC\n",
    "from sklearn import preprocessing\n",
    "import matplotlib.pyplot as plt\n",
    "from operator import add\n",
    "from sklearn.svm import SVC\n",
    "from sklearn.ensemble import RandomForestClassifier"
   ]
  },
  {
   "cell_type": "code",
   "execution_count": 3,
   "metadata": {},
   "outputs": [],
   "source": [
    "client = pymongo.MongoClient(\"mongodb://localhost:27017/\")\n",
    "mydb = client[\"flowdb\"]\n",
    "p_train_coll = mydb[\"trainP\"]\n",
    "p_test_coll = mydb[\"testP\"]\n",
    "b_train_coll = mydb[\"trainB\"]\n",
    "b_test_coll = mydb[\"testB\"]\n",
    "net_train_coll = mydb[\"Netflow\"]"
   ]
  },
  {
   "cell_type": "code",
   "execution_count": 4,
   "metadata": {},
   "outputs": [],
   "source": [
    "p_train = []\n",
    "p_test = []\n",
    "b_train = []\n",
    "b_test = []\n",
    "p_train_l = []\n",
    "p_test_l = []\n",
    "b_train_l = []\n",
    "b_test_l = []\n"
   ]
  },
  {
   "cell_type": "code",
   "execution_count": 5,
   "metadata": {},
   "outputs": [],
   "source": [
    "#these are for the individualPL \n",
    "numRows = 10\n",
    "binSize = 150.0\n",
    "\n",
    "b_byte_dist_h = [0] * 256\n",
    "b_ipt_h = np.zeros((numRows, numRows))\n",
    "p_byte_dist_h = [0] * 256\n",
    "p_ipt_h = np.zeros((numRows, numRows))\n",
    "b_pl = np.zeros((numRows,numRows))\n",
    "p_pl = np.zeros((numRows,numRows))"
   ]
  },
  {
   "cell_type": "code",
   "execution_count": 6,
   "metadata": {},
   "outputs": [],
   "source": [
    "#def adjust_threshold()"
   ]
  },
  {
   "cell_type": "markdown",
   "metadata": {},
   "source": [
    "## methods to gather data from flow"
   ]
  },
  {
   "cell_type": "code",
   "execution_count": 7,
   "metadata": {},
   "outputs": [],
   "source": [
    "def getBD(doc, flag):\n",
    "    data = []\n",
    "    if len(doc['packets']) == 0:\n",
    "        return\n",
    "    if doc['byte_dist'] != None and sum(doc['byte_dist']) > 0:\n",
    "        tmp = map(lambda x: x / float(sum(doc['byte_dist'])), doc['byte_dist'])\n",
    "        data.extend(tmp)\n",
    "        if flag == 0:\n",
    "            for i in range(len(tmp)):\n",
    "                b_byte_dist_h[i] += tmp[i]\n",
    "        elif flag == 1:\n",
    "            for i in range(len(tmp)):\n",
    "                p_byte_dist_h[i] += tmp[i]\n",
    "    else:\n",
    "        data.extend(np.zeros(256))\n",
    "    return data"
   ]
  },
  {
   "cell_type": "code",
   "execution_count": 8,
   "metadata": {},
   "outputs": [],
   "source": [
    "def getIndividualPL(flow, flag):\n",
    "    transMat = np.zeros((numRows, numRows))\n",
    "    if len(flow['packets']) == 0:\n",
    "        return\n",
    "    elif len(flow['packets']) == 1:\n",
    "        curPacketSize = min(int(flow['packets'][0]['b'] / binSize), numRows - 1)\n",
    "        transMat[curPacketSize, curPacketSize] = 1\n",
    "        if (flag == 0):\n",
    "            b_pl[curPacketSize, curPacketSize] += 1\n",
    "        elif (flag == 1):\n",
    "            p_pl[curPacketSize, curPacketSize] += 1\n",
    "        \n",
    "        return (list(transMat.flatten()))\n",
    "        \n",
    "\n",
    "    # get raw transition counts\n",
    "    for i in range(1, len(flow['packets'])):\n",
    "        prevPacketSize = min(int(flow['packets'][i - 1]['b'] / binSize), numRows - 1)\n",
    "        if 'b' not in flow['packets'][i]:\n",
    "            break\n",
    "        curPacketSize = min(int(flow['packets'][i]['b'] / binSize), numRows - 1)\n",
    "        transMat[prevPacketSize, curPacketSize] += 1\n",
    "        \n",
    "        if (flag == 0):\n",
    "            b_pl[prevPacketSize, curPacketSize] += 1\n",
    "        elif (flag == 1):\n",
    "            p_pl[prevPacketSize, curPacketSize] += 1\n",
    "        \n",
    "    # get empirical transition probabilities\n",
    "    for i in range(numRows):\n",
    "        if float(np.sum(transMat[i:i + 1])) != 0:\n",
    "            transMat[i:i + 1] = transMat[i:i + 1] / float(np.sum(transMat[i:i + 1]))\n",
    "\n",
    "    return (list(transMat.flatten()))"
   ]
  },
  {
   "cell_type": "code",
   "execution_count": 9,
   "metadata": {},
   "outputs": [],
   "source": [
    "def getIPT(flow, flag):\n",
    "    #numRows = 10\n",
    "    binSize = 50.0\n",
    "    transMat = np.zeros((numRows, numRows))\n",
    "    if len(flow['packets']) == 0:\n",
    "        return\n",
    "    elif len(flow['packets']) == 1:\n",
    "        curIPT = min(int(flow['packets'][0]['ipt'] / float(binSize)), numRows - 1)\n",
    "        transMat[curIPT, curIPT] = 1\n",
    "        \n",
    "        #for updating histograms/box charts\n",
    "        if (flag == 0):\n",
    "            b_ipt_h[curIPT, curIPT] += 1\n",
    "        elif (flag == 1):\n",
    "            p_ipt_h[curIPT, curIPT] += 1\n",
    "        return (list(transMat.flatten()))\n",
    "        \n",
    "\n",
    "    # get raw transition counts\n",
    "    for i in range(1, len(flow['packets'])):\n",
    "        prevIPT = min(int(flow['packets'][i - 1]['ipt'] / float(binSize)), numRows - 1)\n",
    "        curIPT = min(int(flow['packets'][i]['ipt'] / float(binSize)), numRows - 1)\n",
    "        transMat[prevIPT, curIPT] += 1\n",
    "        \n",
    "        if (flag == 0):\n",
    "            b_ipt_h[prevIPT, curIPT] += 1\n",
    "        elif (flag == 1):\n",
    "            p_ipt_h[prevIPT, curIPT] += 1\n",
    "\n",
    "    # get empirical transition probabilities\n",
    "    for i in range(numRows):\n",
    "        if float(np.sum(transMat[i:i + 1])) != 0:\n",
    "            transMat[i:i + 1] = transMat[i:i + 1] / float(np.sum(transMat[i:i + 1]))\n",
    "\n",
    "    return (list(transMat.flatten()))"
   ]
  },
  {
   "cell_type": "code",
   "execution_count": 10,
   "metadata": {},
   "outputs": [],
   "source": [
    "def getMD(flow, flag):\n",
    "    tmp = []\n",
    "\n",
    "    if flow['dp'] != None:\n",
    "        tmp.append(float(flow['dp']))  # destination port\n",
    "    else:\n",
    "        tmp.append(0)  # ICMP/etc.\n",
    "    if flow['sp'] != None:\n",
    "        tmp.append(float(flow['sp']))  # source port\n",
    "    else:\n",
    "        tmp.append(0)  # ICMP/etc.\n",
    "    if 'num_pkts_in' in flow:\n",
    "        tmp.append(flow['num_pkts_in'])  # inbound packets\n",
    "    else:\n",
    "        tmp.append(0)\n",
    "    if 'num_pkts_out' in flow:\n",
    "        tmp.append(flow['num_pkts_out'])  # outbound packets\n",
    "    else:\n",
    "        tmp.append(0)\n",
    "    if 'bytes_in' in flow:\n",
    "        tmp.append(flow['bytes_in'])  # inbound bytes\n",
    "    else:\n",
    "        tmp.append(0)\n",
    "    if 'bytes_out' in flow:\n",
    "        tmp.append(flow['bytes_out'])  # outbound bytes\n",
    "    else:\n",
    "        tmp.append(0)\n",
    "    # elapsed time of flow\n",
    "    if flow['packets'] == []:\n",
    "        tmp.append(0)\n",
    "    else:\n",
    "        time = 0\n",
    "        for packet in flow['packets']:\n",
    "            time += packet['ipt']\n",
    "        tmp.append(time)\n",
    "    return tmp"
   ]
  },
  {
   "cell_type": "markdown",
   "metadata": {},
   "source": [
    "## set up arrays using methods from above to be trained on"
   ]
  },
  {
   "cell_type": "code",
   "execution_count": 11,
   "metadata": {},
   "outputs": [
    {
     "data": {
      "text/plain": [
       "\"\\nfor doc in net_train_coll.find({'$or':[{'da': '192.168.5.113'}, {'sa': '192.168.5.113'}]}):\\n    tmpd = []\\n    tmp = getMD(doc, -1)\\n    tmpb = getBD(doc, -1)\\n    if (tmpb is None or len(tmpb) != 256):\\n        continue\\n    #tmpbd = preprocessing.scale(tmpb)\\n    tmpift = getIPT(doc, -1)\\n    \\n    #note: these 100's need to be changed if numRows is changed\\n    #if (tmpift is None or len(tmpift) != 100):\\n    #    continue\\n        \\n    tmpind_pl = getIndividualPL(doc, -1)\\n    #if (tmpind_pl is None or len(tmpind_pl) != 100):\\n    #    continue\\n    \\n    tmpd.extend(tmp)\\n    tmpd.extend(tmpb)\\n    #tmpd.extend(tmpift)\\n    #tmpd.extend(tmpind_fl)\\n    p_train.append(tmpd)\\n    p_train_l.append(1)\\n\""
      ]
     },
     "execution_count": 11,
     "metadata": {},
     "output_type": "execute_result"
    }
   ],
   "source": [
    "for doc in p_train_coll.find():\n",
    "    tmpd = []\n",
    "    tmp = getMD(doc, 1)\n",
    "    tmpb = getBD(doc, 1)\n",
    "    #if (tmpb is None or len(tmpb) != 256):\n",
    "    #    continue\n",
    "    #tmpbd = preprocessing.scale(tmpb)\n",
    "    tmpift = getIPT(doc, 1)\n",
    "    \n",
    "    #note: these 100's need to be changed if numRows is changed\n",
    "    #if (tmpift is None or len(tmpift) != 100):\n",
    "    #    continue\n",
    "        \n",
    "    tmpind_pl = getIndividualPL(doc, 1)\n",
    "    #if (tmpind_pl is None or len(tmpind_pl) != 100):\n",
    "    #    continue\n",
    "    \n",
    "    \n",
    "    tmpd.extend(tmp)\n",
    "    #tmpd.extend(tmpb)\n",
    "    #tmpd.extend(tmpift)\n",
    "    #tmpd.extend(tmpind_fl)\n",
    "    p_train.append(tmpd)\n",
    "    p_train_l.append(1)\n",
    "'''\n",
    "for doc in net_train_coll.find({'$or':[{'da': '192.168.5.113'}, {'sa': '192.168.5.113'}]}):\n",
    "    tmpd = []\n",
    "    tmp = getMD(doc, -1)\n",
    "    tmpb = getBD(doc, -1)\n",
    "    if (tmpb is None or len(tmpb) != 256):\n",
    "        continue\n",
    "    #tmpbd = preprocessing.scale(tmpb)\n",
    "    tmpift = getIPT(doc, -1)\n",
    "    \n",
    "    #note: these 100's need to be changed if numRows is changed\n",
    "    #if (tmpift is None or len(tmpift) != 100):\n",
    "    #    continue\n",
    "        \n",
    "    tmpind_pl = getIndividualPL(doc, -1)\n",
    "    #if (tmpind_pl is None or len(tmpind_pl) != 100):\n",
    "    #    continue\n",
    "    \n",
    "    tmpd.extend(tmp)\n",
    "    tmpd.extend(tmpb)\n",
    "    #tmpd.extend(tmpift)\n",
    "    #tmpd.extend(tmpind_fl)\n",
    "    p_train.append(tmpd)\n",
    "    p_train_l.append(1)\n",
    "'''"
   ]
  },
  {
   "cell_type": "code",
   "execution_count": 12,
   "metadata": {},
   "outputs": [
    {
     "data": {
      "image/png": "[encoded data removed]",
      "text/plain": [
       "<Figure size 432x288 with 1 Axes>"
      ]
     },
     "metadata": {
      "needs_background": "light"
     },
     "output_type": "display_data"
    }
   ],
   "source": [
    "y_pos = np.arange(len(p_byte_dist_h))\n",
    "x = preprocessing.scale(p_byte_dist_h)\n",
    "plt.bar(y_pos, x)\n",
    "plt.title(\"Standardized Pirate Byte Distribution\")\n",
    "plt.show()"
   ]
  },
  {
   "cell_type": "code",
   "execution_count": 13,
   "metadata": {},
   "outputs": [
    {
     "data": {
      "image/png": "[encoded data removed]",
      "text/plain": [
       "<Figure size 432x288 with 1 Axes>"
      ]
     },
     "metadata": {
      "needs_background": "light"
     },
     "output_type": "display_data"
    }
   ],
   "source": [
    "p_ipt_h = p_ipt_h.flatten()\n",
    "y_pos = np.arange(len(p_ipt_h))\n",
    "x = preprocessing.scale(p_ipt_h)\n",
    "plt.bar(y_pos, x)\n",
    "plt.title(\"Pirate IPT buckets\")\n",
    "plt.show()"
   ]
  },
  {
   "cell_type": "code",
   "execution_count": 14,
   "metadata": {},
   "outputs": [
    {
     "data": {
      "image/png": "[encoded data removed]",
      "text/plain": [
       "<Figure size 432x288 with 1 Axes>"
      ]
     },
     "metadata": {
      "needs_background": "light"
     },
     "output_type": "display_data"
    }
   ],
   "source": [
    "p_pl = p_pl.flatten()\n",
    "y_pos = np.arange(len(p_pl))\n",
    "x = preprocessing.scale(p_pl)\n",
    "plt.bar(y_pos, x)\n",
    "plt.title('Pirate PL Matrix')\n",
    "plt.show()"
   ]
  },
  {
   "cell_type": "code",
   "execution_count": 15,
   "metadata": {},
   "outputs": [],
   "source": [
    "for doc in p_test_coll.find():\n",
    "    tmpd = []\n",
    "    tmp = getMD(doc, -1)\n",
    "    tmpb = getBD(doc, -1)\n",
    "    #if (tmpb is None or len(tmpb) != 256):\n",
    "    #    continue\n",
    "    #tmpbd = preprocessing.scale(tmpb)\n",
    "    #tmpift = getIPT(doc, -1)\n",
    "    \n",
    "    #note: these 100's need to be changed if numRows is changed\n",
    "    #if (tmpift is None or len(tmpift) != 100):\n",
    "    #    continue\n",
    "        \n",
    "    #tmpind_pl = getIndividualPL(doc, -1)\n",
    "    #if (tmpind_pl is None or len(tmpind_pl) != 100):\n",
    "    #    continue\n",
    "    \n",
    "    tmpd.extend(tmp)\n",
    "    #tmpd.extend(tmpb)\n",
    "    #tmpd.extend(tmpift)\n",
    "    #tmpd.extend(tmpind_fl)\n",
    "    p_test.append(tmpd)\n",
    "    p_test_l.append(1)\n",
    "    "
   ]
  },
  {
   "cell_type": "code",
   "execution_count": 16,
   "metadata": {},
   "outputs": [],
   "source": [
    "for doc in b_train_coll.find():\n",
    "    tmpd = []\n",
    "    tmp = getMD(doc, 0)\n",
    "    tmpb = getBD(doc, 0)\n",
    "    #if (tmpb is None or len(tmpb) != 256):\n",
    "    #    continue\n",
    "    #tmpbd = preprocessing.scale(tmpb)\n",
    "    tmpift = getIPT(doc, 0)\n",
    "    \n",
    "    #note: these 100's need to be changed if numRows is changed\n",
    "    #if (tmpift is None or len(tmpift) != 100):\n",
    "    #    continue\n",
    "        \n",
    "    tmpind_pl = getIndividualPL(doc, 0)\n",
    "    #if (tmpind_pl is None or len(tmpind_pl) != 100):\n",
    "    #    continue\n",
    "    \n",
    "    tmpd.extend(tmp)\n",
    "    #tmpd.extend(tmpb)\n",
    "    #tmpd.extend(tmpift)\n",
    "    #tmpd.extend(tmpind_fl)\n",
    "    b_train.append(tmpd)\n",
    "    b_train_l.append(0)\n"
   ]
  },
  {
   "cell_type": "code",
   "execution_count": 17,
   "metadata": {},
   "outputs": [
    {
     "data": {
      "image/png": "[encoded data removed]",
      "text/plain": [
       "<Figure size 432x288 with 1 Axes>"
      ]
     },
     "metadata": {
      "needs_background": "light"
     },
     "output_type": "display_data"
    }
   ],
   "source": [
    "y_pos = np.arange(len(b_byte_dist_h))\n",
    "x = preprocessing.scale(b_byte_dist_h)\n",
    "plt.bar(y_pos, x)\n",
    "plt.title(\"Standardized Benign Byte Distribution\")\n",
    "plt.show()"
   ]
  },
  {
   "cell_type": "code",
   "execution_count": 18,
   "metadata": {},
   "outputs": [
    {
     "data": {
      "image/png": "[encoded data removed]",
      "text/plain": [
       "<Figure size 432x288 with 1 Axes>"
      ]
     },
     "metadata": {
      "needs_background": "light"
     },
     "output_type": "display_data"
    }
   ],
   "source": [
    "b_ipt_h = b_ipt_h.flatten()\n",
    "y_pos = np.arange(len(b_ipt_h))\n",
    "x = preprocessing.scale(b_ipt_h)\n",
    "plt.bar(y_pos, x)\n",
    "plt.title(\"Benign IPT buckets\")\n",
    "plt.show()"
   ]
  },
  {
   "cell_type": "code",
   "execution_count": 19,
   "metadata": {},
   "outputs": [
    {
     "data": {
      "image/png": "[encoded data removed]",
      "text/plain": [
       "<Figure size 432x288 with 1 Axes>"
      ]
     },
     "metadata": {
      "needs_background": "light"
     },
     "output_type": "display_data"
    }
   ],
   "source": [
    "b_pl = b_pl.flatten()\n",
    "y_pos = np.arange(len(b_pl))\n",
    "x = preprocessing.scale(b_pl)\n",
    "plt.bar(y_pos, x)\n",
    "plt.title('Benign PL Matrix')\n",
    "plt.show()"
   ]
  },
  {
   "cell_type": "code",
   "execution_count": 20,
   "metadata": {},
   "outputs": [],
   "source": [
    "for doc in b_test_coll.find():\n",
    "    tmpd = []\n",
    "    tmp = getMD(doc, -1)\n",
    "    tmpb = getBD(doc, -1)\n",
    "    #if (tmpb is None or len(tmpb) != 256):\n",
    "    #    continue\n",
    "    #tmpbd = preprocessing.scale(tmpb)\n",
    "    #tmpift = getIPT(doc, -1)\n",
    "    \n",
    "    #note: these 100's need to be changed if numRows is changed\n",
    "    #if (tmpift is None or len(tmpift) != 100):\n",
    "    #    continue\n",
    "        \n",
    "    #tmpind_pl = getIndividualPL(doc, -1)\n",
    "    #if (tmpind_pl is None or len(tmpind_pl) != 100):\n",
    "    #    continue\n",
    "    \n",
    "    tmpd.extend(tmp)\n",
    "    #tmpd.extend(tmpb)\n",
    "    #tmpd.extend(tmpift)\n",
    "    #tmpd.extend(tmpind_fl)\n",
    "    b_test.append(tmpd)\n",
    "    b_test_l.append(0)\n",
    "    "
   ]
  },
  {
   "cell_type": "code",
   "execution_count": 21,
   "metadata": {},
   "outputs": [],
   "source": [
    "training_set = []\n",
    "training_set.extend(b_train)\n",
    "training_set.extend(p_train)\n",
    "training_labels = []\n",
    "training_labels.extend(b_train_l)\n",
    "training_labels.extend(p_train_l)\n",
    "training_set = np.array(training_set)\n",
    "training_labels = np.array(training_labels)\n",
    "b_train = np.array(b_train)\n",
    "p_train = np.array(p_train)\n",
    "b_train_l = np.array(b_train_l)\n",
    "p_train_l = np.array(p_train_l)"
   ]
  },
  {
   "cell_type": "code",
   "execution_count": 22,
   "metadata": {},
   "outputs": [],
   "source": [
    "test_set = []\n",
    "test_labels = []\n",
    "test_set.extend(b_test)\n",
    "test_set.extend(p_test)\n",
    "test_labels.extend(b_test_l)\n",
    "test_labels.extend(p_test_l)\n",
    "test_set = np.array(test_set)\n",
    "test_labels = np.array(test_labels)\n",
    "b_test = np.array(b_test)\n",
    "p_test = np.array(p_test)\n",
    "b_test_l = np.array(b_test_l)\n",
    "p_test_l = np.array(p_test_l)"
   ]
  },
  {
   "cell_type": "code",
   "execution_count": 23,
   "metadata": {},
   "outputs": [
    {
     "name": "stderr",
     "output_type": "stream",
     "text": [
      "/home/thomasbelford/.local/lib/python2.7/site-packages/sklearn/linear_model/logistic.py:433: FutureWarning: Default solver will be changed to 'lbfgs' in 0.22. Specify a solver to silence this warning.\n",
      "  FutureWarning)\n"
     ]
    },
    {
     "name": "stdout",
     "output_type": "stream",
     "text": [
      "0.06016147429159305\n",
      "0.9911196911196911\n",
      "0.002920019941599601\n"
     ]
    }
   ],
   "source": [
    "logreg = LogisticRegression()\n",
    "logreg.fit(training_set, training_labels)\n",
    "print(logreg.score(test_set, test_labels))\n",
    "print(logreg.score(b_test, b_test_l))\n",
    "print(logreg.score(p_test, p_test_l))"
   ]
  },
  {
   "cell_type": "code",
   "execution_count": 24,
   "metadata": {},
   "outputs": [
    {
     "name": "stdout",
     "output_type": "stream",
     "text": [
      "0.5905883788235134\n"
     ]
    }
   ],
   "source": [
    "print(logreg.score(training_set, training_labels))"
   ]
  },
  {
   "cell_type": "code",
   "execution_count": 25,
   "metadata": {
    "scrolled": true
   },
   "outputs": [
    {
     "data": {
      "text/plain": [
       "\"dtest = DecisionTreeClassifier()\\n\\nparams = {'max_leaf_nodes': range(10,200,30),\\n         'min_samples_leaf': range(5, 100, 25),\\n         'max_depth': range(5, 100, 25)}\\ngsearch = GridSearchCV(dtest, params, cv=5)\\ngsearch.fit(training_set, training_labels)\\n\""
      ]
     },
     "execution_count": 25,
     "metadata": {},
     "output_type": "execute_result"
    }
   ],
   "source": [
    "'''neural_net = MLPClassifier()\n",
    "neural_net.fit(training_set, training_labels)\n",
    "print(neural_net.score(test_set, test_labels))\n",
    "print(neural_net.score(b_test, b_test_l))\n",
    "print(neural_net.score(p_test, p_test_l))'''\n",
    "\n",
    "'''dtest = DecisionTreeClassifier()\n",
    "\n",
    "params = {'max_leaf_nodes': range(10,200,30),\n",
    "         'min_samples_leaf': range(5, 100, 25),\n",
    "         'max_depth': range(5, 100, 25)}\n",
    "gsearch = GridSearchCV(dtest, params, cv=5)\n",
    "gsearch.fit(training_set, training_labels)\n",
    "'''"
   ]
  },
  {
   "cell_type": "code",
   "execution_count": 26,
   "metadata": {},
   "outputs": [],
   "source": [
    "#print(gsearch.best_params_)\n",
    "#print(gsearch.best_estimator_)"
   ]
  },
  {
   "cell_type": "code",
   "execution_count": 27,
   "metadata": {},
   "outputs": [
    {
     "name": "stdout",
     "output_type": "stream",
     "text": [
      "0.7331872162458345\n",
      "0.9783783783783784\n",
      "0.7181112456377751\n"
     ]
    }
   ],
   "source": [
    "\n",
    "dt = DecisionTreeClassifier(criterion='gini')\n",
    "dt.fit(training_set, training_labels)\n",
    "print(dt.score(test_set, test_labels))\n",
    "print(dt.score(b_test, b_test_l))\n",
    "print(dt.score(p_test, p_test_l))"
   ]
  },
  {
   "cell_type": "code",
   "execution_count": 28,
   "metadata": {},
   "outputs": [
    {
     "name": "stdout",
     "output_type": "stream",
     "text": [
      "0.7222731644040883\n",
      "0.9806949806949807\n",
      "0.7063836858723263\n"
     ]
    }
   ],
   "source": [
    "dt = DecisionTreeClassifier(criterion='gini', max_leaf_nodes=70, max_depth=30, min_samples_leaf=55)\n",
    "dt.fit(training_set, training_labels)\n",
    "print(dt.score(test_set, test_labels))\n",
    "print(dt.score(b_test, b_test_l))\n",
    "print(dt.score(p_test, p_test_l))"
   ]
  },
  {
   "cell_type": "code",
   "execution_count": 29,
   "metadata": {
    "scrolled": true
   },
   "outputs": [
    {
     "name": "stdout",
     "output_type": "stream",
     "text": [
      "[[9.85815603e-01 1.41843972e-02]\n",
      " [9.85815603e-01 1.41843972e-02]\n",
      " [8.53658537e-01 1.46341463e-01]\n",
      " ...\n",
      " [0.00000000e+00 1.00000000e+00]\n",
      " [0.00000000e+00 1.00000000e+00]\n",
      " [2.80898876e-04 9.99719101e-01]]\n"
     ]
    }
   ],
   "source": [
    "print(dt.predict_proba(p_test))"
   ]
  },
  {
   "cell_type": "code",
   "execution_count": 30,
   "metadata": {},
   "outputs": [],
   "source": [
    "n_test_coll = mydb[\"netflow_test\"]\n",
    "n_test = []\n",
    "n_l = []\n",
    "for doc in n_test_coll.find({'$or':[{'da': '192.168.5.113'}, {'sa': '192.168.5.113'}]}):\n",
    "    tmpd = []\n",
    "    tmp = getMD(doc, -1)\n",
    "    #tmpb = getBD(doc, -1)\n",
    "    #if (tmpb is None or len(tmpb) != 256):\n",
    "    #    continue\n",
    "    #tmpbd = preprocessing.scale(tmpb)\n",
    "    #tmpift = getIPT(doc, -1)\n",
    "    \n",
    "    #note: these 100's need to be changed if numRows is changed\n",
    "    #if (tmpift is None or len(tmpift) != 100):\n",
    "    #    continue\n",
    "        \n",
    "    #tmpind_pl = getIndividualPL(doc, -1)\n",
    "    #if (tmpind_pl is None or len(tmpind_pl) != 100):\n",
    "    #    continue\n",
    "    \n",
    "    tmpd.extend(tmp)\n",
    "    #tmpd.extend(tmpb)\n",
    "    #tmpd.extend(tmpift)\n",
    "    #tmpd.extend(tmpind_pl)\n",
    "    n_test.append(tmpd)\n",
    "    n_l.append(1)\n"
   ]
  },
  {
   "cell_type": "code",
   "execution_count": 31,
   "metadata": {},
   "outputs": [
    {
     "name": "stdout",
     "output_type": "stream",
     "text": [
      "0.5084745762711864\n"
     ]
    }
   ],
   "source": [
    "print(dt.score(n_test, n_l))"
   ]
  },
  {
   "cell_type": "code",
   "execution_count": 32,
   "metadata": {},
   "outputs": [
    {
     "name": "stdout",
     "output_type": "stream",
     "text": [
      "[[9.99534053e-01 4.65947037e-04]\n",
      " [9.98678996e-01 1.32100396e-03]\n",
      " [6.84210526e-01 3.15789474e-01]\n",
      " [6.84210526e-01 3.15789474e-01]\n",
      " [6.84210526e-01 3.15789474e-01]\n",
      " [6.84210526e-01 3.15789474e-01]\n",
      " [6.84210526e-01 3.15789474e-01]\n",
      " [6.84210526e-01 3.15789474e-01]\n",
      " [6.84210526e-01 3.15789474e-01]\n",
      " [6.84210526e-01 3.15789474e-01]\n",
      " [6.84210526e-01 3.15789474e-01]\n",
      " [6.84210526e-01 3.15789474e-01]\n",
      " [9.98678996e-01 1.32100396e-03]\n",
      " [9.99534053e-01 4.65947037e-04]\n",
      " [6.84210526e-01 3.15789474e-01]\n",
      " [9.98678996e-01 1.32100396e-03]\n",
      " [9.85815603e-01 1.41843972e-02]\n",
      " [1.45454545e-01 8.54545455e-01]\n",
      " [9.85815603e-01 1.41843972e-02]\n",
      " [6.82242991e-01 3.17757009e-01]\n",
      " [9.98502496e-01 1.49750416e-03]\n",
      " [9.85815603e-01 1.41843972e-02]\n",
      " [1.45454545e-01 8.54545455e-01]\n",
      " [9.96420048e-01 3.57995227e-03]\n",
      " [9.98502496e-01 1.49750416e-03]\n",
      " [1.00000000e+00 0.00000000e+00]\n",
      " [1.45454545e-01 8.54545455e-01]\n",
      " [1.45454545e-01 8.54545455e-01]\n",
      " [6.82242991e-01 3.17757009e-01]\n",
      " [6.82242991e-01 3.17757009e-01]\n",
      " [9.98502496e-01 1.49750416e-03]\n",
      " [9.99534053e-01 4.65947037e-04]\n",
      " [9.99534053e-01 4.65947037e-04]\n",
      " [9.85815603e-01 1.41843972e-02]\n",
      " [9.99534053e-01 4.65947037e-04]\n",
      " [1.45454545e-01 8.54545455e-01]\n",
      " [6.82242991e-01 3.17757009e-01]\n",
      " [9.98502496e-01 1.49750416e-03]\n",
      " [5.44303797e-01 4.55696203e-01]\n",
      " [8.92857143e-01 1.07142857e-01]\n",
      " [3.12500000e-02 9.68750000e-01]\n",
      " [7.29527631e-04 9.99270472e-01]\n",
      " [7.29527631e-04 9.99270472e-01]\n",
      " [7.29527631e-04 9.99270472e-01]\n",
      " [7.29527631e-04 9.99270472e-01]\n",
      " [7.29527631e-04 9.99270472e-01]\n",
      " [7.29527631e-04 9.99270472e-01]\n",
      " [7.77484062e-05 9.99922252e-01]\n",
      " [7.77484062e-05 9.99922252e-01]\n",
      " [7.77484062e-05 9.99922252e-01]\n",
      " [7.77484062e-05 9.99922252e-01]\n",
      " [7.77484062e-05 9.99922252e-01]\n",
      " [7.77484062e-05 9.99922252e-01]\n",
      " [2.80898876e-04 9.99719101e-01]\n",
      " [2.80898876e-04 9.99719101e-01]\n",
      " [1.45454545e-01 8.54545455e-01]\n",
      " [8.92857143e-01 1.07142857e-01]\n",
      " [1.45454545e-01 8.54545455e-01]\n",
      " [2.80898876e-04 9.99719101e-01]\n",
      " [8.92857143e-01 1.07142857e-01]\n",
      " [8.92857143e-01 1.07142857e-01]\n",
      " [8.92857143e-01 1.07142857e-01]\n",
      " [8.92857143e-01 1.07142857e-01]\n",
      " [8.92857143e-01 1.07142857e-01]\n",
      " [7.29527631e-04 9.99270472e-01]\n",
      " [7.29527631e-04 9.99270472e-01]\n",
      " [7.29527631e-04 9.99270472e-01]\n",
      " [2.80898876e-04 9.99719101e-01]\n",
      " [9.23076923e-01 7.69230769e-02]\n",
      " [9.23076923e-01 7.69230769e-02]\n",
      " [9.23076923e-01 7.69230769e-02]\n",
      " [8.92857143e-01 1.07142857e-01]\n",
      " [9.23076923e-01 7.69230769e-02]\n",
      " [9.23076923e-01 7.69230769e-02]\n",
      " [7.29527631e-04 9.99270472e-01]\n",
      " [0.00000000e+00 1.00000000e+00]\n",
      " [8.92857143e-01 1.07142857e-01]\n",
      " [9.23076923e-01 7.69230769e-02]\n",
      " [3.03030303e-02 9.69696970e-01]\n",
      " [2.80898876e-04 9.99719101e-01]\n",
      " [7.29527631e-04 9.99270472e-01]\n",
      " [7.77484062e-05 9.99922252e-01]\n",
      " [8.92857143e-01 1.07142857e-01]\n",
      " [0.00000000e+00 1.00000000e+00]\n",
      " [9.23076923e-01 7.69230769e-02]\n",
      " [8.92857143e-01 1.07142857e-01]\n",
      " [9.98502496e-01 1.49750416e-03]\n",
      " [7.29527631e-04 9.99270472e-01]\n",
      " [0.00000000e+00 1.00000000e+00]\n",
      " [8.92857143e-01 1.07142857e-01]\n",
      " [9.23076923e-01 7.69230769e-02]\n",
      " [6.82242991e-01 3.17757009e-01]\n",
      " [2.80898876e-04 9.99719101e-01]\n",
      " [2.80898876e-04 9.99719101e-01]\n",
      " [7.29527631e-04 9.99270472e-01]\n",
      " [8.92857143e-01 1.07142857e-01]\n",
      " [3.03030303e-02 9.69696970e-01]\n",
      " [9.23076923e-01 7.69230769e-02]\n",
      " [8.92857143e-01 1.07142857e-01]\n",
      " [7.29527631e-04 9.99270472e-01]\n",
      " [9.98502496e-01 1.49750416e-03]\n",
      " [0.00000000e+00 1.00000000e+00]\n",
      " [9.23076923e-01 7.69230769e-02]\n",
      " [8.92857143e-01 1.07142857e-01]\n",
      " [3.03030303e-02 9.69696970e-01]\n",
      " [7.29527631e-04 9.99270472e-01]\n",
      " [1.00000000e+00 0.00000000e+00]\n",
      " [8.92857143e-01 1.07142857e-01]\n",
      " [0.00000000e+00 1.00000000e+00]\n",
      " [9.23076923e-01 7.69230769e-02]\n",
      " [2.80898876e-04 9.99719101e-01]\n",
      " [8.92857143e-01 1.07142857e-01]\n",
      " [7.29527631e-04 9.99270472e-01]\n",
      " [0.00000000e+00 1.00000000e+00]\n",
      " [2.80898876e-04 9.99719101e-01]\n",
      " [7.77484062e-05 9.99922252e-01]\n",
      " [9.23076923e-01 7.69230769e-02]\n",
      " [7.77484062e-05 9.99922252e-01]\n",
      " [0.00000000e+00 1.00000000e+00]\n",
      " [8.92857143e-01 1.07142857e-01]\n",
      " [0.00000000e+00 1.00000000e+00]\n",
      " [7.90322581e-01 2.09677419e-01]\n",
      " [7.77484062e-05 9.99922252e-01]\n",
      " [7.90322581e-01 2.09677419e-01]\n",
      " [7.77484062e-05 9.99922252e-01]\n",
      " [0.00000000e+00 1.00000000e+00]\n",
      " [8.92857143e-01 1.07142857e-01]\n",
      " [0.00000000e+00 1.00000000e+00]\n",
      " [7.77484062e-05 9.99922252e-01]\n",
      " [7.77484062e-05 9.99922252e-01]\n",
      " [9.99534053e-01 4.65947037e-04]\n",
      " [0.00000000e+00 1.00000000e+00]\n",
      " [7.77484062e-05 9.99922252e-01]\n",
      " [9.98502496e-01 1.49750416e-03]\n",
      " [8.92857143e-01 1.07142857e-01]\n",
      " [9.23076923e-01 7.69230769e-02]\n",
      " [9.99534053e-01 4.65947037e-04]\n",
      " [0.00000000e+00 1.00000000e+00]\n",
      " [7.77484062e-05 9.99922252e-01]\n",
      " [7.77484062e-05 9.99922252e-01]\n",
      " [7.77484062e-05 9.99922252e-01]\n",
      " [3.03030303e-02 9.69696970e-01]\n",
      " [8.92857143e-01 1.07142857e-01]\n",
      " [0.00000000e+00 1.00000000e+00]\n",
      " [9.96420048e-01 3.57995227e-03]\n",
      " [7.77484062e-05 9.99922252e-01]\n",
      " [7.77484062e-05 9.99922252e-01]\n",
      " [0.00000000e+00 1.00000000e+00]\n",
      " [8.92857143e-01 1.07142857e-01]\n",
      " [0.00000000e+00 1.00000000e+00]\n",
      " [7.77484062e-05 9.99922252e-01]\n",
      " [7.77484062e-05 9.99922252e-01]\n",
      " [7.90322581e-01 2.09677419e-01]\n",
      " [7.90322581e-01 2.09677419e-01]\n",
      " [0.00000000e+00 1.00000000e+00]\n",
      " [9.99534053e-01 4.65947037e-04]\n",
      " [8.92857143e-01 1.07142857e-01]\n",
      " [9.99534053e-01 4.65947037e-04]\n",
      " [0.00000000e+00 1.00000000e+00]\n",
      " [7.77484062e-05 9.99922252e-01]\n",
      " [7.77484062e-05 9.99922252e-01]\n",
      " [7.77484062e-05 9.99922252e-01]\n",
      " [7.77484062e-05 9.99922252e-01]\n",
      " [0.00000000e+00 1.00000000e+00]\n",
      " [8.92857143e-01 1.07142857e-01]\n",
      " [6.82242991e-01 3.17757009e-01]\n",
      " [7.90322581e-01 2.09677419e-01]\n",
      " [7.90322581e-01 2.09677419e-01]\n",
      " [7.77484062e-05 9.99922252e-01]\n",
      " [9.23076923e-01 7.69230769e-02]\n",
      " [7.77484062e-05 9.99922252e-01]\n",
      " [0.00000000e+00 1.00000000e+00]\n",
      " [8.92857143e-01 1.07142857e-01]\n",
      " [6.82242991e-01 3.17757009e-01]\n",
      " [9.23076923e-01 7.69230769e-02]\n",
      " [7.77484062e-05 9.99922252e-01]\n",
      " [9.96420048e-01 3.57995227e-03]\n",
      " [7.77484062e-05 9.99922252e-01]\n",
      " [1.00000000e+00 0.00000000e+00]\n",
      " [0.00000000e+00 1.00000000e+00]\n",
      " [8.92857143e-01 1.07142857e-01]\n",
      " [0.00000000e+00 1.00000000e+00]\n",
      " [4.03508772e-01 5.96491228e-01]\n",
      " [0.00000000e+00 1.00000000e+00]\n",
      " [9.23076923e-01 7.69230769e-02]\n",
      " [4.03508772e-01 5.96491228e-01]\n",
      " [0.00000000e+00 1.00000000e+00]\n",
      " [6.82242991e-01 3.17757009e-01]\n",
      " [6.82242991e-01 3.17757009e-01]\n",
      " [8.92857143e-01 1.07142857e-01]\n",
      " [7.90322581e-01 2.09677419e-01]\n",
      " [3.12500000e-02 9.68750000e-01]\n",
      " [3.12500000e-02 9.68750000e-01]\n",
      " [7.90322581e-01 2.09677419e-01]\n",
      " [7.77484062e-05 9.99922252e-01]\n",
      " [9.23076923e-01 7.69230769e-02]\n",
      " [7.77484062e-05 9.99922252e-01]\n",
      " [7.90322581e-01 2.09677419e-01]\n",
      " [7.90322581e-01 2.09677419e-01]\n",
      " [7.90322581e-01 2.09677419e-01]\n",
      " [0.00000000e+00 1.00000000e+00]\n",
      " [8.92857143e-01 1.07142857e-01]\n",
      " [7.29527631e-04 9.99270472e-01]\n",
      " [7.90322581e-01 2.09677419e-01]\n",
      " [0.00000000e+00 1.00000000e+00]\n",
      " [7.77484062e-05 9.99922252e-01]\n",
      " [7.77484062e-05 9.99922252e-01]\n",
      " [0.00000000e+00 1.00000000e+00]\n",
      " [8.92857143e-01 1.07142857e-01]\n",
      " [0.00000000e+00 1.00000000e+00]\n",
      " [7.77484062e-05 9.99922252e-01]\n",
      " [1.00000000e+00 0.00000000e+00]\n",
      " [9.96420048e-01 3.57995227e-03]\n",
      " [7.77484062e-05 9.99922252e-01]\n",
      " [1.00000000e+00 0.00000000e+00]\n",
      " [0.00000000e+00 1.00000000e+00]\n",
      " [8.92857143e-01 1.07142857e-01]\n",
      " [0.00000000e+00 1.00000000e+00]\n",
      " [7.77484062e-05 9.99922252e-01]\n",
      " [7.77484062e-05 9.99922252e-01]\n",
      " [7.90322581e-01 2.09677419e-01]\n",
      " [7.77484062e-05 9.99922252e-01]\n",
      " [3.03030303e-02 9.69696970e-01]\n",
      " [1.45454545e-01 8.54545455e-01]\n",
      " [7.77484062e-05 9.99922252e-01]\n",
      " [7.90322581e-01 2.09677419e-01]\n",
      " [0.00000000e+00 1.00000000e+00]\n",
      " [4.03508772e-01 5.96491228e-01]\n",
      " [4.03508772e-01 5.96491228e-01]\n",
      " [0.00000000e+00 1.00000000e+00]\n",
      " [8.92857143e-01 1.07142857e-01]\n",
      " [0.00000000e+00 1.00000000e+00]\n",
      " [4.03508772e-01 5.96491228e-01]\n",
      " [4.03508772e-01 5.96491228e-01]\n",
      " [9.23076923e-01 7.69230769e-02]\n",
      " [7.90322581e-01 2.09677419e-01]\n",
      " [5.17857143e-01 4.82142857e-01]\n",
      " [7.90322581e-01 2.09677419e-01]\n",
      " [0.00000000e+00 1.00000000e+00]\n",
      " [8.92857143e-01 1.07142857e-01]\n",
      " [7.77484062e-05 9.99922252e-01]\n",
      " [7.77484062e-05 9.99922252e-01]\n",
      " [7.90322581e-01 2.09677419e-01]\n",
      " [1.45454545e-01 8.54545455e-01]\n",
      " [0.00000000e+00 1.00000000e+00]\n",
      " [7.90322581e-01 2.09677419e-01]\n",
      " [0.00000000e+00 1.00000000e+00]\n",
      " [8.92857143e-01 1.07142857e-01]\n",
      " [7.77484062e-05 9.99922252e-01]\n",
      " [9.23076923e-01 7.69230769e-02]\n",
      " [7.77484062e-05 9.99922252e-01]\n",
      " [7.77484062e-05 9.99922252e-01]\n",
      " [9.23076923e-01 7.69230769e-02]\n",
      " [7.77484062e-05 9.99922252e-01]\n",
      " [3.03030303e-02 9.69696970e-01]\n",
      " [8.92857143e-01 1.07142857e-01]\n",
      " [7.90322581e-01 2.09677419e-01]\n",
      " [7.77484062e-05 9.99922252e-01]\n",
      " [1.00000000e+00 0.00000000e+00]\n",
      " [9.23076923e-01 7.69230769e-02]\n",
      " [7.90322581e-01 2.09677419e-01]\n",
      " [7.77484062e-05 9.99922252e-01]\n",
      " [6.82242991e-01 3.17757009e-01]\n",
      " [3.03030303e-02 9.69696970e-01]\n",
      " [8.92857143e-01 1.07142857e-01]\n",
      " [7.77484062e-05 9.99922252e-01]\n",
      " [7.77484062e-05 9.99922252e-01]\n",
      " [7.90322581e-01 2.09677419e-01]\n",
      " [1.45454545e-01 8.54545455e-01]\n",
      " [7.90322581e-01 2.09677419e-01]\n",
      " [7.77484062e-05 9.99922252e-01]\n",
      " [9.23076923e-01 7.69230769e-02]\n",
      " [7.77484062e-05 9.99922252e-01]\n",
      " [0.00000000e+00 1.00000000e+00]\n",
      " [7.77484062e-05 9.99922252e-01]\n",
      " [9.23076923e-01 7.69230769e-02]\n",
      " [7.77484062e-05 9.99922252e-01]\n",
      " [0.00000000e+00 1.00000000e+00]\n",
      " [8.92857143e-01 1.07142857e-01]\n",
      " [9.23076923e-01 7.69230769e-02]\n",
      " [7.77484062e-05 9.99922252e-01]\n",
      " [0.00000000e+00 1.00000000e+00]\n",
      " [7.90322581e-01 2.09677419e-01]\n",
      " [7.90322581e-01 2.09677419e-01]\n",
      " [0.00000000e+00 1.00000000e+00]\n",
      " [8.92857143e-01 1.07142857e-01]\n",
      " [1.00000000e+00 0.00000000e+00]\n",
      " [7.77484062e-05 9.99922252e-01]\n",
      " [7.77484062e-05 9.99922252e-01]\n",
      " [1.00000000e+00 0.00000000e+00]\n",
      " [0.00000000e+00 1.00000000e+00]\n",
      " [6.82242991e-01 3.17757009e-01]\n",
      " [8.92857143e-01 1.07142857e-01]\n",
      " [7.77484062e-05 9.99922252e-01]\n",
      " [7.77484062e-05 9.99922252e-01]]\n"
     ]
    }
   ],
   "source": [
    "probs = dt.predict_proba(n_test)\n",
    "print (probs)\n"
   ]
  },
  {
   "cell_type": "code",
   "execution_count": 33,
   "metadata": {
    "scrolled": false
   },
   "outputs": [
    {
     "data": {
      "text/plain": [
       "'j = 0\\nfor i in range(len(probs)):\\n    if probs[i][1] == 1.:\\n        print(n_test[i])\\n        j +=1 \\n        \\nprint j'"
      ]
     },
     "execution_count": 33,
     "metadata": {},
     "output_type": "execute_result"
    }
   ],
   "source": [
    "'''j = 0\n",
    "for i in range(len(probs)):\n",
    "    if probs[i][1] == 1.:\n",
    "        print(n_test[i])\n",
    "        j +=1 \n",
    "        \n",
    "print j'''"
   ]
  },
  {
   "cell_type": "code",
   "execution_count": 34,
   "metadata": {},
   "outputs": [],
   "source": [
    "#print(neural_net.score(n_test, n_l))\n",
    "#about comparing results between this and the joy output stuff. "
   ]
  },
  {
   "cell_type": "code",
   "execution_count": 35,
   "metadata": {},
   "outputs": [],
   "source": [
    "#all benign test\n",
    "ab_test_coll = mydb[\"bWeb\"]\n",
    "ab_test = []\n",
    "ab_l = []\n",
    "ab_s_ip = []\n",
    "#ab_d_ip = []\n",
    "for doc in ab_test_coll.find():\n",
    "    tmpd = []\n",
    "    tmp = getMD(doc, -1)\n",
    "    tmpb = getBD(doc, -1)\n",
    "    #if (tmpb is None or len(tmpb) != 256):\n",
    "    #    continue\n",
    "    #tmpbd = preprocessing.scale(tmpb)\n",
    "    #tmpift = getIPT(doc, -1)\n",
    "    \n",
    "    #note: these 100's need to be changed if numRows is changed\n",
    "    #if (tmpift is None or len(tmpift) != 100):\n",
    "    #    continue\n",
    "        \n",
    "    #tmpind_pl = getIndividualPL(doc, -1)\n",
    "    #if (tmpind_pl is None or len(tmpind_pl) != 100):\n",
    "    #    continue\n",
    "    ab_s_ip.append((doc['sa'], doc['da']))\n",
    "    \n",
    "    tmpd.extend(tmp)\n",
    "    #tmpd.extend(tmpb)\n",
    "    #tmpd.extend(tmpift)\n",
    "    #tmpd.extend(tmpind_pl)\n",
    "    ab_test.append(tmpd)\n",
    "    ab_l.append(0)\n"
   ]
  },
  {
   "cell_type": "code",
   "execution_count": 36,
   "metadata": {},
   "outputs": [
    {
     "name": "stdout",
     "output_type": "stream",
     "text": [
      "0.8814814814814815\n"
     ]
    }
   ],
   "source": [
    "print(dt.score(ab_test, ab_l))"
   ]
  },
  {
   "cell_type": "code",
   "execution_count": 37,
   "metadata": {},
   "outputs": [
    {
     "name": "stdout",
     "output_type": "stream",
     "text": [
      "[[9.98502496e-01 1.49750416e-03]\n",
      " [9.94638070e-01 5.36193029e-03]\n",
      " [9.94638070e-01 5.36193029e-03]\n",
      " [9.99721138e-01 2.78862242e-04]\n",
      " [9.99721138e-01 2.78862242e-04]\n",
      " [7.90322581e-01 2.09677419e-01]\n",
      " [8.24644550e-01 1.75355450e-01]\n",
      " [9.99721138e-01 2.78862242e-04]\n",
      " [7.90322581e-01 2.09677419e-01]\n",
      " [1.00000000e+00 0.00000000e+00]\n",
      " [9.94638070e-01 5.36193029e-03]\n",
      " [9.94638070e-01 5.36193029e-03]\n",
      " [1.00000000e+00 0.00000000e+00]\n",
      " [9.99721138e-01 2.78862242e-04]\n",
      " [7.90322581e-01 2.09677419e-01]\n",
      " [1.00000000e+00 0.00000000e+00]\n",
      " [9.99534053e-01 4.65947037e-04]\n",
      " [9.94638070e-01 5.36193029e-03]\n",
      " [9.94638070e-01 5.36193029e-03]\n",
      " [9.94638070e-01 5.36193029e-03]\n",
      " [1.00000000e+00 0.00000000e+00]\n",
      " [9.99534053e-01 4.65947037e-04]\n",
      " [9.94638070e-01 5.36193029e-03]\n",
      " [1.00000000e+00 0.00000000e+00]\n",
      " [9.99721138e-01 2.78862242e-04]\n",
      " [3.67647059e-01 6.32352941e-01]\n",
      " [7.90322581e-01 2.09677419e-01]\n",
      " [9.94638070e-01 5.36193029e-03]\n",
      " [9.99534053e-01 4.65947037e-04]\n",
      " [3.67647059e-01 6.32352941e-01]\n",
      " [9.94638070e-01 5.36193029e-03]\n",
      " [9.99534053e-01 4.65947037e-04]\n",
      " [1.00000000e+00 0.00000000e+00]\n",
      " [9.99721138e-01 2.78862242e-04]\n",
      " [1.00000000e+00 0.00000000e+00]\n",
      " [7.90322581e-01 2.09677419e-01]\n",
      " [9.99721138e-01 2.78862242e-04]\n",
      " [9.94638070e-01 5.36193029e-03]\n",
      " [9.94638070e-01 5.36193029e-03]\n",
      " [9.94638070e-01 5.36193029e-03]\n",
      " [9.94638070e-01 5.36193029e-03]\n",
      " [7.90322581e-01 2.09677419e-01]\n",
      " [3.67647059e-01 6.32352941e-01]\n",
      " [9.94638070e-01 5.36193029e-03]\n",
      " [7.90322581e-01 2.09677419e-01]\n",
      " [9.94638070e-01 5.36193029e-03]\n",
      " [8.53658537e-01 1.46341463e-01]\n",
      " [9.99721138e-01 2.78862242e-04]\n",
      " [3.67647059e-01 6.32352941e-01]\n",
      " [9.94638070e-01 5.36193029e-03]\n",
      " [7.90322581e-01 2.09677419e-01]\n",
      " [9.94638070e-01 5.36193029e-03]\n",
      " [9.94638070e-01 5.36193029e-03]\n",
      " [9.94638070e-01 5.36193029e-03]\n",
      " [7.90322581e-01 2.09677419e-01]\n",
      " [1.00000000e+00 0.00000000e+00]\n",
      " [3.67647059e-01 6.32352941e-01]\n",
      " [3.67647059e-01 6.32352941e-01]\n",
      " [9.99534053e-01 4.65947037e-04]\n",
      " [9.85815603e-01 1.41843972e-02]\n",
      " [9.94638070e-01 5.36193029e-03]\n",
      " [9.94638070e-01 5.36193029e-03]\n",
      " [1.00000000e+00 0.00000000e+00]\n",
      " [9.94638070e-01 5.36193029e-03]\n",
      " [3.67647059e-01 6.32352941e-01]\n",
      " [9.94638070e-01 5.36193029e-03]\n",
      " [3.67647059e-01 6.32352941e-01]\n",
      " [7.90322581e-01 2.09677419e-01]\n",
      " [8.24644550e-01 1.75355450e-01]\n",
      " [9.94638070e-01 5.36193029e-03]\n",
      " [9.94638070e-01 5.36193029e-03]\n",
      " [0.00000000e+00 1.00000000e+00]\n",
      " [9.94638070e-01 5.36193029e-03]\n",
      " [9.94638070e-01 5.36193029e-03]\n",
      " [9.94638070e-01 5.36193029e-03]\n",
      " [8.16666667e-01 1.83333333e-01]\n",
      " [9.94638070e-01 5.36193029e-03]\n",
      " [7.90322581e-01 2.09677419e-01]\n",
      " [9.96420048e-01 3.57995227e-03]\n",
      " [1.00000000e+00 0.00000000e+00]\n",
      " [9.99534053e-01 4.65947037e-04]\n",
      " [9.94638070e-01 5.36193029e-03]\n",
      " [9.96420048e-01 3.57995227e-03]\n",
      " [9.98502496e-01 1.49750416e-03]\n",
      " [1.00000000e+00 0.00000000e+00]\n",
      " [9.99534053e-01 4.65947037e-04]\n",
      " [3.67647059e-01 6.32352941e-01]\n",
      " [9.96420048e-01 3.57995227e-03]\n",
      " [1.45454545e-01 8.54545455e-01]\n",
      " [9.98530132e-01 1.46986771e-03]\n",
      " [1.00000000e+00 0.00000000e+00]\n",
      " [9.99721138e-01 2.78862242e-04]\n",
      " [9.94638070e-01 5.36193029e-03]\n",
      " [9.94638070e-01 5.36193029e-03]\n",
      " [1.00000000e+00 0.00000000e+00]\n",
      " [9.99534053e-01 4.65947037e-04]\n",
      " [9.99534053e-01 4.65947037e-04]\n",
      " [1.00000000e+00 0.00000000e+00]\n",
      " [9.98502496e-01 1.49750416e-03]\n",
      " [9.99721138e-01 2.78862242e-04]\n",
      " [7.90322581e-01 2.09677419e-01]\n",
      " [9.99721138e-01 2.78862242e-04]\n",
      " [9.94638070e-01 5.36193029e-03]\n",
      " [1.00000000e+00 0.00000000e+00]\n",
      " [5.44303797e-01 4.55696203e-01]\n",
      " [9.98530132e-01 1.46986771e-03]\n",
      " [1.45454545e-01 8.54545455e-01]\n",
      " [9.98530132e-01 1.46986771e-03]\n",
      " [1.00000000e+00 0.00000000e+00]\n",
      " [9.98530132e-01 1.46986771e-03]\n",
      " [1.00000000e+00 0.00000000e+00]\n",
      " [1.00000000e+00 0.00000000e+00]\n",
      " [8.16666667e-01 1.83333333e-01]\n",
      " [1.00000000e+00 0.00000000e+00]\n",
      " [2.80898876e-04 9.99719101e-01]\n",
      " [9.99721138e-01 2.78862242e-04]\n",
      " [7.90322581e-01 2.09677419e-01]\n",
      " [1.00000000e+00 0.00000000e+00]\n",
      " [3.67647059e-01 6.32352941e-01]\n",
      " [7.90322581e-01 2.09677419e-01]\n",
      " [1.00000000e+00 0.00000000e+00]\n",
      " [1.00000000e+00 0.00000000e+00]\n",
      " [1.00000000e+00 0.00000000e+00]\n",
      " [9.94638070e-01 5.36193029e-03]\n",
      " [8.24644550e-01 1.75355450e-01]\n",
      " [1.00000000e+00 0.00000000e+00]\n",
      " [9.98502496e-01 1.49750416e-03]\n",
      " [1.00000000e+00 0.00000000e+00]\n",
      " [1.45454545e-01 8.54545455e-01]\n",
      " [9.98502496e-01 1.49750416e-03]\n",
      " [9.99534053e-01 4.65947037e-04]\n",
      " [3.67647059e-01 6.32352941e-01]\n",
      " [9.96420048e-01 3.57995227e-03]\n",
      " [9.99534053e-01 4.65947037e-04]\n",
      " [8.16666667e-01 1.83333333e-01]]\n"
     ]
    }
   ],
   "source": [
    "print(dt.predict_proba(ab_test))"
   ]
  },
  {
   "cell_type": "code",
   "execution_count": 38,
   "metadata": {},
   "outputs": [
    {
     "data": {
      "text/plain": [
       "'\\ntakes too long to train\\nsv = SVC()\\nsv.fit(training_set, training_labels)\\nprint(sv.score(test_set, test_labels))\\nprint(sv.score(b_test, b_test_l))\\nprint(sv.score(p_test, p_test_l))\\nprint(sv.score(n_test, n_test_l))\\nprint(sv.score(ab_test, ab_l))'"
      ]
     },
     "execution_count": 38,
     "metadata": {},
     "output_type": "execute_result"
    }
   ],
   "source": [
    "'''\n",
    "takes too long to train\n",
    "sv = SVC()\n",
    "sv.fit(training_set, training_labels)\n",
    "print(sv.score(test_set, test_labels))\n",
    "print(sv.score(b_test, b_test_l))\n",
    "print(sv.score(p_test, p_test_l))\n",
    "print(sv.score(n_test, n_test_l))\n",
    "print(sv.score(ab_test, ab_l))'''"
   ]
  },
  {
   "cell_type": "code",
   "execution_count": 39,
   "metadata": {},
   "outputs": [
    {
     "name": "stderr",
     "output_type": "stream",
     "text": [
      "/home/thomasbelford/.local/lib/python2.7/site-packages/sklearn/ensemble/forest.py:246: FutureWarning: The default value of n_estimators will change from 10 in version 0.20 to 100 in 0.22.\n",
      "  \"10 in version 0.20 to 100 in 0.22.\", FutureWarning)\n"
     ]
    },
    {
     "data": {
      "text/plain": [
       "RandomForestClassifier(bootstrap=True, class_weight=None, criterion='gini',\n",
       "            max_depth=None, max_features='auto', max_leaf_nodes=None,\n",
       "            min_impurity_decrease=0.0, min_impurity_split=None,\n",
       "            min_samples_leaf=1, min_samples_split=2,\n",
       "            min_weight_fraction_leaf=0.0, n_estimators=10, n_jobs=None,\n",
       "            oob_score=False, random_state=None, verbose=0,\n",
       "            warm_start=False)"
      ]
     },
     "execution_count": 39,
     "metadata": {},
     "output_type": "execute_result"
    }
   ],
   "source": [
    "rf = RandomForestClassifier()\n",
    "rf.fit(training_set, training_labels)"
   ]
  },
  {
   "cell_type": "code",
   "execution_count": 40,
   "metadata": {},
   "outputs": [
    {
     "name": "stdout",
     "output_type": "stream",
     "text": [
      "0.7492899156844766\n",
      "0.9849420849420849\n",
      "0.7348004653039907\n",
      "0.6203389830508474\n",
      "0.9111111111111111\n"
     ]
    }
   ],
   "source": [
    "print(rf.score(test_set, test_labels))\n",
    "print(rf.score(b_test, b_test_l))\n",
    "print(rf.score(p_test, p_test_l))\n",
    "print(rf.score(n_test, n_l))\n",
    "print(rf.score(ab_test, ab_l))"
   ]
  },
  {
   "cell_type": "code",
   "execution_count": 41,
   "metadata": {},
   "outputs": [],
   "source": [
    "probs = rf.predict_proba(ab_test)"
   ]
  },
  {
   "cell_type": "code",
   "execution_count": 42,
   "metadata": {},
   "outputs": [
    {
     "name": "stdout",
     "output_type": "stream",
     "text": [
      "PB: 1.0              PP: 0.0              DA: 23.55.15.226     SA: 192.168.5.104   \n",
      "PB: 1.0              PP: 0.0              DA: 10.0.2.15        SA: 172.26.1.12     \n",
      "PB: 1.0              PP: 0.0              DA: 10.0.2.15        SA: 172.26.1.12     \n",
      "PB: 1.0              PP: 0.0              DA: 10.0.2.15        SA: 172.26.1.12     \n",
      "PB: 1.0              PP: 0.0              DA: 10.0.2.15        SA: 172.26.1.12     \n",
      "PB: 0.9              PP: 0.1              DA: 10.0.2.15        SA: 172.26.1.12     \n",
      "PB: 1.0              PP: 0.0              DA: 10.0.2.15        SA: 172.26.1.12     \n",
      "PB: 1.0              PP: 0.0              DA: 10.0.2.15        SA: 172.26.1.12     \n",
      "PB: 1.0              PP: 0.0              DA: 10.0.2.15        SA: 172.26.1.12     \n",
      "PB: 0.7              PP: 0.3              DA: 52.84.128.7      SA: 10.0.2.15       \n",
      "PB: 1.0              PP: 0.0              DA: 10.0.2.15        SA: 172.26.1.12     \n",
      "PB: 1.0              PP: 0.0              DA: 10.0.2.15        SA: 172.26.1.12     \n",
      "PB: 0.7              PP: 0.3              DA: 52.84.128.7      SA: 10.0.2.15       \n",
      "PB: 1.0              PP: 0.0              DA: 10.0.2.15        SA: 172.26.1.12     \n",
      "PB: 0.9              PP: 0.1              DA: 10.0.2.15        SA: 172.26.1.12     \n",
      "PB: 0.3              PP: 0.7              DA: 52.84.128.7      SA: 10.0.2.15       \n",
      "PB: 1.0              PP: 0.0              DA: 10.0.2.15        SA: 172.26.1.12     \n",
      "PB: 1.0              PP: 0.0              DA: 10.0.2.15        SA: 172.26.1.12     \n",
      "PB: 1.0              PP: 0.0              DA: 10.0.2.15        SA: 172.26.1.12     \n",
      "PB: 1.0              PP: 0.0              DA: 10.0.2.15        SA: 172.26.1.12     \n",
      "PB: 0.9              PP: 0.1              DA: 10.0.2.15        SA: 172.26.1.12     \n",
      "PB: 1.0              PP: 0.0              DA: 10.0.2.15        SA: 172.26.1.12     \n",
      "PB: 1.0              PP: 0.0              DA: 10.0.2.15        SA: 172.26.1.12     \n",
      "PB: 0.9              PP: 0.1              DA: 10.0.2.15        SA: 172.26.1.12     \n",
      "PB: 1.0              PP: 0.0              DA: 10.0.2.15        SA: 172.26.1.12     \n",
      "PB: 0.9              PP: 0.1              DA: 10.0.2.15        SA: 172.26.1.12     \n",
      "PB: 0.9              PP: 0.1              DA: 10.0.2.15        SA: 172.26.1.12     \n",
      "PB: 1.0              PP: 0.0              DA: 10.0.2.15        SA: 172.26.1.12     \n",
      "PB: 1.0              PP: 0.0              DA: 10.0.2.15        SA: 172.26.1.12     \n",
      "PB: 0.9              PP: 0.1              DA: 10.0.2.15        SA: 172.26.1.12     \n",
      "PB: 1.0              PP: 0.0              DA: 10.0.2.15        SA: 172.26.1.12     \n",
      "PB: 1.0              PP: 0.0              DA: 10.0.2.15        SA: 172.26.1.12     \n",
      "PB: 0.3              PP: 0.7              DA: 172.217.7.234    SA: 10.0.2.15       \n",
      "PB: 0.7              PP: 0.3              DA: 10.0.2.15        SA: 172.26.1.12     \n",
      "PB: 1.0              PP: 0.0              DA: 10.0.2.15        SA: 172.26.1.12     \n",
      "PB: 0.7              PP: 0.3              DA: 10.0.2.15        SA: 172.26.1.12     \n",
      "PB: 0.7              PP: 0.3              DA: 10.0.2.15        SA: 172.26.1.12     \n",
      "PB: 1.0              PP: 0.0              DA: 10.0.2.15        SA: 172.26.1.12     \n",
      "PB: 1.0              PP: 0.0              DA: 10.0.2.15        SA: 172.26.1.12     \n",
      "PB: 1.0              PP: 0.0              DA: 10.0.2.15        SA: 172.26.1.12     \n",
      "PB: 1.0              PP: 0.0              DA: 10.0.2.15        SA: 172.26.1.12     \n",
      "PB: 0.8              PP: 0.2              DA: 10.0.2.15        SA: 172.26.1.12     \n",
      "PB: 0.9              PP: 0.1              DA: 10.0.2.15        SA: 172.26.1.12     \n",
      "PB: 1.0              PP: 0.0              DA: 10.0.2.15        SA: 172.26.1.12     \n",
      "PB: 0.8              PP: 0.2              DA: 10.0.2.15        SA: 172.26.1.12     \n",
      "PB: 0.8              PP: 0.2              DA: 10.0.2.15        SA: 172.26.1.12     \n",
      "PB: 0.9              PP: 0.1              DA: 10.0.2.15        SA: 172.26.1.12     \n",
      "PB: 1.0              PP: 0.0              DA: 10.0.2.15        SA: 172.26.1.12     \n",
      "PB: 0.9              PP: 0.1              DA: 10.0.2.15        SA: 172.26.1.12     \n",
      "PB: 1.0              PP: 0.0              DA: 10.0.2.15        SA: 172.26.1.12     \n",
      "PB: 0.0              PP: 1.0              DA: 10.0.2.15        SA: 172.26.1.12     \n",
      "PB: 1.0              PP: 0.0              DA: 10.0.2.15        SA: 172.26.1.12     \n",
      "PB: 1.0              PP: 0.0              DA: 10.0.2.15        SA: 172.26.1.12     \n",
      "PB: 1.0              PP: 0.0              DA: 10.0.2.15        SA: 172.26.1.12     \n",
      "PB: 0.7              PP: 0.3              DA: 10.0.2.15        SA: 172.26.1.12     \n",
      "PB: 0.9              PP: 0.1              DA: 162.213.33.108   SA: 10.0.2.15       \n",
      "PB: 1.0              PP: 0.0              DA: 10.0.2.15        SA: 172.26.1.12     \n",
      "PB: 1.0              PP: 0.0              DA: 10.0.2.15        SA: 172.26.1.13     \n",
      "PB: 0.9              PP: 0.1              DA: 10.0.2.15        SA: 172.26.1.12     \n",
      "PB: 1.0              PP: 0.0              DA: 172.26.1.13      SA: 10.0.2.15       \n",
      "PB: 1.0              PP: 0.0              DA: 10.0.2.15        SA: 172.26.1.12     \n",
      "PB: 1.0              PP: 0.0              DA: 10.0.2.15        SA: 172.26.1.12     \n",
      "PB: 0.8              PP: 0.2              DA: 172.217.7.228    SA: 10.0.2.15       \n",
      "PB: 0.9              PP: 0.1              DA: 10.0.2.15        SA: 172.26.1.12     \n",
      "PB: 1.0              PP: 0.0              DA: 10.0.2.15        SA: 172.26.1.12     \n",
      "PB: 1.0              PP: 0.0              DA: 10.0.2.15        SA: 172.26.1.12     \n",
      "PB: 1.0              PP: 0.0              DA: 10.0.2.15        SA: 172.26.1.12     \n",
      "PB: 0.9              PP: 0.1              DA: 10.0.2.15        SA: 172.26.1.12     \n",
      "PB: 1.0              PP: 0.0              DA: 10.0.2.15        SA: 172.26.1.12     \n",
      "PB: 1.0              PP: 0.0              DA: 10.0.2.15        SA: 172.26.1.12     \n",
      "PB: 1.0              PP: 0.0              DA: 10.0.2.15        SA: 172.26.1.12     \n",
      "PB: 0.5              PP: 0.5              DA: 10.0.2.15        SA: 172.26.1.12     \n",
      "PB: 1.0              PP: 0.0              DA: 10.0.2.15        SA: 172.26.1.12     \n",
      "PB: 0.9              PP: 0.1              DA: 10.0.2.15        SA: 172.26.1.12     \n",
      "PB: 0.8              PP: 0.2              DA: 10.0.2.15        SA: 172.26.1.12     \n",
      "PB: 0.6              PP: 0.4              DA: 172.217.7.227    SA: 10.0.2.15       \n",
      "PB: 1.0              PP: 0.0              DA: 10.0.2.15        SA: 172.26.1.12     \n",
      "PB: 0.8              PP: 0.2              DA: 10.0.2.15        SA: 172.26.1.12     \n",
      "PB: 0.7              PP: 0.3              DA: 72.167.239.239   SA: 10.0.2.15       \n",
      "PB: 0.6              PP: 0.4              DA: 52.84.124.99     SA: 10.0.2.15       \n",
      "PB: 1.0              PP: 0.0              DA: 10.0.2.15        SA: 172.26.1.12     \n",
      "PB: 1.0              PP: 0.0              DA: 10.0.2.15        SA: 172.26.1.12     \n",
      "PB: 0.7              PP: 0.3              DA: 72.167.239.239   SA: 10.0.2.15       \n",
      "PB: 0.9              PP: 0.1              DA: 172.217.7.238    SA: 10.0.2.15       \n",
      "PB: 0.2              PP: 0.8              DA: 185.230.60.161   SA: 10.0.2.15       \n",
      "PB: 1.0              PP: 0.0              DA: 10.0.2.15        SA: 172.26.1.12     \n",
      "PB: 1.0              PP: 0.0              DA: 10.0.2.15        SA: 172.26.1.12     \n",
      "PB: 0.8              PP: 0.2              DA: 151.101.34.217   SA: 10.0.2.15       \n",
      "PB: 0.3              PP: 0.7              DA: 72.21.91.29      SA: 10.0.2.15       \n",
      "PB: 0.9              PP: 0.1              DA: 52.39.206.30     SA: 10.0.2.15       \n",
      "PB: 1.0              PP: 0.0              DA: 10.0.2.15        SA: 172.26.1.12     \n",
      "PB: 1.0              PP: 0.0              DA: 10.0.2.15        SA: 172.26.1.12     \n",
      "PB: 1.0              PP: 0.0              DA: 10.0.2.15        SA: 172.26.1.12     \n",
      "PB: 1.0              PP: 0.0              DA: 10.0.2.15        SA: 172.26.1.12     \n",
      "PB: 0.4              PP: 0.6              DA: 151.101.1.132    SA: 10.0.2.15       \n",
      "PB: 1.0              PP: 0.0              DA: 10.0.2.15        SA: 172.26.1.12     \n",
      "PB: 1.0              PP: 0.0              DA: 10.0.2.15        SA: 172.26.1.12     \n",
      "PB: 0.5              PP: 0.5              DA: 172.217.7.232    SA: 10.0.2.15       \n",
      "PB: 0.8              PP: 0.2              DA: 204.237.142.155  SA: 10.0.2.15       \n",
      "PB: 0.7              PP: 0.3              DA: 10.0.2.15        SA: 172.26.1.12     \n",
      "PB: 0.8              PP: 0.2              DA: 10.0.2.15        SA: 172.26.1.12     \n",
      "PB: 1.0              PP: 0.0              DA: 10.0.2.15        SA: 172.26.1.12     \n",
      "PB: 1.0              PP: 0.0              DA: 10.0.2.15        SA: 172.26.1.12     \n",
      "PB: 0.3              PP: 0.7              DA: 34.215.13.51     SA: 10.0.2.15       \n",
      "PB: 0.0              PP: 1.0              DA: 72.21.91.29      SA: 10.0.2.15       \n",
      "PB: 0.9              PP: 0.1              DA: 172.217.7.238    SA: 10.0.2.15       \n",
      "PB: 0.1              PP: 0.9              DA: 23.236.62.147    SA: 10.0.2.15       \n",
      "PB: 0.9              PP: 0.1              DA: 184.25.157.51    SA: 10.0.2.15       \n",
      "PB: 0.6              PP: 0.4              DA: 35.227.249.241   SA: 10.0.2.15       \n",
      "PB: 0.8              PP: 0.2              DA: 34.236.30.234    SA: 10.0.2.15       \n",
      "PB: 0.5              PP: 0.5              DA: 130.211.46.196   SA: 10.0.2.15       \n",
      "PB: 0.2              PP: 0.8              DA: 172.217.15.74    SA: 10.0.2.15       \n",
      "PB: 0.6              PP: 0.4              DA: 172.217.7.227    SA: 10.0.2.15       \n",
      "PB: 0.6              PP: 0.4              DA: 108.59.86.242    SA: 10.0.2.15       \n",
      "PB: 0.4              PP: 0.6              DA: 204.237.142.177  SA: 10.0.2.15       \n",
      "PB: 1.0              PP: 0.0              DA: 10.0.2.15        SA: 172.26.1.12     \n",
      "PB: 0.9              PP: 0.1              DA: 10.0.2.15        SA: 172.26.1.12     \n",
      "PB: 0.3              PP: 0.7              DA: 130.211.46.196   SA: 10.0.2.15       \n",
      "PB: 1.0              PP: 0.0              DA: 10.0.2.15        SA: 172.26.1.12     \n",
      "PB: 1.0              PP: 0.0              DA: 10.0.2.15        SA: 172.26.1.12     \n",
      "PB: 0.8              PP: 0.2              DA: 172.217.7.234    SA: 10.0.2.15       \n",
      "PB: 1.0              PP: 0.0              DA: 162.213.33.108   SA: 10.0.2.15       \n",
      "PB: 1.0              PP: 0.0              DA: 52.84.124.99     SA: 10.0.2.15       \n",
      "PB: 1.0              PP: 0.0              DA: 10.0.2.15        SA: 172.26.1.12     \n",
      "PB: 1.0              PP: 0.0              DA: 10.0.2.15        SA: 172.26.1.12     \n",
      "PB: 0.5              PP: 0.5              DA: 172.217.7.238    SA: 10.0.2.15       \n",
      "PB: 1.0              PP: 0.0              DA: 172.217.7.238    SA: 10.0.2.15       \n",
      "PB: 1.0              PP: 0.0              DA: 185.230.60.161   SA: 10.0.2.15       \n",
      "PB: 0.6              PP: 0.4              DA: 72.21.91.29      SA: 10.0.2.15       \n",
      "PB: 1.0              PP: 0.0              DA: 52.39.206.30     SA: 10.0.2.15       \n",
      "PB: 1.0              PP: 0.0              DA: 10.0.2.15        SA: 172.26.1.12     \n",
      "PB: 1.0              PP: 0.0              DA: 10.0.2.15        SA: 172.26.1.12     \n",
      "PB: 0.8              PP: 0.2              DA: 173.194.205.157  SA: 10.0.2.15       \n",
      "PB: 0.6              PP: 0.4              DA: 10.0.2.15        SA: 204.237.142.155 \n",
      "PB: 0.7              PP: 0.3              DA: 151.101.1.224    SA: 10.0.2.15       \n"
     ]
    }
   ],
   "source": [
    "for i in range(len(ab_test)):\n",
    "    print('PB: {pb: <16} PP: {pp: <16} DA: {da: <16} SA: {sa: <16}'.format(\n",
    "        pb=probs[i][0], pp=probs[i][1], da=ab_s_ip[i][1], sa=ab_s_ip[i][0]))"
   ]
  },
  {
   "cell_type": "code",
   "execution_count": null,
   "metadata": {},
   "outputs": [],
   "source": []
  },
  {
   "cell_type": "code",
   "execution_count": null,
   "metadata": {},
   "outputs": [],
   "source": []
  }
 ],
 "metadata": {
  "kernelspec": {
   "display_name": "Python 2",
   "language": "python",
   "name": "python2"
  },
  "language_info": {
   "codemirror_mode": {
    "name": "ipython",
    "version": 2
   },
   "file_extension": ".py",
   "mimetype": "text/x-python",
   "name": "python",
   "nbconvert_exporter": "python",
   "pygments_lexer": "ipython2",
   "version": "2.7.15rc1"
  }
 },
 "nbformat": 4,
 "nbformat_minor": 2
}
