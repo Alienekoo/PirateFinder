{
 "cells": [
  {
   "cell_type": "code",
   "execution_count": 1,
   "metadata": {},
   "outputs": [],
   "source": [
    "#Some code has been modeled based on CISCO's Joy. "
   ]
  },
  {
   "cell_type": "code",
   "execution_count": 2,
   "metadata": {},
   "outputs": [],
   "source": [
    "import numpy as np\n",
    "import pymongo\n",
    "#from sklearn import neural_network\n",
    "from sklearn.neural_network import MLPClassifier\n",
    "from sklearn.model_selection import GridSearchCV, learning_curve\n",
    "from sklearn.linear_model import LogisticRegression\n",
    "from sklearn.metrics import accuracy_score, make_scorer\n",
    "from sklearn.tree import DecisionTreeClassifier\n",
    "import sys\n",
    "import math\n",
    "from imblearn.over_sampling import SMOTE\n",
    "from imblearn.over_sampling import SMOTENC\n",
    "from sklearn import preprocessing\n",
    "import matplotlib.pyplot as plt\n",
    "from operator import add"
   ]
  },
  {
   "cell_type": "code",
   "execution_count": 3,
   "metadata": {},
   "outputs": [],
   "source": [
    "client = pymongo.MongoClient(\"mongodb://localhost:27017/\")\n",
    "mydb = client[\"flowdb\"]\n",
    "p_train_coll = mydb[\"trainP\"]\n",
    "p_test_coll = mydb[\"testP\"]\n",
    "b_train_coll = mydb[\"b2\"]\n",
    "b_test_coll = mydb[\"testB\"]\n",
    "net_train_coll = mydb[\"Netflow\"]"
   ]
  },
  {
   "cell_type": "code",
   "execution_count": 4,
   "metadata": {},
   "outputs": [],
   "source": [
    "p_train = []\n",
    "p_test = []\n",
    "b_train = []\n",
    "b_test = []\n",
    "p_train_l = []\n",
    "p_test_l = []\n",
    "b_train_l = []\n",
    "b_test_l = []\n"
   ]
  },
  {
   "cell_type": "code",
   "execution_count": 5,
   "metadata": {},
   "outputs": [],
   "source": [
    "#these are for the individualPL \n",
    "numRows = 10\n",
    "binSize = 150.0\n",
    "\n",
    "b_byte_dist_h = [0] * 256\n",
    "b_ipt_h = np.zeros((numRows, numRows))\n",
    "p_byte_dist_h = [0] * 256\n",
    "p_ipt_h = np.zeros((numRows, numRows))\n",
    "b_pl = np.zeros((numRows,numRows))\n",
    "p_pl = np.zeros((numRows,numRows))"
   ]
  },
  {
   "cell_type": "code",
   "execution_count": 6,
   "metadata": {},
   "outputs": [],
   "source": [
    "#def adjust_threshold()"
   ]
  },
  {
   "cell_type": "markdown",
   "metadata": {},
   "source": [
    "## methods to gather data from flow"
   ]
  },
  {
   "cell_type": "code",
   "execution_count": 7,
   "metadata": {},
   "outputs": [],
   "source": [
    "def getBD(doc, flag):\n",
    "    data = []\n",
    "    if len(doc['packets']) == 0:\n",
    "        return np.zeros(256)\n",
    "    if doc['byte_dist'] != None and sum(doc['byte_dist']) > 0:\n",
    "        tmp = map(lambda x: x / float(sum(doc['byte_dist'])), doc['byte_dist'])\n",
    "        data.extend(tmp)\n",
    "        if flag == 0:\n",
    "            for i in range(len(tmp)):\n",
    "                b_byte_dist_h[i] += tmp[i]\n",
    "        elif flag == 1:\n",
    "            for i in range(len(tmp)):\n",
    "                p_byte_dist_h[i] += tmp[i]\n",
    "    else:\n",
    "        data.extend(np.zeros(256))\n",
    "    return data"
   ]
  },
  {
   "cell_type": "code",
   "execution_count": 8,
   "metadata": {},
   "outputs": [],
   "source": [
    "def getIndividualPL(flow, flag):\n",
    "    transMat = np.zeros((numRows, numRows))\n",
    "    if len(flow['packets']) == 0:\n",
    "        return\n",
    "    elif len(flow['packets']) == 1:\n",
    "        curPacketSize = min(int(flow['packets'][0]['b'] / binSize), numRows - 1)\n",
    "        transMat[curPacketSize, curPacketSize] = 1\n",
    "        if (flag == 0):\n",
    "            b_pl[curPacketSize, curPacketSize] += 1\n",
    "        elif (flag == 1):\n",
    "            p_pl[curPacketSize, curPacketSize] += 1\n",
    "        \n",
    "        return (list(transMat.flatten()))\n",
    "        \n",
    "\n",
    "    # get raw transition counts\n",
    "    for i in range(1, len(flow['packets'])):\n",
    "        prevPacketSize = min(int(flow['packets'][i - 1]['b'] / binSize), numRows - 1)\n",
    "        if 'b' not in flow['packets'][i]:\n",
    "            break\n",
    "        curPacketSize = min(int(flow['packets'][i]['b'] / binSize), numRows - 1)\n",
    "        transMat[prevPacketSize, curPacketSize] += 1\n",
    "        \n",
    "        if (flag == 0):\n",
    "            b_pl[prevPacketSize, curPacketSize] += 1\n",
    "        elif (flag == 1):\n",
    "            p_pl[prevPacketSize, curPacketSize] += 1\n",
    "        \n",
    "    # get empirical transition probabilities\n",
    "    for i in range(numRows):\n",
    "        if float(np.sum(transMat[i:i + 1])) != 0:\n",
    "            transMat[i:i + 1] = transMat[i:i + 1] / float(np.sum(transMat[i:i + 1]))\n",
    "\n",
    "    return (list(transMat.flatten()))"
   ]
  },
  {
   "cell_type": "code",
   "execution_count": 9,
   "metadata": {},
   "outputs": [],
   "source": [
    "def getIPT(flow, flag):\n",
    "    #numRows = 10\n",
    "    binSize = 50.0\n",
    "    transMat = np.zeros((numRows, numRows))\n",
    "    if len(flow['packets']) == 0:\n",
    "        return\n",
    "    elif len(flow['packets']) == 1:\n",
    "        curIPT = min(int(flow['packets'][0]['ipt'] / float(binSize)), numRows - 1)\n",
    "        transMat[curIPT, curIPT] = 1\n",
    "        \n",
    "        #for updating histograms/box charts\n",
    "        if (flag == 0):\n",
    "            b_ipt_h[curIPT, curIPT] += 1\n",
    "        elif (flag == 1):\n",
    "            p_ipt_h[curIPT, curIPT] += 1\n",
    "        return (list(transMat.flatten()))\n",
    "        \n",
    "\n",
    "    # get raw transition counts\n",
    "    for i in range(1, len(flow['packets'])):\n",
    "        prevIPT = min(int(flow['packets'][i - 1]['ipt'] / float(binSize)), numRows - 1)\n",
    "        curIPT = min(int(flow['packets'][i]['ipt'] / float(binSize)), numRows - 1)\n",
    "        transMat[prevIPT, curIPT] += 1\n",
    "        \n",
    "        if (flag == 0):\n",
    "            b_ipt_h[prevIPT, curIPT] += 1\n",
    "        elif (flag == 1):\n",
    "            p_ipt_h[prevIPT, curIPT] += 1\n",
    "\n",
    "    # get empirical transition probabilities\n",
    "    for i in range(numRows):\n",
    "        if float(np.sum(transMat[i:i + 1])) != 0:\n",
    "            transMat[i:i + 1] = transMat[i:i + 1] / float(np.sum(transMat[i:i + 1]))\n",
    "\n",
    "    return (list(transMat.flatten()))"
   ]
  },
  {
   "cell_type": "code",
   "execution_count": 10,
   "metadata": {},
   "outputs": [],
   "source": [
    "def getMD(flow, flag):\n",
    "    tmp = []\n",
    "\n",
    "    if flow['dp'] != None:\n",
    "        tmp.append(float(flow['dp']))  # destination port\n",
    "    else:\n",
    "        tmp.append(0)  # ICMP/etc.\n",
    "    if flow['sp'] != None:\n",
    "        tmp.append(float(flow['sp']))  # source port\n",
    "    else:\n",
    "        tmp.append(0)  # ICMP/etc.\n",
    "    if 'num_pkts_in' in flow:\n",
    "        tmp.append(flow['num_pkts_in'])  # inbound packets\n",
    "    else:\n",
    "        tmp.append(0)\n",
    "    if 'num_pkts_out' in flow:\n",
    "        tmp.append(flow['num_pkts_out'])  # outbound packets\n",
    "    else:\n",
    "        tmp.append(0)\n",
    "    if 'bytes_in' in flow:\n",
    "        tmp.append(flow['bytes_in'])  # inbound bytes\n",
    "    else:\n",
    "        tmp.append(0)\n",
    "    if 'bytes_out' in flow:\n",
    "        tmp.append(flow['bytes_out'])  # outbound bytes\n",
    "    else:\n",
    "        tmp.append(0)\n",
    "    # elapsed time of flow\n",
    "    if flow['packets'] == []:\n",
    "        tmp.append(0)\n",
    "    else:\n",
    "        time = 0\n",
    "        for packet in flow['packets']:\n",
    "            time += packet['ipt']\n",
    "        tmp.append(time)\n",
    "    return tmp"
   ]
  },
  {
   "cell_type": "markdown",
   "metadata": {},
   "source": [
    "## set up arrays using methods from above to be trained on"
   ]
  },
  {
   "cell_type": "code",
   "execution_count": 11,
   "metadata": {},
   "outputs": [],
   "source": [
    "for doc in p_train_coll.find():\n",
    "    tmpd = []\n",
    "    tmp = getMD(doc, 1)\n",
    "    tmpb = getBD(doc, 1)\n",
    "    if (tmpb is None or len(tmpb) != 256):\n",
    "        continue\n",
    "    #tmpbd = preprocessing.scale(tmpb)\n",
    "    tmpift = getIPT(doc, 1)\n",
    "    \n",
    "    #note: these 100's need to be changed if numRows is changed\n",
    "    #if (tmpift is None or len(tmpift) != 100):\n",
    "    #    continue\n",
    "        \n",
    "    tmpind_pl = getIndividualPL(doc, 1)\n",
    "    #if (tmpind_pl is None or len(tmpind_pl) != 100):\n",
    "    #    continue\n",
    "    \n",
    "    \n",
    "    tmpd.extend(tmp)\n",
    "    tmpd.extend(tmpb)\n",
    "    #tmpd.extend(tmpift)\n",
    "    #tmpd.extend(tmpind_fl)\n",
    "    p_train.append(tmpd)\n",
    "    p_train_l.append(1)\n",
    "\n",
    "for doc in net_train_coll.find({'$or':[{'da': '192.168.5.113'}, {'sa': '192.168.5.113'}]}):\n",
    "    tmpd = []\n",
    "    tmp = getMD(doc, -1)\n",
    "    tmpb = getBD(doc, -1)\n",
    "    if (tmpb is None or len(tmpb) != 256):\n",
    "        continue\n",
    "    #tmpbd = preprocessing.scale(tmpb)\n",
    "    tmpift = getIPT(doc, -1)\n",
    "    \n",
    "    #note: these 100's need to be changed if numRows is changed\n",
    "    #if (tmpift is None or len(tmpift) != 100):\n",
    "    #    continue\n",
    "        \n",
    "    tmpind_pl = getIndividualPL(doc, -1)\n",
    "    #if (tmpind_pl is None or len(tmpind_pl) != 100):\n",
    "    #    continue\n",
    "    \n",
    "    tmpd.extend(tmp)\n",
    "    tmpd.extend(tmpb)\n",
    "    #tmpd.extend(tmpift)\n",
    "    #tmpd.extend(tmpind_fl)\n",
    "    p_train.append(tmpd)\n",
    "    p_train_l.append(1)\n"
   ]
  },
  {
   "cell_type": "code",
   "execution_count": 12,
   "metadata": {},
   "outputs": [
    {
     "data": {
      "image/png": "[encoded data removed]",
      "text/plain": [
       "<Figure size 432x288 with 1 Axes>"
      ]
     },
     "metadata": {
      "needs_background": "light"
     },
     "output_type": "display_data"
    }
   ],
   "source": [
    "y_pos = np.arange(len(p_byte_dist_h))\n",
    "x = preprocessing.scale(p_byte_dist_h)\n",
    "plt.bar(y_pos, x)\n",
    "plt.title(\"Standardized Pirate Byte Distribution\")\n",
    "plt.show()"
   ]
  },
  {
   "cell_type": "code",
   "execution_count": 13,
   "metadata": {},
   "outputs": [
    {
     "data": {
      "image/png": "[encoded data removed]",
      "text/plain": [
       "<Figure size 432x288 with 1 Axes>"
      ]
     },
     "metadata": {
      "needs_background": "light"
     },
     "output_type": "display_data"
    }
   ],
   "source": [
    "p_ipt_h = p_ipt_h.flatten()\n",
    "y_pos = np.arange(len(p_ipt_h))\n",
    "x = preprocessing.scale(p_ipt_h)\n",
    "plt.bar(y_pos, x)\n",
    "plt.title(\"Pirate IPT buckets\")\n",
    "plt.show()"
   ]
  },
  {
   "cell_type": "code",
   "execution_count": 14,
   "metadata": {},
   "outputs": [
    {
     "data": {
      "image/png": "[encoded data removed]",
      "text/plain": [
       "<Figure size 432x288 with 1 Axes>"
      ]
     },
     "metadata": {
      "needs_background": "light"
     },
     "output_type": "display_data"
    }
   ],
   "source": [
    "p_pl = p_pl.flatten()\n",
    "y_pos = np.arange(len(p_pl))\n",
    "x = preprocessing.scale(p_pl)\n",
    "plt.bar(y_pos, x)\n",
    "plt.title('Pirate PL Matrix')\n",
    "plt.show()"
   ]
  },
  {
   "cell_type": "code",
   "execution_count": 15,
   "metadata": {},
   "outputs": [],
   "source": [
    "for doc in p_test_coll.find():\n",
    "    tmpd = []\n",
    "    tmp = getMD(doc, -1)\n",
    "    tmpb = getBD(doc, -1)\n",
    "    if (tmpb is None or len(tmpb) != 256):\n",
    "        continue\n",
    "    #tmpbd = preprocessing.scale(tmpb)\n",
    "    #tmpift = getIPT(doc, -1)\n",
    "    \n",
    "    #note: these 100's need to be changed if numRows is changed\n",
    "    #if (tmpift is None or len(tmpift) != 100):\n",
    "    #    continue\n",
    "        \n",
    "    #tmpind_pl = getIndividualPL(doc, -1)\n",
    "    #if (tmpind_pl is None or len(tmpind_pl) != 100):\n",
    "    #    continue\n",
    "    \n",
    "    tmpd.extend(tmp)\n",
    "    tmpd.extend(tmpb)\n",
    "    #tmpd.extend(tmpift)\n",
    "    #tmpd.extend(tmpind_fl)\n",
    "    p_test.append(tmpd)\n",
    "    p_test_l.append(1)\n",
    "    "
   ]
  },
  {
   "cell_type": "code",
   "execution_count": 16,
   "metadata": {},
   "outputs": [],
   "source": [
    "for doc in b_train_coll.find():\n",
    "    tmpd = []\n",
    "    tmp = getMD(doc, 0)\n",
    "    tmpb = getBD(doc, 0)\n",
    "    if (tmpb is None or len(tmpb) != 256):\n",
    "        continue\n",
    "    #tmpbd = preprocessing.scale(tmpb)\n",
    "    tmpift = getIPT(doc, 0)\n",
    "    \n",
    "    #note: these 100's need to be changed if numRows is changed\n",
    "    #if (tmpift is None or len(tmpift) != 100):\n",
    "    #    continue\n",
    "        \n",
    "    tmpind_pl = getIndividualPL(doc, 0)\n",
    "    #if (tmpind_pl is None or len(tmpind_pl) != 100):\n",
    "    #    continue\n",
    "    \n",
    "    tmpd.extend(tmp)\n",
    "    tmpd.extend(tmpb)\n",
    "    #tmpd.extend(tmpift)\n",
    "    #tmpd.extend(tmpind_fl)\n",
    "    b_train.append(tmpd)\n",
    "    b_train_l.append(0)\n"
   ]
  },
  {
   "cell_type": "code",
   "execution_count": 17,
   "metadata": {},
   "outputs": [
    {
     "data": {
      "image/png": "[encoded data removed]",
      "text/plain": [
       "<Figure size 432x288 with 1 Axes>"
      ]
     },
     "metadata": {
      "needs_background": "light"
     },
     "output_type": "display_data"
    }
   ],
   "source": [
    "y_pos = np.arange(len(b_byte_dist_h))\n",
    "x = preprocessing.scale(b_byte_dist_h)\n",
    "plt.bar(y_pos, x)\n",
    "plt.title(\"Standardized Benign Byte Distribution\")\n",
    "plt.show()"
   ]
  },
  {
   "cell_type": "code",
   "execution_count": 18,
   "metadata": {},
   "outputs": [
    {
     "data": {
      "image/png": "[encoded data removed]",
      "text/plain": [
       "<Figure size 432x288 with 1 Axes>"
      ]
     },
     "metadata": {
      "needs_background": "light"
     },
     "output_type": "display_data"
    }
   ],
   "source": [
    "b_ipt_h = b_ipt_h.flatten()\n",
    "y_pos = np.arange(len(b_ipt_h))\n",
    "x = preprocessing.scale(b_ipt_h)\n",
    "plt.bar(y_pos, x)\n",
    "plt.title(\"Benign IPT buckets\")\n",
    "plt.show()"
   ]
  },
  {
   "cell_type": "code",
   "execution_count": 19,
   "metadata": {},
   "outputs": [
    {
     "data": {
      "image/png": "[encoded data removed]",
      "text/plain": [
       "<Figure size 432x288 with 1 Axes>"
      ]
     },
     "metadata": {
      "needs_background": "light"
     },
     "output_type": "display_data"
    }
   ],
   "source": [
    "b_pl = b_pl.flatten()\n",
    "y_pos = np.arange(len(b_pl))\n",
    "x = preprocessing.scale(b_pl)\n",
    "plt.bar(y_pos, x)\n",
    "plt.title('Benign PL Matrix')\n",
    "plt.show()"
   ]
  },
  {
   "cell_type": "code",
   "execution_count": 20,
   "metadata": {},
   "outputs": [],
   "source": [
    "for doc in b_test_coll.find():\n",
    "    tmpd = []\n",
    "    tmp = getMD(doc, -1)\n",
    "    tmpb = getBD(doc, -1)\n",
    "    if (tmpb is None or len(tmpb) != 256):\n",
    "        continue\n",
    "    #tmpbd = preprocessing.scale(tmpb)\n",
    "    #tmpift = getIPT(doc, -1)\n",
    "    \n",
    "    #note: these 100's need to be changed if numRows is changed\n",
    "    #if (tmpift is None or len(tmpift) != 100):\n",
    "    #    continue\n",
    "        \n",
    "    #tmpind_pl = getIndividualPL(doc, -1)\n",
    "    #if (tmpind_pl is None or len(tmpind_pl) != 100):\n",
    "    #    continue\n",
    "    \n",
    "    tmpd.extend(tmp)\n",
    "    tmpd.extend(tmpb)\n",
    "    #tmpd.extend(tmpift)\n",
    "    #tmpd.extend(tmpind_fl)\n",
    "    b_test.append(tmpd)\n",
    "    b_test_l.append(0)\n",
    "    "
   ]
  },
  {
   "cell_type": "code",
   "execution_count": null,
   "metadata": {},
   "outputs": [],
   "source": [
    "training_set = []\n",
    "training_set.extend(b_train)\n",
    "training_set.extend(p_train)\n",
    "training_labels = []\n",
    "training_labels.extend(b_train_l)\n",
    "training_labels.extend(p_train_l)\n",
    "training_set = np.array(training_set)\n",
    "training_labels = np.array(training_labels)\n",
    "b_train = np.array(b_train)\n",
    "p_train = np.array(p_train)\n",
    "b_train_l = np.array(b_train_l)\n",
    "p_train_l = np.array(p_train_l)"
   ]
  },
  {
   "cell_type": "code",
   "execution_count": null,
   "metadata": {},
   "outputs": [],
   "source": [
    "test_set = []\n",
    "test_labels = []\n",
    "test_set.extend(b_test)\n",
    "test_set.extend(p_test)\n",
    "test_labels.extend(b_test_l)\n",
    "test_labels.extend(p_test_l)\n",
    "test_set = np.array(test_set)\n",
    "test_labels = np.array(test_labels)\n",
    "b_test = np.array(b_test)\n",
    "p_test = np.array(p_test)\n",
    "b_test_l = np.array(b_test_l)\n",
    "p_test_l = np.array(p_test_l)"
   ]
  },
  {
   "cell_type": "code",
   "execution_count": null,
   "metadata": {},
   "outputs": [],
   "source": [
    "logreg = LogisticRegression()\n",
    "logreg.fit(training_set, training_labels)\n",
    "print(logreg.score(test_set, test_labels))\n",
    "print(logreg.score(b_test, b_test_l))\n",
    "print(logreg.score(p_test, p_test_l))"
   ]
  },
  {
   "cell_type": "code",
   "execution_count": null,
   "metadata": {},
   "outputs": [],
   "source": [
    "print(logreg.score(training_set, training_labels))"
   ]
  },
  {
   "cell_type": "code",
   "execution_count": null,
   "metadata": {
    "scrolled": true
   },
   "outputs": [],
   "source": [
    "'''neural_net = MLPClassifier()\n",
    "neural_net.fit(training_set, training_labels)\n",
    "print(neural_net.score(test_set, test_labels))\n",
    "print(neural_net.score(b_test, b_test_l))\n",
    "print(neural_net.score(p_test, p_test_l))'''\n",
    "\n",
    "'''dtest = DecisionTreeClassifier()\n",
    "\n",
    "params = {'max_leaf_nodes': range(10,200,30),\n",
    "         'min_samples_leaf': range(5, 100, 25),\n",
    "         'max_depth': range(5, 100, 25)}\n",
    "gsearch = GridSearchCV(dtest, params, cv=5)\n",
    "gsearch.fit(training_set, training_labels)\n",
    "'''"
   ]
  },
  {
   "cell_type": "code",
   "execution_count": null,
   "metadata": {},
   "outputs": [],
   "source": [
    "#print(gsearch.best_params_)\n",
    "#print(gsearch.best_estimator_)"
   ]
  },
  {
   "cell_type": "code",
   "execution_count": null,
   "metadata": {},
   "outputs": [],
   "source": [
    "\n",
    "dt = DecisionTreeClassifier(criterion='gini')\n",
    "dt.fit(training_set, training_labels)\n",
    "print(dt.score(test_set, test_labels))\n",
    "print(dt.score(b_test, b_test_l))\n",
    "print(dt.score(p_test, p_test_l))"
   ]
  },
  {
   "cell_type": "code",
   "execution_count": null,
   "metadata": {},
   "outputs": [],
   "source": [
    "dt = DecisionTreeClassifier(criterion='gini', max_leaf_nodes=70, max_depth=30, min_samples_leaf=55)\n",
    "dt.fit(training_set, training_labels)\n",
    "print(dt.score(test_set, test_labels))\n",
    "print(dt.score(b_test, b_test_l))\n",
    "print(dt.score(p_test, p_test_l))"
   ]
  },
  {
   "cell_type": "code",
   "execution_count": null,
   "metadata": {
    "scrolled": true
   },
   "outputs": [],
   "source": [
    "print(dt.predict_proba(p_test))"
   ]
  },
  {
   "cell_type": "code",
   "execution_count": null,
   "metadata": {},
   "outputs": [],
   "source": [
    "n_test_coll = mydb[\"netflow_test\"]\n",
    "n_test = []\n",
    "n_l = []\n",
    "for doc in n_test_coll.find({'$or':[{'da': '192.168.5.113'}, {'sa': '192.168.5.113'}]}):\n",
    "    tmpd = []\n",
    "    tmp = getMD(doc, -1)\n",
    "    tmpb = getBD(doc, -1)\n",
    "    if (tmpb is None or len(tmpb) != 256):\n",
    "        continue\n",
    "    #tmpbd = preprocessing.scale(tmpb)\n",
    "    #tmpift = getIPT(doc, -1)\n",
    "    \n",
    "    #note: these 100's need to be changed if numRows is changed\n",
    "    #if (tmpift is None or len(tmpift) != 100):\n",
    "    #    continue\n",
    "        \n",
    "    #tmpind_pl = getIndividualPL(doc, -1)\n",
    "    #if (tmpind_pl is None or len(tmpind_pl) != 100):\n",
    "    #    continue\n",
    "    \n",
    "    tmpd.extend(tmp)\n",
    "    tmpd.extend(tmpb)\n",
    "    #tmpd.extend(tmpift)\n",
    "    #tmpd.extend(tmpind_pl)\n",
    "    n_test.append(tmpd)\n",
    "    n_l.append(1)\n"
   ]
  },
  {
   "cell_type": "code",
   "execution_count": null,
   "metadata": {},
   "outputs": [],
   "source": [
    "print(dt.score(n_test, n_l))"
   ]
  },
  {
   "cell_type": "code",
   "execution_count": null,
   "metadata": {},
   "outputs": [],
   "source": [
    "probs = dt.predict_proba(n_test)\n",
    "print (probs)\n"
   ]
  },
  {
   "cell_type": "code",
   "execution_count": null,
   "metadata": {
    "scrolled": false
   },
   "outputs": [],
   "source": [
    "'''j = 0\n",
    "for i in range(len(probs)):\n",
    "    if probs[i][1] == 1.:\n",
    "        print(n_test[i])\n",
    "        j +=1 \n",
    "        \n",
    "print j'''"
   ]
  },
  {
   "cell_type": "code",
   "execution_count": null,
   "metadata": {},
   "outputs": [],
   "source": [
    "#print(neural_net.score(n_test, n_l))\n",
    "#about comparing results between this and the joy output stuff. "
   ]
  },
  {
   "cell_type": "code",
   "execution_count": null,
   "metadata": {},
   "outputs": [],
   "source": [
    "#all benign test\n",
    "ab_test_coll = mydb[\"bWeb\"]\n",
    "ab_test = []\n",
    "ab_l = []\n",
    "for doc in ab_test_coll.find():\n",
    "    tmpd = []\n",
    "    tmp = getMD(doc, -1)\n",
    "    tmpb = getBD(doc, -1)\n",
    "    if (tmpb is None or len(tmpb) != 256):\n",
    "        continue\n",
    "    #tmpbd = preprocessing.scale(tmpb)\n",
    "    #tmpift = getIPT(doc, -1)\n",
    "    \n",
    "    #note: these 100's need to be changed if numRows is changed\n",
    "    #if (tmpift is None or len(tmpift) != 100):\n",
    "    #    continue\n",
    "        \n",
    "    #tmpind_pl = getIndividualPL(doc, -1)\n",
    "    #if (tmpind_pl is None or len(tmpind_pl) != 100):\n",
    "    #    continue\n",
    "    \n",
    "    tmpd.extend(tmp)\n",
    "    tmpd.extend(tmpb)\n",
    "    #tmpd.extend(tmpift)\n",
    "    #tmpd.extend(tmpind_pl)\n",
    "    ab_test.append(tmpd)\n",
    "    ab_l.append(0)\n"
   ]
  },
  {
   "cell_type": "code",
   "execution_count": null,
   "metadata": {},
   "outputs": [],
   "source": [
    "print(dt.score(ab_test, ab_l))"
   ]
  },
  {
   "cell_type": "code",
   "execution_count": null,
   "metadata": {},
   "outputs": [],
   "source": [
    "print(dt.predict_proba(ab_test))"
   ]
  },
  {
   "cell_type": "code",
   "execution_count": null,
   "metadata": {},
   "outputs": [],
   "source": []
  }
 ],
 "metadata": {
  "kernelspec": {
   "display_name": "Python 2",
   "language": "python",
   "name": "python2"
  },
  "language_info": {
   "codemirror_mode": {
    "name": "ipython",
    "version": 2
   },
   "file_extension": ".py",
   "mimetype": "text/x-python",
   "name": "python",
   "nbconvert_exporter": "python",
   "pygments_lexer": "ipython2",
   "version": "2.7.15rc1"
  }
 },
 "nbformat": 4,
 "nbformat_minor": 2
}
