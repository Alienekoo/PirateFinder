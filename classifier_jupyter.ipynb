{
 "cells": [
  {
   "cell_type": "code",
   "execution_count": 1,
   "metadata": {},
   "outputs": [],
   "source": [
    "import numpy as np\n",
    "import pymongo\n",
    "#from sklearn import neural_network\n",
    "from sklearn.neural_network import MLPClassifier\n",
    "from sklearn.model_selection import GridSearchCV, learning_curve\n",
    "from sklearn.linear_model import LogisticRegression\n",
    "from sklearn.metrics import accuracy_score, make_scorer\n",
    "from sklearn.tree import DecisionTreeClassifier\n",
    "import sys\n",
    "import math\n",
    "from imblearn.over_sampling import SMOTE\n",
    "from imblearn.over_sampling import SMOTENC\n",
    "from sklearn import preprocessing\n",
    "import matplotlib.pyplot as plt\n",
    "from sklearn.ensemble import RandomForestClassifier"
   ]
  },
  {
   "cell_type": "markdown",
   "metadata": {},
   "source": [
    "# Load data"
   ]
  },
  {
   "cell_type": "code",
   "execution_count": 2,
   "metadata": {},
   "outputs": [],
   "source": [
    "client = pymongo.MongoClient(\"mongodb://localhost:27017/\")\n",
    "mydb = client[\"flowdb\"]"
   ]
  },
  {
   "cell_type": "code",
   "execution_count": 3,
   "metadata": {},
   "outputs": [],
   "source": [
    "#my data resulted in more data points under testP_agg so I used \n",
    "#that as the training collection instead of trainP_agg\n",
    "p_train_coll = mydb[\"aggp2\"]\n",
    "p_test_coll = mydb[\"testP_agg\"]\n",
    "b_train_coll = mydb[\"aggb2\"]\n",
    "b_test_coll = mydb[\"testB_agg\"]\n",
    "\n",
    "n_test_coll = mydb[\"netflowagg\"]\n",
    "\n",
    "p_train = []\n",
    "p_test = []\n",
    "b_train = []\n",
    "b_test = []\n",
    "p_train_l = []\n",
    "p_test_l = []\n",
    "b_train_l = []\n",
    "b_test_l = []\n",
    "n_test = []\n",
    "\n",
    "b_byte_dist_h = [0] * 256\n",
    "b_ift_h = [0] * 15\n",
    "p_byte_dist_h = [0] * 256\n",
    "p_ift_h = [0] * 15\n",
    "b_fl = np.zeros((10,10))\n",
    "p_fl = np.zeros((10,10))"
   ]
  },
  {
   "cell_type": "code",
   "execution_count": 4,
   "metadata": {},
   "outputs": [],
   "source": [
    "def getMD(doc, flag):\n",
    "    tmp = []\n",
    "    if doc['sp'][0] == None:\n",
    "        tmp.append(-1)\n",
    "    else:\n",
    "        tmp.append(doc['sp'][0])\n",
    "        \n",
    "    if doc['dp'][0] == None:\n",
    "        tmp.append(-1)\n",
    "    else:\n",
    "        tmp.append(doc['dp'][0])\n",
    "    #tmp.append(doc['sp'][0])\n",
    "    #tmp.append(doc['dp'][0])\n",
    "    if doc['Source ASN'] == None:\n",
    "        tmp.append(-1)\n",
    "    else:\n",
    "        tmp.append(doc['Source ASN'])\n",
    "    if doc['Dest ASN'] == None:\n",
    "        tmp.append(-1)\n",
    "    else:\n",
    "        tmp.append(doc['Dest ASN'])\n",
    "    tmp.append(doc['bytes_in'])\n",
    "    tmp.append(doc['bytes_out'])\n",
    "    tmp.append(doc['total_bytes'])\n",
    "    tmp.append(doc['num_pkts_in'])\n",
    "    tmp.append(doc['num_pkts_out'])\n",
    "    tmp.append(doc['total_num_pkts'])\n",
    "    tmp.append(doc['# of flows'])\n",
    "    '''for i in range(256):\n",
    "        if (doc['byte_dist'][i] != None):\n",
    "            try:\n",
    "                tmp.append(doc['byte_dist'][i])\n",
    "                if (flag == 0):\n",
    "                    b_byte_dist_h[i] += doc['byte_dist'][i]\n",
    "                else:\n",
    "                    p_byte_dist_h[i] += doc['byte_dist'][i] \n",
    "            except:\n",
    "                tmp.append(0)\n",
    "        else:\n",
    "            tmp.append(0)'''\n",
    "    return tmp"
   ]
  },
  {
   "cell_type": "code",
   "execution_count": 5,
   "metadata": {},
   "outputs": [],
   "source": [
    "def getBD(doc, flag):\n",
    "    for i in range(256):\n",
    "        if (doc['byte_dist'][i] != None):\n",
    "            try:\n",
    "                tmp.append(doc['byte_dist'][i])\n",
    "                if (flag == 0):\n",
    "                    b_byte_dist_h[i] += doc['byte_dist'][i]\n",
    "                else:\n",
    "                    p_byte_dist_h[i] += doc['byte_dist'][i] \n",
    "            except:\n",
    "                tmp.append(0)\n",
    "        else:\n",
    "            tmp.append(0)\n",
    "    return tmp"
   ]
  },
  {
   "cell_type": "code",
   "execution_count": 6,
   "metadata": {},
   "outputs": [],
   "source": [
    "def getIFTBuckets(doc, flag):\n",
    "    tmp = []\n",
    "    ifts = doc['ift']\n",
    "    length = len(ifts)\n",
    "    tmp.append(length)\n",
    "    #tmp.append(np.mean(ifts))\n",
    "    num = 15\n",
    "    buckets = [0] * num\n",
    "    sum = 0\n",
    "    avg_ift = 0\n",
    "    for ift in ifts:\n",
    "        if ift > 0:\n",
    "           logift = math.log(ift, 2)\n",
    "        if ift == 0:\n",
    "            buckets[0] += 1\n",
    "            if(flag == 0):\n",
    "                b_ift_h[0]+= 1\n",
    "            else:\n",
    "                p_ift_h[0] += 1\n",
    "        elif logift <= 0:\n",
    "            buckets[0] += 1\n",
    "            if(flag == 0):\n",
    "                b_ift_h[0]+= 1\n",
    "            else:\n",
    "                p_ift_h[0] += 1\n",
    "            sum += ift\n",
    "        elif logift >= 14:\n",
    "            buckets[14] += 1\n",
    "            if(flag == 0):\n",
    "                b_ift_h[14]+= 1\n",
    "            else:\n",
    "                p_ift_h[14] += 1\n",
    "            sum += ift\n",
    "        else:\n",
    "            buckets[int(math.floor(logift))] += 1\n",
    "            if(flag == 0):\n",
    "                b_ift_h[int(math.floor(logift))]+= 1\n",
    "            else:\n",
    "                p_ift_h[int(math.floor(logift))] += 1\n",
    "            sum += ift\n",
    "    \n",
    "    if length > 1:\n",
    "        avg_ift = sum / length\n",
    "    tmp.append(avg_ift)\n",
    "    tmp.extend(buckets)\n",
    "    return tmp"
   ]
  },
  {
   "cell_type": "code",
   "execution_count": 7,
   "metadata": {},
   "outputs": [],
   "source": [
    "def getIndividualFL(doc, flag):\n",
    "    numRows = 10\n",
    "    binSize = 200\n",
    "    transMat = np.zeros((numRows, numRows))\n",
    "    if len(doc['byte_array']) == 0:\n",
    "        return list(transMat.flatten())\n",
    "    elif len(doc['byte_array']) == 1:\n",
    "        curFlowSize = min(int(doc['byte_array'][0] / binSize), numRows - 1)\n",
    "        transMat[curFlowSize, curFlowSize] = 1\n",
    "        return list(transMat.flatten())\n",
    "\n",
    "    for i in range(1, len(doc['byte_array'])):\n",
    "        prevFlowSize = min(int(doc['byte_array'][i-1] / binSize), numRows - 1)\n",
    "        curFlowSize = min(int(doc['byte_array'][i] / binSize), numRows - 1)\n",
    "        transMat[prevFlowSize, curFlowSize] += 1\n",
    "\n",
    "    for i in range(numRows):\n",
    "        if float(np.sum(transMat[i:i+1])) != 0:\n",
    "            transMat[i:i+1] = transMat[i:i+1] / float(np.sum(transMat[i:i + 1]))\n",
    "    for i in range(numRows):\n",
    "        for j in range(numRows):\n",
    "            if(flag == 0):\n",
    "                b_fl[i][j] += transMat[i][j]\n",
    "            elif(flag == 1):\n",
    "                p_fl[i][j] += transMat[i][j]\n",
    "    return list(transMat.flatten())"
   ]
  },
  {
   "cell_type": "markdown",
   "metadata": {},
   "source": [
    "### set up training and testing data arrays"
   ]
  },
  {
   "cell_type": "code",
   "execution_count": 8,
   "metadata": {},
   "outputs": [],
   "source": [
    "for doc in p_train_coll.find():\n",
    "    tmpd = []\n",
    "    tmp = getMD(doc, 1)\n",
    "    tmpb = getBD(doc, 1)\n",
    "    tmpbd = preprocessing.scale(tmpb)\n",
    "    tmpift = getIFTBuckets(doc, 1)\n",
    "    tmpind_fl = getIndividualFL(doc, 1)\n",
    "    \n",
    "    \n",
    "    tmpd.extend(tmp)\n",
    "    #tmpd.extend(tmpbd)\n",
    "    #tmpd.extend(tmpift)\n",
    "    #tmpd.extend(tmpind_fl)\n",
    "    p_train.append(tmpd)\n",
    "    p_train_l.append(1)\n"
   ]
  },
  {
   "cell_type": "code",
   "execution_count": 9,
   "metadata": {},
   "outputs": [
    {
     "data": {
      "image/png": "[encoded data removed]",
      "text/plain": [
       "<Figure size 432x288 with 1 Axes>"
      ]
     },
     "metadata": {
      "needs_background": "light"
     },
     "output_type": "display_data"
    }
   ],
   "source": [
    "y_pos = np.arange(len(p_byte_dist_h))\n",
    "x = preprocessing.scale(p_byte_dist_h)\n",
    "plt.bar(y_pos, x)\n",
    "plt.title(\"Pirate Byte Distribution\")\n",
    "plt.show()"
   ]
  },
  {
   "cell_type": "code",
   "execution_count": 10,
   "metadata": {},
   "outputs": [
    {
     "data": {
      "image/png": "[encoded data removed]",
      "text/plain": [
       "<Figure size 432x288 with 1 Axes>"
      ]
     },
     "metadata": {
      "needs_background": "light"
     },
     "output_type": "display_data"
    }
   ],
   "source": [
    "y_pos = np.arange(len(p_ift_h))\n",
    "x = preprocessing.scale(p_ift_h)\n",
    "plt.bar(y_pos, x)\n",
    "plt.title(\"Pirate IFT buckets\")\n",
    "plt.show()"
   ]
  },
  {
   "cell_type": "code",
   "execution_count": 11,
   "metadata": {},
   "outputs": [
    {
     "data": {
      "image/png": "[encoded data removed]",
      "text/plain": [
       "<Figure size 432x288 with 1 Axes>"
      ]
     },
     "metadata": {
      "needs_background": "light"
     },
     "output_type": "display_data"
    }
   ],
   "source": [
    "p_fl = p_fl.flatten()\n",
    "y_pos = np.arange(len(p_fl))\n",
    "x = preprocessing.scale(p_fl)\n",
    "plt.bar(y_pos, x)\n",
    "plt.title('Pirate FL Matrix')\n",
    "plt.show()"
   ]
  },
  {
   "cell_type": "code",
   "execution_count": 12,
   "metadata": {
    "scrolled": false
   },
   "outputs": [],
   "source": [
    "for doc in p_test_coll.find():\n",
    "    tmpd = []\n",
    "    tmp = getMD(doc, 1)\n",
    "    tmpb = getBD(doc, 1)\n",
    "    tmpbd = preprocessing.scale(tmpb)\n",
    "    tmpift = getIFTBuckets(doc, 1)\n",
    "    tmpind_fl = getIndividualFL(doc, -1)\n",
    "    \n",
    "    \n",
    "    tmpd.extend(tmp)\n",
    "    #tmpd.extend(tmpbd)\n",
    "    #tmpd.extend(tmpift)\n",
    "    #tmpd.extend(tmpind_fl)\n",
    "    p_test.append(tmpd)\n",
    "    p_test_l.append(1)\n",
    "    "
   ]
  },
  {
   "cell_type": "code",
   "execution_count": 13,
   "metadata": {},
   "outputs": [],
   "source": [
    "for doc in b_train_coll.find():\n",
    "    tmpd = []\n",
    "    tmp = getMD(doc, 0)\n",
    "    tmpb = getBD(doc, 0)\n",
    "    tmpbd = preprocessing.scale(tmpb)\n",
    "    tmpift = getIFTBuckets(doc, 0)\n",
    "    tmpind_fl = getIndividualFL(doc, 0)\n",
    "    \n",
    "    \n",
    "    tmpd.extend(tmp)\n",
    "    #tmpd.extend(tmpbd)\n",
    "    #tmpd.extend(tmpift)\n",
    "    #tmpd.extend(tmpind_fl)\n",
    "    b_train.append(tmpd)\n",
    "    b_train_l.append(0)\n"
   ]
  },
  {
   "cell_type": "code",
   "execution_count": 14,
   "metadata": {},
   "outputs": [
    {
     "data": {
      "image/png": "[encoded data removed]",
      "text/plain": [
       "<Figure size 432x288 with 1 Axes>"
      ]
     },
     "metadata": {
      "needs_background": "light"
     },
     "output_type": "display_data"
    }
   ],
   "source": [
    "y_pos = np.arange(len(b_byte_dist_h))\n",
    "x = preprocessing.scale(b_byte_dist_h)\n",
    "plt.bar(y_pos, x)\n",
    "plt.title(\"Benign Byte Distribution\")\n",
    "plt.show()"
   ]
  },
  {
   "cell_type": "code",
   "execution_count": 15,
   "metadata": {},
   "outputs": [
    {
     "data": {
      "image/png": "[encoded data removed]",
      "text/plain": [
       "<Figure size 432x288 with 1 Axes>"
      ]
     },
     "metadata": {
      "needs_background": "light"
     },
     "output_type": "display_data"
    }
   ],
   "source": [
    "y_pos = np.arange(len(b_ift_h))\n",
    "x = preprocessing.scale(b_ift_h)\n",
    "plt.bar(y_pos, x)\n",
    "plt.title(\"Benign IFT buckets\")\n",
    "plt.show()"
   ]
  },
  {
   "cell_type": "code",
   "execution_count": 16,
   "metadata": {},
   "outputs": [
    {
     "data": {
      "image/png": "[encoded data removed]",
      "text/plain": [
       "<Figure size 432x288 with 1 Axes>"
      ]
     },
     "metadata": {
      "needs_background": "light"
     },
     "output_type": "display_data"
    }
   ],
   "source": [
    "b_fl = b_fl.flatten()\n",
    "y_pos = np.arange(len(b_fl))\n",
    "x = preprocessing.scale(b_fl)\n",
    "plt.bar(y_pos, x)\n",
    "plt.title('Benign FL Matrix')\n",
    "plt.show()"
   ]
  },
  {
   "cell_type": "code",
   "execution_count": 17,
   "metadata": {},
   "outputs": [],
   "source": [
    "for doc in b_test_coll.find():\n",
    "    tmpd = []\n",
    "    tmp = getMD(doc, 0)\n",
    "    tmpb = getBD(doc, 0)\n",
    "    tmpbd = preprocessing.scale(tmpb)\n",
    "    tmpift = getIFTBuckets(doc, 0)\n",
    "    tmpind_fl = getIndividualFL(doc,-1)\n",
    "    \n",
    "    \n",
    "    tmpd.extend(tmp)\n",
    "    #tmpd.extend(tmpbd)\n",
    "    #tmpd.extend(tmpift)\n",
    "    #tmpd.extend(tmpind_fl)\n",
    "    b_test.append(tmpd)\n",
    "    b_test_l.append(0)\n",
    "    "
   ]
  },
  {
   "cell_type": "code",
   "execution_count": 18,
   "metadata": {},
   "outputs": [],
   "source": [
    "training_set = []\n",
    "training_set.extend(b_train)\n",
    "training_set.extend(p_train)\n",
    "training_labels = []\n",
    "training_labels.extend(b_train_l)\n",
    "training_labels.extend(p_train_l)\n",
    "training_set = np.array(training_set)\n",
    "training_labels = np.array(training_labels)\n",
    "b_train = np.array(b_train)\n",
    "p_train = np.array(p_train)\n",
    "b_train_l = np.array(b_train_l)\n",
    "p_train_l = np.array(p_train_l)"
   ]
  },
  {
   "cell_type": "code",
   "execution_count": 19,
   "metadata": {
    "scrolled": false
   },
   "outputs": [],
   "source": [
    "test_set = []\n",
    "test_labels = []\n",
    "test_set.extend(b_test)\n",
    "test_set.extend(p_test)\n",
    "test_labels.extend(b_test_l)\n",
    "test_labels.extend(p_test_l)\n",
    "test_set = np.array(test_set)\n",
    "test_labels = np.array(test_labels)\n",
    "b_test = np.array(b_test)\n",
    "p_test = np.array(p_test)\n",
    "b_test_l = np.array(b_test_l)\n",
    "p_test_l = np.array(p_test_l)"
   ]
  },
  {
   "cell_type": "code",
   "execution_count": 20,
   "metadata": {},
   "outputs": [],
   "source": [
    "neural_net = MLPClassifier(learning_rate_init=0.01)\n",
    "decision_tree = DecisionTreeClassifier(criterion='entropy')\n",
    "#params = {'learning_rate_init': [0.001, 0.01, 0.1, 1]}\n",
    "#nn = GridSearchCV(MLPClassifier(), params, scoring=make_scorer(accuracy_score),cv=10, n_jobs=-1)"
   ]
  },
  {
   "cell_type": "code",
   "execution_count": 28,
   "metadata": {
    "scrolled": false
   },
   "outputs": [],
   "source": [
    "#nn.fit(training_set, training_labels)\n",
    "#print nn.cv_results_\n",
    "#print (training_set.shape, training_labels.shape)\n",
    "smote = SMOTE(1.0)\n",
    "#smotenc = SMOTENC(1.0)\n",
    "rs_x, rs_y = smote.fit_sample(training_set, training_labels)\n",
    "#nc_x, nc_y = smotenc.fit_sample(training_set, training_labels)\n",
    "#print(rs_x.shape, rs_y.shape)\n",
    "#print(nc_x.shape, nc_y.shape)"
   ]
  },
  {
   "cell_type": "code",
   "execution_count": 22,
   "metadata": {
    "scrolled": true
   },
   "outputs": [
    {
     "name": "stderr",
     "output_type": "stream",
     "text": [
      "/home/thomasbelford/.local/lib/python2.7/site-packages/sklearn/ensemble/forest.py:246: FutureWarning: The default value of n_estimators will change from 10 in version 0.20 to 100 in 0.22.\n",
      "  \"10 in version 0.20 to 100 in 0.22.\", FutureWarning)\n"
     ]
    },
    {
     "data": {
      "text/plain": [
       "RandomForestClassifier(bootstrap=True, class_weight=None, criterion='gini',\n",
       "            max_depth=None, max_features='auto', max_leaf_nodes=None,\n",
       "            min_impurity_decrease=0.0, min_impurity_split=None,\n",
       "            min_samples_leaf=1, min_samples_split=2,\n",
       "            min_weight_fraction_leaf=0.0, n_estimators=10, n_jobs=None,\n",
       "            oob_score=False, random_state=None, verbose=0,\n",
       "            warm_start=False)"
      ]
     },
     "execution_count": 22,
     "metadata": {},
     "output_type": "execute_result"
    }
   ],
   "source": [
    "rf = RandomForestClassifier()\n",
    "rf.fit(training_set, training_labels)"
   ]
  },
  {
   "cell_type": "code",
   "execution_count": 23,
   "metadata": {},
   "outputs": [
    {
     "name": "stdout",
     "output_type": "stream",
     "text": [
      "0.5738095238095238\n",
      "0.9666666666666667\n",
      "0.18095238095238095\n"
     ]
    }
   ],
   "source": [
    "print(rf.score(test_set, test_labels))\n",
    "print(rf.score(b_test, b_test_l))\n",
    "print(rf.score(p_test, p_test_l))"
   ]
  },
  {
   "cell_type": "code",
   "execution_count": 24,
   "metadata": {},
   "outputs": [
    {
     "data": {
      "text/plain": [
       "'for doc in n_test_coll.find():\\n    tmpd = []\\n    tmp = getMD(doc, 1)\\n    tmpb = getBD(doc, 1)\\n    tmpbd = preprocessing.scale(tmpb)\\n    tmpift = getIFTBuckets(doc, 1)\\n    #tmpind_fl = getIndividualFL(doc, 1)\\n    \\n    \\n    tmpd.extend(tmp)\\n    #tmpd.extend(tmpbd)\\n    #tmpd.extend(tmpift)\\n    #tmpd.extend(tmpind_fl)\\n    n_test.append(tmpd)\\n    '"
      ]
     },
     "execution_count": 24,
     "metadata": {},
     "output_type": "execute_result"
    }
   ],
   "source": [
    "'''for doc in n_test_coll.find():\n",
    "    tmpd = []\n",
    "    tmp = getMD(doc, 1)\n",
    "    tmpb = getBD(doc, 1)\n",
    "    tmpbd = preprocessing.scale(tmpb)\n",
    "    tmpift = getIFTBuckets(doc, 1)\n",
    "    #tmpind_fl = getIndividualFL(doc, 1)\n",
    "    \n",
    "    \n",
    "    tmpd.extend(tmp)\n",
    "    #tmpd.extend(tmpbd)\n",
    "    #tmpd.extend(tmpift)\n",
    "    #tmpd.extend(tmpind_fl)\n",
    "    n_test.append(tmpd)\n",
    "    '''"
   ]
  },
  {
   "cell_type": "code",
   "execution_count": null,
   "metadata": {},
   "outputs": [],
   "source": []
  },
  {
   "cell_type": "code",
   "execution_count": 25,
   "metadata": {},
   "outputs": [
    {
     "name": "stderr",
     "output_type": "stream",
     "text": [
      "/home/thomasbelford/.local/lib/python2.7/site-packages/sklearn/linear_model/logistic.py:433: FutureWarning: Default solver will be changed to 'lbfgs' in 0.22. Specify a solver to silence this warning.\n",
      "  FutureWarning)\n",
      "/home/thomasbelford/.local/lib/python2.7/site-packages/sklearn/svm/base.py:931: ConvergenceWarning: Liblinear failed to converge, increase the number of iterations.\n",
      "  \"the number of iterations.\", ConvergenceWarning)\n"
     ]
    },
    {
     "data": {
      "text/plain": [
       "LogisticRegression(C=1.0, class_weight=None, dual=False, fit_intercept=True,\n",
       "          intercept_scaling=1, max_iter=100, multi_class='warn',\n",
       "          n_jobs=None, penalty='l2', random_state=None, solver='warn',\n",
       "          tol=0.0001, verbose=0, warm_start=False)"
      ]
     },
     "execution_count": 25,
     "metadata": {},
     "output_type": "execute_result"
    }
   ],
   "source": [
    "logreg = LogisticRegression()\n",
    "logreg.fit(training_set, training_labels)"
   ]
  },
  {
   "cell_type": "code",
   "execution_count": 26,
   "metadata": {},
   "outputs": [
    {
     "name": "stdout",
     "output_type": "stream",
     "text": [
      "0.5452380952380952\n",
      "0.9095238095238095\n",
      "0.18095238095238095\n"
     ]
    }
   ],
   "source": [
    "print(logreg.score(test_set, test_labels))\n",
    "print(logreg.score(b_test, b_test_l))\n",
    "print(logreg.score(p_test, p_test_l))"
   ]
  },
  {
   "cell_type": "code",
   "execution_count": 29,
   "metadata": {},
   "outputs": [
    {
     "data": {
      "text/plain": [
       "RandomForestClassifier(bootstrap=True, class_weight=None, criterion='gini',\n",
       "            max_depth=None, max_features='auto', max_leaf_nodes=None,\n",
       "            min_impurity_decrease=0.0, min_impurity_split=None,\n",
       "            min_samples_leaf=1, min_samples_split=2,\n",
       "            min_weight_fraction_leaf=0.0, n_estimators=10, n_jobs=None,\n",
       "            oob_score=False, random_state=None, verbose=0,\n",
       "            warm_start=False)"
      ]
     },
     "execution_count": 29,
     "metadata": {},
     "output_type": "execute_result"
    }
   ],
   "source": [
    "rf = RandomForestClassifier()\n",
    "rf.fit(rs_x, rs_y)"
   ]
  },
  {
   "cell_type": "code",
   "execution_count": 30,
   "metadata": {},
   "outputs": [
    {
     "name": "stdout",
     "output_type": "stream",
     "text": [
      "0.6857142857142857\n",
      "0.919047619047619\n",
      "0.4523809523809524\n"
     ]
    }
   ],
   "source": [
    "print(rf.score(test_set, test_labels))\n",
    "print(rf.score(b_test, b_test_l))\n",
    "print(rf.score(p_test, p_test_l))"
   ]
  },
  {
   "cell_type": "code",
   "execution_count": null,
   "metadata": {},
   "outputs": [],
   "source": []
  }
 ],
 "metadata": {
  "kernelspec": {
   "display_name": "Python 2",
   "language": "python",
   "name": "python2"
  },
  "language_info": {
   "codemirror_mode": {
    "name": "ipython",
    "version": 2
   },
   "file_extension": ".py",
   "mimetype": "text/x-python",
   "name": "python",
   "nbconvert_exporter": "python",
   "pygments_lexer": "ipython2",
   "version": "2.7.15rc1"
  }
 },
 "nbformat": 4,
 "nbformat_minor": 2
}
