{
 "cells": [
  {
   "cell_type": "code",
   "execution_count": 1,
   "metadata": {},
   "outputs": [],
   "source": [
    "import numpy as np\n",
    "import pymongo\n",
    "#from sklearn import neural_network\n",
    "from sklearn.neural_network import MLPClassifier\n",
    "from sklearn.model_selection import GridSearchCV, learning_curve\n",
    "from sklearn.linear_model import LogisticRegression\n",
    "from sklearn.metrics import accuracy_score, make_scorer, log_loss, precision_score, f1_score, auc, confusion_matrix\n",
    "from sklearn.tree import DecisionTreeClassifier\n",
    "import sys\n",
    "import math\n",
    "from imblearn.over_sampling import SMOTE\n",
    "from imblearn.over_sampling import SMOTENC\n",
    "from sklearn import preprocessing\n",
    "import matplotlib.pyplot as plt\n",
    "from operator import add\n",
    "from sklearn.svm import SVC\n",
    "from sklearn.ensemble import RandomForestClassifier, AdaBoostClassifier\n",
    "import pandas as pd\n",
    "from scipy import stats\n",
    "import seaborn as sns\n",
    "from matplotlib.ticker import PercentFormatter\n",
    "import matplotlib.mlab as mlab\n",
    "import socket"
   ]
  },
  {
   "cell_type": "markdown",
   "metadata": {},
   "source": [
    "# Load data"
   ]
  },
  {
   "cell_type": "code",
   "execution_count": 2,
   "metadata": {},
   "outputs": [],
   "source": [
    "client = pymongo.MongoClient(\"mongodb://localhost:27017/\")\n",
    "mydb = client[\"flowdb\"]"
   ]
  },
  {
   "cell_type": "code",
   "execution_count": 3,
   "metadata": {},
   "outputs": [],
   "source": [
    "#my data resulted in more data points under testP_agg so I used \n",
    "#that as the training collection instead of trainP_agg\n",
    "p_train_coll = mydb[\"trainP_agg\"]\n",
    "p_test_coll = mydb[\"testP_agg\"]\n",
    "b_train_coll = mydb[\"aggb2\"]\n",
    "b_test_coll = mydb[\"testB_agg\"]\n",
    "\n",
    "n_test_coll = mydb[\"netflowagg\"]\n",
    "\n",
    "p_train = []\n",
    "p_test = []\n",
    "b_train = []\n",
    "b_test = []\n",
    "p_train_l = []\n",
    "p_test_l = []\n",
    "b_train_l = []\n",
    "b_test_l = []\n",
    "n_test = []\n"
   ]
  },
  {
   "cell_type": "code",
   "execution_count": 4,
   "metadata": {},
   "outputs": [],
   "source": [
    "\n",
    "b_byte_dist_h = [0] * 256\n",
    "b_ift_h = [0] * 15\n",
    "p_byte_dist_h = [0] * 256\n",
    "p_ift_h = [0] * 15\n",
    "b_fl = np.zeros((10,10))\n",
    "p_fl = np.zeros((10,10))\n",
    "\n",
    "\n",
    "b_ifts = []\n",
    "p_ifts = []\n",
    "#b_flow_size = []\n",
    "#p_flow_size = []\n",
    "b_conv_size = []\n",
    "p_conv_size = []\n",
    "b_num_pkts = []\n",
    "p_num_pkts = []\n",
    "b_conv_time = []\n",
    "p_conv_time = []\n",
    "\n"
   ]
  },
  {
   "cell_type": "code",
   "execution_count": 5,
   "metadata": {},
   "outputs": [],
   "source": [
    "def getMD(doc, flag):\n",
    "    tmp = []\n",
    "    if doc['sp'][0] == None:\n",
    "        tmp.append(-1)\n",
    "    else:\n",
    "        tmp.append(doc['sp'][0])\n",
    "        \n",
    "    if doc['dp'][0] == None:\n",
    "        tmp.append(-1)\n",
    "    else:\n",
    "        tmp.append(doc['dp'][0])\n",
    "    #tmp.append(doc['sp'][0])\n",
    "    #tmp.append(doc['dp'][0])\n",
    "    if doc['Source ASN'] == None:\n",
    "        tmp.append(-1)\n",
    "    else:\n",
    "        tmp.append(doc['Source ASN'])\n",
    "    if doc['Dest ASN'] == None:\n",
    "        tmp.append(-1)\n",
    "    else:\n",
    "        tmp.append(doc['Dest ASN'])\n",
    "    tmp.append(doc['bytes_in'])\n",
    "    tmp.append(doc['bytes_out'])\n",
    "    tmp.append(doc['total_bytes'])\n",
    "    tmp.append(doc['num_pkts_in'])\n",
    "    tmp.append(doc['num_pkts_out'])\n",
    "    tmp.append(doc['total_num_pkts'])\n",
    "    tmp.append(doc['# of flows'])\n",
    "    tmp.append(doc['conv_time'])\n",
    "    '''for i in range(256):\n",
    "    \n",
    "        if (doc['byte_dist'][i] != None):\n",
    "            try:\n",
    "                tmp.append(doc['byte_dist'][i])\n",
    "                if (flag == 0):\n",
    "                    b_byte_dist_h[i] += doc['byte_dist'][i]\n",
    "                else:\n",
    "                    p_byte_dist_h[i] += doc['byte_dist'][i] \n",
    "            except:\n",
    "                tmp.append(0)\n",
    "        else:\n",
    "            tmp.append(0)'''\n",
    "    return tmp"
   ]
  },
  {
   "cell_type": "code",
   "execution_count": 6,
   "metadata": {},
   "outputs": [],
   "source": [
    "def getBD(doc, flag):\n",
    "    tmp=[]\n",
    "    for i in range(256):\n",
    "        if (doc['byte_dist'][i] != None):\n",
    "            try:\n",
    "                tmp.append(doc['byte_dist'][i])\n",
    "                if (flag == 0):\n",
    "                    b_byte_dist_h[i] += doc['byte_dist'][i]\n",
    "                else:\n",
    "                    p_byte_dist_h[i] += doc['byte_dist'][i] \n",
    "            except:\n",
    "                tmp.append(0)\n",
    "        else:\n",
    "            tmp.append(0)\n",
    "    return tmp"
   ]
  },
  {
   "cell_type": "code",
   "execution_count": 7,
   "metadata": {},
   "outputs": [],
   "source": [
    "\n",
    "def getIFTBuckets(doc, flag):\n",
    "    tmp = []\n",
    "    ifts = doc['ift']\n",
    "    length = len(ifts)\n",
    "    tmp.append(length)\n",
    "    #tmp.append(np.mean(ifts))\n",
    "    num = 15\n",
    "    buckets = [0] * num\n",
    "    sumi = 0\n",
    "    avg_ift = 0\n",
    "    for ift1 in ifts:\n",
    "        if ift1 > 0:\n",
    "           logift = math.log(ift1, 2)\n",
    "        if ift1 == 0:\n",
    "            buckets[0] += 1\n",
    "            if(flag == 0):\n",
    "                b_ift_h[0]+= 1\n",
    "            elif flag == 1:\n",
    "                p_ift_h[0] += 1\n",
    "        elif logift <= 0:\n",
    "            buckets[0] += 1\n",
    "            if(flag == 0):\n",
    "                b_ift_h[0]+= 1\n",
    "            elif(flag == 1):\n",
    "                p_ift_h[0] += 1\n",
    "            sumi += ift1\n",
    "        elif logift >= 14:\n",
    "            buckets[14] += 1\n",
    "            if(flag == 0):\n",
    "                b_ift_h[14]+= 1\n",
    "            elif (flag== 1):\n",
    "                p_ift_h[14] += 1\n",
    "            sumi += ift1\n",
    "        else:\n",
    "            buckets[int(math.floor(logift))] += 1\n",
    "            if(flag == 0):\n",
    "                b_ift_h[int(math.floor(logift))]+= 1\n",
    "            elif flag == 1:\n",
    "                p_ift_h[int(math.floor(logift))] += 1\n",
    "            sumi += ift1\n",
    "    \n",
    "    if length > 1:\n",
    "        avg_ift = float(sumi / length)\n",
    "    tmp.append(avg_ift)\n",
    "    tmp.extend(buckets)\n",
    "    \n",
    "    return tmp"
   ]
  },
  {
   "cell_type": "code",
   "execution_count": 8,
   "metadata": {},
   "outputs": [],
   "source": [
    "def getIndividualFL(doc, flag):\n",
    "    numRows = 10\n",
    "    binSize = 200\n",
    "    transMat = np.zeros((numRows, numRows))\n",
    "    if len(doc['byte_array']) == 0:\n",
    "        return list(transMat.flatten())\n",
    "    elif len(doc['byte_array']) == 1:\n",
    "        curFlowSize = min(int(doc['byte_array'][0] / binSize), numRows - 1)\n",
    "        transMat[curFlowSize, curFlowSize] = 1\n",
    "        return list(transMat.flatten())\n",
    "\n",
    "    for i in range(1, len(doc['byte_array'])):\n",
    "        prevFlowSize = min(int(doc['byte_array'][i-1] / binSize), numRows - 1)\n",
    "        curFlowSize = min(int(doc['byte_array'][i] / binSize), numRows - 1)\n",
    "        transMat[prevFlowSize, curFlowSize] += 1\n",
    "\n",
    "    for i in range(numRows):\n",
    "        if float(np.sum(transMat[i:i+1])) != 0:\n",
    "            transMat[i:i+1] = transMat[i:i+1] / float(np.sum(transMat[i:i + 1]))\n",
    "    for i in range(numRows):\n",
    "        for j in range(numRows):\n",
    "            if(flag == 0):\n",
    "                b_fl[i][j] += transMat[i][j]\n",
    "            elif(flag == 1):\n",
    "                p_fl[i][j] += transMat[i][j]\n",
    "    return list(transMat.flatten())"
   ]
  },
  {
   "cell_type": "code",
   "execution_count": 9,
   "metadata": {},
   "outputs": [],
   "source": [
    "'''\n",
    "use this to create the arrays. \n",
    "Collection- the collection to loop through,\n",
    "data_set- the variable that the collection doc's are appended to\n",
    "label_set- is the set that is used to train/test with the data set (pass in None if \n",
    "            its not all benign or all pirated), \n",
    "label- 1 for pirate, 0 for benign.\n",
    "Chart- 1 to include in pirated graphs, 0 to include in benign graphs, anything else to\n",
    "not include in either graphs\n",
    "cond: used to specifiy any conditions to search for in the collection\n",
    "bd: set as 1 to include byte dist in data_set\n",
    "ift: set as 1 to include ift in data set. \n",
    "fl: set as 1 to include flow lengths in data set\n",
    "ips: pass in blank array to fill with ip tuples of conversations\n",
    "bytes: pass in blank array to fill with byte sizes of conversations\n",
    "sp: pass in blank array to fill with source port #'s of conversations\n",
    "dp: pass in blank array to fill with dest port #'s of conversations\n",
    "'''\n",
    "def set_up_array(collection, data_set, label_set=None, label=None, chart=-1,\n",
    "                cond=None, bd=None, ift=None, fl=None, ips=None, bytes=None,\n",
    "                sp=None, dp=None):\n",
    "    for doc in collection.find(cond):\n",
    "        tmpd = []\n",
    "        tmp = getMD(doc, chart)\n",
    "        tmpb = getBD(doc, chart)\n",
    "        if (bd == 1 and (tmpb is None or len(tmpb) != 256)):\n",
    "            tmpb = np.zeros(256)\n",
    "        elif (bd == 1):\n",
    "            tmpb = preprocessing.scale(tmpb)\n",
    "        tmpift= getIFTBuckets(doc, chart)\n",
    "        tmpind_fl = getIndividualFL(doc, chart)\n",
    "        \n",
    "        #sum_ift=0\n",
    "        if (chart == 0):\n",
    "            #get ift's\n",
    "            for ift1 in doc['ift']:\n",
    "                try:\n",
    "                    b_ifts.append(ift1)\n",
    "                    #sum_ift += ift\n",
    "                except Exception as e:\n",
    "                    print e\n",
    "                    pass\n",
    "            try:\n",
    "                b_conv_size.append(doc['total_bytes'])\n",
    "            except Exception as e:\n",
    "                print e\n",
    "                pass\n",
    "            try:\n",
    "                b_conv_time.append(doc['conv_time'])\n",
    "            except Exception as e:\n",
    "                print e\n",
    "                pass\n",
    "            try:\n",
    "                b_num_pkts.append(doc['total_num_pkts'])\n",
    "            except Exception as e:\n",
    "                print e\n",
    "                pass\n",
    "        elif (chart == 1):\n",
    "            for ift1 in doc['ift']:\n",
    "                try:\n",
    "                    p_ifts.append(ift1)\n",
    "                    #sum_ift += ift\n",
    "                except Exception as e:\n",
    "                    print e\n",
    "                    pass\n",
    "            try:\n",
    "                p_conv_size.append(doc['total_bytes'])\n",
    "            except Exception as e:\n",
    "                print e\n",
    "                pass\n",
    "            try:\n",
    "                p_conv_time.append(doc['conv_time'])\n",
    "            except Exception as e:\n",
    "                print e\n",
    "                pass\n",
    "            try:\n",
    "                p_num_pkts.append(doc['total_num_pkts'])\n",
    "            except Exception as e:\n",
    "                print e\n",
    "                pass\n",
    "        if ips != None:\n",
    "            ips.append((doc['sa'], doc['da']))\n",
    "        if bytes != None:\n",
    "            bytes.append(doc['total_bytes'])\n",
    "        if sp != None:\n",
    "            sp.append(doc['sp'])\n",
    "        if dp != None:\n",
    "            dp.append(doc['dp'])\n",
    "        \n",
    "        tmpd.extend(tmp)\n",
    "        if bd==1:\n",
    "            tmpd.extend(tmpb)\n",
    "        if ift == 1:\n",
    "            tmpd.extend(tmpift)\n",
    "        if fl == 1:\n",
    "            tmpd.extend(tmpind_fl)\n",
    "        data_set.append(tmpd)\n",
    "        try:\n",
    "            label_set.append(label)\n",
    "        except Exception as e:\n",
    "            print ('error passing label')\n",
    "            pass\n",
    "        \n",
    "        #mp.append(sum_ift)"
   ]
  },
  {
   "cell_type": "markdown",
   "metadata": {},
   "source": [
    "### set up training and testing data arrays"
   ]
  },
  {
   "cell_type": "code",
   "execution_count": 10,
   "metadata": {},
   "outputs": [],
   "source": [
    "set_up_array(p_train_coll, p_train, p_train_l, label=1, chart=1, bd=1, fl=1)\n"
   ]
  },
  {
   "cell_type": "code",
   "execution_count": 11,
   "metadata": {},
   "outputs": [],
   "source": [
    "set_up_array(p_test_coll, p_test, p_test_l, label=1, bd=1, fl=1)\n"
   ]
  },
  {
   "cell_type": "code",
   "execution_count": 12,
   "metadata": {},
   "outputs": [],
   "source": [
    "set_up_array(b_train_coll, b_train, b_train_l, label=0, chart=0, bd=1, fl=1)\n"
   ]
  },
  {
   "cell_type": "code",
   "execution_count": 13,
   "metadata": {},
   "outputs": [],
   "source": [
    "set_up_array(b_test_coll, b_test, b_test_l, label=0, bd=1, fl=1)"
   ]
  },
  {
   "cell_type": "code",
   "execution_count": 14,
   "metadata": {},
   "outputs": [
    {
     "name": "stdout",
     "output_type": "stream",
     "text": [
      "368\n",
      "368\n",
      "368\n",
      "368\n"
     ]
    }
   ],
   "source": [
    "print len(p_train[0])\n",
    "print len(b_train[0])\n",
    "print len(p_test[0])\n",
    "print len(b_test[0])"
   ]
  },
  {
   "cell_type": "code",
   "execution_count": 15,
   "metadata": {},
   "outputs": [],
   "source": [
    "training_set = []\n",
    "training_set.extend(b_train)\n",
    "training_set.extend(p_train)\n",
    "training_labels = []\n",
    "training_labels.extend(b_train_l)\n",
    "training_labels.extend(p_train_l)\n",
    "training_set = np.array(training_set)\n",
    "training_labels = np.array(training_labels)\n",
    "b_train = np.array(b_train)\n",
    "p_train = np.array(p_train)\n",
    "b_train_l = np.array(b_train_l)\n",
    "p_train_l = np.array(p_train_l)"
   ]
  },
  {
   "cell_type": "code",
   "execution_count": 16,
   "metadata": {
    "scrolled": false
   },
   "outputs": [],
   "source": [
    "test_set = []\n",
    "test_labels = []\n",
    "test_set.extend(b_test)\n",
    "test_set.extend(p_test)\n",
    "test_labels.extend(b_test_l)\n",
    "test_labels.extend(p_test_l)\n",
    "test_set = np.array(test_set)\n",
    "test_labels = np.array(test_labels)\n",
    "b_test = np.array(b_test)\n",
    "p_test = np.array(p_test)\n",
    "b_test_l = np.array(b_test_l)\n",
    "p_test_l = np.array(p_test_l)"
   ]
  },
  {
   "cell_type": "code",
   "execution_count": 17,
   "metadata": {},
   "outputs": [],
   "source": [
    "#neural_net = MLPClassifier(learning_rate_init=0.01)\n",
    "#decision_tree = DecisionTreeClassifier(criterion='entropy')\n",
    "#params = {'learning_rate_init': [0.001, 0.01, 0.1, 1]}\n",
    "#nn = GridSearchCV(MLPClassifier(), params, scoring=make_scorer(accuracy_score),cv=10, n_jobs=-1)"
   ]
  },
  {
   "cell_type": "markdown",
   "metadata": {},
   "source": [
    "# Graphs"
   ]
  },
  {
   "cell_type": "code",
   "execution_count": null,
   "metadata": {},
   "outputs": [],
   "source": []
  },
  {
   "cell_type": "code",
   "execution_count": 18,
   "metadata": {},
   "outputs": [
    {
     "data": {
      "image/png": "[encoded data removed]",
      "text/plain": [
       "<Figure size 432x288 with 1 Axes>"
      ]
     },
     "metadata": {
      "needs_background": "light"
     },
     "output_type": "display_data"
    }
   ],
   "source": [
    "y_pos = np.arange(len(p_byte_dist_h))\n",
    "x = preprocessing.scale(p_byte_dist_h)\n",
    "plt.bar(y_pos, x)\n",
    "plt.title(\"Pirate Byte Distribution\")\n",
    "plt.show()"
   ]
  },
  {
   "cell_type": "code",
   "execution_count": 19,
   "metadata": {},
   "outputs": [
    {
     "data": {
      "image/png": "[encoded data removed]",
      "text/plain": [
       "<Figure size 432x288 with 1 Axes>"
      ]
     },
     "metadata": {
      "needs_background": "light"
     },
     "output_type": "display_data"
    }
   ],
   "source": [
    "y_pos = np.arange(len(p_ift_h))\n",
    "x = preprocessing.scale(p_ift_h)\n",
    "plt.bar(y_pos, x)\n",
    "plt.title(\"Pirate IFT buckets\")\n",
    "plt.show()"
   ]
  },
  {
   "cell_type": "code",
   "execution_count": 20,
   "metadata": {},
   "outputs": [
    {
     "data": {
      "image/png": "[encoded data removed]",
      "text/plain": [
       "<Figure size 432x288 with 1 Axes>"
      ]
     },
     "metadata": {
      "needs_background": "light"
     },
     "output_type": "display_data"
    }
   ],
   "source": [
    "p_fl = p_fl.flatten()\n",
    "y_pos = np.arange(len(p_fl))\n",
    "x = preprocessing.scale(p_fl)\n",
    "plt.bar(y_pos, x)\n",
    "plt.title('Pirate FL Matrix')\n",
    "plt.show()"
   ]
  },
  {
   "cell_type": "code",
   "execution_count": 21,
   "metadata": {},
   "outputs": [
    {
     "data": {
      "image/png": "[encoded data removed]",
      "text/plain": [
       "<Figure size 432x288 with 1 Axes>"
      ]
     },
     "metadata": {
      "needs_background": "light"
     },
     "output_type": "display_data"
    }
   ],
   "source": [
    "y_pos = np.arange(len(b_byte_dist_h))\n",
    "x = preprocessing.scale(b_byte_dist_h)\n",
    "plt.bar(y_pos, x)\n",
    "plt.title(\"Benign Byte Distribution\")\n",
    "plt.show()"
   ]
  },
  {
   "cell_type": "code",
   "execution_count": 22,
   "metadata": {},
   "outputs": [
    {
     "data": {
      "image/png": "[encoded data removed]",
      "text/plain": [
       "<Figure size 432x288 with 1 Axes>"
      ]
     },
     "metadata": {
      "needs_background": "light"
     },
     "output_type": "display_data"
    }
   ],
   "source": [
    "y_pos = np.arange(len(b_ift_h))\n",
    "x = preprocessing.scale(b_ift_h)\n",
    "plt.bar(y_pos, x)\n",
    "plt.title(\"Benign IFT buckets\")\n",
    "plt.show()"
   ]
  },
  {
   "cell_type": "code",
   "execution_count": 23,
   "metadata": {},
   "outputs": [
    {
     "data": {
      "image/png": "[encoded data removed]",
      "text/plain": [
       "<Figure size 432x288 with 1 Axes>"
      ]
     },
     "metadata": {
      "needs_background": "light"
     },
     "output_type": "display_data"
    }
   ],
   "source": [
    "b_fl = b_fl.flatten()\n",
    "y_pos = np.arange(len(b_fl))\n",
    "x = preprocessing.scale(b_fl)\n",
    "plt.bar(y_pos, x)\n",
    "plt.title('Benign FL Matrix')\n",
    "plt.show()"
   ]
  },
  {
   "cell_type": "code",
   "execution_count": 24,
   "metadata": {},
   "outputs": [
    {
     "data": {
      "image/png": "[encoded data removed]",
      "text/plain": [
       "<Figure size 432x288 with 1 Axes>"
      ]
     },
     "metadata": {
      "needs_background": "light"
     },
     "output_type": "display_data"
    }
   ],
   "source": [
    "by_pos = np.arange(len(b_byte_dist_h))\n",
    "b = preprocessing.scale(b_byte_dist_h)\n",
    "py_pos = np.arange(len(p_byte_dist_h))\n",
    "p = preprocessing.scale(p_byte_dist_h)\n",
    "\n",
    "com = plt.subplot(111)\n",
    "benign_box = com.bar(by_pos, b, color='b')\n",
    "pirate_box = com.bar(py_pos+0.2, p, color='r')\n",
    "com.legend((benign_box[0], pirate_box[0]), ('Benign', \"Pirated\"))\n",
    "com.set_ylabel('Standardized Values')\n",
    "com.set_xlabel('Byte Number')\n",
    "#com.title('Benign vs. Pirated Byte Distributions')\n",
    "plt.title('Benign vs. Pirated Byte Distributions')\n",
    "plt.show()"
   ]
  },
  {
   "cell_type": "code",
   "execution_count": 25,
   "metadata": {},
   "outputs": [
    {
     "data": {
      "image/png": "[encoded data removed]",
      "text/plain": [
       "<Figure size 432x288 with 1 Axes>"
      ]
     },
     "metadata": {
      "needs_background": "light"
     },
     "output_type": "display_data"
    }
   ],
   "source": [
    "by_pos = np.arange(len(b_fl))\n",
    "b = preprocessing.scale(b_fl)\n",
    "py_pos = np.arange(len(p_fl))\n",
    "p = preprocessing.scale(p_fl)\n",
    "\n",
    "com = plt.subplot(111)\n",
    "benign_box = com.bar(by_pos, b, color='b')\n",
    "pirate_box = com.bar(py_pos+0.4, p, color='r')\n",
    "com.legend((benign_box[0], pirate_box[0]), ('Benign', \"Pirated\"))\n",
    "com.set_ylabel('Standardized Values')\n",
    "com.set_xlabel('Flattened Flow Length Transition Matrix')\n",
    "#com.title('Benign vs. Pirated Byte Distributions')\n",
    "plt.title('Benign vs. Pirated Flow Length Transition Matrix')\n",
    "plt.show()"
   ]
  },
  {
   "cell_type": "code",
   "execution_count": 26,
   "metadata": {},
   "outputs": [
    {
     "data": {
      "image/png": "[encoded data removed]",
      "text/plain": [
       "<Figure size 432x288 with 1 Axes>"
      ]
     },
     "metadata": {
      "needs_background": "light"
     },
     "output_type": "display_data"
    }
   ],
   "source": [
    "by_pos = np.arange(len(b_ift_h))\n",
    "b = preprocessing.scale(b_ift_h)\n",
    "py_pos = np.arange(len(p_ift_h))\n",
    "p = preprocessing.scale(p_ift_h)\n",
    "\n",
    "com = plt.subplot(111)\n",
    "benign_box = com.bar(by_pos, b, color='b')\n",
    "pirate_box = com.bar(py_pos+0.2, p, color='r')\n",
    "com.legend((benign_box[0], pirate_box[0]), ('Benign', \"Pirated\"))\n",
    "com.set_ylabel('Standardized Values')\n",
    "com.set_xlabel('IFT Buckets (2^n)')\n",
    "#com.title('Benign vs. Pirated Byte Distributions')\n",
    "plt.title('Benign vs. Pirated IFT Buckets')\n",
    "plt.show()"
   ]
  },
  {
   "cell_type": "code",
   "execution_count": 27,
   "metadata": {},
   "outputs": [
    {
     "data": {
      "image/png": "[encoded data removed]",
      "text/plain": [
       "<Figure size 432x288 with 1 Axes>"
      ]
     },
     "metadata": {
      "needs_background": "light"
     },
     "output_type": "display_data"
    }
   ],
   "source": [
    "b2 = np.array(b_conv_size)\n",
    "#b2 = b2[abs(b2 - np.mean(b2)) < 3 * np.std(b2)]\n",
    "plt.hist(b2, weights=np.ones(len(b2))/len(b2), range=(0,2000), bins=40)\n",
    "plt.gca().yaxis.set_major_formatter(PercentFormatter(1))\n",
    "\n",
    "plt.xlabel('Conversation Size (bytes)')\n",
    "plt.ylabel('Percentage in Bucket')\n",
    "plt.title('Conversation Sizes: Benign')\n",
    "\n",
    "plt.show()"
   ]
  },
  {
   "cell_type": "code",
   "execution_count": 28,
   "metadata": {},
   "outputs": [
    {
     "data": {
      "image/png": "[encoded data removed]",
      "text/plain": [
       "<Figure size 432x288 with 1 Axes>"
      ]
     },
     "metadata": {
      "needs_background": "light"
     },
     "output_type": "display_data"
    }
   ],
   "source": [
    "p2 = np.array(p_conv_size)\n",
    "#p2 = p2[abs(p2 - np.mean(p2)) < 3 * np.std(p2)]\n",
    "plt.hist(p2, weights=np.ones(len(p2))/len(p2), color='r', range=(0,30000000), bins=400)\n",
    "plt.gca().yaxis.set_major_formatter(PercentFormatter(1))\n",
    "\n",
    "plt.xlabel('Conversation Size (bytes)')\n",
    "plt.ylabel('Percentage in Bucket')\n",
    "plt.title('Conversation Sizes: Pirated')\n",
    "\n",
    "plt.show()"
   ]
  },
  {
   "cell_type": "code",
   "execution_count": 29,
   "metadata": {},
   "outputs": [
    {
     "name": "stderr",
     "output_type": "stream",
     "text": [
      "/home/thomasbelford/.local/lib/python2.7/site-packages/matplotlib/legend.py:937: UserWarning: Legend does not support array([   0.,   50.,  100.,  150.,  200.,  250.,  300.,  350.,  400.,\n",
      "        450.,  500.,  550.,  600.,  650.,  700.,  750.,  800.,  850.,\n",
      "        900.,  950., 1000., 1050., 1100., 1150., 1200., 1250., 1300.,\n",
      "       1350., 1400., 1450., 1500., 1550., 1600., 1650., 1700., 1750.,\n",
      "       1800., 1850., 1900., 1950., 2000.]) instances.\n",
      "A proxy artist may be used instead.\n",
      "See: http://matplotlib.org/users/legend_guide.html#creating-artists-specifically-for-adding-to-the-legend-aka-proxy-artists\n",
      "  \"aka-proxy-artists\".format(orig_handle)\n"
     ]
    },
    {
     "data": {
      "image/png": "[encoded data removed]",
      "text/plain": [
       "<Figure size 432x288 with 1 Axes>"
      ]
     },
     "metadata": {
      "needs_background": "light"
     },
     "output_type": "display_data"
    }
   ],
   "source": [
    "com = plt.subplot(111)\n",
    "b_pkt_S = com.hist(b2, weights=np.ones(len(b2))/len(b2),\n",
    "                    color='b', range=(0, 2000), bins=40)\n",
    "p_pkt_S = com.hist(p2, weights=np.ones(len(p2))/len(p2),\n",
    "                    color='r', range=(0,2000), bins=40, fc=(1, 0, 0, 0.5))\n",
    "com.legend((b_pkt_S[1], p_pkt_S[1]), ('Benign', \"Pirated\"))\n",
    "com.set_ylabel('Percentage in Buckets')\n",
    "com.set_xlabel('Conversation Size (bytes)')\n",
    "#com.title('Benign vs. Pirated Byte Distributions')\n",
    "plt.title('Benign vs. Pirated Conversation Size')\n",
    "plt.gca().yaxis.set_major_formatter(PercentFormatter(1))\n",
    "plt.show()"
   ]
  },
  {
   "cell_type": "code",
   "execution_count": 30,
   "metadata": {},
   "outputs": [
    {
     "data": {
      "image/png": "[encoded data removed]",
      "text/plain": [
       "<Figure size 432x288 with 1 Axes>"
      ]
     },
     "metadata": {
      "needs_background": "light"
     },
     "output_type": "display_data"
    }
   ],
   "source": [
    "b_flows = np.array(b_conv_time)\n",
    "b_flows = b_flows[abs(b_flows - np.mean(b_flows)) < 3 * np.std(b_flows)]\n",
    "plt.hist(b_flows, weights=np.ones(len(b_flows))/len(b_flows), range=(0,600), bins=40)\n",
    "plt.gca().yaxis.set_major_formatter(PercentFormatter(1))\n",
    "\n",
    "plt.xlabel('Conversation Time (s))')\n",
    "plt.ylabel('Percentage in Bucket')\n",
    "plt.title('Conversation Time: Benign')\n",
    "\n",
    "plt.show()"
   ]
  },
  {
   "cell_type": "code",
   "execution_count": 31,
   "metadata": {},
   "outputs": [
    {
     "data": {
      "image/png": "[encoded data removed]",
      "text/plain": [
       "<Figure size 432x288 with 1 Axes>"
      ]
     },
     "metadata": {
      "needs_background": "light"
     },
     "output_type": "display_data"
    }
   ],
   "source": [
    "p_flows = np.array(p_conv_time)\n",
    "p_flows = p_flows[abs(p_flows - np.mean(p_flows)) < 3 * np.std(p_flows)]\n",
    "plt.hist(p_flows, weights=np.ones(len(p_flows))/len(p_flows), range=(0,600), bins=40, color='r')\n",
    "plt.gca().yaxis.set_major_formatter(PercentFormatter(1))\n",
    "\n",
    "plt.xlabel('Conversation Time (s))')\n",
    "plt.ylabel('Percentage in Bucket')\n",
    "plt.title('Conversation Time: Pirated')\n",
    "\n",
    "plt.show()"
   ]
  },
  {
   "cell_type": "code",
   "execution_count": 32,
   "metadata": {},
   "outputs": [
    {
     "name": "stderr",
     "output_type": "stream",
     "text": [
      "/home/thomasbelford/.local/lib/python2.7/site-packages/matplotlib/legend.py:937: UserWarning: Legend does not support array([  0.,  15.,  30.,  45.,  60.,  75.,  90., 105., 120., 135., 150.,\n",
      "       165., 180., 195., 210., 225., 240., 255., 270., 285., 300., 315.,\n",
      "       330., 345., 360., 375., 390., 405., 420., 435., 450., 465., 480.,\n",
      "       495., 510., 525., 540., 555., 570., 585., 600.]) instances.\n",
      "A proxy artist may be used instead.\n",
      "See: http://matplotlib.org/users/legend_guide.html#creating-artists-specifically-for-adding-to-the-legend-aka-proxy-artists\n",
      "  \"aka-proxy-artists\".format(orig_handle)\n"
     ]
    },
    {
     "data": {
      "image/png": "[encoded data removed]",
      "text/plain": [
       "<Figure size 432x288 with 1 Axes>"
      ]
     },
     "metadata": {
      "needs_background": "light"
     },
     "output_type": "display_data"
    }
   ],
   "source": [
    "com = plt.subplot(111)\n",
    "b_flow_s = com.hist(b_flows, weights=np.ones(len(b_flows))/len(b_flows),\n",
    "                    color='b', range=(0, 600), bins=40)\n",
    "p_flow_s = com.hist(p_flows, weights=np.ones(len(p_flows))/len(p_flows),\n",
    "                    color='r', range=(0,600), bins=40, fc=(1, 0, 0, 0.5))\n",
    "com.legend((b_flow_s[1], p_flow_s[1]), ('Benign', \"Pirated\"))\n",
    "com.set_ylabel('Percentage in Buckets')\n",
    "com.set_xlabel('Conversation Time (s)')\n",
    "#com.title('Benign vs. Pirated Byte Distributions')\n",
    "plt.title('Benign vs. Pirated Conversation Time')\n",
    "plt.gca().yaxis.set_major_formatter(PercentFormatter(1))\n",
    "plt.show()\n"
   ]
  },
  {
   "cell_type": "code",
   "execution_count": 33,
   "metadata": {
    "scrolled": true
   },
   "outputs": [
    {
     "data": {
      "image/png": "[encoded data removed]",
      "text/plain": [
       "<Figure size 432x288 with 1 Axes>"
      ]
     },
     "metadata": {
      "needs_background": "light"
     },
     "output_type": "display_data"
    }
   ],
   "source": [
    "b_np = np.array(b_num_pkts)\n",
    "b_np = b_np[abs(b_np - np.mean(b_np)) < 3 * np.std(b_np)]\n",
    "plt.hist(b_np, weights=np.ones(len(b_np))/len(b_np), range=(0,400), bins=40)\n",
    "plt.gca().yaxis.set_major_formatter(PercentFormatter(1))\n",
    "\n",
    "plt.xlabel('# Packets')\n",
    "plt.ylabel('Percentage in Bucket')\n",
    "plt.title('Number of Packets: Benign')\n",
    "\n",
    "plt.show()"
   ]
  },
  {
   "cell_type": "code",
   "execution_count": 34,
   "metadata": {},
   "outputs": [
    {
     "data": {
      "image/png": "[encoded data removed]",
      "text/plain": [
       "<Figure size 432x288 with 1 Axes>"
      ]
     },
     "metadata": {
      "needs_background": "light"
     },
     "output_type": "display_data"
    }
   ],
   "source": [
    "p_np = np.array(p_num_pkts)\n",
    "p_np = p_np[abs(p_np - np.mean(p_np)) < 3 * np.std(p_np)]\n",
    "plt.hist(p_np, weights=np.ones(len(p_np))/len(p_np), color='r', bins=40, range=(0,400))\n",
    "plt.gca().yaxis.set_major_formatter(PercentFormatter(1))\n",
    "\n",
    "plt.xlabel('# Packets')\n",
    "plt.ylabel('Percentage in Bucket')\n",
    "plt.title('Number of Packets: Pirated')\n",
    "\n",
    "plt.show()"
   ]
  },
  {
   "cell_type": "code",
   "execution_count": 35,
   "metadata": {},
   "outputs": [
    {
     "name": "stderr",
     "output_type": "stream",
     "text": [
      "/home/thomasbelford/.local/lib/python2.7/site-packages/matplotlib/legend.py:937: UserWarning: Legend does not support array([  0.,  10.,  20.,  30.,  40.,  50.,  60.,  70.,  80.,  90., 100.,\n",
      "       110., 120., 130., 140., 150., 160., 170., 180., 190., 200., 210.,\n",
      "       220., 230., 240., 250., 260., 270., 280., 290., 300., 310., 320.,\n",
      "       330., 340., 350., 360., 370., 380., 390., 400.]) instances.\n",
      "A proxy artist may be used instead.\n",
      "See: http://matplotlib.org/users/legend_guide.html#creating-artists-specifically-for-adding-to-the-legend-aka-proxy-artists\n",
      "  \"aka-proxy-artists\".format(orig_handle)\n"
     ]
    },
    {
     "data": {
      "image/png": "[encoded data removed]",
      "text/plain": [
       "<Figure size 432x288 with 1 Axes>"
      ]
     },
     "metadata": {
      "needs_background": "light"
     },
     "output_type": "display_data"
    }
   ],
   "source": [
    "com = plt.subplot(111)\n",
    "b_np_ = com.hist(b_np, weights=np.ones(len(b_np))/len(b_np),\n",
    "                    color='b', range=(0, 400), bins=40)\n",
    "p_np_ = com.hist(p_np, weights=np.ones(len(p_np))/len(p_np),\n",
    "                    color='r', range=(0,400), bins=40, fc=(1, 0, 0, 0.5))\n",
    "com.legend((b_np_[1], p_np_[1]), ('Benign', \"Pirated\"))\n",
    "com.set_ylabel('Percentage')\n",
    "com.set_xlabel('# Packets')\n",
    "#com.title('Benign vs. Pirated Byte Distributions')\n",
    "plt.title('Benign vs. Pirated Number of Packets')\n",
    "plt.gca().yaxis.set_major_formatter(PercentFormatter(1))\n",
    "plt.show()"
   ]
  },
  {
   "cell_type": "code",
   "execution_count": 36,
   "metadata": {},
   "outputs": [
    {
     "data": {
      "image/png": "[encoded data removed]",
      "text/plain": [
       "<Figure size 432x288 with 1 Axes>"
      ]
     },
     "metadata": {
      "needs_background": "light"
     },
     "output_type": "display_data"
    }
   ],
   "source": [
    "b_ift2 = np.array([b_ifts])\n",
    "\n",
    "b_ift2 = b_ift2[abs(b_ift2 - np.mean(b_ift2)) < 3 * np.std(b_ift2)]\n",
    "plt.hist(b_ift2, weights=np.ones(len(b_ift2))/len(b_ift2), bins=10, range=(0,10))\n",
    "plt.gca().yaxis.set_major_formatter(PercentFormatter(1))\n",
    "\n",
    "plt.xlabel('IFT Buckets')\n",
    "plt.ylabel('Percentage in Bucket')\n",
    "plt.title('Inter Flow Times: benign')\n",
    "\n",
    "plt.show()"
   ]
  },
  {
   "cell_type": "code",
   "execution_count": 37,
   "metadata": {},
   "outputs": [
    {
     "data": {
      "image/png": "[encoded data removed]",
      "text/plain": [
       "<Figure size 432x288 with 1 Axes>"
      ]
     },
     "metadata": {
      "needs_background": "light"
     },
     "output_type": "display_data"
    }
   ],
   "source": [
    "p_ipt2 = np.array([p_ifts])\n",
    "\n",
    "p_ipt2 = p_ipt2[abs(p_ipt2 - np.mean(p_ipt2)) < 3 * np.std(p_ipt2)]\n",
    "plt.hist(p_ipt2, weights=np.ones(len(p_ipt2))/len(p_ipt2), bins=10, range=(0,10), color='r')\n",
    "plt.gca().yaxis.set_major_formatter(PercentFormatter(1))\n",
    "\n",
    "plt.xlabel('IFT Buckets')\n",
    "plt.ylabel('Percentage in Bucket')\n",
    "plt.title('Inter Flow Times: Pirated')\n",
    "\n",
    "plt.show()"
   ]
  },
  {
   "cell_type": "code",
   "execution_count": 38,
   "metadata": {
    "scrolled": false
   },
   "outputs": [
    {
     "name": "stderr",
     "output_type": "stream",
     "text": [
      "/home/thomasbelford/.local/lib/python2.7/site-packages/matplotlib/legend.py:937: UserWarning: Legend does not support array([ 0.,  1.,  2.,  3.,  4.,  5.,  6.,  7.,  8.,  9., 10.]) instances.\n",
      "A proxy artist may be used instead.\n",
      "See: http://matplotlib.org/users/legend_guide.html#creating-artists-specifically-for-adding-to-the-legend-aka-proxy-artists\n",
      "  \"aka-proxy-artists\".format(orig_handle)\n"
     ]
    },
    {
     "data": {
      "image/png": "[encoded data removed]",
      "text/plain": [
       "<Figure size 432x288 with 1 Axes>"
      ]
     },
     "metadata": {
      "needs_background": "light"
     },
     "output_type": "display_data"
    }
   ],
   "source": [
    "com = plt.subplot(111)\n",
    "b_ipt_ = com.hist(b_ift2, weights=np.ones(len(b_ift2))/len(b_ift2),\n",
    "                    color='b', range=(0, 10), bins=10)\n",
    "p_ipt_ = com.hist(p_ipt2, weights=np.ones(len(p_ipt2))/len(p_ipt2),\n",
    "                    color='r', range=(0,10), bins=10, fc=(1, 0, 0, 0.5))\n",
    "com.legend((b_ipt_[1], p_ipt_[1]), ('Benign', \"Pirated\"))\n",
    "com.set_ylabel('Percentage in Buckets')\n",
    "com.set_xlabel('IFT Buckets')\n",
    "#com.title('Benign vs. Pirated Byte Distributions')\n",
    "plt.title('Benign vs. Pirated Inter Flow Times')\n",
    "plt.gca().yaxis.set_major_formatter(PercentFormatter(1))\n",
    "plt.show()"
   ]
  },
  {
   "cell_type": "markdown",
   "metadata": {},
   "source": [
    "# Begin ML "
   ]
  },
  {
   "cell_type": "markdown",
   "metadata": {},
   "source": [
    "#### Scoring Functions:"
   ]
  },
  {
   "cell_type": "code",
   "execution_count": 39,
   "metadata": {},
   "outputs": [],
   "source": [
    "metrics = [accuracy_score, precision_score, f1_score, log_loss]"
   ]
  },
  {
   "cell_type": "code",
   "execution_count": 40,
   "metadata": {},
   "outputs": [],
   "source": [
    "def score_clf(clf, y_true, t_set):\n",
    "    results = []\n",
    "    #results.append(accuracy_score(y_true, y_pred))\n",
    "    #results.append(precision_score(y_true, y_pred))\n",
    "    y_pred = clf.predict(t_set)\n",
    "    for metric in metrics:\n",
    "        results.append(metric(y_true, y_pred))\n",
    "    cm = confusion_matrix(y_true, y_pred)\n",
    "    #True Pos Rate = TP/FN+TP\n",
    "    results.append(float(cm[0][0])/(cm[1][0] + cm[0][0]))\n",
    "    #False Pos Rate = FP/FP+TN\n",
    "    results.append(float(cm[0][1])/(cm[0][1]+cm[1][1]))\n",
    " \n",
    "    return results"
   ]
  },
  {
   "cell_type": "markdown",
   "metadata": {},
   "source": [
    "#### Classifiers:"
   ]
  },
  {
   "cell_type": "code",
   "execution_count": 41,
   "metadata": {
    "scrolled": false
   },
   "outputs": [],
   "source": [
    "#nn.fit(training_set, training_labels)\n",
    "#print nn.cv_results_\n",
    "#print (training_set.shape, training_labels.shape)\n",
    "smote = SMOTE(1.0)\n",
    "#smotenc = SMOTENC(1.0)\n",
    "rs_x, rs_y = smote.fit_sample(training_set, training_labels)\n",
    "#nc_x, nc_y = smotenc.fit_sample(training_set, training_labels)\n",
    "#print(rs_x.shape, rs_y.shape)\n",
    "#print(nc_x.shape, nc_y.shape)"
   ]
  },
  {
   "cell_type": "code",
   "execution_count": 42,
   "metadata": {},
   "outputs": [
    {
     "name": "stderr",
     "output_type": "stream",
     "text": [
      "/home/thomasbelford/.local/lib/python2.7/site-packages/sklearn/ensemble/forest.py:246: FutureWarning: The default value of n_estimators will change from 10 in version 0.20 to 100 in 0.22.\n",
      "  \"10 in version 0.20 to 100 in 0.22.\", FutureWarning)\n"
     ]
    },
    {
     "data": {
      "text/plain": [
       "RandomForestClassifier(bootstrap=False, class_weight=None, criterion='gini',\n",
       "            max_depth=None, max_features='auto', max_leaf_nodes=None,\n",
       "            min_impurity_decrease=0.0, min_impurity_split=None,\n",
       "            min_samples_leaf=1, min_samples_split=2,\n",
       "            min_weight_fraction_leaf=0.0, n_estimators=10, n_jobs=None,\n",
       "            oob_score=False, random_state=None, verbose=0,\n",
       "            warm_start=False)"
      ]
     },
     "execution_count": 42,
     "metadata": {},
     "output_type": "execute_result"
    }
   ],
   "source": [
    "rf = RandomForestClassifier(bootstrap=False)\n",
    "rf.fit(training_set, training_labels)\n",
    "#rf.fit(rs_x, rs_y)"
   ]
  },
  {
   "cell_type": "code",
   "execution_count": 43,
   "metadata": {},
   "outputs": [
    {
     "name": "stderr",
     "output_type": "stream",
     "text": [
      "/home/thomasbelford/.local/lib/python2.7/site-packages/sklearn/linear_model/logistic.py:433: FutureWarning: Default solver will be changed to 'lbfgs' in 0.22. Specify a solver to silence this warning.\n",
      "  FutureWarning)\n",
      "/home/thomasbelford/.local/lib/python2.7/site-packages/sklearn/svm/base.py:931: ConvergenceWarning: Liblinear failed to converge, increase the number of iterations.\n",
      "  \"the number of iterations.\", ConvergenceWarning)\n"
     ]
    },
    {
     "data": {
      "text/plain": [
       "LogisticRegression(C=1.0, class_weight=None, dual=False, fit_intercept=True,\n",
       "          intercept_scaling=1, max_iter=100, multi_class='warn',\n",
       "          n_jobs=None, penalty='l2', random_state=None, solver='warn',\n",
       "          tol=0.0001, verbose=0, warm_start=False)"
      ]
     },
     "execution_count": 43,
     "metadata": {},
     "output_type": "execute_result"
    }
   ],
   "source": [
    "log_reg = LogisticRegression()\n",
    "log_reg.fit(training_set, training_labels)\n",
    "#log_reg.fit(rs_x, rs_y)"
   ]
  },
  {
   "cell_type": "code",
   "execution_count": 44,
   "metadata": {},
   "outputs": [
    {
     "data": {
      "text/plain": [
       "DecisionTreeClassifier(class_weight=None, criterion='gini', max_depth=None,\n",
       "            max_features=None, max_leaf_nodes=None,\n",
       "            min_impurity_decrease=0.0, min_impurity_split=None,\n",
       "            min_samples_leaf=1, min_samples_split=2,\n",
       "            min_weight_fraction_leaf=0.0, presort=False, random_state=None,\n",
       "            splitter='best')"
      ]
     },
     "execution_count": 44,
     "metadata": {},
     "output_type": "execute_result"
    }
   ],
   "source": [
    "d_tree = DecisionTreeClassifier()\n",
    "d_tree.fit(training_set, training_labels)\n",
    "#d_tree.fit(rs_x, rs_y)"
   ]
  },
  {
   "cell_type": "code",
   "execution_count": 45,
   "metadata": {},
   "outputs": [
    {
     "data": {
      "text/plain": [
       "AdaBoostClassifier(algorithm='SAMME.R',\n",
       "          base_estimator=DecisionTreeClassifier(class_weight=None, criterion='gini', max_depth=None,\n",
       "            max_features=None, max_leaf_nodes=None,\n",
       "            min_impurity_decrease=0.0, min_impurity_split=None,\n",
       "            min_samples_leaf=1, min_samples_split=2,\n",
       "            min_weight_fraction_leaf=0.0, presort=False, random_state=None,\n",
       "            splitter='best'),\n",
       "          learning_rate=1.0, n_estimators=50, random_state=None)"
      ]
     },
     "execution_count": 45,
     "metadata": {},
     "output_type": "execute_result"
    }
   ],
   "source": [
    "dt_boost = AdaBoostClassifier(DecisionTreeClassifier())\n",
    "dt_boost.fit(training_set, training_labels)\n",
    "#dt_boost.fit(rs_x, rs_y)"
   ]
  },
  {
   "cell_type": "code",
   "execution_count": 46,
   "metadata": {},
   "outputs": [
    {
     "data": {
      "text/plain": [
       "MLPClassifier(activation='relu', alpha=0.0001, batch_size='auto', beta_1=0.9,\n",
       "       beta_2=0.999, early_stopping=False, epsilon=1e-08,\n",
       "       hidden_layer_sizes=(100,), learning_rate='constant',\n",
       "       learning_rate_init=0.001, max_iter=200, momentum=0.9,\n",
       "       n_iter_no_change=10, nesterovs_momentum=True, power_t=0.5,\n",
       "       random_state=None, shuffle=True, solver='adam', tol=0.0001,\n",
       "       validation_fraction=0.1, verbose=False, warm_start=False)"
      ]
     },
     "execution_count": 46,
     "metadata": {},
     "output_type": "execute_result"
    }
   ],
   "source": [
    "neural_net = MLPClassifier()\n",
    "neural_net.fit(training_set, training_labels)\n",
    "#neural_net.fit(rs_x, rs_y)"
   ]
  },
  {
   "cell_type": "code",
   "execution_count": 47,
   "metadata": {},
   "outputs": [],
   "source": [
    "res=[]\n",
    "clfs = [log_reg, d_tree, rf, dt_boost, neural_net]\n",
    "\n",
    "for clf in clfs:\n",
    "    res.append(score_clf(clf, test_labels, test_set))\n",
    "clf_names = ['LR:','DT:', 'RF:', 'BoostDT:', 'NN:']"
   ]
  },
  {
   "cell_type": "code",
   "execution_count": 48,
   "metadata": {},
   "outputs": [],
   "source": [
    "score_df = pd.DataFrame(res)\n",
    "score_df.columns = ['Accuracy', 'Precision', 'F1', 'Log_Loss', 'TruePosRate', 'FalsePosRate']\n",
    "score_df.index = clf_names"
   ]
  },
  {
   "cell_type": "code",
   "execution_count": 49,
   "metadata": {},
   "outputs": [
    {
     "data": {
      "text/html": [
       "<div>\n",
       "<style scoped>\n",
       "    .dataframe tbody tr th:only-of-type {\n",
       "        vertical-align: middle;\n",
       "    }\n",
       "\n",
       "    .dataframe tbody tr th {\n",
       "        vertical-align: top;\n",
       "    }\n",
       "\n",
       "    .dataframe thead th {\n",
       "        text-align: right;\n",
       "    }\n",
       "</style>\n",
       "<table border=\"1\" class=\"dataframe\">\n",
       "  <thead>\n",
       "    <tr style=\"text-align: right;\">\n",
       "      <th></th>\n",
       "      <th>Accuracy</th>\n",
       "      <th>Precision</th>\n",
       "      <th>F1</th>\n",
       "      <th>Log_Loss</th>\n",
       "      <th>TruePosRate</th>\n",
       "      <th>FalsePosRate</th>\n",
       "    </tr>\n",
       "  </thead>\n",
       "  <tbody>\n",
       "    <tr>\n",
       "      <th>LR:</th>\n",
       "      <td>0.530952</td>\n",
       "      <td>1.000000</td>\n",
       "      <td>0.116592</td>\n",
       "      <td>16.200331</td>\n",
       "      <td>0.515971</td>\n",
       "      <td>0.000000</td>\n",
       "    </tr>\n",
       "    <tr>\n",
       "      <th>DT:</th>\n",
       "      <td>0.685714</td>\n",
       "      <td>0.819672</td>\n",
       "      <td>0.602410</td>\n",
       "      <td>10.855086</td>\n",
       "      <td>0.630872</td>\n",
       "      <td>0.180328</td>\n",
       "    </tr>\n",
       "    <tr>\n",
       "      <th>RF:</th>\n",
       "      <td>0.638095</td>\n",
       "      <td>0.862500</td>\n",
       "      <td>0.475862</td>\n",
       "      <td>12.499769</td>\n",
       "      <td>0.585294</td>\n",
       "      <td>0.137500</td>\n",
       "    </tr>\n",
       "    <tr>\n",
       "      <th>BoostDT:</th>\n",
       "      <td>0.685714</td>\n",
       "      <td>0.800000</td>\n",
       "      <td>0.611765</td>\n",
       "      <td>10.855094</td>\n",
       "      <td>0.634483</td>\n",
       "      <td>0.200000</td>\n",
       "    </tr>\n",
       "    <tr>\n",
       "      <th>NN:</th>\n",
       "      <td>0.647619</td>\n",
       "      <td>0.746032</td>\n",
       "      <td>0.559524</td>\n",
       "      <td>12.170868</td>\n",
       "      <td>0.605442</td>\n",
       "      <td>0.253968</td>\n",
       "    </tr>\n",
       "  </tbody>\n",
       "</table>\n",
       "</div>"
      ],
      "text/plain": [
       "          Accuracy  Precision        F1   Log_Loss  TruePosRate  FalsePosRate\n",
       "LR:       0.530952   1.000000  0.116592  16.200331     0.515971      0.000000\n",
       "DT:       0.685714   0.819672  0.602410  10.855086     0.630872      0.180328\n",
       "RF:       0.638095   0.862500  0.475862  12.499769     0.585294      0.137500\n",
       "BoostDT:  0.685714   0.800000  0.611765  10.855094     0.634483      0.200000\n",
       "NN:       0.647619   0.746032  0.559524  12.170868     0.605442      0.253968"
      ]
     },
     "execution_count": 49,
     "metadata": {},
     "output_type": "execute_result"
    }
   ],
   "source": [
    "score_df"
   ]
  },
  {
   "cell_type": "code",
   "execution_count": 50,
   "metadata": {},
   "outputs": [
    {
     "name": "stdout",
     "output_type": "stream",
     "text": [
      "788\n",
      "97\n"
     ]
    }
   ],
   "source": [
    "print len(b_train)\n",
    "print len(p_train)"
   ]
  },
  {
   "cell_type": "code",
   "execution_count": 51,
   "metadata": {},
   "outputs": [
    {
     "name": "stdout",
     "output_type": "stream",
     "text": [
      "0.5\n"
     ]
    }
   ],
   "source": [
    "print float(len(p_test)) / (len(p_test) + len(b_test))"
   ]
  },
  {
   "cell_type": "code",
   "execution_count": null,
   "metadata": {},
   "outputs": [],
   "source": []
  }
 ],
 "metadata": {
  "kernelspec": {
   "display_name": "Python 2",
   "language": "python",
   "name": "python2"
  },
  "language_info": {
   "codemirror_mode": {
    "name": "ipython",
    "version": 2
   },
   "file_extension": ".py",
   "mimetype": "text/x-python",
   "name": "python",
   "nbconvert_exporter": "python",
   "pygments_lexer": "ipython2",
   "version": "2.7.15rc1"
  }
 },
 "nbformat": 4,
 "nbformat_minor": 2
}
